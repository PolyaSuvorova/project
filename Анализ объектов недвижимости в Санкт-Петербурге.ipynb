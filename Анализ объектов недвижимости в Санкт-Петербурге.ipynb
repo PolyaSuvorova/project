{
 "cells": [
  {
   "cell_type": "markdown",
   "metadata": {},
   "source": [
    "<div style=\"border:solid green 3px; padding: 20px\">\n",
    "\n",
    "<b>Привет!</b>\n",
    "\n",
    "Меня зовут Сороколетов Илья и я буду проверять твой проект. \n",
    "\n",
    "Предлагаю общаться на «**ты**», но если тебе будет комфортнее общаться на «**вы**», то сообщи об этом в комментариях)\n",
    "\n",
    "\n",
    "Для твоего удобства, я буду выделять свои комментарии следующим образом:\n",
    "\n",
    "<div class=\"alert alert-danger\">\n",
    "<b>❌ Комментарий ревьюера v1:</b> Самые важные замечания. Они указывают на ключевые моменты, которые влияют на конечный результат проекта. </div>\n",
    "\n",
    "<div class=\"alert alert-warning\">\n",
    "<b>⚠️ Комментарий ревьюера v1:</b> Советы или замечания, которые помогут сделать твою работу лучше, но необязательны к выполнению.\n",
    "\n",
    "</div>\n",
    "\n",
    "<div class=\"alert alert-success\">\n",
    "<b>✔️ Комментарий ревьюера v1:</b> Так я выделяю все остальные комментарии.</div>\n",
    "\n",
    "\n",
    "Пометками <b>v1-v2-v3-...</b> я буду отмечать версию проверки. Так ты сможешь быстро найти мои новые комментарии.\n",
    "\n",
    "Давай работать над проектом в диалоге: если ты что-то меняешь в проекте по моим рекомендациям — пиши об этом. Выбери для своих комментариев какой-то заметный цвет, так мне будет легче отследить изменения, например вот так:\n",
    "    \n",
    "<div class=\"alert alert-info\">\n",
    "<b>Комментарий студента:</b>\n",
    "<br>\n",
    "</div>\n",
    "\n",
    "<b>Пожалуйста, не перемещай, не изменяй и не удаляй мои комментарии.</b> Если ты оставляешь свои комментарии, то делай это под моими, чтобы сообщения были расположены в хронологическом порядке. Всё это поможет выполнить повторную проверку твоего проекта быстрее. \n",
    "\n",
    "Перед отправкой работы я рекомендую нажимать Kernel -> Restart & Run All. Это перезапустит ядро и по очереди выполнит все ячейки. Так ты сможешь проверить, что всё работает корректно. Кнопка Kernel находится в панели сверху\n",
    "\n",
    "Обязательно задавай вопросы если они возникнут, а я перехожу к проверке)\n",
    "\n",
    "P.S. На всякий случай, я оставлю пустой шаблон для твоих комментариев ниже. Кликни два раза на мой комментарий, скопируй последние четыре строчки кода и вставляй их в пустую ячейку там, где ты хочешь оставить комментарий. Не забудь только перед этим сменить тип ячейки на Markdown. Быстро это можно сделать так: кликнуть на ячейку - нажать ESC - нажать M. \n",
    "    \n",
    "    \n",
    "<div class=\"alert alert-info\">\n",
    "<b>Комментарий студента:</b>\n",
    "<br>Удали этот текст и вместо него напиши свой комментарий 🙂\n",
    "</div>"
   ]
  },
  {
   "cell_type": "markdown",
   "metadata": {},
   "source": [
    "# Исследование объявлений о продаже квартир\n",
    "\n",
    "В вашем распоряжении данные сервиса Яндекс.Недвижимость — архив объявлений о продаже квартир в Санкт-Петербурге и соседних населённых пунктов за несколько лет. Нужно научиться определять рыночную стоимость объектов недвижимости. Ваша задача — установить параметры. Это позволит построить автоматизированную систему: она отследит аномалии и мошенническую деятельность. \n",
    "\n",
    "По каждой квартире на продажу доступны два вида данных. Первые вписаны пользователем, вторые — получены автоматически на основе картографических данных. Например, расстояние до центра, аэропорта, ближайшего парка и водоёма. "
   ]
  },
  {
   "cell_type": "markdown",
   "metadata": {},
   "source": [
    "### Откройте файл с данными и изучите общую информацию. "
   ]
  },
  {
   "cell_type": "code",
   "execution_count": 1,
   "metadata": {},
   "outputs": [],
   "source": [
    "import pandas as pd \n",
    "import matplotlib.pyplot as plt"
   ]
  },
  {
   "cell_type": "code",
   "execution_count": 2,
   "metadata": {},
   "outputs": [],
   "source": [
    "df = pd.read_csv('/datasets/real_estate_data.csv', sep='\\t')\n",
    "pd.set_option('display.max_columns', None)"
   ]
  },
  {
   "cell_type": "code",
   "execution_count": 3,
   "metadata": {},
   "outputs": [
    {
     "data": {
      "text/html": [
       "<div>\n",
       "<style scoped>\n",
       "    .dataframe tbody tr th:only-of-type {\n",
       "        vertical-align: middle;\n",
       "    }\n",
       "\n",
       "    .dataframe tbody tr th {\n",
       "        vertical-align: top;\n",
       "    }\n",
       "\n",
       "    .dataframe thead th {\n",
       "        text-align: right;\n",
       "    }\n",
       "</style>\n",
       "<table border=\"1\" class=\"dataframe\">\n",
       "  <thead>\n",
       "    <tr style=\"text-align: right;\">\n",
       "      <th></th>\n",
       "      <th>total_images</th>\n",
       "      <th>last_price</th>\n",
       "      <th>total_area</th>\n",
       "      <th>first_day_exposition</th>\n",
       "      <th>rooms</th>\n",
       "      <th>ceiling_height</th>\n",
       "      <th>floors_total</th>\n",
       "      <th>living_area</th>\n",
       "      <th>floor</th>\n",
       "      <th>is_apartment</th>\n",
       "      <th>studio</th>\n",
       "      <th>open_plan</th>\n",
       "      <th>kitchen_area</th>\n",
       "      <th>balcony</th>\n",
       "      <th>locality_name</th>\n",
       "      <th>airports_nearest</th>\n",
       "      <th>cityCenters_nearest</th>\n",
       "      <th>parks_around3000</th>\n",
       "      <th>parks_nearest</th>\n",
       "      <th>ponds_around3000</th>\n",
       "      <th>ponds_nearest</th>\n",
       "      <th>days_exposition</th>\n",
       "    </tr>\n",
       "  </thead>\n",
       "  <tbody>\n",
       "    <tr>\n",
       "      <th>0</th>\n",
       "      <td>20</td>\n",
       "      <td>13000000.0</td>\n",
       "      <td>108.0</td>\n",
       "      <td>2019-03-07T00:00:00</td>\n",
       "      <td>3</td>\n",
       "      <td>2.70</td>\n",
       "      <td>16.0</td>\n",
       "      <td>51.0</td>\n",
       "      <td>8</td>\n",
       "      <td>NaN</td>\n",
       "      <td>False</td>\n",
       "      <td>False</td>\n",
       "      <td>25.0</td>\n",
       "      <td>NaN</td>\n",
       "      <td>Санкт-Петербург</td>\n",
       "      <td>18863.0</td>\n",
       "      <td>16028.0</td>\n",
       "      <td>1.0</td>\n",
       "      <td>482.0</td>\n",
       "      <td>2.0</td>\n",
       "      <td>755.0</td>\n",
       "      <td>NaN</td>\n",
       "    </tr>\n",
       "    <tr>\n",
       "      <th>1</th>\n",
       "      <td>7</td>\n",
       "      <td>3350000.0</td>\n",
       "      <td>40.4</td>\n",
       "      <td>2018-12-04T00:00:00</td>\n",
       "      <td>1</td>\n",
       "      <td>NaN</td>\n",
       "      <td>11.0</td>\n",
       "      <td>18.6</td>\n",
       "      <td>1</td>\n",
       "      <td>NaN</td>\n",
       "      <td>False</td>\n",
       "      <td>False</td>\n",
       "      <td>11.0</td>\n",
       "      <td>2.0</td>\n",
       "      <td>посёлок Шушары</td>\n",
       "      <td>12817.0</td>\n",
       "      <td>18603.0</td>\n",
       "      <td>0.0</td>\n",
       "      <td>NaN</td>\n",
       "      <td>0.0</td>\n",
       "      <td>NaN</td>\n",
       "      <td>81.0</td>\n",
       "    </tr>\n",
       "    <tr>\n",
       "      <th>2</th>\n",
       "      <td>10</td>\n",
       "      <td>5196000.0</td>\n",
       "      <td>56.0</td>\n",
       "      <td>2015-08-20T00:00:00</td>\n",
       "      <td>2</td>\n",
       "      <td>NaN</td>\n",
       "      <td>5.0</td>\n",
       "      <td>34.3</td>\n",
       "      <td>4</td>\n",
       "      <td>NaN</td>\n",
       "      <td>False</td>\n",
       "      <td>False</td>\n",
       "      <td>8.3</td>\n",
       "      <td>0.0</td>\n",
       "      <td>Санкт-Петербург</td>\n",
       "      <td>21741.0</td>\n",
       "      <td>13933.0</td>\n",
       "      <td>1.0</td>\n",
       "      <td>90.0</td>\n",
       "      <td>2.0</td>\n",
       "      <td>574.0</td>\n",
       "      <td>558.0</td>\n",
       "    </tr>\n",
       "    <tr>\n",
       "      <th>3</th>\n",
       "      <td>0</td>\n",
       "      <td>64900000.0</td>\n",
       "      <td>159.0</td>\n",
       "      <td>2015-07-24T00:00:00</td>\n",
       "      <td>3</td>\n",
       "      <td>NaN</td>\n",
       "      <td>14.0</td>\n",
       "      <td>NaN</td>\n",
       "      <td>9</td>\n",
       "      <td>NaN</td>\n",
       "      <td>False</td>\n",
       "      <td>False</td>\n",
       "      <td>NaN</td>\n",
       "      <td>0.0</td>\n",
       "      <td>Санкт-Петербург</td>\n",
       "      <td>28098.0</td>\n",
       "      <td>6800.0</td>\n",
       "      <td>2.0</td>\n",
       "      <td>84.0</td>\n",
       "      <td>3.0</td>\n",
       "      <td>234.0</td>\n",
       "      <td>424.0</td>\n",
       "    </tr>\n",
       "    <tr>\n",
       "      <th>4</th>\n",
       "      <td>2</td>\n",
       "      <td>10000000.0</td>\n",
       "      <td>100.0</td>\n",
       "      <td>2018-06-19T00:00:00</td>\n",
       "      <td>2</td>\n",
       "      <td>3.03</td>\n",
       "      <td>14.0</td>\n",
       "      <td>32.0</td>\n",
       "      <td>13</td>\n",
       "      <td>NaN</td>\n",
       "      <td>False</td>\n",
       "      <td>False</td>\n",
       "      <td>41.0</td>\n",
       "      <td>NaN</td>\n",
       "      <td>Санкт-Петербург</td>\n",
       "      <td>31856.0</td>\n",
       "      <td>8098.0</td>\n",
       "      <td>2.0</td>\n",
       "      <td>112.0</td>\n",
       "      <td>1.0</td>\n",
       "      <td>48.0</td>\n",
       "      <td>121.0</td>\n",
       "    </tr>\n",
       "  </tbody>\n",
       "</table>\n",
       "</div>"
      ],
      "text/plain": [
       "   total_images  last_price  total_area first_day_exposition  rooms  \\\n",
       "0            20  13000000.0       108.0  2019-03-07T00:00:00      3   \n",
       "1             7   3350000.0        40.4  2018-12-04T00:00:00      1   \n",
       "2            10   5196000.0        56.0  2015-08-20T00:00:00      2   \n",
       "3             0  64900000.0       159.0  2015-07-24T00:00:00      3   \n",
       "4             2  10000000.0       100.0  2018-06-19T00:00:00      2   \n",
       "\n",
       "   ceiling_height  floors_total  living_area  floor is_apartment  studio  \\\n",
       "0            2.70          16.0         51.0      8          NaN   False   \n",
       "1             NaN          11.0         18.6      1          NaN   False   \n",
       "2             NaN           5.0         34.3      4          NaN   False   \n",
       "3             NaN          14.0          NaN      9          NaN   False   \n",
       "4            3.03          14.0         32.0     13          NaN   False   \n",
       "\n",
       "   open_plan  kitchen_area  balcony    locality_name  airports_nearest  \\\n",
       "0      False          25.0      NaN  Санкт-Петербург           18863.0   \n",
       "1      False          11.0      2.0   посёлок Шушары           12817.0   \n",
       "2      False           8.3      0.0  Санкт-Петербург           21741.0   \n",
       "3      False           NaN      0.0  Санкт-Петербург           28098.0   \n",
       "4      False          41.0      NaN  Санкт-Петербург           31856.0   \n",
       "\n",
       "   cityCenters_nearest  parks_around3000  parks_nearest  ponds_around3000  \\\n",
       "0              16028.0               1.0          482.0               2.0   \n",
       "1              18603.0               0.0            NaN               0.0   \n",
       "2              13933.0               1.0           90.0               2.0   \n",
       "3               6800.0               2.0           84.0               3.0   \n",
       "4               8098.0               2.0          112.0               1.0   \n",
       "\n",
       "   ponds_nearest  days_exposition  \n",
       "0          755.0              NaN  \n",
       "1            NaN             81.0  \n",
       "2          574.0            558.0  \n",
       "3          234.0            424.0  \n",
       "4           48.0            121.0  "
      ]
     },
     "execution_count": 3,
     "metadata": {},
     "output_type": "execute_result"
    }
   ],
   "source": [
    "df.head()"
   ]
  },
  {
   "cell_type": "markdown",
   "metadata": {},
   "source": [
    "<div class=\"alert alert-warning\">\n",
    "<b>⚠️ Комментарий ревьюера v1:</b> \n",
    "<br>Обрати внимание, что часть столбцов заменилась на \"...\". Чтобы это исправить, нужно увеличить максимальное количество отображающихся столбцов командой\n",
    "\n",
    "\tpd.set_option('display.max_columns', None)\n",
    "</div>"
   ]
  },
  {
   "cell_type": "code",
   "execution_count": 4,
   "metadata": {},
   "outputs": [
    {
     "name": "stdout",
     "output_type": "stream",
     "text": [
      "<class 'pandas.core.frame.DataFrame'>\n",
      "RangeIndex: 23699 entries, 0 to 23698\n",
      "Data columns (total 22 columns):\n",
      " #   Column                Non-Null Count  Dtype  \n",
      "---  ------                --------------  -----  \n",
      " 0   total_images          23699 non-null  int64  \n",
      " 1   last_price            23699 non-null  float64\n",
      " 2   total_area            23699 non-null  float64\n",
      " 3   first_day_exposition  23699 non-null  object \n",
      " 4   rooms                 23699 non-null  int64  \n",
      " 5   ceiling_height        14504 non-null  float64\n",
      " 6   floors_total          23613 non-null  float64\n",
      " 7   living_area           21796 non-null  float64\n",
      " 8   floor                 23699 non-null  int64  \n",
      " 9   is_apartment          2775 non-null   object \n",
      " 10  studio                23699 non-null  bool   \n",
      " 11  open_plan             23699 non-null  bool   \n",
      " 12  kitchen_area          21421 non-null  float64\n",
      " 13  balcony               12180 non-null  float64\n",
      " 14  locality_name         23650 non-null  object \n",
      " 15  airports_nearest      18157 non-null  float64\n",
      " 16  cityCenters_nearest   18180 non-null  float64\n",
      " 17  parks_around3000      18181 non-null  float64\n",
      " 18  parks_nearest         8079 non-null   float64\n",
      " 19  ponds_around3000      18181 non-null  float64\n",
      " 20  ponds_nearest         9110 non-null   float64\n",
      " 21  days_exposition       20518 non-null  float64\n",
      "dtypes: bool(2), float64(14), int64(3), object(3)\n",
      "memory usage: 3.7+ MB\n"
     ]
    }
   ],
   "source": [
    "df.info()"
   ]
  },
  {
   "cell_type": "code",
   "execution_count": 5,
   "metadata": {},
   "outputs": [
    {
     "data": {
      "image/png": "[encoded data removed]",
      "text/plain": [
       "<Figure size 1080x1440 with 20 Axes>"
      ]
     },
     "metadata": {
      "needs_background": "light"
     },
     "output_type": "display_data"
    }
   ],
   "source": [
    "df.hist(figsize=(15, 20));"
   ]
  },
  {
   "cell_type": "markdown",
   "metadata": {},
   "source": [
    "<div class=\"alert alert-success\">\n",
    "<b>✔️ Комментарий ревьюера v1:</b> \n",
    "<br>Графики построено верно! \n",
    "</div>"
   ]
  },
  {
   "cell_type": "code",
   "execution_count": 6,
   "metadata": {},
   "outputs": [],
   "source": [
    "df = df.rename(columns={'cityCenters_nearest':'city_centers_nearest'})"
   ]
  },
  {
   "cell_type": "markdown",
   "metadata": {},
   "source": [
    "<div class=\"alert alert-success\">\n",
    "<b>✔️ Комментарий ревьюера v1:</b> \n",
    "<br>Молодец! Так датафрейм будет более аккуратным\n",
    "</div>"
   ]
  },
  {
   "cell_type": "markdown",
   "metadata": {},
   "source": [
    "<div class=\"alert alert-danger\">\n",
    "<b>❌ Комментарий ревьюера v1:</b> \n",
    "<br>Здесь необходимо написать короткий вывод о проблемах с данными (пропуски, дубликаты, неверный тип данных, странные значения и т.д.)\n",
    "</div>"
   ]
  },
  {
   "cell_type": "markdown",
   "metadata": {},
   "source": [
    "Изучив общую информацию видно большое количество пропусков над котороми нужно поработать, в столбце **first_day_exposition** не правильно указан тип данных, из-за чего информация выглядит некорректно, так же стоит поменять у некоторых данных тип с **float** на **int**, у большенства графиков огромные хвосты в правую сторону, это говорит о выбросах, которые будут мешать произвести грамотный анализ."
   ]
  },
  {
   "cell_type": "markdown",
   "metadata": {},
   "source": [
    "<div class=\"alert alert-success\">\n",
    "<b>✔️ Комментарий ревьюера v2:</b>\n",
    "<br>Правка выполнена 👍\n",
    "</div>"
   ]
  },
  {
   "cell_type": "markdown",
   "metadata": {},
   "source": [
    "### Предобработка данных"
   ]
  },
  {
   "cell_type": "markdown",
   "metadata": {},
   "source": [
    "####  Найдите и изучите пропущенные значения"
   ]
  },
  {
   "cell_type": "code",
   "execution_count": 7,
   "metadata": {},
   "outputs": [
    {
     "data": {
      "text/plain": [
       "total_images                0\n",
       "last_price                  0\n",
       "total_area                  0\n",
       "first_day_exposition        0\n",
       "rooms                       0\n",
       "ceiling_height           9195\n",
       "floors_total               86\n",
       "living_area              1903\n",
       "floor                       0\n",
       "is_apartment            20924\n",
       "studio                      0\n",
       "open_plan                   0\n",
       "kitchen_area             2278\n",
       "balcony                 11519\n",
       "locality_name              49\n",
       "airports_nearest         5542\n",
       "city_centers_nearest     5519\n",
       "parks_around3000         5518\n",
       "parks_nearest           15620\n",
       "ponds_around3000         5518\n",
       "ponds_nearest           14589\n",
       "days_exposition          3181\n",
       "dtype: int64"
      ]
     },
     "execution_count": 7,
     "metadata": {},
     "output_type": "execute_result"
    }
   ],
   "source": [
    "df.isna().sum()"
   ]
  },
  {
   "cell_type": "code",
   "execution_count": 8,
   "metadata": {},
   "outputs": [],
   "source": [
    "#заменим пропуски на 0\n",
    "def name(column):\n",
    "    df[column] = df[column].fillna(0)\n",
    "    \n",
    "name('balcony')\n",
    "name('parks_around3000')\n",
    "name('ponds_around3000')"
   ]
  },
  {
   "cell_type": "markdown",
   "metadata": {},
   "source": [
    "<div class=\"alert alert-danger\">\n",
    "<b>❌ Комментарий ревьюера v1:</b> \n",
    "<br>days_exposition - если тут пропуск, то значит квартира не продана. Эти пропуски заполнять не нужно\n",
    "</div>"
   ]
  },
  {
   "cell_type": "markdown",
   "metadata": {},
   "source": [
    "<div class=\"alert alert-info\">\n",
    "<b>Комментарий студента:</b>\n",
    "<br>Убрала days_exposition\n",
    "</div>"
   ]
  },
  {
   "cell_type": "markdown",
   "metadata": {},
   "source": [
    "<div class=\"alert alert-success\">\n",
    "<b>✔️ Комментарий ревьюера v2:</b>\n",
    "<br>Правка выполнена 👍\n",
    "</div>"
   ]
  },
  {
   "cell_type": "code",
   "execution_count": 9,
   "metadata": {},
   "outputs": [],
   "source": [
    "#удалим строки с незначительным кол-ом пропусков\n",
    "df = df.dropna(subset=['floors_total', 'locality_name'])"
   ]
  },
  {
   "cell_type": "markdown",
   "metadata": {},
   "source": [
    "<div class=\"alert alert-success\">\n",
    "<b>✔️ Комментарий ревьюера v1:</b> \n",
    "<br>👌\n",
    "</div>"
   ]
  },
  {
   "cell_type": "code",
   "execution_count": 10,
   "metadata": {},
   "outputs": [],
   "source": [
    "df['is_apartment'] = df['is_apartment'].fillna(False)"
   ]
  },
  {
   "cell_type": "code",
   "execution_count": 11,
   "metadata": {},
   "outputs": [],
   "source": [
    "df['ceiling_height'] = df['ceiling_height'].fillna(df['ceiling_height'].median())"
   ]
  },
  {
   "cell_type": "markdown",
   "metadata": {},
   "source": [
    "<div class=\"alert alert-success\">\n",
    "<b>✔️ Комментарий ревьюера v1:</b> \n",
    "<br>👌\n",
    "</div>"
   ]
  },
  {
   "cell_type": "code",
   "execution_count": 12,
   "metadata": {},
   "outputs": [
    {
     "data": {
      "text/plain": [
       "total_images                0\n",
       "last_price                  0\n",
       "total_area                  0\n",
       "first_day_exposition        0\n",
       "rooms                       0\n",
       "ceiling_height              0\n",
       "floors_total                0\n",
       "living_area              1865\n",
       "floor                       0\n",
       "is_apartment                0\n",
       "studio                      0\n",
       "open_plan                   0\n",
       "kitchen_area             2222\n",
       "balcony                     0\n",
       "locality_name               0\n",
       "airports_nearest         5524\n",
       "city_centers_nearest     5501\n",
       "parks_around3000            0\n",
       "parks_nearest           15535\n",
       "ponds_around3000            0\n",
       "ponds_nearest           14529\n",
       "days_exposition          3171\n",
       "dtype: int64"
      ]
     },
     "execution_count": 12,
     "metadata": {},
     "output_type": "execute_result"
    }
   ],
   "source": [
    "df.isna().sum()"
   ]
  },
  {
   "cell_type": "markdown",
   "metadata": {},
   "source": [
    "Причины по которым могли остаться пропуски: просто не заполнили те данные о которых не известно, например отсутствует балкон, нет ближайших парков, если квартира-студия то заполнили только общую площадь; не правильно выгрузили данные; из-за человеческого фактора. Пропуски в столбце **is_apartment** могли возникнуть из-за не знания что такое апартаменты."
   ]
  },
  {
   "cell_type": "markdown",
   "metadata": {},
   "source": [
    "<div class=\"alert alert-danger\">\n",
    "<b>❌ Комментарий ревьюера v1:</b> \n",
    "<br>Давай ещё заполним пропуски в столбце с высотой потолков, тем более мы можем достаточно точно их восстановить так как основная часть данных в этом столбце находится в небольшом диапазоне.\n",
    "</div>"
   ]
  },
  {
   "cell_type": "markdown",
   "metadata": {},
   "source": [
    "<div class=\"alert alert-info\">\n",
    "<b>Комментарий студента:</b>\n",
    "<br>Заполнила пропуски медианным значением.\n",
    "</div>"
   ]
  },
  {
   "cell_type": "markdown",
   "metadata": {},
   "source": [
    "<div class=\"alert alert-success\">\n",
    "<b>✔️ Комментарий ревьюера v2:</b>\n",
    "<br>Правка выполнена 👍\n",
    "</div>"
   ]
  },
  {
   "cell_type": "markdown",
   "metadata": {},
   "source": [
    "#### Рассмотрите типы данных"
   ]
  },
  {
   "cell_type": "code",
   "execution_count": 13,
   "metadata": {},
   "outputs": [],
   "source": [
    "df['first_day_exposition'] = pd.to_datetime(df['first_day_exposition'], format='%Y-%m-%dT%H:%M:%S')        "
   ]
  },
  {
   "cell_type": "code",
   "execution_count": 14,
   "metadata": {},
   "outputs": [],
   "source": [
    "df['is_apartment'] = df['is_apartment'].astype('bool')"
   ]
  },
  {
   "cell_type": "code",
   "execution_count": 15,
   "metadata": {},
   "outputs": [],
   "source": [
    "def t(column):\n",
    "    df[column] = df[column].astype('int64')\n",
    "    \n",
    "t('last_price')\n",
    "t('floors_total')\n",
    "t('balcony')\n",
    "t('parks_around3000')\n",
    "t('ponds_around3000')\n",
    "\n",
    "pd.options.display.float_format = '{: .2f}'.format"
   ]
  },
  {
   "cell_type": "code",
   "execution_count": 16,
   "metadata": {},
   "outputs": [
    {
     "name": "stdout",
     "output_type": "stream",
     "text": [
      "<class 'pandas.core.frame.DataFrame'>\n",
      "Int64Index: 23565 entries, 0 to 23698\n",
      "Data columns (total 22 columns):\n",
      " #   Column                Non-Null Count  Dtype         \n",
      "---  ------                --------------  -----         \n",
      " 0   total_images          23565 non-null  int64         \n",
      " 1   last_price            23565 non-null  int64         \n",
      " 2   total_area            23565 non-null  float64       \n",
      " 3   first_day_exposition  23565 non-null  datetime64[ns]\n",
      " 4   rooms                 23565 non-null  int64         \n",
      " 5   ceiling_height        23565 non-null  float64       \n",
      " 6   floors_total          23565 non-null  int64         \n",
      " 7   living_area           21700 non-null  float64       \n",
      " 8   floor                 23565 non-null  int64         \n",
      " 9   is_apartment          23565 non-null  bool          \n",
      " 10  studio                23565 non-null  bool          \n",
      " 11  open_plan             23565 non-null  bool          \n",
      " 12  kitchen_area          21343 non-null  float64       \n",
      " 13  balcony               23565 non-null  int64         \n",
      " 14  locality_name         23565 non-null  object        \n",
      " 15  airports_nearest      18041 non-null  float64       \n",
      " 16  city_centers_nearest  18064 non-null  float64       \n",
      " 17  parks_around3000      23565 non-null  int64         \n",
      " 18  parks_nearest         8030 non-null   float64       \n",
      " 19  ponds_around3000      23565 non-null  int64         \n",
      " 20  ponds_nearest         9036 non-null   float64       \n",
      " 21  days_exposition       20394 non-null  float64       \n",
      "dtypes: bool(3), datetime64[ns](1), float64(9), int64(8), object(1)\n",
      "memory usage: 3.7+ MB\n"
     ]
    }
   ],
   "source": [
    "df.info()"
   ]
  },
  {
   "cell_type": "markdown",
   "metadata": {},
   "source": [
    "В столбце **first_day_exposition** хранятся сведения о дате и времени, а в столбце **is_apartment** - булевые значения, поэтому необходимо понять тип на соответствующий для корректной работы. Так же для удобство нужно поменять дробные числа на целые, там где это возможно."
   ]
  },
  {
   "cell_type": "markdown",
   "metadata": {},
   "source": [
    "<div class=\"alert alert-success\">\n",
    "<b>✔️ Комментарий ревьюера v1:</b> \n",
    "<br>Изменение типов данных проведено верно. Можно ещё заменить тип данных с float64 на float32 для экономии памяти.\n",
    "</div>"
   ]
  },
  {
   "cell_type": "markdown",
   "metadata": {},
   "source": [
    "#### Изучите уникальные значения в столбце с названиями и устраните неявные дубликаты. "
   ]
  },
  {
   "cell_type": "code",
   "execution_count": 17,
   "metadata": {},
   "outputs": [
    {
     "data": {
      "text/plain": [
       "array(['Санкт-Петербург', 'посёлок Шушары', 'городской посёлок Янино-1',\n",
       "       'посёлок Парголово', 'посёлок Мурино', 'Ломоносов', 'Сертолово',\n",
       "       'Петергоф', 'Пушкин', 'деревня Кудрово', 'Коммунар', 'Колпино',\n",
       "       'поселок городского типа Красный Бор', 'Гатчина', 'поселок Мурино',\n",
       "       'деревня Фёдоровское', 'Выборг', 'Кронштадт', 'Кировск',\n",
       "       'деревня Новое Девяткино', 'посёлок Металлострой',\n",
       "       'посёлок городского типа Лебяжье',\n",
       "       'посёлок городского типа Сиверский', 'поселок Молодцово',\n",
       "       'поселок городского типа Кузьмоловский',\n",
       "       'садовое товарищество Новая Ропша', 'Павловск',\n",
       "       'деревня Пикколово', 'Всеволожск', 'Волхов', 'Кингисепп',\n",
       "       'Приозерск', 'Сестрорецк', 'деревня Куттузи', 'посёлок Аннино',\n",
       "       'поселок городского типа Ефимовский', 'посёлок Плодовое',\n",
       "       'деревня Заклинье', 'поселок Торковичи', 'поселок Первомайское',\n",
       "       'Красное Село', 'посёлок Понтонный', 'Сясьстрой', 'деревня Старая',\n",
       "       'деревня Лесколово', 'посёлок Новый Свет', 'Сланцы',\n",
       "       'село Путилово', 'Ивангород', 'Мурино', 'Шлиссельбург',\n",
       "       'Никольское', 'Зеленогорск', 'Сосновый Бор', 'поселок Новый Свет',\n",
       "       'деревня Оржицы', 'деревня Кальтино', 'Кудрово',\n",
       "       'поселок Романовка', 'посёлок Бугры', 'поселок Бугры',\n",
       "       'поселок городского типа Рощино', 'Кириши', 'Луга', 'Волосово',\n",
       "       'Отрадное', 'село Павлово', 'поселок Оредеж', 'село Копорье',\n",
       "       'посёлок городского типа Красный Бор', 'посёлок Молодёжное',\n",
       "       'Тихвин', 'посёлок Победа', 'деревня Нурма',\n",
       "       'поселок городского типа Синявино', 'Тосно',\n",
       "       'посёлок городского типа Кузьмоловский', 'посёлок Стрельна',\n",
       "       'Бокситогорск', 'посёлок Александровская', 'деревня Лопухинка',\n",
       "       'Пикалёво', 'поселок Терволово',\n",
       "       'поселок городского типа Советский', 'Подпорожье',\n",
       "       'посёлок Петровское', 'посёлок городского типа Токсово',\n",
       "       'поселок Сельцо', 'посёлок городского типа Вырица',\n",
       "       'деревня Кипень', 'деревня Келози', 'деревня Вартемяги',\n",
       "       'посёлок Тельмана', 'поселок Севастьяново',\n",
       "       'городской поселок Большая Ижора', 'городской посёлок Павлово',\n",
       "       'деревня Агалатово', 'посёлок Новогорелово',\n",
       "       'городской посёлок Лесогорский', 'деревня Лаголово',\n",
       "       'поселок Цвелодубово', 'поселок городского типа Рахья',\n",
       "       'поселок городского типа Вырица', 'деревня Белогорка',\n",
       "       'поселок Заводской', 'городской посёлок Новоселье',\n",
       "       'деревня Большие Колпаны', 'деревня Горбунки', 'деревня Батово',\n",
       "       'деревня Заневка', 'деревня Иссад', 'Приморск',\n",
       "       'городской посёлок Фёдоровское', 'деревня Мистолово',\n",
       "       'Новая Ладога', 'поселок Зимитицы', 'поселок Барышево',\n",
       "       'деревня Разметелево', 'поселок городского типа имени Свердлова',\n",
       "       'деревня Пеники', 'поселок Рябово', 'деревня Пудомяги',\n",
       "       'поселок станции Корнево', 'деревня Низино', 'деревня Бегуницы',\n",
       "       'посёлок Поляны', 'городской посёлок Мга', 'поселок Елизаветино',\n",
       "       'посёлок городского типа Кузнечное', 'деревня Колтуши',\n",
       "       'поселок Запорожское', 'посёлок городского типа Рощино',\n",
       "       'деревня Гостилицы', 'деревня Малое Карлино',\n",
       "       'посёлок Мичуринское', 'посёлок городского типа имени Морозова',\n",
       "       'посёлок Песочный', 'посёлок Сосново', 'деревня Аро',\n",
       "       'поселок Ильичёво', 'посёлок городского типа Тайцы',\n",
       "       'деревня Малое Верево', 'деревня Извара', 'поселок станции Вещево',\n",
       "       'село Паша', 'деревня Калитино',\n",
       "       'посёлок городского типа Ульяновка', 'деревня Чудской Бор',\n",
       "       'поселок городского типа Дубровка', 'деревня Мины',\n",
       "       'поселок Войсковицы', 'посёлок городского типа имени Свердлова',\n",
       "       'деревня Коркино', 'посёлок Ропша',\n",
       "       'поселок городского типа Приладожский', 'посёлок Щеглово',\n",
       "       'посёлок Гаврилово', 'Лодейное Поле', 'деревня Рабитицы',\n",
       "       'поселок городского типа Никольский', 'деревня Кузьмолово',\n",
       "       'деревня Малые Колпаны', 'поселок Тельмана',\n",
       "       'посёлок Петро-Славянка', 'городской посёлок Назия',\n",
       "       'посёлок Репино', 'посёлок Ильичёво', 'поселок Углово',\n",
       "       'поселок Старая Малукса', 'садовое товарищество Рахья',\n",
       "       'поселок Аннино', 'поселок Победа', 'деревня Меньково',\n",
       "       'деревня Старые Бегуницы', 'посёлок Сапёрный', 'поселок Семрино',\n",
       "       'поселок Гаврилово', 'поселок Глажево', 'поселок Кобринское',\n",
       "       'деревня Гарболово', 'деревня Юкки',\n",
       "       'поселок станции Приветнинское', 'деревня Мануйлово',\n",
       "       'деревня Пчева', 'поселок Поляны', 'поселок Цвылёво',\n",
       "       'поселок Мельниково', 'посёлок Пудость', 'посёлок Усть-Луга',\n",
       "       'Светогорск', 'Любань', 'поселок Селезнёво',\n",
       "       'поселок городского типа Рябово', 'Каменногорск', 'деревня Кривко',\n",
       "       'поселок Глебычево', 'деревня Парицы', 'поселок Жилпосёлок',\n",
       "       'посёлок городского типа Мга', 'городской поселок Янино-1',\n",
       "       'посёлок Войскорово', 'село Никольское', 'посёлок Терволово',\n",
       "       'поселок Стеклянный', 'посёлок городского типа Важины',\n",
       "       'посёлок Мыза-Ивановка', 'село Русско-Высоцкое',\n",
       "       'поселок городского типа Лебяжье',\n",
       "       'поселок городского типа Форносово', 'село Старая Ладога',\n",
       "       'поселок Житково', 'городской посёлок Виллози', 'деревня Лампово',\n",
       "       'деревня Шпаньково', 'деревня Лаврики', 'посёлок Сумино',\n",
       "       'посёлок Возрождение', 'деревня Старосиверская',\n",
       "       'посёлок Кикерино', 'поселок Возрождение',\n",
       "       'деревня Старое Хинколово', 'посёлок Пригородный',\n",
       "       'посёлок Торфяное', 'городской посёлок Будогощь',\n",
       "       'поселок Суходолье', 'поселок Красная Долина', 'деревня Хапо-Ое',\n",
       "       'поселок городского типа Дружная Горка', 'поселок Лисий Нос',\n",
       "       'деревня Яльгелево', 'посёлок Стеклянный', 'село Рождествено',\n",
       "       'деревня Старополье', 'посёлок Левашово', 'деревня Сяськелево',\n",
       "       'деревня Камышовка',\n",
       "       'садоводческое некоммерческое товарищество Лесная Поляна',\n",
       "       'деревня Хязельки', 'поселок Жилгородок',\n",
       "       'посёлок городского типа Павлово', 'деревня Ялгино',\n",
       "       'поселок Новый Учхоз', 'городской посёлок Рощино',\n",
       "       'поселок Гончарово', 'поселок Почап', 'посёлок Сапёрное',\n",
       "       'посёлок Платформа 69-й километр', 'поселок Каложицы',\n",
       "       'деревня Фалилеево', 'деревня Пельгора',\n",
       "       'поселок городского типа Лесогорский', 'деревня Торошковичи',\n",
       "       'посёлок Белоостров', 'посёлок Алексеевка', 'поселок Серебрянский',\n",
       "       'поселок Лукаши', 'поселок Петровское', 'деревня Щеглово',\n",
       "       'поселок Мичуринское', 'деревня Тарасово', 'поселок Кингисеппский',\n",
       "       'посёлок при железнодорожной станции Вещево', 'поселок Ушаки',\n",
       "       'деревня Котлы', 'деревня Сижно', 'деревня Торосово',\n",
       "       'посёлок Форт Красная Горка', 'деревня Новолисино',\n",
       "       'посёлок станции Громово', 'деревня Глинка', 'посёлок Мельниково',\n",
       "       'поселок городского типа Назия', 'деревня Старая Пустошь',\n",
       "       'поселок Коммунары', 'поселок Починок',\n",
       "       'посёлок городского типа Вознесенье', 'деревня Разбегаево',\n",
       "       'посёлок городского типа Рябово', 'поселок Гладкое',\n",
       "       'посёлок при железнодорожной станции Приветнинское',\n",
       "       'поселок Тёсово-4', 'посёлок Жилгородок', 'деревня Бор',\n",
       "       'посёлок Коробицыно', 'деревня Большая Вруда', 'деревня Курковицы',\n",
       "       'посёлок Лисий Нос', 'городской посёлок Советский',\n",
       "       'посёлок Кобралово', 'деревня Суоранда', 'поселок Кобралово',\n",
       "       'поселок городского типа Кондратьево',\n",
       "       'коттеджный поселок Счастье', 'поселок Любань', 'деревня Реброво',\n",
       "       'деревня Зимитицы', 'деревня Тойворово', 'поселок Семиозерье',\n",
       "       'поселок Лесное', 'поселок Совхозный', 'поселок Усть-Луга',\n",
       "       'посёлок Ленинское', 'посёлок Суйда',\n",
       "       'посёлок городского типа Форносово', 'деревня Нижние Осельки',\n",
       "       'посёлок станции Свирь', 'поселок Перово', 'Высоцк',\n",
       "       'поселок Гарболово', 'село Шум', 'поселок Котельский',\n",
       "       'поселок станции Лужайка', 'деревня Большая Пустомержа',\n",
       "       'поселок Красносельское', 'деревня Вахнова Кара', 'деревня Пижма',\n",
       "       'коттеджный поселок Кивеннапа Север', 'поселок Коробицыно',\n",
       "       'поселок Ромашки', 'посёлок Перово', 'деревня Каськово',\n",
       "       'деревня Куровицы', 'посёлок Плоское', 'поселок Сумино',\n",
       "       'поселок городского типа Большая Ижора', 'поселок Кирпичное',\n",
       "       'деревня Ям-Тесово', 'деревня Раздолье', 'деревня Терпилицы',\n",
       "       'поселок городского типа Токсово', 'посёлок Шугозеро',\n",
       "       'деревня Ваганово', 'поселок Пушное', 'садовое товарищество Садко',\n",
       "       'посёлок Усть-Ижора', 'деревня Выскатка',\n",
       "       'городской посёлок Свирьстрой', 'поселок Громово',\n",
       "       'деревня Кисельня', 'посёлок Старая Малукса',\n",
       "       'деревня Трубников Бор', 'поселок Калитино',\n",
       "       'посёлок Высокоключевой', 'садовое товарищество Приладожский',\n",
       "       'посёлок Пансионат Зелёный Бор', 'деревня Ненимяки',\n",
       "       'поселок Пансионат Зелёный Бор', 'деревня Снегирёвка',\n",
       "       'деревня Рапполово', 'деревня Пустынка', 'поселок Рабитицы',\n",
       "       'деревня Большой Сабск', 'деревня Русско', 'деревня Лупполово',\n",
       "       'деревня Большое Рейзино', 'деревня Малая Романовка',\n",
       "       'поселок Дружноселье', 'поселок Пчевжа', 'поселок Володарское',\n",
       "       'деревня Нижняя', 'коттеджный посёлок Лесное', 'деревня Тихковицы',\n",
       "       'деревня Борисова Грива', 'посёлок Дзержинского'], dtype=object)"
      ]
     },
     "execution_count": 17,
     "metadata": {},
     "output_type": "execute_result"
    }
   ],
   "source": [
    "df['locality_name'].unique()"
   ]
  },
  {
   "cell_type": "code",
   "execution_count": 18,
   "metadata": {},
   "outputs": [],
   "source": [
    "df['locality_name'] = (\n",
    "    df['locality_name']\n",
    "    .str.lower()\n",
    "    .str.replace('посёлок', 'поселок')\n",
    "    .str.replace('городского типа', '')\n",
    "    .str.replace('городской', '')\n",
    ")"
   ]
  },
  {
   "cell_type": "markdown",
   "metadata": {},
   "source": [
    "<div class=\"alert alert-success\">\n",
    "<b>✔️ Комментарий ревьюера v1:</b> \n",
    "<br>Супер! Здесь всё верно)\n",
    "</div>"
   ]
  },
  {
   "cell_type": "markdown",
   "metadata": {},
   "source": [
    "#### Найдите и устраните редкие и выбивающиеся значения."
   ]
  },
  {
   "cell_type": "code",
   "execution_count": 19,
   "metadata": {
    "scrolled": false
   },
   "outputs": [
    {
     "data": {
      "text/html": [
       "<div>\n",
       "<style scoped>\n",
       "    .dataframe tbody tr th:only-of-type {\n",
       "        vertical-align: middle;\n",
       "    }\n",
       "\n",
       "    .dataframe tbody tr th {\n",
       "        vertical-align: top;\n",
       "    }\n",
       "\n",
       "    .dataframe thead th {\n",
       "        text-align: right;\n",
       "    }\n",
       "</style>\n",
       "<table border=\"1\" class=\"dataframe\">\n",
       "  <thead>\n",
       "    <tr style=\"text-align: right;\">\n",
       "      <th></th>\n",
       "      <th>total_images</th>\n",
       "      <th>last_price</th>\n",
       "      <th>total_area</th>\n",
       "      <th>rooms</th>\n",
       "      <th>ceiling_height</th>\n",
       "      <th>floors_total</th>\n",
       "      <th>living_area</th>\n",
       "      <th>floor</th>\n",
       "      <th>kitchen_area</th>\n",
       "      <th>balcony</th>\n",
       "      <th>airports_nearest</th>\n",
       "      <th>city_centers_nearest</th>\n",
       "      <th>parks_around3000</th>\n",
       "      <th>parks_nearest</th>\n",
       "      <th>ponds_around3000</th>\n",
       "      <th>ponds_nearest</th>\n",
       "      <th>days_exposition</th>\n",
       "    </tr>\n",
       "  </thead>\n",
       "  <tbody>\n",
       "    <tr>\n",
       "      <th>count</th>\n",
       "      <td>23565.00</td>\n",
       "      <td>23565.00</td>\n",
       "      <td>23565.00</td>\n",
       "      <td>23565.00</td>\n",
       "      <td>23565.00</td>\n",
       "      <td>23565.00</td>\n",
       "      <td>21700.00</td>\n",
       "      <td>23565.00</td>\n",
       "      <td>21343.00</td>\n",
       "      <td>23565.00</td>\n",
       "      <td>18041.00</td>\n",
       "      <td>18064.00</td>\n",
       "      <td>23565.00</td>\n",
       "      <td>8030.00</td>\n",
       "      <td>23565.00</td>\n",
       "      <td>9036.00</td>\n",
       "      <td>20394.00</td>\n",
       "    </tr>\n",
       "    <tr>\n",
       "      <th>mean</th>\n",
       "      <td>9.88</td>\n",
       "      <td>6540058.26</td>\n",
       "      <td>60.32</td>\n",
       "      <td>2.07</td>\n",
       "      <td>2.72</td>\n",
       "      <td>10.68</td>\n",
       "      <td>34.45</td>\n",
       "      <td>5.88</td>\n",
       "      <td>10.56</td>\n",
       "      <td>0.59</td>\n",
       "      <td>28797.08</td>\n",
       "      <td>14192.66</td>\n",
       "      <td>0.47</td>\n",
       "      <td>490.58</td>\n",
       "      <td>0.59</td>\n",
       "      <td>518.29</td>\n",
       "      <td>180.74</td>\n",
       "    </tr>\n",
       "    <tr>\n",
       "      <th>std</th>\n",
       "      <td>5.68</td>\n",
       "      <td>10910934.72</td>\n",
       "      <td>35.66</td>\n",
       "      <td>1.08</td>\n",
       "      <td>0.99</td>\n",
       "      <td>6.59</td>\n",
       "      <td>22.05</td>\n",
       "      <td>4.87</td>\n",
       "      <td>5.90</td>\n",
       "      <td>0.96</td>\n",
       "      <td>12632.50</td>\n",
       "      <td>8613.35</td>\n",
       "      <td>0.75</td>\n",
       "      <td>341.57</td>\n",
       "      <td>0.88</td>\n",
       "      <td>278.01</td>\n",
       "      <td>219.73</td>\n",
       "    </tr>\n",
       "    <tr>\n",
       "      <th>min</th>\n",
       "      <td>0.00</td>\n",
       "      <td>12190.00</td>\n",
       "      <td>12.00</td>\n",
       "      <td>0.00</td>\n",
       "      <td>1.00</td>\n",
       "      <td>1.00</td>\n",
       "      <td>2.00</td>\n",
       "      <td>1.00</td>\n",
       "      <td>1.30</td>\n",
       "      <td>0.00</td>\n",
       "      <td>0.00</td>\n",
       "      <td>181.00</td>\n",
       "      <td>0.00</td>\n",
       "      <td>1.00</td>\n",
       "      <td>0.00</td>\n",
       "      <td>13.00</td>\n",
       "      <td>1.00</td>\n",
       "    </tr>\n",
       "    <tr>\n",
       "      <th>25%</th>\n",
       "      <td>6.00</td>\n",
       "      <td>3400000.00</td>\n",
       "      <td>40.00</td>\n",
       "      <td>1.00</td>\n",
       "      <td>2.60</td>\n",
       "      <td>5.00</td>\n",
       "      <td>18.60</td>\n",
       "      <td>2.00</td>\n",
       "      <td>7.00</td>\n",
       "      <td>0.00</td>\n",
       "      <td>18565.00</td>\n",
       "      <td>9238.00</td>\n",
       "      <td>0.00</td>\n",
       "      <td>288.00</td>\n",
       "      <td>0.00</td>\n",
       "      <td>293.00</td>\n",
       "      <td>45.00</td>\n",
       "    </tr>\n",
       "    <tr>\n",
       "      <th>50%</th>\n",
       "      <td>9.00</td>\n",
       "      <td>4646000.00</td>\n",
       "      <td>52.00</td>\n",
       "      <td>2.00</td>\n",
       "      <td>2.65</td>\n",
       "      <td>9.00</td>\n",
       "      <td>30.00</td>\n",
       "      <td>4.00</td>\n",
       "      <td>9.10</td>\n",
       "      <td>0.00</td>\n",
       "      <td>26757.00</td>\n",
       "      <td>13096.50</td>\n",
       "      <td>0.00</td>\n",
       "      <td>455.00</td>\n",
       "      <td>0.00</td>\n",
       "      <td>503.00</td>\n",
       "      <td>95.00</td>\n",
       "    </tr>\n",
       "    <tr>\n",
       "      <th>75%</th>\n",
       "      <td>14.00</td>\n",
       "      <td>6790000.00</td>\n",
       "      <td>69.70</td>\n",
       "      <td>3.00</td>\n",
       "      <td>2.70</td>\n",
       "      <td>16.00</td>\n",
       "      <td>42.30</td>\n",
       "      <td>8.00</td>\n",
       "      <td>12.00</td>\n",
       "      <td>1.00</td>\n",
       "      <td>37273.00</td>\n",
       "      <td>16285.00</td>\n",
       "      <td>1.00</td>\n",
       "      <td>612.00</td>\n",
       "      <td>1.00</td>\n",
       "      <td>730.00</td>\n",
       "      <td>231.00</td>\n",
       "    </tr>\n",
       "    <tr>\n",
       "      <th>max</th>\n",
       "      <td>50.00</td>\n",
       "      <td>763000000.00</td>\n",
       "      <td>900.00</td>\n",
       "      <td>19.00</td>\n",
       "      <td>100.00</td>\n",
       "      <td>60.00</td>\n",
       "      <td>409.70</td>\n",
       "      <td>33.00</td>\n",
       "      <td>112.00</td>\n",
       "      <td>5.00</td>\n",
       "      <td>84869.00</td>\n",
       "      <td>65968.00</td>\n",
       "      <td>3.00</td>\n",
       "      <td>3190.00</td>\n",
       "      <td>3.00</td>\n",
       "      <td>1344.00</td>\n",
       "      <td>1580.00</td>\n",
       "    </tr>\n",
       "  </tbody>\n",
       "</table>\n",
       "</div>"
      ],
      "text/plain": [
       "       total_images    last_price  total_area     rooms  ceiling_height  \\\n",
       "count      23565.00      23565.00    23565.00  23565.00        23565.00   \n",
       "mean           9.88    6540058.26       60.32      2.07            2.72   \n",
       "std            5.68   10910934.72       35.66      1.08            0.99   \n",
       "min            0.00      12190.00       12.00      0.00            1.00   \n",
       "25%            6.00    3400000.00       40.00      1.00            2.60   \n",
       "50%            9.00    4646000.00       52.00      2.00            2.65   \n",
       "75%           14.00    6790000.00       69.70      3.00            2.70   \n",
       "max           50.00  763000000.00      900.00     19.00          100.00   \n",
       "\n",
       "       floors_total  living_area     floor  kitchen_area   balcony  \\\n",
       "count      23565.00     21700.00  23565.00      21343.00  23565.00   \n",
       "mean          10.68        34.45      5.88         10.56      0.59   \n",
       "std            6.59        22.05      4.87          5.90      0.96   \n",
       "min            1.00         2.00      1.00          1.30      0.00   \n",
       "25%            5.00        18.60      2.00          7.00      0.00   \n",
       "50%            9.00        30.00      4.00          9.10      0.00   \n",
       "75%           16.00        42.30      8.00         12.00      1.00   \n",
       "max           60.00       409.70     33.00        112.00      5.00   \n",
       "\n",
       "       airports_nearest  city_centers_nearest  parks_around3000  \\\n",
       "count          18041.00              18064.00          23565.00   \n",
       "mean           28797.08              14192.66              0.47   \n",
       "std            12632.50               8613.35              0.75   \n",
       "min                0.00                181.00              0.00   \n",
       "25%            18565.00               9238.00              0.00   \n",
       "50%            26757.00              13096.50              0.00   \n",
       "75%            37273.00              16285.00              1.00   \n",
       "max            84869.00              65968.00              3.00   \n",
       "\n",
       "       parks_nearest  ponds_around3000  ponds_nearest  days_exposition  \n",
       "count        8030.00          23565.00        9036.00         20394.00  \n",
       "mean          490.58              0.59         518.29           180.74  \n",
       "std           341.57              0.88         278.01           219.73  \n",
       "min             1.00              0.00          13.00             1.00  \n",
       "25%           288.00              0.00         293.00            45.00  \n",
       "50%           455.00              0.00         503.00            95.00  \n",
       "75%           612.00              1.00         730.00           231.00  \n",
       "max          3190.00              3.00        1344.00          1580.00  "
      ]
     },
     "execution_count": 19,
     "metadata": {},
     "output_type": "execute_result"
    }
   ],
   "source": [
    "df.describe()"
   ]
  },
  {
   "cell_type": "markdown",
   "metadata": {},
   "source": [
    "Рассмотрим выбивающиеся значения в столбце **last_price**. \n",
    "\n",
    "Для начала изучим данные по квартире с минимальной стоимостью."
   ]
  },
  {
   "cell_type": "code",
   "execution_count": 20,
   "metadata": {},
   "outputs": [
    {
     "data": {
      "text/html": [
       "<div>\n",
       "<style scoped>\n",
       "    .dataframe tbody tr th:only-of-type {\n",
       "        vertical-align: middle;\n",
       "    }\n",
       "\n",
       "    .dataframe tbody tr th {\n",
       "        vertical-align: top;\n",
       "    }\n",
       "\n",
       "    .dataframe thead th {\n",
       "        text-align: right;\n",
       "    }\n",
       "</style>\n",
       "<table border=\"1\" class=\"dataframe\">\n",
       "  <thead>\n",
       "    <tr style=\"text-align: right;\">\n",
       "      <th></th>\n",
       "      <th>total_images</th>\n",
       "      <th>last_price</th>\n",
       "      <th>total_area</th>\n",
       "      <th>first_day_exposition</th>\n",
       "      <th>rooms</th>\n",
       "      <th>ceiling_height</th>\n",
       "      <th>floors_total</th>\n",
       "      <th>living_area</th>\n",
       "      <th>floor</th>\n",
       "      <th>is_apartment</th>\n",
       "      <th>studio</th>\n",
       "      <th>open_plan</th>\n",
       "      <th>kitchen_area</th>\n",
       "      <th>balcony</th>\n",
       "      <th>locality_name</th>\n",
       "      <th>airports_nearest</th>\n",
       "      <th>city_centers_nearest</th>\n",
       "      <th>parks_around3000</th>\n",
       "      <th>parks_nearest</th>\n",
       "      <th>ponds_around3000</th>\n",
       "      <th>ponds_nearest</th>\n",
       "      <th>days_exposition</th>\n",
       "    </tr>\n",
       "  </thead>\n",
       "  <tbody>\n",
       "    <tr>\n",
       "      <th>8793</th>\n",
       "      <td>7</td>\n",
       "      <td>12190</td>\n",
       "      <td>109.00</td>\n",
       "      <td>2019-03-20</td>\n",
       "      <td>2</td>\n",
       "      <td>2.75</td>\n",
       "      <td>25</td>\n",
       "      <td>32.00</td>\n",
       "      <td>25</td>\n",
       "      <td>False</td>\n",
       "      <td>False</td>\n",
       "      <td>False</td>\n",
       "      <td>40.50</td>\n",
       "      <td>0</td>\n",
       "      <td>санкт-петербург</td>\n",
       "      <td>36421.00</td>\n",
       "      <td>9176.00</td>\n",
       "      <td>1</td>\n",
       "      <td>805.00</td>\n",
       "      <td>0</td>\n",
       "      <td>NaN</td>\n",
       "      <td>8.00</td>\n",
       "    </tr>\n",
       "  </tbody>\n",
       "</table>\n",
       "</div>"
      ],
      "text/plain": [
       "      total_images  last_price  total_area first_day_exposition  rooms  \\\n",
       "8793             7       12190      109.00           2019-03-20      2   \n",
       "\n",
       "      ceiling_height  floors_total  living_area  floor  is_apartment  studio  \\\n",
       "8793            2.75            25        32.00     25         False   False   \n",
       "\n",
       "      open_plan  kitchen_area  balcony    locality_name  airports_nearest  \\\n",
       "8793      False         40.50        0  санкт-петербург          36421.00   \n",
       "\n",
       "      city_centers_nearest  parks_around3000  parks_nearest  ponds_around3000  \\\n",
       "8793               9176.00                 1         805.00                 0   \n",
       "\n",
       "      ponds_nearest  days_exposition  \n",
       "8793            NaN             8.00  "
      ]
     },
     "execution_count": 20,
     "metadata": {},
     "output_type": "execute_result"
    }
   ],
   "source": [
    "df.query('last_price == 12190')"
   ]
  },
  {
   "cell_type": "markdown",
   "metadata": {},
   "source": [
    "Квартира с большой площадью, находится в Санкт-Петербурге, указаны даже расстояния до аэропорта и центра города, парки, все столбцы заполнены коректно. Скорее всего цена указана в тысячах, а не в миллионах. \n",
    "\n",
    "Изменим цену в таблице."
   ]
  },
  {
   "cell_type": "code",
   "execution_count": 21,
   "metadata": {},
   "outputs": [
    {
     "data": {
      "text/plain": [
       "count        23565.00\n",
       "mean       6540575.04\n",
       "std       10910913.92\n",
       "min         430000.00\n",
       "25%        3400000.00\n",
       "50%        4647000.00\n",
       "75%        6790000.00\n",
       "max      763000000.00\n",
       "Name: last_price, dtype: float64"
      ]
     },
     "execution_count": 21,
     "metadata": {},
     "output_type": "execute_result"
    }
   ],
   "source": [
    "df.loc[8793, 'last_price'] = 12190000\n",
    "df['last_price'].describe()"
   ]
  },
  {
   "cell_type": "markdown",
   "metadata": {},
   "source": [
    "Теперь смущает лишь максимальная цена."
   ]
  },
  {
   "cell_type": "code",
   "execution_count": 22,
   "metadata": {},
   "outputs": [
    {
     "name": "stdout",
     "output_type": "stream",
     "text": [
      "Количество квартир со стоимостью больше 100 мл.руб.: 37\n"
     ]
    }
   ],
   "source": [
    "print('Количество квартир со стоимостью больше 100 мл.руб.:', \n",
    "      df.query('last_price > 100000000')['last_price'].count()\n",
    "     )"
   ]
  },
  {
   "cell_type": "markdown",
   "metadata": {},
   "source": [
    "Аномальных значений не много, можно от них избавиться."
   ]
  },
  {
   "cell_type": "code",
   "execution_count": 23,
   "metadata": {},
   "outputs": [],
   "source": [
    "df.drop(index=df.query('last_price > 100000000').index, inplace=True)"
   ]
  },
  {
   "cell_type": "markdown",
   "metadata": {},
   "source": [
    "Рассмотрим данные по **total_area**. "
   ]
  },
  {
   "cell_type": "code",
   "execution_count": 24,
   "metadata": {},
   "outputs": [
    {
     "data": {
      "image/png": "[encoded data removed]",
      "text/plain": [
       "<Figure size 432x288 with 1 Axes>"
      ]
     },
     "metadata": {
      "needs_background": "light"
     },
     "output_type": "display_data"
    }
   ],
   "source": [
    "df.hist('total_area', bins=100);"
   ]
  },
  {
   "cell_type": "markdown",
   "metadata": {},
   "source": [
    "По гистограмме видно, что после 200 следует узинькая полосочка, и тем неменее она виднеется, а вот после ~270 уже мало что заметно.\n",
    "\n",
    "Посмотрим количество таких квартир."
   ]
  },
  {
   "cell_type": "code",
   "execution_count": 25,
   "metadata": {},
   "outputs": [
    {
     "name": "stdout",
     "output_type": "stream",
     "text": [
      "Количество квартир с общей площадью более 270м2: 70\n"
     ]
    }
   ],
   "source": [
    "print('Количество квартир с общей площадью более 270м2:',\n",
    "      df.query('total_area > 270')['total_area'].count()\n",
    "     )"
   ]
  },
  {
   "cell_type": "markdown",
   "metadata": {},
   "source": [
    "Удалим данные по этим квартирам. "
   ]
  },
  {
   "cell_type": "code",
   "execution_count": 26,
   "metadata": {},
   "outputs": [
    {
     "data": {
      "image/png": "[encoded data removed]",
      "text/plain": [
       "<Figure size 432x288 with 1 Axes>"
      ]
     },
     "metadata": {
      "needs_background": "light"
     },
     "output_type": "display_data"
    }
   ],
   "source": [
    "df.drop(index=df.query('total_area > 270').index, inplace=True)\n",
    "df.hist('total_area',bins=100, range=(0, 270));"
   ]
  },
  {
   "cell_type": "markdown",
   "metadata": {},
   "source": [
    "Рассмотрим данные по **rooms**."
   ]
  },
  {
   "cell_type": "code",
   "execution_count": 27,
   "metadata": {},
   "outputs": [
    {
     "data": {
      "text/plain": [
       "array([[<AxesSubplot:title={'center':'rooms'}>]], dtype=object)"
      ]
     },
     "execution_count": 27,
     "metadata": {},
     "output_type": "execute_result"
    },
    {
     "data": {
      "image/png": "[encoded data removed]",
      "text/plain": [
       "<Figure size 432x288 with 1 Axes>"
      ]
     },
     "metadata": {
      "needs_background": "light"
     },
     "output_type": "display_data"
    }
   ],
   "source": [
    "df.hist('rooms', range=(0,19))"
   ]
  },
  {
   "cell_type": "code",
   "execution_count": 28,
   "metadata": {},
   "outputs": [
    {
     "name": "stdout",
     "output_type": "stream",
     "text": [
      "Количество квартир с числом комнат больше 7: 15\n"
     ]
    }
   ],
   "source": [
    "print('Количество квартир с числом комнат больше 7:',\n",
    "      df.query('rooms > 7')['rooms'].count()\n",
    "     )"
   ]
  },
  {
   "cell_type": "code",
   "execution_count": 29,
   "metadata": {},
   "outputs": [],
   "source": [
    "df.drop(index=df.query('rooms > 7').index, inplace=True)"
   ]
  },
  {
   "cell_type": "markdown",
   "metadata": {},
   "source": [
    "Рассмотрим данные по **ceiling_height**."
   ]
  },
  {
   "cell_type": "code",
   "execution_count": 30,
   "metadata": {},
   "outputs": [],
   "source": [
    "df.drop(index=df.query('4 < ceiling_height < 25').index, inplace=True)\n",
    "df.update(df[(df['ceiling_height'] >= 25) & (df['ceiling_height'] <= 36)]['ceiling_height']/10)\n",
    "df.drop(index=df.query('ceiling_height < 2.5 or ceiling_height > 36').index, inplace=True)"
   ]
  },
  {
   "cell_type": "code",
   "execution_count": 31,
   "metadata": {},
   "outputs": [
    {
     "data": {
      "image/png": "[encoded data removed]",
      "text/plain": [
       "<Figure size 432x288 with 1 Axes>"
      ]
     },
     "metadata": {
      "needs_background": "light"
     },
     "output_type": "display_data"
    }
   ],
   "source": [
    "df.hist('ceiling_height', bins=50);"
   ]
  },
  {
   "cell_type": "markdown",
   "metadata": {},
   "source": [
    "Рассмотрим данные по **floors_total**"
   ]
  },
  {
   "cell_type": "code",
   "execution_count": 32,
   "metadata": {},
   "outputs": [
    {
     "data": {
      "image/png": "[encoded data removed]",
      "text/plain": [
       "<Figure size 432x288 with 1 Axes>"
      ]
     },
     "metadata": {
      "needs_background": "light"
     },
     "output_type": "display_data"
    }
   ],
   "source": [
    "df.hist('floors_total', bins=30);"
   ]
  },
  {
   "cell_type": "code",
   "execution_count": 33,
   "metadata": {},
   "outputs": [
    {
     "name": "stdout",
     "output_type": "stream",
     "text": [
      "Количество этажей больше 30: 31\n"
     ]
    }
   ],
   "source": [
    "print('Количество этажей больше 30:', \n",
    "      df.query('floors_total > 30')['floors_total'].count()\n",
    "     )"
   ]
  },
  {
   "cell_type": "code",
   "execution_count": 34,
   "metadata": {},
   "outputs": [],
   "source": [
    "df.drop(index=df.query('floors_total > 30').index, inplace=True)"
   ]
  },
  {
   "cell_type": "markdown",
   "metadata": {},
   "source": [
    "Рассмотрим данные по **living_area**."
   ]
  },
  {
   "cell_type": "code",
   "execution_count": 35,
   "metadata": {},
   "outputs": [
    {
     "data": {
      "image/png": "[encoded data removed]",
      "text/plain": [
       "<Figure size 432x288 with 1 Axes>"
      ]
     },
     "metadata": {
      "needs_background": "light"
     },
     "output_type": "display_data"
    }
   ],
   "source": [
    "df.hist('living_area', bins=50);"
   ]
  },
  {
   "cell_type": "code",
   "execution_count": 36,
   "metadata": {},
   "outputs": [
    {
     "name": "stdout",
     "output_type": "stream",
     "text": [
      "Количество квартир с жилой площадью меньше 10: 25\n",
      "Количество квартир, где жилая площадь больше общей: 0\n",
      "Количество квартир с жилой площадью больше 150: 44\n"
     ]
    }
   ],
   "source": [
    "print('Количество квартир с жилой площадью меньше 10:',\n",
    "      df.query('living_area < 10')['living_area'].count()\n",
    "     )\n",
    "print('Количество квартир, где жилая площадь больше общей:',\n",
    "     df.query('living_area > total_area')['living_area'].count()\n",
    "     )\n",
    "print('Количество квартир с жилой площадью больше 150:',\n",
    "      df.query('living_area > 150')['living_area'].count()\n",
    "     )"
   ]
  },
  {
   "cell_type": "code",
   "execution_count": 37,
   "metadata": {},
   "outputs": [],
   "source": [
    "df.drop(index=df.query('living_area < 10 or living_area > 150').index, inplace=True)"
   ]
  },
  {
   "cell_type": "code",
   "execution_count": 38,
   "metadata": {},
   "outputs": [
    {
     "data": {
      "image/png": "[encoded data removed]",
      "text/plain": [
       "<Figure size 432x288 with 1 Axes>"
      ]
     },
     "metadata": {
      "needs_background": "light"
     },
     "output_type": "display_data"
    }
   ],
   "source": [
    "df.hist('living_area', bins=50);"
   ]
  },
  {
   "cell_type": "markdown",
   "metadata": {},
   "source": [
    "Рассмотрим данные по **kitchen_area**."
   ]
  },
  {
   "cell_type": "code",
   "execution_count": 39,
   "metadata": {},
   "outputs": [
    {
     "data": {
      "image/png": "[encoded data removed]",
      "text/plain": [
       "<Figure size 432x288 with 1 Axes>"
      ]
     },
     "metadata": {
      "needs_background": "light"
     },
     "output_type": "display_data"
    }
   ],
   "source": [
    "df.hist('kitchen_area', bins=50);"
   ]
  },
  {
   "cell_type": "code",
   "execution_count": 40,
   "metadata": {},
   "outputs": [
    {
     "name": "stdout",
     "output_type": "stream",
     "text": [
      "Количество квартир с площадью кухни меньше 4: 27\n",
      "Количество квартир, где площадь кухни больше общей: 0\n",
      "Количество квартир с площадью кухни больше 50: 30\n"
     ]
    }
   ],
   "source": [
    "print('Количество квартир с площадью кухни меньше 4:',\n",
    "      df.query('kitchen_area < 4')['kitchen_area'].count()\n",
    "     )\n",
    "print('Количество квартир, где площадь кухни больше общей:',\n",
    "     df.query('kitchen_area > total_area')['kitchen_area'].count()\n",
    "     )\n",
    "print('Количество квартир с площадью кухни больше 50:',\n",
    "      df.query('kitchen_area > 50')['kitchen_area'].count()\n",
    "     )"
   ]
  },
  {
   "cell_type": "code",
   "execution_count": 41,
   "metadata": {},
   "outputs": [],
   "source": [
    "df.drop(index=df.query('kitchen_area < 4 or kitchen_area > 50').index, inplace=True)"
   ]
  },
  {
   "cell_type": "code",
   "execution_count": 42,
   "metadata": {},
   "outputs": [
    {
     "data": {
      "image/png": "[encoded data removed]",
      "text/plain": [
       "<Figure size 432x288 with 1 Axes>"
      ]
     },
     "metadata": {
      "needs_background": "light"
     },
     "output_type": "display_data"
    }
   ],
   "source": [
    "df.hist('kitchen_area', bins=50, range=(4, 50));"
   ]
  },
  {
   "cell_type": "markdown",
   "metadata": {},
   "source": [
    "Проверим есть ли аномалии в столце **floor**. \n",
    "\n",
    "Правильно ли указаны этажи, этаж расположения квартиры не должен превышать общее число этажей."
   ]
  },
  {
   "cell_type": "code",
   "execution_count": 43,
   "metadata": {},
   "outputs": [
    {
     "name": "stdout",
     "output_type": "stream",
     "text": [
      "Количество аномалий: 0\n"
     ]
    },
    {
     "data": {
      "image/png": "[encoded data removed]",
      "text/plain": [
       "<Figure size 432x288 with 1 Axes>"
      ]
     },
     "metadata": {
      "needs_background": "light"
     },
     "output_type": "display_data"
    }
   ],
   "source": [
    "print('Количество аномалий:', \n",
    "      df.query('floor > floors_total')['floor'].count()\n",
    "     )\n",
    "df.hist('floor', bins=33, range=(1, 33));"
   ]
  },
  {
   "cell_type": "markdown",
   "metadata": {},
   "source": [
    "Рассмотрим данные из столбца **days_exposition**."
   ]
  },
  {
   "cell_type": "code",
   "execution_count": 44,
   "metadata": {},
   "outputs": [
    {
     "data": {
      "image/png": "[encoded data removed]",
      "text/plain": [
       "<Figure size 432x288 with 1 Axes>"
      ]
     },
     "metadata": {
      "needs_background": "light"
     },
     "output_type": "display_data"
    }
   ],
   "source": [
    "df.hist('days_exposition', bins=50);"
   ]
  },
  {
   "cell_type": "code",
   "execution_count": 45,
   "metadata": {},
   "outputs": [
    {
     "name": "stdout",
     "output_type": "stream",
     "text": [
      "Количество квартир, которые продавались более 3 лет: 162\n"
     ]
    }
   ],
   "source": [
    "print('Количество квартир, которые продавались более 3 лет:', \n",
    "      df.query('days_exposition > 365*3')['days_exposition'].count()\n",
    "     )"
   ]
  },
  {
   "cell_type": "code",
   "execution_count": 46,
   "metadata": {},
   "outputs": [],
   "source": [
    "df.drop(index=df.query('days_exposition > 365*3').index, inplace=True)"
   ]
  },
  {
   "cell_type": "markdown",
   "metadata": {},
   "source": [
    "- По всем изученным данным наблюдаются большие выбросы, от которых следовало избавиться для более корректного анализа. \n",
    "- Исходя из логических предположений удалось скорректировать данные о цене квартиры и высоту потолков. \n",
    "- Минимальная цена квартиры 430000 р., что довольно мало, но можно предположить что это квартиры в небольших населенных пунктах. \n",
    "- Больше всего квартир расположено с 1 по 5 этажи.\n",
    "- Судя по графику больнинство квартир продаются за пол года."
   ]
  },
  {
   "cell_type": "markdown",
   "metadata": {},
   "source": [
    "<div class=\"alert alert-success\">\n",
    "<b>✔️ Комментарий ревьюера v1:</b>\n",
    "<br>Диапазоны для аномальных значений подобраны и удалены верно!\n",
    "</div>"
   ]
  },
  {
   "cell_type": "markdown",
   "metadata": {},
   "source": [
    "<div class=\"alert alert-warning\">\n",
    "<b>⚠️ Комментарий ревьюера v1:</b> \n",
    "<br>Здесь хорошо бы посмотреть на количество удалённых данных\n",
    "\t\n",
    "\tnew_data.shape[0] / old_data.shape[0]\n",
    "</div>"
   ]
  },
  {
   "cell_type": "markdown",
   "metadata": {},
   "source": [
    "### Посчитайте и добавьте в таблицу новые столбцы"
   ]
  },
  {
   "cell_type": "markdown",
   "metadata": {},
   "source": [
    "Посчитаем и добавим цену за квадратный метр."
   ]
  },
  {
   "cell_type": "code",
   "execution_count": 47,
   "metadata": {},
   "outputs": [],
   "source": [
    "df['price_of_m2'] = df['last_price'] / df['total_area']"
   ]
  },
  {
   "cell_type": "markdown",
   "metadata": {},
   "source": [
    "Добавим день недели публикации объявления (0 — понедельник, 1 — вторник и так далее)."
   ]
  },
  {
   "cell_type": "code",
   "execution_count": 48,
   "metadata": {},
   "outputs": [],
   "source": [
    "df['day_of_week'] = df['first_day_exposition'].dt.weekday"
   ]
  },
  {
   "cell_type": "markdown",
   "metadata": {},
   "source": [
    "Добавим месяц и год публикации объявления."
   ]
  },
  {
   "cell_type": "code",
   "execution_count": 49,
   "metadata": {},
   "outputs": [],
   "source": [
    "df['month'] = df['first_day_exposition'].dt.month\n",
    "df['year'] = df['first_day_exposition'].dt.year"
   ]
  },
  {
   "cell_type": "markdown",
   "metadata": {},
   "source": [
    "Добавим тип этажа квартиры."
   ]
  },
  {
   "cell_type": "code",
   "execution_count": 50,
   "metadata": {},
   "outputs": [],
   "source": [
    "def floor_type(floor):\n",
    "    if floor['floor'] == 1:\n",
    "        return 'первый'\n",
    "    elif floor['floor'] == floor['floors_total']:\n",
    "        return 'последний'\n",
    "    else:\n",
    "        return 'другой'\n",
    "df['floor_type'] = df.apply(floor_type, axis=1)"
   ]
  },
  {
   "cell_type": "markdown",
   "metadata": {},
   "source": [
    "Добавим расстояние до центра города в километрах. "
   ]
  },
  {
   "cell_type": "code",
   "execution_count": 51,
   "metadata": {},
   "outputs": [],
   "source": [
    "df['city_centers_nearest_km'] = (df['city_centers_nearest'] / 1000).round()"
   ]
  },
  {
   "cell_type": "markdown",
   "metadata": {},
   "source": [
    "<div class=\"alert alert-success\">\n",
    "<b>✔️ Комментарий ревьюера v1:</b> \n",
    "<br>Все необходимые колонки добавлены. Идём дальше)\n",
    "</div>"
   ]
  },
  {
   "cell_type": "markdown",
   "metadata": {},
   "source": [
    "### Проведите исследовательский анализ данных"
   ]
  },
  {
   "cell_type": "markdown",
   "metadata": {},
   "source": [
    "#### Изучите следующие параметры объектов"
   ]
  },
  {
   "cell_type": "code",
   "execution_count": 52,
   "metadata": {},
   "outputs": [
    {
     "data": {
      "text/html": [
       "<div>\n",
       "<style scoped>\n",
       "    .dataframe tbody tr th:only-of-type {\n",
       "        vertical-align: middle;\n",
       "    }\n",
       "\n",
       "    .dataframe tbody tr th {\n",
       "        vertical-align: top;\n",
       "    }\n",
       "\n",
       "    .dataframe thead th {\n",
       "        text-align: right;\n",
       "    }\n",
       "</style>\n",
       "<table border=\"1\" class=\"dataframe\">\n",
       "  <thead>\n",
       "    <tr style=\"text-align: right;\">\n",
       "      <th></th>\n",
       "      <th>total_images</th>\n",
       "      <th>last_price</th>\n",
       "      <th>total_area</th>\n",
       "      <th>first_day_exposition</th>\n",
       "      <th>rooms</th>\n",
       "      <th>ceiling_height</th>\n",
       "      <th>floors_total</th>\n",
       "      <th>living_area</th>\n",
       "      <th>floor</th>\n",
       "      <th>is_apartment</th>\n",
       "      <th>studio</th>\n",
       "      <th>open_plan</th>\n",
       "      <th>kitchen_area</th>\n",
       "      <th>balcony</th>\n",
       "      <th>locality_name</th>\n",
       "      <th>airports_nearest</th>\n",
       "      <th>city_centers_nearest</th>\n",
       "      <th>parks_around3000</th>\n",
       "      <th>parks_nearest</th>\n",
       "      <th>ponds_around3000</th>\n",
       "      <th>ponds_nearest</th>\n",
       "      <th>days_exposition</th>\n",
       "      <th>price_of_m2</th>\n",
       "      <th>day_of_week</th>\n",
       "      <th>month</th>\n",
       "      <th>year</th>\n",
       "      <th>floor_type</th>\n",
       "      <th>city_centers_nearest_km</th>\n",
       "    </tr>\n",
       "  </thead>\n",
       "  <tbody>\n",
       "    <tr>\n",
       "      <th>0</th>\n",
       "      <td>20</td>\n",
       "      <td>13000000</td>\n",
       "      <td>108.00</td>\n",
       "      <td>2019-03-07</td>\n",
       "      <td>3</td>\n",
       "      <td>2.70</td>\n",
       "      <td>16</td>\n",
       "      <td>51.00</td>\n",
       "      <td>8</td>\n",
       "      <td>False</td>\n",
       "      <td>False</td>\n",
       "      <td>False</td>\n",
       "      <td>25.00</td>\n",
       "      <td>0</td>\n",
       "      <td>санкт-петербург</td>\n",
       "      <td>18863.00</td>\n",
       "      <td>16028.00</td>\n",
       "      <td>1</td>\n",
       "      <td>482.00</td>\n",
       "      <td>2</td>\n",
       "      <td>755.00</td>\n",
       "      <td>NaN</td>\n",
       "      <td>120370.37</td>\n",
       "      <td>3</td>\n",
       "      <td>3</td>\n",
       "      <td>2019</td>\n",
       "      <td>другой</td>\n",
       "      <td>16.00</td>\n",
       "    </tr>\n",
       "    <tr>\n",
       "      <th>1</th>\n",
       "      <td>7</td>\n",
       "      <td>3350000</td>\n",
       "      <td>40.40</td>\n",
       "      <td>2018-12-04</td>\n",
       "      <td>1</td>\n",
       "      <td>2.65</td>\n",
       "      <td>11</td>\n",
       "      <td>18.60</td>\n",
       "      <td>1</td>\n",
       "      <td>False</td>\n",
       "      <td>False</td>\n",
       "      <td>False</td>\n",
       "      <td>11.00</td>\n",
       "      <td>2</td>\n",
       "      <td>поселок шушары</td>\n",
       "      <td>12817.00</td>\n",
       "      <td>18603.00</td>\n",
       "      <td>0</td>\n",
       "      <td>NaN</td>\n",
       "      <td>0</td>\n",
       "      <td>NaN</td>\n",
       "      <td>81.00</td>\n",
       "      <td>82920.79</td>\n",
       "      <td>1</td>\n",
       "      <td>12</td>\n",
       "      <td>2018</td>\n",
       "      <td>первый</td>\n",
       "      <td>19.00</td>\n",
       "    </tr>\n",
       "    <tr>\n",
       "      <th>2</th>\n",
       "      <td>10</td>\n",
       "      <td>5196000</td>\n",
       "      <td>56.00</td>\n",
       "      <td>2015-08-20</td>\n",
       "      <td>2</td>\n",
       "      <td>2.65</td>\n",
       "      <td>5</td>\n",
       "      <td>34.30</td>\n",
       "      <td>4</td>\n",
       "      <td>False</td>\n",
       "      <td>False</td>\n",
       "      <td>False</td>\n",
       "      <td>8.30</td>\n",
       "      <td>0</td>\n",
       "      <td>санкт-петербург</td>\n",
       "      <td>21741.00</td>\n",
       "      <td>13933.00</td>\n",
       "      <td>1</td>\n",
       "      <td>90.00</td>\n",
       "      <td>2</td>\n",
       "      <td>574.00</td>\n",
       "      <td>558.00</td>\n",
       "      <td>92785.71</td>\n",
       "      <td>3</td>\n",
       "      <td>8</td>\n",
       "      <td>2015</td>\n",
       "      <td>другой</td>\n",
       "      <td>14.00</td>\n",
       "    </tr>\n",
       "    <tr>\n",
       "      <th>3</th>\n",
       "      <td>0</td>\n",
       "      <td>64900000</td>\n",
       "      <td>159.00</td>\n",
       "      <td>2015-07-24</td>\n",
       "      <td>3</td>\n",
       "      <td>2.65</td>\n",
       "      <td>14</td>\n",
       "      <td>NaN</td>\n",
       "      <td>9</td>\n",
       "      <td>False</td>\n",
       "      <td>False</td>\n",
       "      <td>False</td>\n",
       "      <td>NaN</td>\n",
       "      <td>0</td>\n",
       "      <td>санкт-петербург</td>\n",
       "      <td>28098.00</td>\n",
       "      <td>6800.00</td>\n",
       "      <td>2</td>\n",
       "      <td>84.00</td>\n",
       "      <td>3</td>\n",
       "      <td>234.00</td>\n",
       "      <td>424.00</td>\n",
       "      <td>408176.10</td>\n",
       "      <td>4</td>\n",
       "      <td>7</td>\n",
       "      <td>2015</td>\n",
       "      <td>другой</td>\n",
       "      <td>7.00</td>\n",
       "    </tr>\n",
       "    <tr>\n",
       "      <th>4</th>\n",
       "      <td>2</td>\n",
       "      <td>10000000</td>\n",
       "      <td>100.00</td>\n",
       "      <td>2018-06-19</td>\n",
       "      <td>2</td>\n",
       "      <td>3.03</td>\n",
       "      <td>14</td>\n",
       "      <td>32.00</td>\n",
       "      <td>13</td>\n",
       "      <td>False</td>\n",
       "      <td>False</td>\n",
       "      <td>False</td>\n",
       "      <td>41.00</td>\n",
       "      <td>0</td>\n",
       "      <td>санкт-петербург</td>\n",
       "      <td>31856.00</td>\n",
       "      <td>8098.00</td>\n",
       "      <td>2</td>\n",
       "      <td>112.00</td>\n",
       "      <td>1</td>\n",
       "      <td>48.00</td>\n",
       "      <td>121.00</td>\n",
       "      <td>100000.00</td>\n",
       "      <td>1</td>\n",
       "      <td>6</td>\n",
       "      <td>2018</td>\n",
       "      <td>другой</td>\n",
       "      <td>8.00</td>\n",
       "    </tr>\n",
       "  </tbody>\n",
       "</table>\n",
       "</div>"
      ],
      "text/plain": [
       "   total_images  last_price  total_area first_day_exposition  rooms  \\\n",
       "0            20    13000000      108.00           2019-03-07      3   \n",
       "1             7     3350000       40.40           2018-12-04      1   \n",
       "2            10     5196000       56.00           2015-08-20      2   \n",
       "3             0    64900000      159.00           2015-07-24      3   \n",
       "4             2    10000000      100.00           2018-06-19      2   \n",
       "\n",
       "   ceiling_height  floors_total  living_area  floor  is_apartment  studio  \\\n",
       "0            2.70            16        51.00      8         False   False   \n",
       "1            2.65            11        18.60      1         False   False   \n",
       "2            2.65             5        34.30      4         False   False   \n",
       "3            2.65            14          NaN      9         False   False   \n",
       "4            3.03            14        32.00     13         False   False   \n",
       "\n",
       "   open_plan  kitchen_area  balcony    locality_name  airports_nearest  \\\n",
       "0      False         25.00        0  санкт-петербург          18863.00   \n",
       "1      False         11.00        2   поселок шушары          12817.00   \n",
       "2      False          8.30        0  санкт-петербург          21741.00   \n",
       "3      False           NaN        0  санкт-петербург          28098.00   \n",
       "4      False         41.00        0  санкт-петербург          31856.00   \n",
       "\n",
       "   city_centers_nearest  parks_around3000  parks_nearest  ponds_around3000  \\\n",
       "0              16028.00                 1         482.00                 2   \n",
       "1              18603.00                 0            NaN                 0   \n",
       "2              13933.00                 1          90.00                 2   \n",
       "3               6800.00                 2          84.00                 3   \n",
       "4               8098.00                 2         112.00                 1   \n",
       "\n",
       "   ponds_nearest  days_exposition  price_of_m2  day_of_week  month  year  \\\n",
       "0         755.00              NaN    120370.37            3      3  2019   \n",
       "1            NaN            81.00     82920.79            1     12  2018   \n",
       "2         574.00           558.00     92785.71            3      8  2015   \n",
       "3         234.00           424.00    408176.10            4      7  2015   \n",
       "4          48.00           121.00    100000.00            1      6  2018   \n",
       "\n",
       "  floor_type  city_centers_nearest_km  \n",
       "0     другой                    16.00  \n",
       "1     первый                    19.00  \n",
       "2     другой                    14.00  \n",
       "3     другой                     7.00  \n",
       "4     другой                     8.00  "
      ]
     },
     "execution_count": 52,
     "metadata": {},
     "output_type": "execute_result"
    }
   ],
   "source": [
    "df.head()"
   ]
  },
  {
   "cell_type": "code",
   "execution_count": 53,
   "metadata": {},
   "outputs": [
    {
     "data": {
      "image/png": "[encoded data removed]",
      "text/plain": [
       "<Figure size 432x288 with 1 Axes>"
      ]
     },
     "metadata": {
      "needs_background": "light"
     },
     "output_type": "display_data"
    }
   ],
   "source": [
    "df.hist('total_area', bins=50, range=(0, 270));"
   ]
  },
  {
   "cell_type": "code",
   "execution_count": 54,
   "metadata": {},
   "outputs": [
    {
     "data": {
      "image/png": "[encoded data removed]",
      "text/plain": [
       "<Figure size 432x288 with 1 Axes>"
      ]
     },
     "metadata": {
      "needs_background": "light"
     },
     "output_type": "display_data"
    }
   ],
   "source": [
    "df.hist('living_area', bins=30, range=(0, 150));"
   ]
  },
  {
   "cell_type": "code",
   "execution_count": 55,
   "metadata": {},
   "outputs": [
    {
     "data": {
      "image/png": "[encoded data removed]",
      "text/plain": [
       "<Figure size 432x288 with 1 Axes>"
      ]
     },
     "metadata": {
      "needs_background": "light"
     },
     "output_type": "display_data"
    }
   ],
   "source": [
    "df.hist('kitchen_area', bins=46, range=(4, 50));"
   ]
  },
  {
   "cell_type": "code",
   "execution_count": 56,
   "metadata": {},
   "outputs": [
    {
     "data": {
      "image/png": "[encoded data removed]",
      "text/plain": [
       "<Figure size 432x288 with 1 Axes>"
      ]
     },
     "metadata": {
      "needs_background": "light"
     },
     "output_type": "display_data"
    }
   ],
   "source": [
    "df.update(df['last_price']/1000000)\n",
    "df.hist('last_price', bins=50);"
   ]
  },
  {
   "cell_type": "markdown",
   "metadata": {},
   "source": [
    "<div class=\"alert alert-warning\">\n",
    "<b>⚠️ Комментарий ревьюера v1:</b> \n",
    "<br>Тут можно разделить все значения в столбце last_price на 1 млн, чтобы они пришли в более понятный вид)\n",
    "</div>"
   ]
  },
  {
   "cell_type": "code",
   "execution_count": 57,
   "metadata": {},
   "outputs": [
    {
     "data": {
      "image/png": "[encoded data removed]",
      "text/plain": [
       "<Figure size 432x288 with 1 Axes>"
      ]
     },
     "metadata": {
      "needs_background": "light"
     },
     "output_type": "display_data"
    }
   ],
   "source": [
    "df.hist('rooms', bins=7, range=(0, 7));"
   ]
  },
  {
   "cell_type": "code",
   "execution_count": 58,
   "metadata": {},
   "outputs": [
    {
     "data": {
      "image/png": "[encoded data removed]",
      "text/plain": [
       "<Figure size 432x288 with 1 Axes>"
      ]
     },
     "metadata": {
      "needs_background": "light"
     },
     "output_type": "display_data"
    }
   ],
   "source": [
    "df.hist('ceiling_height', range=(2.50, 4));"
   ]
  },
  {
   "cell_type": "code",
   "execution_count": 59,
   "metadata": {},
   "outputs": [
    {
     "data": {
      "image/png": "[encoded data removed]",
      "text/plain": [
       "<Figure size 432x288 with 1 Axes>"
      ]
     },
     "metadata": {
      "needs_background": "light"
     },
     "output_type": "display_data"
    }
   ],
   "source": [
    "df.hist('floor', bins=33, range=(1, 33));"
   ]
  },
  {
   "cell_type": "code",
   "execution_count": 60,
   "metadata": {},
   "outputs": [
    {
     "data": {
      "image/png": "[encoded data removed]",
      "text/plain": [
       "<Figure size 432x288 with 1 Axes>"
      ]
     },
     "metadata": {
      "needs_background": "light"
     },
     "output_type": "display_data"
    }
   ],
   "source": [
    "df.groupby(by='floor_type')['floor_type'].count().plot(kind='bar', ylabel = 'count');"
   ]
  },
  {
   "cell_type": "code",
   "execution_count": 61,
   "metadata": {},
   "outputs": [
    {
     "data": {
      "image/png": "[encoded data removed]",
      "text/plain": [
       "<Figure size 432x288 with 1 Axes>"
      ]
     },
     "metadata": {
      "needs_background": "light"
     },
     "output_type": "display_data"
    }
   ],
   "source": [
    "df.hist('floors_total', bins=60);"
   ]
  },
  {
   "cell_type": "code",
   "execution_count": 62,
   "metadata": {},
   "outputs": [
    {
     "data": {
      "image/png": "[encoded data removed]",
      "text/plain": [
       "<Figure size 432x288 with 1 Axes>"
      ]
     },
     "metadata": {
      "needs_background": "light"
     },
     "output_type": "display_data"
    }
   ],
   "source": [
    "df.hist('city_centers_nearest', bins=50);"
   ]
  },
  {
   "cell_type": "code",
   "execution_count": 63,
   "metadata": {},
   "outputs": [
    {
     "data": {
      "image/png": "[encoded data removed]",
      "text/plain": [
       "<Figure size 432x288 with 1 Axes>"
      ]
     },
     "metadata": {
      "needs_background": "light"
     },
     "output_type": "display_data"
    }
   ],
   "source": [
    "df.hist('airports_nearest', bins=50);"
   ]
  },
  {
   "cell_type": "code",
   "execution_count": 64,
   "metadata": {},
   "outputs": [
    {
     "data": {
      "image/png": "[encoded data removed]",
      "text/plain": [
       "<Figure size 432x288 with 1 Axes>"
      ]
     },
     "metadata": {
      "needs_background": "light"
     },
     "output_type": "display_data"
    }
   ],
   "source": [
    "df.hist('parks_nearest', bins=50);"
   ]
  },
  {
   "cell_type": "code",
   "execution_count": 65,
   "metadata": {},
   "outputs": [
    {
     "data": {
      "image/png": "[encoded data removed]",
      "text/plain": [
       "<Figure size 432x288 with 1 Axes>"
      ]
     },
     "metadata": {
      "needs_background": "light"
     },
     "output_type": "display_data"
    },
    {
     "data": {
      "image/png": "[encoded data removed]",
      "text/plain": [
       "<Figure size 432x288 with 1 Axes>"
      ]
     },
     "metadata": {
      "needs_background": "light"
     },
     "output_type": "display_data"
    }
   ],
   "source": [
    "df.hist('day_of_week', bins=7, range=(0, 6));\n",
    "df.hist('month', bins=12, range=(1,12));"
   ]
  },
  {
   "cell_type": "markdown",
   "metadata": {},
   "source": [
    "Большая часть квартир имеет:\n",
    "- общую площадь от 30 до 50 кв.м\n",
    "- жилую площадь от 15 до 20 кв.м сдесь наблюдается скачок, и от 25 до 35 кв.м\n",
    "- площадь кухни от 6 до 12 кв.м\n",
    "- количестов комнат 2 и 3\n",
    "- высоту потолков от 2,5 до 2,8 м\n",
    "- расположены с 1 по 5 этажи, если смотреть общее количество и тип этажа то больше квартир расположенно на других этажах, то есть не первый и не последний, что вполне логично\n",
    "\n",
    "Цена квартир в большенстве своем находится в одном диапозоне, так же есть довольно дорогие квартиры, но их не так много. Большая цена может зависить от площади квартиры, района в котором расположена.\n",
    "\n",
    "По графику с общим количеством этажей видно что больше всего домов с 5, 9, 16 и 25 этажами.\n",
    "\n",
    "Большенство квартир расположено в радиусе 10-18 км от центра и 10-38 км от аэропорта.\n",
    "\n",
    "Парки расположены в радиусе до 800 метров, довольно близко.\n",
    "\n",
    "В будние дни объявления публикуют чаще чем в выходные, это может быть связано например с работой риелторов. \n",
    "\n",
    "В январе не так много объявление, возможно это связано сновогодними праздниками, многие хотят провести их в спокойной обстановке без лишних переживаний. А вот с февраля уже прослеживается резкий скачок в публикациях, и в мае опять спад. Можно предположить, что мае начинается садоводческий сезон и у людей хватает забот, а так же много праздничных дней. "
   ]
  },
  {
   "cell_type": "markdown",
   "metadata": {},
   "source": [
    "<div class=\"alert alert-success\">\n",
    "<b>✔️ Комментарий ревьюера v1:</b> \n",
    "<br>Ты корректно подбираешь основные диапазоны, а также верно читаешь графики! \n",
    "</div>\n",
    "\n",
    "<div class=\"alert alert-warning\">\n",
    "<b>⚠️ Комментарий ревьюера v1:</b> \n",
    "<br>Для того чтобы подписать график мы можем использовать метод plt.title() и в конце кода применить plt.show(). По ссылкам ниже можно почитать подробнее как добавить название для графика или подписать его оси\n",
    "    \n",
    "    https://pyprog.pro/mpl/mpl_title.html\n",
    "    https://pyprog.pro/mpl/mpl_axis_signatures.html \n",
    "</div>"
   ]
  },
  {
   "cell_type": "markdown",
   "metadata": {},
   "source": [
    "#### Изучите, как быстро продавались квартиры"
   ]
  },
  {
   "cell_type": "code",
   "execution_count": 66,
   "metadata": {},
   "outputs": [
    {
     "name": "stdout",
     "output_type": "stream",
     "text": [
      "Среднее количество дней: 171\n",
      "Медианное количество дней: 93\n"
     ]
    },
    {
     "data": {
      "text/plain": [
       "count    19910.00\n",
       "mean       171.25\n",
       "std        197.38\n",
       "min          1.00\n",
       "25%         44.00\n",
       "50%         93.00\n",
       "75%        224.00\n",
       "max       1095.00\n",
       "Name: days_exposition, dtype: float64"
      ]
     },
     "execution_count": 66,
     "metadata": {},
     "output_type": "execute_result"
    },
    {
     "data": {
      "image/png": "[encoded data removed]",
      "text/plain": [
       "<Figure size 432x288 with 1 Axes>"
      ]
     },
     "metadata": {
      "needs_background": "light"
     },
     "output_type": "display_data"
    }
   ],
   "source": [
    "df1 = df[df['days_exposition'] != 0]\n",
    "df1.hist('days_exposition', bins=50);\n",
    "print('Среднее количество дней:', \n",
    "     int(df1['days_exposition'].mean()))\n",
    "print('Медианное количество дней:',\n",
    "     int(df1['days_exposition'].median()))\n",
    "df1['days_exposition'].describe()"
   ]
  },
  {
   "cell_type": "markdown",
   "metadata": {},
   "source": [
    "Для более корректного иследования исключили нулевые значения. Исходя из результатов медианы, обычно продажи занимают 93 дня. Продажи менее 44 дней можно считать быстрыми, а более 224 дней - необычно долгими."
   ]
  },
  {
   "cell_type": "markdown",
   "metadata": {},
   "source": [
    "<div class=\"alert alert-success\">\n",
    "<b>✔️ Комментарий ревьюера v1:</b> \n",
    "<br>Если интересно, то можно посмотреть на диапазон от 0 до 100 дней. Там есть пики, которым можно найти очень логичное объяснение</div>\n",
    "</div>"
   ]
  },
  {
   "cell_type": "markdown",
   "metadata": {},
   "source": [
    "#### Какие факторы больше всего влияют на общую (полную) стоимость объекта?"
   ]
  },
  {
   "cell_type": "code",
   "execution_count": 67,
   "metadata": {},
   "outputs": [
    {
     "data": {
      "image/png": "[encoded data removed]",
      "text/plain": [
       "<Figure size 432x288 with 1 Axes>"
      ]
     },
     "metadata": {
      "needs_background": "light"
     },
     "output_type": "display_data"
    },
    {
     "data": {
      "image/png": "[encoded data removed]",
      "text/plain": [
       "<Figure size 432x288 with 1 Axes>"
      ]
     },
     "metadata": {
      "needs_background": "light"
     },
     "output_type": "display_data"
    },
    {
     "data": {
      "image/png": "[encoded data removed]",
      "text/plain": [
       "<Figure size 432x288 with 1 Axes>"
      ]
     },
     "metadata": {
      "needs_background": "light"
     },
     "output_type": "display_data"
    }
   ],
   "source": [
    "df.plot(title='Зависимость общей стоимости от общей площади', x='last_price', y='total_area', kind='scatter', alpha=0.2);\n",
    "df.plot(title='Зависимость общей стоимости от жилой площади',x='last_price', y='living_area', kind='scatter', alpha=0.2);\n",
    "df.plot(title='Зависимость общей стоимости от площади кухни',x='last_price', y='kitchen_area', kind='scatter', alpha=0.2);"
   ]
  },
  {
   "cell_type": "markdown",
   "metadata": {},
   "source": [
    "<div class=\"alert alert-danger\">\n",
    "<b>❌ Комментарий ревьюера v1:</b> \n",
    "<br>Давай ещё добавим расчет корреляции для общей цены, общей площади, жилой площади, площади кухни и количества комнат используя .corr()\n",
    "</div>"
   ]
  },
  {
   "cell_type": "markdown",
   "metadata": {},
   "source": [
    "<div class=\"alert alert-info\">\n",
    "<b>Комментарий студента:</b>\n",
    "<br>Коэффициент Пирсона расчитала, в выводе добавила строчку о нём. \n",
    "</div>"
   ]
  },
  {
   "cell_type": "markdown",
   "metadata": {},
   "source": [
    "<div class=\"alert alert-success\">\n",
    "<b>✔️ Комментарий ревьюера v2:</b>\n",
    "<br>Правка выполнена 👍\n",
    "</div>"
   ]
  },
  {
   "cell_type": "code",
   "execution_count": 68,
   "metadata": {},
   "outputs": [
    {
     "data": {
      "image/png": "[encoded data removed]",
      "text/plain": [
       "<Figure size 432x288 with 1 Axes>"
      ]
     },
     "metadata": {
      "needs_background": "light"
     },
     "output_type": "display_data"
    }
   ],
   "source": [
    "df.pivot_table(index='rooms', values='last_price').plot(y='last_price', title='Распределение по комнатам', kind='bar');"
   ]
  },
  {
   "cell_type": "code",
   "execution_count": 69,
   "metadata": {},
   "outputs": [
    {
     "name": "stdout",
     "output_type": "stream",
     "text": [
      "Расчет корреляции для общей цены и общей площади: 0.7398075054748847\n",
      "Расчет корреляции для общей цены и жилой площади: 0.6376161416270558\n",
      "Расчет корреляции для общей цены и площади кухни: 0.5561005157377137\n",
      "Расчет корреляции для общей цены и количества комнат: 0.44490772727824135\n"
     ]
    }
   ],
   "source": [
    "print('Расчет корреляции для общей цены и общей площади:', df['last_price'].corr(df['total_area']))\n",
    "print('Расчет корреляции для общей цены и жилой площади:', df['last_price'].corr(df['living_area']))\n",
    "print('Расчет корреляции для общей цены и площади кухни:', df['last_price'].corr(df['kitchen_area']))\n",
    "print('Расчет корреляции для общей цены и количества комнат:', df['last_price'].corr(df['rooms']))"
   ]
  },
  {
   "cell_type": "markdown",
   "metadata": {},
   "source": [
    "<div class=\"alert alert-warning\">\n",
    "<b>⚠️ Комментарий ревьюера v2:</b> \n",
    "<br>Тут можно построить компактную табличку выбрав все необходимые столбцы и применив к ним corr()\n",
    "\n",
    "\tdf[['last_price', 'total_area', 'rooms', '...']].corr()\n",
    "</div>"
   ]
  },
  {
   "cell_type": "code",
   "execution_count": 70,
   "metadata": {},
   "outputs": [
    {
     "data": {
      "image/png": "[encoded data removed]",
      "text/plain": [
       "<Figure size 432x288 with 1 Axes>"
      ]
     },
     "metadata": {
      "needs_background": "light"
     },
     "output_type": "display_data"
    }
   ],
   "source": [
    "df.pivot_table(index='floor_type',  values='last_price').plot(y='last_price', title='Распределение по этажам', kind='bar');"
   ]
  },
  {
   "cell_type": "code",
   "execution_count": 71,
   "metadata": {},
   "outputs": [
    {
     "data": {
      "image/png": "[encoded data removed]",
      "text/plain": [
       "<Figure size 432x288 with 1 Axes>"
      ]
     },
     "metadata": {
      "needs_background": "light"
     },
     "output_type": "display_data"
    }
   ],
   "source": [
    "df.pivot_table(index='day_of_week',  values='last_price', aggfunc='median').plot(y='last_price', \n",
    "                                                               title='Распределение по дням недели', kind='line');"
   ]
  },
  {
   "cell_type": "code",
   "execution_count": 72,
   "metadata": {},
   "outputs": [
    {
     "data": {
      "image/png": "[encoded data removed]",
      "text/plain": [
       "<Figure size 432x288 with 1 Axes>"
      ]
     },
     "metadata": {
      "needs_background": "light"
     },
     "output_type": "display_data"
    }
   ],
   "source": [
    "df.pivot_table(index='month',  values='last_price', aggfunc='median').plot(y='last_price', \n",
    "                                                               title='Распределение по месяцам', kind='line');"
   ]
  },
  {
   "cell_type": "code",
   "execution_count": 73,
   "metadata": {},
   "outputs": [
    {
     "data": {
      "image/png": "[encoded data removed]",
      "text/plain": [
       "<Figure size 432x288 with 1 Axes>"
      ]
     },
     "metadata": {
      "needs_background": "light"
     },
     "output_type": "display_data"
    }
   ],
   "source": [
    "df.pivot_table(index='year',  values='last_price', aggfunc='median').plot(y='last_price', \n",
    "                                                               title='Распределение по годам', kind='line');"
   ]
  },
  {
   "cell_type": "markdown",
   "metadata": {},
   "source": [
    "По графику очень четко прослеживается зависимость цены от количества комнат, чем больше комнат тем больше цена.\n",
    "\n",
    "Можно тоже самое сказать и про площадь, с увеличение цены график рассеивания растет вверх, тоесть к большей площади.\n",
    "\n",
    "По коэффициенту корреляции Пирсона, расчитанных для общей цены, общей площади, жилой площади, площади кухни и количества комнат, видно что больше всего рост цены зависит от общей площади.\n",
    "\n",
    "Так же цена зависит от этажа, на первом этаже цена меньше чем на других. Люди с меньшей вероятностью покупают квартиры на первом этаже, возможно из за того что с улицы в окнах всё видно, а все мы довольно скрытные и не хотим чтобы посторонние взгляды вторгались в наше личное пространство. Так же может быть по каким то комунальным причинам, например: подвальный запах, угроза затопления, так же запахи с улицы, постоянные звуки из подъезда, потому что все через нее проходят.\n",
    "\n",
    "В начале недели цена подскакивает и с каждым днем к выходным она снижается, можно сказать что зависимость от дня недели тоже есть. А вот с месяцами всё довольно сумбурно в апреле цена взлетает и к июню падает, к осени снова начинает рости. Если вспомнить график по кооличеству продаж по месяцам, то там мы видели что количество объявлений к лету становилось меньше, а к осени увеличиволось, из-за этого сдесь и цена скачет так же, мы же смотрим по медиане.\n",
    "\n",
    "Из-за кризиза в 2014 году цена на недвижимость сильно упала, это отбражено и на нашем графике. И продолжала падать до 2016. С 2018 года цена вновь начала подниматься. Проверим связвно ли это как то с параметрами квартир."
   ]
  },
  {
   "cell_type": "code",
   "execution_count": 74,
   "metadata": {},
   "outputs": [
    {
     "data": {
      "image/png": "[encoded data removed]",
      "text/plain": [
       "<Figure size 432x288 with 1 Axes>"
      ]
     },
     "metadata": {
      "needs_background": "light"
     },
     "output_type": "display_data"
    }
   ],
   "source": [
    "df.pivot_table(index='year',  values='total_area', aggfunc='median').plot(y='total_area', \n",
    "                                                               title='Распределение по годам', kind='line');"
   ]
  },
  {
   "cell_type": "markdown",
   "metadata": {},
   "source": [
    "На графике изображено, что с 2015 по 2019 стали чаще покупать квартиры с меньшей площадью. Отсюда и спад, т.к. цена зависит от площади. А вот от года продажи скорее всего цена зависит в определенные моменты, по каким то глобальным причинам."
   ]
  },
  {
   "cell_type": "markdown",
   "metadata": {},
   "source": [
    "<div class=\"alert alert-success\">\n",
    "<b>✔️ Комментарий ревьюера v1:</b>\n",
    "<br>Зависимость цены изучена верно! Ещё тут можно использовать для визуализации pairplot из библиотеки seaborn \n",
    "    \n",
    "    https://seaborn.pydata.org/generated/seaborn.pairplot.html\n",
    "</div>"
   ]
  },
  {
   "cell_type": "markdown",
   "metadata": {},
   "source": [
    "#### Посчитайте среднюю цену одного квадратного метра в 10 населённых пунктах с наибольшим числом объявлений."
   ]
  },
  {
   "cell_type": "code",
   "execution_count": 75,
   "metadata": {},
   "outputs": [
    {
     "data": {
      "image/png": "[encoded data removed]",
      "text/plain": [
       "<Figure size 432x288 with 1 Axes>"
      ]
     },
     "metadata": {
      "needs_background": "light"
     },
     "output_type": "display_data"
    }
   ],
   "source": [
    "top_10 = df.pivot_table(index='locality_name', values=['last_price','total_area'] ,aggfunc=['sum','count'])\n",
    "top_10.columns=['last_price_sum','total_area_sum','last_price_count','total_area_count']\n",
    "top_10.pop('total_area_count')\n",
    "top_10.sort_values(by=['last_price_count'],ascending=False, inplace=True)\n",
    "top_10 = top_10.iloc[:10]\n",
    "top_10['price_per_sq_m'] = top_10['last_price_sum']/top_10['total_area_sum']\n",
    "top_10.sort_values(by=['price_per_sq_m'],ascending=True, inplace=True)\n",
    "top_10['price_per_sq_m'].plot(kind='barh');"
   ]
  },
  {
   "cell_type": "markdown",
   "metadata": {},
   "source": [
    "По графику видно, что самая высокая средняя цена одного кв.м в Санкт-Петербурге и в ближайших пригородах."
   ]
  },
  {
   "cell_type": "markdown",
   "metadata": {},
   "source": [
    "<div class=\"alert alert-success\">\n",
    "<b>✔️ Комментарий ревьюера v1:</b> \n",
    "<br>👏🏻👏🏻👏🏻 Отличная визуализация! Не забывай писать вывод после раздела\n",
    "</div>"
   ]
  },
  {
   "cell_type": "markdown",
   "metadata": {},
   "source": [
    "#### Выделите квартиры в Санкт-Петербурге с помощью столбца locality_name и вычислите среднюю цену каждого километра."
   ]
  },
  {
   "cell_type": "code",
   "execution_count": 76,
   "metadata": {
    "scrolled": true
   },
   "outputs": [
    {
     "data": {
      "image/png": "[encoded data removed]",
      "text/plain": [
       "<Figure size 1080x360 with 1 Axes>"
      ]
     },
     "metadata": {
      "needs_background": "light"
     },
     "output_type": "display_data"
    }
   ],
   "source": [
    "df[df['locality_name'] == 'санкт-петербург'].pivot_table(\n",
    "    index='city_centers_nearest_km',\n",
    "    values='last_price',\n",
    "    aggfunc='mean').plot(kind='bar', title='Распределение по удаленности от центра в Санкт-Петербурге', figsize=(15, 5));"
   ]
  },
  {
   "cell_type": "code",
   "execution_count": 77,
   "metadata": {},
   "outputs": [
    {
     "data": {
      "text/html": [
       "<div>\n",
       "<style scoped>\n",
       "    .dataframe tbody tr th:only-of-type {\n",
       "        vertical-align: middle;\n",
       "    }\n",
       "\n",
       "    .dataframe tbody tr th {\n",
       "        vertical-align: top;\n",
       "    }\n",
       "\n",
       "    .dataframe thead th {\n",
       "        text-align: right;\n",
       "    }\n",
       "</style>\n",
       "<table border=\"1\" class=\"dataframe\">\n",
       "  <thead>\n",
       "    <tr style=\"text-align: right;\">\n",
       "      <th></th>\n",
       "      <th>другой</th>\n",
       "      <th>первый</th>\n",
       "      <th>последний</th>\n",
       "      <th>отношение</th>\n",
       "    </tr>\n",
       "    <tr>\n",
       "      <th>city_centers_nearest_km</th>\n",
       "      <th></th>\n",
       "      <th></th>\n",
       "      <th></th>\n",
       "      <th></th>\n",
       "    </tr>\n",
       "  </thead>\n",
       "  <tbody>\n",
       "    <tr>\n",
       "      <th>3.00</th>\n",
       "      <td>201</td>\n",
       "      <td>52</td>\n",
       "      <td>75</td>\n",
       "      <td>0.19</td>\n",
       "    </tr>\n",
       "    <tr>\n",
       "      <th>4.00</th>\n",
       "      <td>467</td>\n",
       "      <td>76</td>\n",
       "      <td>105</td>\n",
       "      <td>0.13</td>\n",
       "    </tr>\n",
       "    <tr>\n",
       "      <th>5.00</th>\n",
       "      <td>639</td>\n",
       "      <td>76</td>\n",
       "      <td>128</td>\n",
       "      <td>0.10</td>\n",
       "    </tr>\n",
       "    <tr>\n",
       "      <th>6.00</th>\n",
       "      <td>427</td>\n",
       "      <td>64</td>\n",
       "      <td>80</td>\n",
       "      <td>0.13</td>\n",
       "    </tr>\n",
       "    <tr>\n",
       "      <th>7.00</th>\n",
       "      <td>317</td>\n",
       "      <td>32</td>\n",
       "      <td>58</td>\n",
       "      <td>0.09</td>\n",
       "    </tr>\n",
       "  </tbody>\n",
       "</table>\n",
       "</div>"
      ],
      "text/plain": [
       "                         другой  первый  последний  отношение\n",
       "city_centers_nearest_km                                      \n",
       "3.00                        201      52         75       0.19\n",
       "4.00                        467      76        105       0.13\n",
       "5.00                        639      76        128       0.10\n",
       "6.00                        427      64         80       0.13\n",
       "7.00                        317      32         58       0.09"
      ]
     },
     "execution_count": 77,
     "metadata": {},
     "output_type": "execute_result"
    }
   ],
   "source": [
    "df3_7 = df.query('3 <= city_centers_nearest_km <= 7 and locality_name == \"санкт-петербург\"')\n",
    "df3_7 = df3_7.pivot_table(index='city_centers_nearest_km', columns='floor_type', values='last_price', aggfunc='count')\n",
    "df3_7.columns=['другой', 'первый', 'последний']\n",
    "#посчитаем отношение колличества квартир на первом этаже к остальным\n",
    "df3_7['отношение'] = df3_7['первый'] / (df3_7['другой'] + df3_7['последний'])\n",
    "df3_7"
   ]
  },
  {
   "cell_type": "markdown",
   "metadata": {},
   "source": [
    "Из предыдущих исследований помним, что квартиры на первом этаже дешевле чем квартиры на остальных этажах. Исходя из этого посчитав отношение количества квартир на первом этаже к остальным, видно что на 3 км это отношение больше чем на последующих. Следовательно можно сделать вывод что спад на 3 км вызван меньшим количеством дорогих квартир в отношении к дешевым. На 7 км обратная ситуация. Этим и обусловлены выбросы на 3 и на 7 км."
   ]
  },
  {
   "cell_type": "code",
   "execution_count": 78,
   "metadata": {},
   "outputs": [
    {
     "data": {
      "text/html": [
       "<div>\n",
       "<style scoped>\n",
       "    .dataframe tbody tr th:only-of-type {\n",
       "        vertical-align: middle;\n",
       "    }\n",
       "\n",
       "    .dataframe tbody tr th {\n",
       "        vertical-align: top;\n",
       "    }\n",
       "\n",
       "    .dataframe thead th {\n",
       "        text-align: right;\n",
       "    }\n",
       "</style>\n",
       "<table border=\"1\" class=\"dataframe\">\n",
       "  <thead>\n",
       "    <tr style=\"text-align: right;\">\n",
       "      <th></th>\n",
       "      <th>last_price</th>\n",
       "    </tr>\n",
       "    <tr>\n",
       "      <th>total_area</th>\n",
       "      <th></th>\n",
       "    </tr>\n",
       "  </thead>\n",
       "  <tbody>\n",
       "    <tr>\n",
       "      <th>32.00</th>\n",
       "      <td>2.25</td>\n",
       "    </tr>\n",
       "    <tr>\n",
       "      <th>74.00</th>\n",
       "      <td>14.35</td>\n",
       "    </tr>\n",
       "  </tbody>\n",
       "</table>\n",
       "</div>"
      ],
      "text/plain": [
       "            last_price\n",
       "total_area            \n",
       "32.00             2.25\n",
       "74.00            14.35"
      ]
     },
     "execution_count": 78,
     "metadata": {},
     "output_type": "execute_result"
    }
   ],
   "source": [
    "df27 = df.query('city_centers_nearest_km == 27 and locality_name == \"санкт-петербург\"')\n",
    "df27.pivot_table(index='total_area', values='last_price', aggfunc='mean')"
   ]
  },
  {
   "cell_type": "markdown",
   "metadata": {},
   "source": [
    "На 27 км продается всего 2 квартиры, цена у которых сильно друг от друга отличается, чем и вызван выброс."
   ]
  },
  {
   "cell_type": "markdown",
   "metadata": {},
   "source": [
    "<div class=\"alert alert-success\">\n",
    "<b>✔️ Комментарий ревьюера v1:</b>\n",
    "<br>Отличный анализ 👍\n",
    "</div>"
   ]
  },
  {
   "cell_type": "markdown",
   "metadata": {},
   "source": [
    "### Общий вывод"
   ]
  },
  {
   "cell_type": "markdown",
   "metadata": {},
   "source": [
    "Нам были предоставлены сведения о продаже квартир в Санкт-Петербурге и соседних населённых пунктах за несколько лет. Задачей исследования было изучить эти данные, чтобы найти интересные особенности и зависимости, которые существуют на рынке недвижимости.\n",
    "\n",
    "Для начала была произведена предобработка данных: \n",
    "* устранили пропуски ,там где это представлялось возможным; \n",
    "* изменили тип данных в некоторых столбцах; \n",
    "* устранили дубликаты в названиях населенных пунктов; \n",
    "* нашли и устранили редкие и выбивающиеся значения.\n",
    "\n",
    "Добавили столбцы с данными, которые в последующих действиях упростили работу.\n",
    "\n",
    "Затем, после всех совершенных действий, которые позволяют более точно и коректно оценивать данные, произвели анализ по которому можно сделать следущие выводы:\n",
    "- Самая высокая цена на квартиры в Санкт-Петербурге и ближайших пригородах;\n",
    "- В радиусе 7 км от центра Питера квартиры дороже, чем дальше по удаленности тем цены меньше;\n",
    "- Больше всего застроено 5 и 9 этажными домами;\n",
    "- Цена растет с увелечинем комнат, но разница между 1- и 2-комнатными квартирами не так велика, как и между 6- и 7-комнатными;\n",
    "- Цена квартиры больше всего зависит от общей площади;\n",
    "- На первом этаже цена меньше чем на других этажах;\n",
    "- В выходные дни публикуют гораздо меньше объявлений;\n",
    "- В мае и январе публикаций меньше из-за большого колличества праздничных дней, которые являются выходными."
   ]
  },
  {
   "cell_type": "markdown",
   "metadata": {},
   "source": [
    "<div class=\"alert alert-danger\">\n",
    "<b>❌ Комментарий ревьюера v1:</b> \n",
    "<br>Давай немного увеличим объем вывода, чтобы он получится более подробным. Хорошей практикой является написание в общем выводе всех твоих действий (кратко) по проекту. А после этого нужно написать общий вывод использую информацию из промежуточных выводов после каждого раздела. Твой вывод раскрывает для заказчика всю твою проделанную работу и за что он платит деньги, даже если ему не интересен весь процесс исследования, то в отчёт он заглянет обязательно. \n",
    "</div>"
   ]
  },
  {
   "cell_type": "markdown",
   "metadata": {},
   "source": [
    "<div class=\"alert alert-success\">\n",
    "<b>✔️ Комментарий ревьюера v2:</b>\n",
    "<br>Супер! Так гораздо лучше)\n",
    "</div>"
   ]
  },
  {
   "cell_type": "markdown",
   "metadata": {},
   "source": [
    "<div class=\"alert alert-danger\">\n",
    "<b>❌ Комментарий ревьюера v1:</b> \n",
    "<br>После всех внесённых правок, обязательно перепроверь общий вывод и промежуточные выводы и поправь их по необходимости\n",
    "</div>"
   ]
  },
  {
   "cell_type": "markdown",
   "metadata": {},
   "source": [
    "<div class=\"alert alert-danger\">\n",
    "<b>❌ Итоговый комментарий ревьюера v1:</b> \n",
    "<br>Ты хорошо потрудилась, большая часть работы сделана, но остаётся внести следующие правки:\n",
    "<br>- написать короткий вывод после первичного просмотра данных\n",
    "<br>- не заполнять пропуски в столбце days_exposition\n",
    "<br>- заполнить пропуски в столбце ceiling_height\n",
    "<br>- добавить расчет корреляции\n",
    "<br>- дописать общий вывод\n",
    "<br>- поправить выводы там, где это необходимо\n",
    "</div>"
   ]
  },
  {
   "cell_type": "markdown",
   "metadata": {},
   "source": [
    "<div class=\"alert alert-success\">\n",
    "<b>✔️ Итоговый комментарий ревьюера v2:</b>\n",
    "<br>Все правки выполнены. Молодец!\n",
    "<br>Проделана огромная работа! У тебя подробные, понятные и логичные выводы, которые ты подкрепляешь фактами. Были использованы разные графики и способы, чтобы как можно более тщательно изучить данные и у тебя это получилось! \n",
    "<br>Я рад был поработать над проверкой твоей работы) В качестве дополнительного материала для изучения могу порекомендовать следующий ресурс:\n",
    "\n",
    "\thttps://www.python-graph-gallery.com/\n",
    "<br>В нем содержится большая библиотека графиков с готовым кодом, который можно использовать при работе.\n",
    "<br>Поздравляю со сдачей проекта и желаю удачи в дальнейшем обучении! 😉    \n",
    "</div>"
   ]
  },
  {
   "cell_type": "markdown",
   "metadata": {},
   "source": [
    "**Чек-лист готовности проекта**\n",
    "\n",
    "Поставьте 'x' в выполненных пунктах. Далее нажмите Shift+Enter."
   ]
  },
  {
   "cell_type": "markdown",
   "metadata": {},
   "source": [
    "- [x]  открыт файл\n",
    "- [x]  файлы изучены (выведены первые строки, метод `info()`, гистограммы и т.д.)\n",
    "- [x]  определены пропущенные значения\n",
    "- [x]  заполнены пропущенные значения там, где это возможно\n",
    "- [x]  есть пояснение, какие пропущенные значения обнаружены\n",
    "- [x]  изменены типы данных\n",
    "- [x]  есть пояснение, в каких столбцах изменены типы и почему\n",
    "- [x]  устранены неявные дубликаты в названиях населённых пунктов\n",
    "- [x]  устранены редкие и выбивающиеся значения (аномалии) во всех столбцах\n",
    "- [x]  посчитано и добавлено в таблицу: цена одного квадратного метра\n",
    "- [x]  посчитано и добавлено в таблицу: день публикации объявления (0 - понедельник, 1 - вторник и т.д.)\n",
    "- [x]  посчитано и добавлено в таблицу: месяц публикации объявления\n",
    "- [x]  посчитано и добавлено в таблицу: год публикации объявления\n",
    "- [x]  посчитано и добавлено в таблицу: тип этажа квартиры (значения — «первый», «последний», «другой»)\n",
    "- [x]  посчитано и добавлено в таблицу: расстояние в км до центра города\n",
    "- [x]  изучены и описаны следующие параметры:\n",
    "        - общая площадь;\n",
    "        - жилая площадь;\n",
    "        - площадь кухни;\n",
    "        - цена объекта;\n",
    "        - количество комнат;\n",
    "        - высота потолков;\n",
    "        - этаж квартиры;\n",
    "        - тип этажа квартиры («первый», «последний», «другой»);\n",
    "        - общее количество этажей в доме;\n",
    "        - расстояние до центра города в метрах;\n",
    "        - расстояние до ближайшего аэропорта;\n",
    "        - расстояние до ближайшего парка;\n",
    "        - день и месяц публикации объявления\n",
    "- [x]  построены гистограммы для каждого параметра\n",
    "- [x]  выполнено задание: \"Изучите, как быстро продавались квартиры (столбец days_exposition). Этот параметр показывает, сколько дней «висело» каждое объявление.\n",
    "    - Постройте гистограмму.\n",
    "    - Посчитайте среднее и медиану.\n",
    "    - В ячейке типа markdown опишите, сколько обычно занимает продажа. Какие продажи можно считать быстрыми, а какие — необычно долгими?\"\n",
    "- [x]  выполнено задание: \"Какие факторы больше всего влияют на общую (полную) стоимость объекта? Постройте графики, которые покажут зависимость цены от указанных ниже параметров. Для подготовки данных перед визуализацией вы можете использовать сводные таблицы.\"\n",
    "        - общей площади;\n",
    "        - жилой площади;\n",
    "        - площади кухни;\n",
    "        - количество комнат;\n",
    "        - типа этажа, на котором расположена квартира (первый, последний, другой);\n",
    "        - даты размещения (день недели, месяц, год);\n",
    "- [x]  выполнено задание: \"Посчитайте среднюю цену одного квадратного метра в 10 населённых пунктах с наибольшим числом объявлений. Выделите населённые пункты с самой высокой и низкой стоимостью квадратного метра. Эти данные можно найти по имени в столбце `locality_name`.\"\n",
    "- [x]  выполнено задание: \"Ранее вы посчитали расстояние до центра в километрах. Теперь выделите квартиры в Санкт-Петербурге с помощью столбца `locality_name` и вычислите среднюю цену каждого километра. Опишите, как стоимость объектов зависит от расстояния до центра города.\"\n",
    "- [x]  в каждом этапе есть промежуточные выводы\n",
    "- [x]  есть общий вывод"
   ]
  },
  {
   "cell_type": "code",
   "execution_count": null,
   "metadata": {},
   "outputs": [],
   "source": []
  }
 ],
 "metadata": {
  "ExecuteTimeLog": [
   {
    "duration": 46,
    "start_time": "2023-01-13T09:14:49.284Z"
   },
   {
    "duration": 767,
    "start_time": "2023-01-13T09:14:58.735Z"
   },
   {
    "duration": 130,
    "start_time": "2023-01-13T09:14:59.504Z"
   },
   {
    "duration": 9,
    "start_time": "2023-01-13T09:14:59.636Z"
   },
   {
    "duration": 85,
    "start_time": "2023-01-13T09:15:43.686Z"
   },
   {
    "duration": 27,
    "start_time": "2023-01-13T09:15:46.812Z"
   },
   {
    "duration": 15,
    "start_time": "2023-01-13T09:16:21.735Z"
   },
   {
    "duration": 1972,
    "start_time": "2023-01-13T09:17:40.737Z"
   },
   {
    "duration": 586,
    "start_time": "2023-01-13T09:17:59.546Z"
   },
   {
    "duration": 93,
    "start_time": "2023-01-13T09:18:00.134Z"
   },
   {
    "duration": 36,
    "start_time": "2023-01-13T09:18:00.229Z"
   },
   {
    "duration": 19,
    "start_time": "2023-01-13T09:18:00.267Z"
   },
   {
    "duration": 1916,
    "start_time": "2023-01-13T09:18:00.289Z"
   },
   {
    "duration": 1892,
    "start_time": "2023-01-13T09:19:19.968Z"
   },
   {
    "duration": 4,
    "start_time": "2023-01-13T09:22:40.088Z"
   },
   {
    "duration": 14,
    "start_time": "2023-01-13T09:23:01.198Z"
   },
   {
    "duration": 9,
    "start_time": "2023-01-13T09:24:58.088Z"
   },
   {
    "duration": 654,
    "start_time": "2023-01-13T10:13:45.311Z"
   },
   {
    "duration": 96,
    "start_time": "2023-01-13T10:13:45.969Z"
   },
   {
    "duration": 29,
    "start_time": "2023-01-13T10:13:46.068Z"
   },
   {
    "duration": 42,
    "start_time": "2023-01-13T10:13:46.098Z"
   },
   {
    "duration": 2032,
    "start_time": "2023-01-13T10:13:46.141Z"
   },
   {
    "duration": 6,
    "start_time": "2023-01-13T10:13:48.175Z"
   },
   {
    "duration": 35,
    "start_time": "2023-01-13T10:13:48.183Z"
   },
   {
    "duration": 26,
    "start_time": "2023-01-13T10:13:48.219Z"
   },
   {
    "duration": 16,
    "start_time": "2023-01-13T10:13:48.247Z"
   },
   {
    "duration": 95,
    "start_time": "2023-01-13T10:13:48.264Z"
   },
   {
    "duration": 0,
    "start_time": "2023-01-13T10:13:48.361Z"
   },
   {
    "duration": 3,
    "start_time": "2023-01-13T10:16:41.599Z"
   },
   {
    "duration": 1595,
    "start_time": "2023-01-13T10:16:42.433Z"
   },
   {
    "duration": 0,
    "start_time": "2023-01-13T10:16:44.029Z"
   },
   {
    "duration": 3,
    "start_time": "2023-01-13T10:17:31.784Z"
   },
   {
    "duration": 8,
    "start_time": "2023-01-13T10:17:34.003Z"
   },
   {
    "duration": 8,
    "start_time": "2023-01-13T10:20:40.026Z"
   },
   {
    "duration": 3,
    "start_time": "2023-01-13T10:20:45.537Z"
   },
   {
    "duration": 8,
    "start_time": "2023-01-13T10:20:46.630Z"
   },
   {
    "duration": 4,
    "start_time": "2023-01-13T10:21:11.225Z"
   },
   {
    "duration": 4,
    "start_time": "2023-01-13T10:21:12.624Z"
   },
   {
    "duration": 15,
    "start_time": "2023-01-13T10:21:15.705Z"
   },
   {
    "duration": 8,
    "start_time": "2023-01-13T10:21:31.046Z"
   },
   {
    "duration": 4,
    "start_time": "2023-01-13T10:22:26.934Z"
   },
   {
    "duration": 662,
    "start_time": "2023-01-13T10:27:28.994Z"
   },
   {
    "duration": 108,
    "start_time": "2023-01-13T10:27:29.658Z"
   },
   {
    "duration": 34,
    "start_time": "2023-01-13T10:27:29.768Z"
   },
   {
    "duration": 21,
    "start_time": "2023-01-13T10:27:29.803Z"
   },
   {
    "duration": 2150,
    "start_time": "2023-01-13T10:27:29.827Z"
   },
   {
    "duration": 5,
    "start_time": "2023-01-13T10:27:31.979Z"
   },
   {
    "duration": 25,
    "start_time": "2023-01-13T10:27:31.985Z"
   },
   {
    "duration": 24,
    "start_time": "2023-01-13T10:27:32.011Z"
   },
   {
    "duration": 9,
    "start_time": "2023-01-13T10:27:32.037Z"
   },
   {
    "duration": 14,
    "start_time": "2023-01-13T10:27:32.047Z"
   },
   {
    "duration": 15,
    "start_time": "2023-01-13T10:27:32.063Z"
   },
   {
    "duration": 11,
    "start_time": "2023-01-13T10:27:32.080Z"
   },
   {
    "duration": 21,
    "start_time": "2023-01-13T10:27:32.093Z"
   },
   {
    "duration": 83,
    "start_time": "2023-01-13T10:27:32.116Z"
   },
   {
    "duration": 8,
    "start_time": "2023-01-13T10:27:32.201Z"
   },
   {
    "duration": 9,
    "start_time": "2023-01-13T10:29:57.605Z"
   },
   {
    "duration": 9,
    "start_time": "2023-01-13T10:30:01.598Z"
   },
   {
    "duration": 91,
    "start_time": "2023-01-13T10:46:38.593Z"
   },
   {
    "duration": 22,
    "start_time": "2023-01-13T10:46:54.567Z"
   },
   {
    "duration": 43,
    "start_time": "2023-01-13T10:47:03.693Z"
   },
   {
    "duration": 39,
    "start_time": "2023-01-13T10:47:45.284Z"
   },
   {
    "duration": 40,
    "start_time": "2023-01-13T10:48:26.414Z"
   },
   {
    "duration": 63,
    "start_time": "2023-01-13T10:50:33.658Z"
   },
   {
    "duration": 40,
    "start_time": "2023-01-13T10:51:12.266Z"
   },
   {
    "duration": 7,
    "start_time": "2023-01-13T10:53:27.605Z"
   },
   {
    "duration": 3,
    "start_time": "2023-01-13T10:53:53.014Z"
   },
   {
    "duration": 9,
    "start_time": "2023-01-13T10:53:56.304Z"
   },
   {
    "duration": 8,
    "start_time": "2023-01-13T11:47:42.798Z"
   },
   {
    "duration": 8,
    "start_time": "2023-01-13T11:52:50.227Z"
   },
   {
    "duration": 5,
    "start_time": "2023-01-13T11:58:20.405Z"
   },
   {
    "duration": 1279,
    "start_time": "2023-01-13T12:03:05.265Z"
   },
   {
    "duration": 21,
    "start_time": "2023-01-13T12:03:39.329Z"
   },
   {
    "duration": 15,
    "start_time": "2023-01-13T12:13:20.545Z"
   },
   {
    "duration": 9,
    "start_time": "2023-01-13T12:13:50.293Z"
   },
   {
    "duration": 9,
    "start_time": "2023-01-13T12:15:49.754Z"
   },
   {
    "duration": 605,
    "start_time": "2023-01-13T12:15:56.133Z"
   },
   {
    "duration": 91,
    "start_time": "2023-01-13T12:15:56.740Z"
   },
   {
    "duration": 33,
    "start_time": "2023-01-13T12:15:56.833Z"
   },
   {
    "duration": 21,
    "start_time": "2023-01-13T12:15:56.868Z"
   },
   {
    "duration": 2114,
    "start_time": "2023-01-13T12:15:56.891Z"
   },
   {
    "duration": 5,
    "start_time": "2023-01-13T12:15:59.007Z"
   },
   {
    "duration": 19,
    "start_time": "2023-01-13T12:15:59.014Z"
   },
   {
    "duration": 13,
    "start_time": "2023-01-13T12:15:59.035Z"
   },
   {
    "duration": 14,
    "start_time": "2023-01-13T12:15:59.050Z"
   },
   {
    "duration": 14,
    "start_time": "2023-01-13T12:15:59.066Z"
   },
   {
    "duration": 9,
    "start_time": "2023-01-13T12:15:59.082Z"
   },
   {
    "duration": 8,
    "start_time": "2023-01-13T12:15:59.092Z"
   },
   {
    "duration": 11,
    "start_time": "2023-01-13T12:15:59.102Z"
   },
   {
    "duration": 18,
    "start_time": "2023-01-13T12:15:59.117Z"
   },
   {
    "duration": 8,
    "start_time": "2023-01-13T12:15:59.137Z"
   },
   {
    "duration": 18,
    "start_time": "2023-01-13T12:15:59.147Z"
   },
   {
    "duration": 11,
    "start_time": "2023-01-13T12:15:59.167Z"
   },
   {
    "duration": 12,
    "start_time": "2023-01-13T12:15:59.180Z"
   },
   {
    "duration": 73,
    "start_time": "2023-01-13T12:15:59.212Z"
   },
   {
    "duration": 3,
    "start_time": "2023-01-13T12:19:34.424Z"
   },
   {
    "duration": 627,
    "start_time": "2023-01-13T12:22:58.558Z"
   },
   {
    "duration": 98,
    "start_time": "2023-01-13T12:22:59.186Z"
   },
   {
    "duration": 28,
    "start_time": "2023-01-13T12:22:59.286Z"
   },
   {
    "duration": 34,
    "start_time": "2023-01-13T12:22:59.317Z"
   },
   {
    "duration": 2188,
    "start_time": "2023-01-13T12:22:59.353Z"
   },
   {
    "duration": 6,
    "start_time": "2023-01-13T12:23:01.543Z"
   },
   {
    "duration": 45,
    "start_time": "2023-01-13T12:23:01.551Z"
   },
   {
    "duration": 9,
    "start_time": "2023-01-13T12:23:01.598Z"
   },
   {
    "duration": 28,
    "start_time": "2023-01-13T12:23:01.609Z"
   },
   {
    "duration": 16,
    "start_time": "2023-01-13T12:23:01.641Z"
   },
   {
    "duration": 10,
    "start_time": "2023-01-13T12:23:01.658Z"
   },
   {
    "duration": 7,
    "start_time": "2023-01-13T12:23:01.669Z"
   },
   {
    "duration": 7,
    "start_time": "2023-01-13T12:23:01.678Z"
   },
   {
    "duration": 13,
    "start_time": "2023-01-13T12:23:01.686Z"
   },
   {
    "duration": 17,
    "start_time": "2023-01-13T12:23:01.701Z"
   },
   {
    "duration": 35,
    "start_time": "2023-01-13T12:23:01.723Z"
   },
   {
    "duration": 17,
    "start_time": "2023-01-13T12:23:01.760Z"
   },
   {
    "duration": 35,
    "start_time": "2023-01-13T12:23:01.778Z"
   },
   {
    "duration": 37,
    "start_time": "2023-01-13T12:23:01.815Z"
   },
   {
    "duration": 11,
    "start_time": "2023-01-13T12:23:01.854Z"
   },
   {
    "duration": 10,
    "start_time": "2023-01-13T12:23:01.868Z"
   },
   {
    "duration": 5,
    "start_time": "2023-01-13T12:23:01.880Z"
   },
   {
    "duration": 87,
    "start_time": "2023-01-13T12:23:01.887Z"
   },
   {
    "duration": 0,
    "start_time": "2023-01-13T12:23:01.976Z"
   },
   {
    "duration": 0,
    "start_time": "2023-01-13T12:23:01.978Z"
   },
   {
    "duration": 1,
    "start_time": "2023-01-13T12:23:01.979Z"
   },
   {
    "duration": 0,
    "start_time": "2023-01-13T12:23:01.981Z"
   },
   {
    "duration": 0,
    "start_time": "2023-01-13T12:23:01.984Z"
   },
   {
    "duration": 0,
    "start_time": "2023-01-13T12:23:01.985Z"
   },
   {
    "duration": 14,
    "start_time": "2023-01-13T12:24:32.355Z"
   },
   {
    "duration": 5,
    "start_time": "2023-01-13T12:24:42.045Z"
   },
   {
    "duration": 22,
    "start_time": "2023-01-13T12:24:44.835Z"
   },
   {
    "duration": 6,
    "start_time": "2023-01-13T12:24:50.335Z"
   },
   {
    "duration": 15,
    "start_time": "2023-01-13T12:24:53.444Z"
   },
   {
    "duration": 6,
    "start_time": "2023-01-13T12:24:58.945Z"
   },
   {
    "duration": 14,
    "start_time": "2023-01-13T12:25:42.555Z"
   },
   {
    "duration": 74,
    "start_time": "2023-01-13T12:26:24.065Z"
   },
   {
    "duration": 74,
    "start_time": "2023-01-13T12:28:24.019Z"
   },
   {
    "duration": 8,
    "start_time": "2023-01-13T12:28:28.897Z"
   },
   {
    "duration": 23,
    "start_time": "2023-01-13T12:54:11.571Z"
   },
   {
    "duration": 27,
    "start_time": "2023-01-13T12:59:32.982Z"
   },
   {
    "duration": 24,
    "start_time": "2023-01-13T12:59:46.032Z"
   },
   {
    "duration": 10,
    "start_time": "2023-01-13T13:07:55.543Z"
   },
   {
    "duration": 48,
    "start_time": "2023-01-13T13:07:58.313Z"
   },
   {
    "duration": 9,
    "start_time": "2023-01-13T13:08:00.773Z"
   },
   {
    "duration": 70,
    "start_time": "2023-01-13T13:10:42.120Z"
   },
   {
    "duration": 139,
    "start_time": "2023-01-13T13:15:53.605Z"
   },
   {
    "duration": 352,
    "start_time": "2023-01-13T13:16:33.225Z"
   },
   {
    "duration": 247,
    "start_time": "2023-01-13T13:16:45.186Z"
   },
   {
    "duration": 188,
    "start_time": "2023-01-13T13:16:52.295Z"
   },
   {
    "duration": 228,
    "start_time": "2023-01-13T13:17:30.775Z"
   },
   {
    "duration": 8,
    "start_time": "2023-01-13T13:19:31.799Z"
   },
   {
    "duration": 9,
    "start_time": "2023-01-13T13:19:35.794Z"
   },
   {
    "duration": 169,
    "start_time": "2023-01-13T13:19:45.565Z"
   },
   {
    "duration": 217,
    "start_time": "2023-01-13T13:19:51.845Z"
   },
   {
    "duration": 223,
    "start_time": "2023-01-13T13:21:13.285Z"
   },
   {
    "duration": 52,
    "start_time": "2023-01-13T13:30:42.296Z"
   },
   {
    "duration": 326,
    "start_time": "2023-01-13T13:32:36.488Z"
   },
   {
    "duration": 179,
    "start_time": "2023-01-13T13:32:48.907Z"
   },
   {
    "duration": 159,
    "start_time": "2023-01-13T13:33:12.557Z"
   },
   {
    "duration": 137,
    "start_time": "2023-01-13T13:33:16.659Z"
   },
   {
    "duration": 158,
    "start_time": "2023-01-13T13:33:27.617Z"
   },
   {
    "duration": 247,
    "start_time": "2023-01-13T13:33:36.218Z"
   },
   {
    "duration": 193,
    "start_time": "2023-01-13T13:33:55.448Z"
   },
   {
    "duration": 161,
    "start_time": "2023-01-13T13:34:01.948Z"
   },
   {
    "duration": 169,
    "start_time": "2023-01-13T13:34:43.308Z"
   },
   {
    "duration": 2,
    "start_time": "2023-01-13T13:34:57.214Z"
   },
   {
    "duration": 152,
    "start_time": "2023-01-13T13:34:59.799Z"
   },
   {
    "duration": 396,
    "start_time": "2023-01-13T13:35:10.259Z"
   },
   {
    "duration": 50,
    "start_time": "2023-01-13T13:35:23.798Z"
   },
   {
    "duration": 17,
    "start_time": "2023-01-13T13:39:35.520Z"
   },
   {
    "duration": 26,
    "start_time": "2023-01-13T13:39:42.689Z"
   },
   {
    "duration": 19,
    "start_time": "2023-01-13T13:40:19.830Z"
   },
   {
    "duration": 18,
    "start_time": "2023-01-13T13:40:26.559Z"
   },
   {
    "duration": 36,
    "start_time": "2023-01-13T13:40:31.889Z"
   },
   {
    "duration": 24,
    "start_time": "2023-01-13T13:40:39.469Z"
   },
   {
    "duration": 46,
    "start_time": "2023-01-13T13:40:49.766Z"
   },
   {
    "duration": 7,
    "start_time": "2023-01-13T13:43:35.160Z"
   },
   {
    "duration": 9,
    "start_time": "2023-01-13T13:44:05.530Z"
   },
   {
    "duration": 7,
    "start_time": "2023-01-13T13:46:15.321Z"
   },
   {
    "duration": 9,
    "start_time": "2023-01-13T13:46:34.141Z"
   },
   {
    "duration": 9,
    "start_time": "2023-01-13T13:46:40.831Z"
   },
   {
    "duration": 7,
    "start_time": "2023-01-13T13:47:01.590Z"
   },
   {
    "duration": 8,
    "start_time": "2023-01-13T13:53:34.541Z"
   },
   {
    "duration": 6,
    "start_time": "2023-01-13T13:54:24.135Z"
   },
   {
    "duration": 237,
    "start_time": "2023-01-13T13:54:40.892Z"
   },
   {
    "duration": 9,
    "start_time": "2023-01-13T14:19:35.484Z"
   },
   {
    "duration": 8,
    "start_time": "2023-01-13T14:19:44.784Z"
   },
   {
    "duration": 126,
    "start_time": "2023-01-13T14:22:29.927Z"
   },
   {
    "duration": 228,
    "start_time": "2023-01-13T14:22:53.565Z"
   },
   {
    "duration": 231,
    "start_time": "2023-01-13T14:26:21.495Z"
   },
   {
    "duration": 8,
    "start_time": "2023-01-13T14:26:37.795Z"
   },
   {
    "duration": 8,
    "start_time": "2023-01-13T14:27:20.366Z"
   },
   {
    "duration": 8,
    "start_time": "2023-01-13T14:27:31.245Z"
   },
   {
    "duration": 10,
    "start_time": "2023-01-13T14:28:01.455Z"
   },
   {
    "duration": 7,
    "start_time": "2023-01-13T14:28:25.046Z"
   },
   {
    "duration": 289,
    "start_time": "2023-01-13T14:29:08.916Z"
   },
   {
    "duration": 49,
    "start_time": "2023-01-16T12:21:08.905Z"
   },
   {
    "duration": 812,
    "start_time": "2023-01-16T12:21:18.326Z"
   },
   {
    "duration": 330,
    "start_time": "2023-01-16T12:21:19.140Z"
   },
   {
    "duration": 33,
    "start_time": "2023-01-16T12:21:19.471Z"
   },
   {
    "duration": 16,
    "start_time": "2023-01-16T12:21:19.506Z"
   },
   {
    "duration": 2111,
    "start_time": "2023-01-16T12:21:19.525Z"
   },
   {
    "duration": 7,
    "start_time": "2023-01-16T12:21:21.638Z"
   },
   {
    "duration": 16,
    "start_time": "2023-01-16T12:21:21.647Z"
   },
   {
    "duration": 10,
    "start_time": "2023-01-16T12:21:21.666Z"
   },
   {
    "duration": 3,
    "start_time": "2023-01-16T12:21:21.679Z"
   },
   {
    "duration": 13,
    "start_time": "2023-01-16T12:21:21.684Z"
   },
   {
    "duration": 15,
    "start_time": "2023-01-16T12:21:21.700Z"
   },
   {
    "duration": 12,
    "start_time": "2023-01-16T12:21:21.717Z"
   },
   {
    "duration": 12,
    "start_time": "2023-01-16T12:21:21.731Z"
   },
   {
    "duration": 16,
    "start_time": "2023-01-16T12:21:21.746Z"
   },
   {
    "duration": 10,
    "start_time": "2023-01-16T12:21:21.764Z"
   },
   {
    "duration": 21,
    "start_time": "2023-01-16T12:21:21.777Z"
   },
   {
    "duration": 8,
    "start_time": "2023-01-16T12:21:21.800Z"
   },
   {
    "duration": 7,
    "start_time": "2023-01-16T12:21:21.813Z"
   },
   {
    "duration": 8,
    "start_time": "2023-01-16T12:21:21.822Z"
   },
   {
    "duration": 8,
    "start_time": "2023-01-16T12:21:21.832Z"
   },
   {
    "duration": 13,
    "start_time": "2023-01-16T12:21:21.841Z"
   },
   {
    "duration": 9,
    "start_time": "2023-01-16T12:21:21.856Z"
   },
   {
    "duration": 7,
    "start_time": "2023-01-16T12:21:21.867Z"
   },
   {
    "duration": 10,
    "start_time": "2023-01-16T12:21:21.876Z"
   },
   {
    "duration": 25,
    "start_time": "2023-01-16T12:21:21.888Z"
   },
   {
    "duration": 19,
    "start_time": "2023-01-16T12:21:21.915Z"
   },
   {
    "duration": 8,
    "start_time": "2023-01-16T12:21:21.936Z"
   },
   {
    "duration": 76,
    "start_time": "2023-01-16T12:21:21.946Z"
   },
   {
    "duration": 11,
    "start_time": "2023-01-16T12:21:22.024Z"
   },
   {
    "duration": 100,
    "start_time": "2023-01-16T12:21:22.037Z"
   },
   {
    "duration": 1713,
    "start_time": "2023-01-16T12:21:22.139Z"
   },
   {
    "duration": 14,
    "start_time": "2023-01-16T12:21:23.855Z"
   },
   {
    "duration": 13,
    "start_time": "2023-01-16T12:21:23.871Z"
   },
   {
    "duration": 287,
    "start_time": "2023-01-16T12:21:23.886Z"
   },
   {
    "duration": 289,
    "start_time": "2023-01-16T12:21:24.176Z"
   },
   {
    "duration": 146,
    "start_time": "2023-01-16T12:21:51.492Z"
   },
   {
    "duration": 361,
    "start_time": "2023-01-16T12:22:13.202Z"
   },
   {
    "duration": 629,
    "start_time": "2023-01-16T12:22:34.770Z"
   },
   {
    "duration": 100,
    "start_time": "2023-01-16T12:22:35.401Z"
   },
   {
    "duration": 34,
    "start_time": "2023-01-16T12:22:35.503Z"
   },
   {
    "duration": 16,
    "start_time": "2023-01-16T12:22:35.539Z"
   },
   {
    "duration": 2198,
    "start_time": "2023-01-16T12:22:35.558Z"
   },
   {
    "duration": 6,
    "start_time": "2023-01-16T12:22:37.757Z"
   },
   {
    "duration": 33,
    "start_time": "2023-01-16T12:22:37.764Z"
   },
   {
    "duration": 9,
    "start_time": "2023-01-16T12:22:37.798Z"
   },
   {
    "duration": 26,
    "start_time": "2023-01-16T12:22:37.809Z"
   },
   {
    "duration": 27,
    "start_time": "2023-01-16T12:22:37.837Z"
   },
   {
    "duration": 25,
    "start_time": "2023-01-16T12:22:37.866Z"
   },
   {
    "duration": 35,
    "start_time": "2023-01-16T12:22:37.893Z"
   },
   {
    "duration": 13,
    "start_time": "2023-01-16T12:22:37.930Z"
   },
   {
    "duration": 40,
    "start_time": "2023-01-16T12:22:37.946Z"
   },
   {
    "duration": 14,
    "start_time": "2023-01-16T12:22:37.988Z"
   },
   {
    "duration": 27,
    "start_time": "2023-01-16T12:22:38.004Z"
   },
   {
    "duration": 22,
    "start_time": "2023-01-16T12:22:38.032Z"
   },
   {
    "duration": 26,
    "start_time": "2023-01-16T12:22:38.056Z"
   },
   {
    "duration": 22,
    "start_time": "2023-01-16T12:22:38.084Z"
   },
   {
    "duration": 33,
    "start_time": "2023-01-16T12:22:38.108Z"
   },
   {
    "duration": 34,
    "start_time": "2023-01-16T12:22:38.143Z"
   },
   {
    "duration": 33,
    "start_time": "2023-01-16T12:22:38.179Z"
   },
   {
    "duration": 16,
    "start_time": "2023-01-16T12:22:38.214Z"
   },
   {
    "duration": 10,
    "start_time": "2023-01-16T12:22:38.231Z"
   },
   {
    "duration": 7,
    "start_time": "2023-01-16T12:22:38.243Z"
   },
   {
    "duration": 25,
    "start_time": "2023-01-16T12:22:38.252Z"
   },
   {
    "duration": 7,
    "start_time": "2023-01-16T12:22:38.279Z"
   },
   {
    "duration": 59,
    "start_time": "2023-01-16T12:22:38.288Z"
   },
   {
    "duration": 8,
    "start_time": "2023-01-16T12:22:38.349Z"
   },
   {
    "duration": 82,
    "start_time": "2023-01-16T12:22:38.359Z"
   },
   {
    "duration": 249,
    "start_time": "2023-01-16T12:22:38.443Z"
   },
   {
    "duration": 9,
    "start_time": "2023-01-16T12:22:38.694Z"
   },
   {
    "duration": 9,
    "start_time": "2023-01-16T12:22:38.713Z"
   },
   {
    "duration": 261,
    "start_time": "2023-01-16T12:22:38.724Z"
   },
   {
    "duration": 264,
    "start_time": "2023-01-16T12:22:38.986Z"
   },
   {
    "duration": 3,
    "start_time": "2023-01-16T12:28:14.013Z"
   },
   {
    "duration": 616,
    "start_time": "2023-01-16T12:30:05.334Z"
   },
   {
    "duration": 593,
    "start_time": "2023-01-16T12:30:40.756Z"
   },
   {
    "duration": 92,
    "start_time": "2023-01-16T12:30:41.352Z"
   },
   {
    "duration": 30,
    "start_time": "2023-01-16T12:30:41.445Z"
   },
   {
    "duration": 15,
    "start_time": "2023-01-16T12:30:41.477Z"
   },
   {
    "duration": 2021,
    "start_time": "2023-01-16T12:30:41.495Z"
   },
   {
    "duration": 6,
    "start_time": "2023-01-16T12:30:43.518Z"
   },
   {
    "duration": 17,
    "start_time": "2023-01-16T12:30:43.526Z"
   },
   {
    "duration": 10,
    "start_time": "2023-01-16T12:30:43.545Z"
   },
   {
    "duration": 4,
    "start_time": "2023-01-16T12:30:43.557Z"
   },
   {
    "duration": 7,
    "start_time": "2023-01-16T12:30:43.563Z"
   },
   {
    "duration": 5,
    "start_time": "2023-01-16T12:30:43.571Z"
   },
   {
    "duration": 4,
    "start_time": "2023-01-16T12:30:43.612Z"
   },
   {
    "duration": 5,
    "start_time": "2023-01-16T12:30:43.618Z"
   },
   {
    "duration": 12,
    "start_time": "2023-01-16T12:30:43.626Z"
   },
   {
    "duration": 6,
    "start_time": "2023-01-16T12:30:43.639Z"
   },
   {
    "duration": 9,
    "start_time": "2023-01-16T12:30:43.647Z"
   },
   {
    "duration": 9,
    "start_time": "2023-01-16T12:30:43.658Z"
   },
   {
    "duration": 43,
    "start_time": "2023-01-16T12:30:43.669Z"
   },
   {
    "duration": 7,
    "start_time": "2023-01-16T12:30:43.714Z"
   },
   {
    "duration": 8,
    "start_time": "2023-01-16T12:30:43.723Z"
   },
   {
    "duration": 11,
    "start_time": "2023-01-16T12:30:43.733Z"
   },
   {
    "duration": 9,
    "start_time": "2023-01-16T12:30:43.745Z"
   },
   {
    "duration": 5,
    "start_time": "2023-01-16T12:30:43.756Z"
   },
   {
    "duration": 5,
    "start_time": "2023-01-16T12:30:43.763Z"
   },
   {
    "duration": 6,
    "start_time": "2023-01-16T12:30:43.770Z"
   },
   {
    "duration": 17,
    "start_time": "2023-01-16T12:30:43.778Z"
   },
   {
    "duration": 16,
    "start_time": "2023-01-16T12:30:43.797Z"
   },
   {
    "duration": 47,
    "start_time": "2023-01-16T12:30:43.815Z"
   },
   {
    "duration": 8,
    "start_time": "2023-01-16T12:30:43.864Z"
   },
   {
    "duration": 94,
    "start_time": "2023-01-16T12:30:43.874Z"
   },
   {
    "duration": 484,
    "start_time": "2023-01-16T12:30:43.969Z"
   },
   {
    "duration": 262,
    "start_time": "2023-01-16T12:30:44.455Z"
   },
   {
    "duration": 1006,
    "start_time": "2023-01-16T12:30:44.719Z"
   },
   {
    "duration": 0,
    "start_time": "2023-01-16T12:30:45.727Z"
   },
   {
    "duration": 0,
    "start_time": "2023-01-16T12:30:45.729Z"
   },
   {
    "duration": 0,
    "start_time": "2023-01-16T12:30:45.730Z"
   },
   {
    "duration": 0,
    "start_time": "2023-01-16T12:30:45.731Z"
   },
   {
    "duration": 357,
    "start_time": "2023-01-16T12:37:37.496Z"
   },
   {
    "duration": 690,
    "start_time": "2023-01-16T12:41:20.601Z"
   },
   {
    "duration": 97,
    "start_time": "2023-01-16T12:41:21.294Z"
   },
   {
    "duration": 31,
    "start_time": "2023-01-16T12:41:21.392Z"
   },
   {
    "duration": 17,
    "start_time": "2023-01-16T12:41:21.424Z"
   },
   {
    "duration": 2064,
    "start_time": "2023-01-16T12:41:21.444Z"
   },
   {
    "duration": 5,
    "start_time": "2023-01-16T12:41:23.510Z"
   },
   {
    "duration": 25,
    "start_time": "2023-01-16T12:41:23.517Z"
   },
   {
    "duration": 9,
    "start_time": "2023-01-16T12:41:23.544Z"
   },
   {
    "duration": 4,
    "start_time": "2023-01-16T12:41:23.554Z"
   },
   {
    "duration": 7,
    "start_time": "2023-01-16T12:41:23.559Z"
   },
   {
    "duration": 15,
    "start_time": "2023-01-16T12:41:23.567Z"
   },
   {
    "duration": 8,
    "start_time": "2023-01-16T12:41:23.583Z"
   },
   {
    "duration": 7,
    "start_time": "2023-01-16T12:41:23.593Z"
   },
   {
    "duration": 14,
    "start_time": "2023-01-16T12:41:23.613Z"
   },
   {
    "duration": 9,
    "start_time": "2023-01-16T12:41:23.629Z"
   },
   {
    "duration": 21,
    "start_time": "2023-01-16T12:41:23.640Z"
   },
   {
    "duration": 13,
    "start_time": "2023-01-16T12:41:23.663Z"
   },
   {
    "duration": 7,
    "start_time": "2023-01-16T12:41:23.678Z"
   },
   {
    "duration": 19,
    "start_time": "2023-01-16T12:41:23.687Z"
   },
   {
    "duration": 5,
    "start_time": "2023-01-16T12:41:23.713Z"
   },
   {
    "duration": 9,
    "start_time": "2023-01-16T12:41:23.719Z"
   },
   {
    "duration": 12,
    "start_time": "2023-01-16T12:41:23.730Z"
   },
   {
    "duration": 8,
    "start_time": "2023-01-16T12:41:23.744Z"
   },
   {
    "duration": 9,
    "start_time": "2023-01-16T12:41:23.753Z"
   },
   {
    "duration": 7,
    "start_time": "2023-01-16T12:41:23.763Z"
   },
   {
    "duration": 15,
    "start_time": "2023-01-16T12:41:23.771Z"
   },
   {
    "duration": 26,
    "start_time": "2023-01-16T12:41:23.788Z"
   },
   {
    "duration": 61,
    "start_time": "2023-01-16T12:41:23.815Z"
   },
   {
    "duration": 8,
    "start_time": "2023-01-16T12:41:23.878Z"
   },
   {
    "duration": 84,
    "start_time": "2023-01-16T12:41:23.887Z"
   },
   {
    "duration": 258,
    "start_time": "2023-01-16T12:41:23.973Z"
   },
   {
    "duration": 8,
    "start_time": "2023-01-16T12:41:24.233Z"
   },
   {
    "duration": 27,
    "start_time": "2023-01-16T12:41:24.243Z"
   },
   {
    "duration": 236,
    "start_time": "2023-01-16T12:41:24.272Z"
   },
   {
    "duration": 242,
    "start_time": "2023-01-16T12:41:24.510Z"
   },
   {
    "duration": 670,
    "start_time": "2023-01-16T12:42:44.805Z"
   },
   {
    "duration": 92,
    "start_time": "2023-01-16T12:42:45.476Z"
   },
   {
    "duration": 30,
    "start_time": "2023-01-16T12:42:45.572Z"
   },
   {
    "duration": 21,
    "start_time": "2023-01-16T12:42:45.604Z"
   },
   {
    "duration": 2137,
    "start_time": "2023-01-16T12:42:45.627Z"
   },
   {
    "duration": 6,
    "start_time": "2023-01-16T12:42:47.766Z"
   },
   {
    "duration": 21,
    "start_time": "2023-01-16T12:42:47.773Z"
   },
   {
    "duration": 9,
    "start_time": "2023-01-16T12:42:47.796Z"
   },
   {
    "duration": 44,
    "start_time": "2023-01-16T12:42:47.807Z"
   },
   {
    "duration": 15,
    "start_time": "2023-01-16T12:42:47.856Z"
   },
   {
    "duration": 9,
    "start_time": "2023-01-16T12:42:47.873Z"
   },
   {
    "duration": 13,
    "start_time": "2023-01-16T12:42:47.884Z"
   },
   {
    "duration": 8,
    "start_time": "2023-01-16T12:42:47.900Z"
   },
   {
    "duration": 21,
    "start_time": "2023-01-16T12:42:47.910Z"
   },
   {
    "duration": 7,
    "start_time": "2023-01-16T12:42:47.932Z"
   },
   {
    "duration": 11,
    "start_time": "2023-01-16T12:42:47.941Z"
   },
   {
    "duration": 8,
    "start_time": "2023-01-16T12:42:47.953Z"
   },
   {
    "duration": 5,
    "start_time": "2023-01-16T12:42:47.963Z"
   },
   {
    "duration": 6,
    "start_time": "2023-01-16T12:42:47.969Z"
   },
   {
    "duration": 10,
    "start_time": "2023-01-16T12:42:47.977Z"
   },
   {
    "duration": 23,
    "start_time": "2023-01-16T12:42:47.989Z"
   },
   {
    "duration": 4,
    "start_time": "2023-01-16T12:42:48.014Z"
   },
   {
    "duration": 8,
    "start_time": "2023-01-16T12:42:48.020Z"
   },
   {
    "duration": 7,
    "start_time": "2023-01-16T12:42:48.029Z"
   },
   {
    "duration": 5,
    "start_time": "2023-01-16T12:42:48.038Z"
   },
   {
    "duration": 15,
    "start_time": "2023-01-16T12:42:48.044Z"
   },
   {
    "duration": 6,
    "start_time": "2023-01-16T12:42:48.061Z"
   },
   {
    "duration": 73,
    "start_time": "2023-01-16T12:42:48.069Z"
   },
   {
    "duration": 8,
    "start_time": "2023-01-16T12:42:48.143Z"
   },
   {
    "duration": 88,
    "start_time": "2023-01-16T12:42:48.153Z"
   },
   {
    "duration": 238,
    "start_time": "2023-01-16T12:42:48.243Z"
   },
   {
    "duration": 8,
    "start_time": "2023-01-16T12:42:48.482Z"
   },
   {
    "duration": 21,
    "start_time": "2023-01-16T12:42:48.491Z"
   },
   {
    "duration": 243,
    "start_time": "2023-01-16T12:42:48.514Z"
   },
   {
    "duration": 282,
    "start_time": "2023-01-16T12:42:48.758Z"
   },
   {
    "duration": 8,
    "start_time": "2023-01-16T12:49:39.608Z"
   },
   {
    "duration": 658,
    "start_time": "2023-01-16T13:00:41.531Z"
   },
   {
    "duration": 100,
    "start_time": "2023-01-16T13:00:42.191Z"
   },
   {
    "duration": 34,
    "start_time": "2023-01-16T13:00:42.293Z"
   },
   {
    "duration": 17,
    "start_time": "2023-01-16T13:00:42.330Z"
   },
   {
    "duration": 2116,
    "start_time": "2023-01-16T13:00:42.348Z"
   },
   {
    "duration": 6,
    "start_time": "2023-01-16T13:00:44.465Z"
   },
   {
    "duration": 28,
    "start_time": "2023-01-16T13:00:44.472Z"
   },
   {
    "duration": 11,
    "start_time": "2023-01-16T13:00:44.501Z"
   },
   {
    "duration": 13,
    "start_time": "2023-01-16T13:00:44.514Z"
   },
   {
    "duration": 23,
    "start_time": "2023-01-16T13:00:44.529Z"
   },
   {
    "duration": 31,
    "start_time": "2023-01-16T13:00:44.554Z"
   },
   {
    "duration": 22,
    "start_time": "2023-01-16T13:00:44.587Z"
   },
   {
    "duration": 17,
    "start_time": "2023-01-16T13:00:44.611Z"
   },
   {
    "duration": 32,
    "start_time": "2023-01-16T13:00:44.630Z"
   },
   {
    "duration": 24,
    "start_time": "2023-01-16T13:00:44.664Z"
   },
   {
    "duration": 19,
    "start_time": "2023-01-16T13:00:44.691Z"
   },
   {
    "duration": 27,
    "start_time": "2023-01-16T13:00:44.711Z"
   },
   {
    "duration": 19,
    "start_time": "2023-01-16T13:00:44.740Z"
   },
   {
    "duration": 11,
    "start_time": "2023-01-16T13:00:44.761Z"
   },
   {
    "duration": 29,
    "start_time": "2023-01-16T13:00:44.773Z"
   },
   {
    "duration": 18,
    "start_time": "2023-01-16T13:00:44.804Z"
   },
   {
    "duration": 29,
    "start_time": "2023-01-16T13:00:44.824Z"
   },
   {
    "duration": 36,
    "start_time": "2023-01-16T13:00:44.855Z"
   },
   {
    "duration": 25,
    "start_time": "2023-01-16T13:00:44.893Z"
   },
   {
    "duration": 23,
    "start_time": "2023-01-16T13:00:44.919Z"
   },
   {
    "duration": 20,
    "start_time": "2023-01-16T13:00:44.945Z"
   },
   {
    "duration": 9,
    "start_time": "2023-01-16T13:00:44.967Z"
   },
   {
    "duration": 62,
    "start_time": "2023-01-16T13:00:44.979Z"
   },
   {
    "duration": 9,
    "start_time": "2023-01-16T13:00:45.043Z"
   },
   {
    "duration": 104,
    "start_time": "2023-01-16T13:00:45.054Z"
   },
   {
    "duration": 243,
    "start_time": "2023-01-16T13:00:45.160Z"
   },
   {
    "duration": 11,
    "start_time": "2023-01-16T13:00:45.405Z"
   },
   {
    "duration": 12,
    "start_time": "2023-01-16T13:00:45.417Z"
   },
   {
    "duration": 269,
    "start_time": "2023-01-16T13:00:45.431Z"
   },
   {
    "duration": 15,
    "start_time": "2023-01-16T13:00:45.702Z"
   },
   {
    "duration": 272,
    "start_time": "2023-01-16T13:00:45.719Z"
   },
   {
    "duration": 72,
    "start_time": "2023-01-16T14:15:41.747Z"
   },
   {
    "duration": 50,
    "start_time": "2023-01-17T07:46:08.023Z"
   },
   {
    "duration": 856,
    "start_time": "2023-01-17T07:46:17.382Z"
   },
   {
    "duration": 155,
    "start_time": "2023-01-17T07:46:18.241Z"
   },
   {
    "duration": 34,
    "start_time": "2023-01-17T07:46:18.398Z"
   },
   {
    "duration": 26,
    "start_time": "2023-01-17T07:46:18.434Z"
   },
   {
    "duration": 2210,
    "start_time": "2023-01-17T07:46:18.462Z"
   },
   {
    "duration": 6,
    "start_time": "2023-01-17T07:46:20.674Z"
   },
   {
    "duration": 38,
    "start_time": "2023-01-17T07:46:20.682Z"
   },
   {
    "duration": 20,
    "start_time": "2023-01-17T07:46:20.722Z"
   },
   {
    "duration": 20,
    "start_time": "2023-01-17T07:46:20.744Z"
   },
   {
    "duration": 22,
    "start_time": "2023-01-17T07:46:20.766Z"
   },
   {
    "duration": 4,
    "start_time": "2023-01-17T07:46:20.790Z"
   },
   {
    "duration": 12,
    "start_time": "2023-01-17T07:46:20.796Z"
   },
   {
    "duration": 11,
    "start_time": "2023-01-17T07:46:20.810Z"
   },
   {
    "duration": 34,
    "start_time": "2023-01-17T07:46:20.824Z"
   },
   {
    "duration": 16,
    "start_time": "2023-01-17T07:46:20.860Z"
   },
   {
    "duration": 18,
    "start_time": "2023-01-17T07:46:20.878Z"
   },
   {
    "duration": 15,
    "start_time": "2023-01-17T07:46:20.898Z"
   },
   {
    "duration": 19,
    "start_time": "2023-01-17T07:46:20.915Z"
   },
   {
    "duration": 29,
    "start_time": "2023-01-17T07:46:20.936Z"
   },
   {
    "duration": 21,
    "start_time": "2023-01-17T07:46:20.966Z"
   },
   {
    "duration": 28,
    "start_time": "2023-01-17T07:46:20.989Z"
   },
   {
    "duration": 20,
    "start_time": "2023-01-17T07:46:21.018Z"
   },
   {
    "duration": 23,
    "start_time": "2023-01-17T07:46:21.039Z"
   },
   {
    "duration": 17,
    "start_time": "2023-01-17T07:46:21.064Z"
   },
   {
    "duration": 22,
    "start_time": "2023-01-17T07:46:21.083Z"
   },
   {
    "duration": 20,
    "start_time": "2023-01-17T07:46:21.107Z"
   },
   {
    "duration": 20,
    "start_time": "2023-01-17T07:46:21.129Z"
   },
   {
    "duration": 60,
    "start_time": "2023-01-17T07:46:21.151Z"
   },
   {
    "duration": 9,
    "start_time": "2023-01-17T07:46:21.213Z"
   },
   {
    "duration": 78,
    "start_time": "2023-01-17T07:46:21.223Z"
   },
   {
    "duration": 276,
    "start_time": "2023-01-17T07:46:21.303Z"
   },
   {
    "duration": 245,
    "start_time": "2023-01-17T07:46:21.580Z"
   },
   {
    "duration": 8,
    "start_time": "2023-01-17T07:46:21.826Z"
   },
   {
    "duration": 22,
    "start_time": "2023-01-17T07:46:21.836Z"
   },
   {
    "duration": 246,
    "start_time": "2023-01-17T07:46:21.860Z"
   },
   {
    "duration": 9,
    "start_time": "2023-01-17T07:46:22.108Z"
   },
   {
    "duration": 357,
    "start_time": "2023-01-17T07:46:22.119Z"
   },
   {
    "duration": 650,
    "start_time": "2023-01-17T07:49:41.988Z"
   },
   {
    "duration": 97,
    "start_time": "2023-01-17T07:49:42.641Z"
   },
   {
    "duration": 33,
    "start_time": "2023-01-17T07:49:42.740Z"
   },
   {
    "duration": 16,
    "start_time": "2023-01-17T07:49:42.775Z"
   },
   {
    "duration": 2149,
    "start_time": "2023-01-17T07:49:42.795Z"
   },
   {
    "duration": 6,
    "start_time": "2023-01-17T07:49:44.946Z"
   },
   {
    "duration": 18,
    "start_time": "2023-01-17T07:49:44.954Z"
   },
   {
    "duration": 10,
    "start_time": "2023-01-17T07:49:44.974Z"
   },
   {
    "duration": 3,
    "start_time": "2023-01-17T07:49:44.986Z"
   },
   {
    "duration": 17,
    "start_time": "2023-01-17T07:49:44.990Z"
   },
   {
    "duration": 22,
    "start_time": "2023-01-17T07:49:45.009Z"
   },
   {
    "duration": 16,
    "start_time": "2023-01-17T07:49:45.033Z"
   },
   {
    "duration": 8,
    "start_time": "2023-01-17T07:49:45.051Z"
   },
   {
    "duration": 20,
    "start_time": "2023-01-17T07:49:45.062Z"
   },
   {
    "duration": 6,
    "start_time": "2023-01-17T07:49:45.085Z"
   },
   {
    "duration": 13,
    "start_time": "2023-01-17T07:49:45.093Z"
   },
   {
    "duration": 8,
    "start_time": "2023-01-17T07:49:45.108Z"
   },
   {
    "duration": 8,
    "start_time": "2023-01-17T07:49:45.117Z"
   },
   {
    "duration": 7,
    "start_time": "2023-01-17T07:49:45.127Z"
   },
   {
    "duration": 15,
    "start_time": "2023-01-17T07:49:45.136Z"
   },
   {
    "duration": 5,
    "start_time": "2023-01-17T07:49:45.153Z"
   },
   {
    "duration": 11,
    "start_time": "2023-01-17T07:49:45.159Z"
   },
   {
    "duration": 15,
    "start_time": "2023-01-17T07:49:45.172Z"
   },
   {
    "duration": 16,
    "start_time": "2023-01-17T07:49:45.189Z"
   },
   {
    "duration": 13,
    "start_time": "2023-01-17T07:49:45.207Z"
   },
   {
    "duration": 18,
    "start_time": "2023-01-17T07:49:45.222Z"
   },
   {
    "duration": 15,
    "start_time": "2023-01-17T07:49:45.242Z"
   },
   {
    "duration": 69,
    "start_time": "2023-01-17T07:49:45.260Z"
   },
   {
    "duration": 8,
    "start_time": "2023-01-17T07:49:45.331Z"
   },
   {
    "duration": 78,
    "start_time": "2023-01-17T07:49:45.341Z"
   },
   {
    "duration": 87,
    "start_time": "2023-01-17T07:49:45.421Z"
   },
   {
    "duration": 0,
    "start_time": "2023-01-17T07:49:45.510Z"
   },
   {
    "duration": 0,
    "start_time": "2023-01-17T07:49:45.512Z"
   },
   {
    "duration": 0,
    "start_time": "2023-01-17T07:49:45.513Z"
   },
   {
    "duration": 0,
    "start_time": "2023-01-17T07:49:45.514Z"
   },
   {
    "duration": 0,
    "start_time": "2023-01-17T07:49:45.516Z"
   },
   {
    "duration": 0,
    "start_time": "2023-01-17T07:49:45.517Z"
   },
   {
    "duration": 0,
    "start_time": "2023-01-17T07:49:45.519Z"
   },
   {
    "duration": 32,
    "start_time": "2023-01-17T07:50:03.160Z"
   },
   {
    "duration": 647,
    "start_time": "2023-01-17T07:50:08.789Z"
   },
   {
    "duration": 92,
    "start_time": "2023-01-17T07:50:09.438Z"
   },
   {
    "duration": 32,
    "start_time": "2023-01-17T07:50:09.531Z"
   },
   {
    "duration": 28,
    "start_time": "2023-01-17T07:50:09.565Z"
   },
   {
    "duration": 2265,
    "start_time": "2023-01-17T07:50:09.595Z"
   },
   {
    "duration": 6,
    "start_time": "2023-01-17T07:50:11.862Z"
   },
   {
    "duration": 42,
    "start_time": "2023-01-17T07:50:11.870Z"
   },
   {
    "duration": 33,
    "start_time": "2023-01-17T07:50:11.913Z"
   },
   {
    "duration": 28,
    "start_time": "2023-01-17T07:50:11.948Z"
   },
   {
    "duration": 55,
    "start_time": "2023-01-17T07:50:11.979Z"
   },
   {
    "duration": 30,
    "start_time": "2023-01-17T07:50:12.035Z"
   },
   {
    "duration": 36,
    "start_time": "2023-01-17T07:50:12.067Z"
   },
   {
    "duration": 32,
    "start_time": "2023-01-17T07:50:12.105Z"
   },
   {
    "duration": 47,
    "start_time": "2023-01-17T07:50:12.140Z"
   },
   {
    "duration": 24,
    "start_time": "2023-01-17T07:50:12.190Z"
   },
   {
    "duration": 37,
    "start_time": "2023-01-17T07:50:12.216Z"
   },
   {
    "duration": 33,
    "start_time": "2023-01-17T07:50:12.255Z"
   },
   {
    "duration": 41,
    "start_time": "2023-01-17T07:50:12.289Z"
   },
   {
    "duration": 32,
    "start_time": "2023-01-17T07:50:12.332Z"
   },
   {
    "duration": 54,
    "start_time": "2023-01-17T07:50:12.365Z"
   },
   {
    "duration": 43,
    "start_time": "2023-01-17T07:50:12.422Z"
   },
   {
    "duration": 28,
    "start_time": "2023-01-17T07:50:12.467Z"
   },
   {
    "duration": 33,
    "start_time": "2023-01-17T07:50:12.497Z"
   },
   {
    "duration": 27,
    "start_time": "2023-01-17T07:50:12.532Z"
   },
   {
    "duration": 49,
    "start_time": "2023-01-17T07:50:12.561Z"
   },
   {
    "duration": 50,
    "start_time": "2023-01-17T07:50:12.612Z"
   },
   {
    "duration": 31,
    "start_time": "2023-01-17T07:50:12.664Z"
   },
   {
    "duration": 70,
    "start_time": "2023-01-17T07:50:12.699Z"
   },
   {
    "duration": 11,
    "start_time": "2023-01-17T07:50:12.770Z"
   },
   {
    "duration": 109,
    "start_time": "2023-01-17T07:50:12.783Z"
   },
   {
    "duration": 99,
    "start_time": "2023-01-17T07:50:12.894Z"
   },
   {
    "duration": 0,
    "start_time": "2023-01-17T07:50:12.995Z"
   },
   {
    "duration": 0,
    "start_time": "2023-01-17T07:50:12.996Z"
   },
   {
    "duration": 0,
    "start_time": "2023-01-17T07:50:12.997Z"
   },
   {
    "duration": 0,
    "start_time": "2023-01-17T07:50:12.999Z"
   },
   {
    "duration": 0,
    "start_time": "2023-01-17T07:50:13.000Z"
   },
   {
    "duration": 0,
    "start_time": "2023-01-17T07:50:13.001Z"
   },
   {
    "duration": 0,
    "start_time": "2023-01-17T07:50:13.002Z"
   },
   {
    "duration": 672,
    "start_time": "2023-01-17T07:52:36.891Z"
   },
   {
    "duration": 94,
    "start_time": "2023-01-17T07:52:37.565Z"
   },
   {
    "duration": 32,
    "start_time": "2023-01-17T07:52:37.661Z"
   },
   {
    "duration": 17,
    "start_time": "2023-01-17T07:52:37.696Z"
   },
   {
    "duration": 2198,
    "start_time": "2023-01-17T07:52:37.715Z"
   },
   {
    "duration": 6,
    "start_time": "2023-01-17T07:52:39.914Z"
   },
   {
    "duration": 29,
    "start_time": "2023-01-17T07:52:39.922Z"
   },
   {
    "duration": 10,
    "start_time": "2023-01-17T07:52:39.953Z"
   },
   {
    "duration": 7,
    "start_time": "2023-01-17T07:52:39.964Z"
   },
   {
    "duration": 9,
    "start_time": "2023-01-17T07:52:39.974Z"
   },
   {
    "duration": 7,
    "start_time": "2023-01-17T07:52:39.984Z"
   },
   {
    "duration": 7,
    "start_time": "2023-01-17T07:52:39.993Z"
   },
   {
    "duration": 14,
    "start_time": "2023-01-17T07:52:40.002Z"
   },
   {
    "duration": 24,
    "start_time": "2023-01-17T07:52:40.018Z"
   },
   {
    "duration": 22,
    "start_time": "2023-01-17T07:52:40.045Z"
   },
   {
    "duration": 11,
    "start_time": "2023-01-17T07:52:40.069Z"
   },
   {
    "duration": 9,
    "start_time": "2023-01-17T07:52:40.082Z"
   },
   {
    "duration": 21,
    "start_time": "2023-01-17T07:52:40.093Z"
   },
   {
    "duration": 18,
    "start_time": "2023-01-17T07:52:40.116Z"
   },
   {
    "duration": 18,
    "start_time": "2023-01-17T07:52:40.135Z"
   },
   {
    "duration": 6,
    "start_time": "2023-01-17T07:52:40.155Z"
   },
   {
    "duration": 20,
    "start_time": "2023-01-17T07:52:40.163Z"
   },
   {
    "duration": 8,
    "start_time": "2023-01-17T07:52:40.186Z"
   },
   {
    "duration": 21,
    "start_time": "2023-01-17T07:52:40.196Z"
   },
   {
    "duration": 6,
    "start_time": "2023-01-17T07:52:40.219Z"
   },
   {
    "duration": 24,
    "start_time": "2023-01-17T07:52:40.227Z"
   },
   {
    "duration": 7,
    "start_time": "2023-01-17T07:52:40.253Z"
   },
   {
    "duration": 55,
    "start_time": "2023-01-17T07:52:40.264Z"
   },
   {
    "duration": 10,
    "start_time": "2023-01-17T07:52:40.321Z"
   },
   {
    "duration": 81,
    "start_time": "2023-01-17T07:52:40.352Z"
   },
   {
    "duration": 23,
    "start_time": "2023-01-17T07:52:40.435Z"
   },
   {
    "duration": 309,
    "start_time": "2023-01-17T07:52:40.460Z"
   },
   {
    "duration": 249,
    "start_time": "2023-01-17T07:52:40.771Z"
   },
   {
    "duration": 9,
    "start_time": "2023-01-17T07:52:41.021Z"
   },
   {
    "duration": 25,
    "start_time": "2023-01-17T07:52:41.032Z"
   },
   {
    "duration": 270,
    "start_time": "2023-01-17T07:52:41.059Z"
   },
   {
    "duration": 9,
    "start_time": "2023-01-17T07:52:41.331Z"
   },
   {
    "duration": 373,
    "start_time": "2023-01-17T07:52:41.351Z"
   },
   {
    "duration": 709,
    "start_time": "2023-01-17T07:53:37.033Z"
   },
   {
    "duration": 98,
    "start_time": "2023-01-17T07:53:37.745Z"
   },
   {
    "duration": 41,
    "start_time": "2023-01-17T07:53:37.849Z"
   },
   {
    "duration": 16,
    "start_time": "2023-01-17T07:53:37.892Z"
   },
   {
    "duration": 2371,
    "start_time": "2023-01-17T07:53:37.910Z"
   },
   {
    "duration": 6,
    "start_time": "2023-01-17T07:53:40.283Z"
   },
   {
    "duration": 23,
    "start_time": "2023-01-17T07:53:40.291Z"
   },
   {
    "duration": 12,
    "start_time": "2023-01-17T07:53:40.316Z"
   },
   {
    "duration": 18,
    "start_time": "2023-01-17T07:53:40.330Z"
   },
   {
    "duration": 36,
    "start_time": "2023-01-17T07:53:40.350Z"
   },
   {
    "duration": 20,
    "start_time": "2023-01-17T07:53:40.388Z"
   },
   {
    "duration": 11,
    "start_time": "2023-01-17T07:53:40.410Z"
   },
   {
    "duration": 6,
    "start_time": "2023-01-17T07:53:40.423Z"
   },
   {
    "duration": 23,
    "start_time": "2023-01-17T07:53:40.432Z"
   },
   {
    "duration": 16,
    "start_time": "2023-01-17T07:53:40.457Z"
   },
   {
    "duration": 37,
    "start_time": "2023-01-17T07:53:40.475Z"
   },
   {
    "duration": 13,
    "start_time": "2023-01-17T07:53:40.514Z"
   },
   {
    "duration": 8,
    "start_time": "2023-01-17T07:53:40.529Z"
   },
   {
    "duration": 7,
    "start_time": "2023-01-17T07:53:40.540Z"
   },
   {
    "duration": 22,
    "start_time": "2023-01-17T07:53:40.549Z"
   },
   {
    "duration": 42,
    "start_time": "2023-01-17T07:53:40.573Z"
   },
   {
    "duration": 13,
    "start_time": "2023-01-17T07:53:40.618Z"
   },
   {
    "duration": 9,
    "start_time": "2023-01-17T07:53:40.633Z"
   },
   {
    "duration": 13,
    "start_time": "2023-01-17T07:53:40.644Z"
   },
   {
    "duration": 16,
    "start_time": "2023-01-17T07:53:40.660Z"
   },
   {
    "duration": 30,
    "start_time": "2023-01-17T07:53:40.679Z"
   },
   {
    "duration": 10,
    "start_time": "2023-01-17T07:53:40.712Z"
   },
   {
    "duration": 96,
    "start_time": "2023-01-17T07:53:40.724Z"
   },
   {
    "duration": 11,
    "start_time": "2023-01-17T07:53:40.821Z"
   },
   {
    "duration": 86,
    "start_time": "2023-01-17T07:53:40.834Z"
   },
   {
    "duration": 10,
    "start_time": "2023-01-17T07:53:40.922Z"
   },
   {
    "duration": 303,
    "start_time": "2023-01-17T07:53:40.951Z"
   },
   {
    "duration": 3,
    "start_time": "2023-01-17T07:53:41.256Z"
   },
   {
    "duration": 7,
    "start_time": "2023-01-17T07:53:41.261Z"
   },
   {
    "duration": 10,
    "start_time": "2023-01-17T07:53:41.270Z"
   },
   {
    "duration": 8,
    "start_time": "2023-01-17T07:53:41.281Z"
   },
   {
    "duration": 18,
    "start_time": "2023-01-17T07:53:41.292Z"
   },
   {
    "duration": 7,
    "start_time": "2023-01-17T07:53:41.312Z"
   },
   {
    "duration": 1595,
    "start_time": "2023-01-17T07:53:54.250Z"
   },
   {
    "duration": 196,
    "start_time": "2023-01-17T07:54:05.850Z"
   },
   {
    "duration": 302,
    "start_time": "2023-01-17T07:55:19.151Z"
   },
   {
    "duration": 10,
    "start_time": "2023-01-17T07:55:47.683Z"
   },
   {
    "duration": 374,
    "start_time": "2023-01-17T07:55:50.231Z"
   },
   {
    "duration": 385,
    "start_time": "2023-01-17T07:56:29.981Z"
   },
   {
    "duration": 497,
    "start_time": "2023-01-17T07:56:37.189Z"
   },
   {
    "duration": 744,
    "start_time": "2023-01-17T07:57:37.240Z"
   },
   {
    "duration": 99,
    "start_time": "2023-01-17T07:57:37.986Z"
   },
   {
    "duration": 36,
    "start_time": "2023-01-17T07:57:38.087Z"
   },
   {
    "duration": 34,
    "start_time": "2023-01-17T07:57:38.125Z"
   },
   {
    "duration": 2250,
    "start_time": "2023-01-17T07:57:38.163Z"
   },
   {
    "duration": 6,
    "start_time": "2023-01-17T07:57:40.414Z"
   },
   {
    "duration": 30,
    "start_time": "2023-01-17T07:57:40.421Z"
   },
   {
    "duration": 10,
    "start_time": "2023-01-17T07:57:40.453Z"
   },
   {
    "duration": 12,
    "start_time": "2023-01-17T07:57:40.464Z"
   },
   {
    "duration": 7,
    "start_time": "2023-01-17T07:57:40.478Z"
   },
   {
    "duration": 7,
    "start_time": "2023-01-17T07:57:40.487Z"
   },
   {
    "duration": 7,
    "start_time": "2023-01-17T07:57:40.496Z"
   },
   {
    "duration": 8,
    "start_time": "2023-01-17T07:57:40.504Z"
   },
   {
    "duration": 14,
    "start_time": "2023-01-17T07:57:40.515Z"
   },
   {
    "duration": 24,
    "start_time": "2023-01-17T07:57:40.531Z"
   },
   {
    "duration": 13,
    "start_time": "2023-01-17T07:57:40.557Z"
   },
   {
    "duration": 9,
    "start_time": "2023-01-17T07:57:40.572Z"
   },
   {
    "duration": 6,
    "start_time": "2023-01-17T07:57:40.583Z"
   },
   {
    "duration": 8,
    "start_time": "2023-01-17T07:57:40.591Z"
   },
   {
    "duration": 12,
    "start_time": "2023-01-17T07:57:40.601Z"
   },
   {
    "duration": 9,
    "start_time": "2023-01-17T07:57:40.615Z"
   },
   {
    "duration": 27,
    "start_time": "2023-01-17T07:57:40.626Z"
   },
   {
    "duration": 8,
    "start_time": "2023-01-17T07:57:40.656Z"
   },
   {
    "duration": 10,
    "start_time": "2023-01-17T07:57:40.666Z"
   },
   {
    "duration": 8,
    "start_time": "2023-01-17T07:57:40.678Z"
   },
   {
    "duration": 8,
    "start_time": "2023-01-17T07:57:40.688Z"
   },
   {
    "duration": 24,
    "start_time": "2023-01-17T07:57:40.698Z"
   },
   {
    "duration": 28,
    "start_time": "2023-01-17T07:57:40.724Z"
   },
   {
    "duration": 70,
    "start_time": "2023-01-17T07:57:40.754Z"
   },
   {
    "duration": 27,
    "start_time": "2023-01-17T07:57:40.826Z"
   },
   {
    "duration": 72,
    "start_time": "2023-01-17T07:57:40.855Z"
   },
   {
    "duration": 25,
    "start_time": "2023-01-17T07:57:40.929Z"
   },
   {
    "duration": 531,
    "start_time": "2023-01-17T07:57:40.956Z"
   },
   {
    "duration": 3,
    "start_time": "2023-01-17T07:57:41.489Z"
   },
   {
    "duration": 7,
    "start_time": "2023-01-17T07:57:41.493Z"
   },
   {
    "duration": 15,
    "start_time": "2023-01-17T07:57:41.502Z"
   },
   {
    "duration": 5,
    "start_time": "2023-01-17T07:57:41.519Z"
   },
   {
    "duration": 7,
    "start_time": "2023-01-17T07:57:41.526Z"
   },
   {
    "duration": 9,
    "start_time": "2023-01-17T07:57:41.534Z"
   },
   {
    "duration": 744,
    "start_time": "2023-01-17T08:02:21.137Z"
   },
   {
    "duration": 98,
    "start_time": "2023-01-17T08:02:21.884Z"
   },
   {
    "duration": 33,
    "start_time": "2023-01-17T08:02:21.984Z"
   },
   {
    "duration": 32,
    "start_time": "2023-01-17T08:02:22.019Z"
   },
   {
    "duration": 2123,
    "start_time": "2023-01-17T08:02:22.054Z"
   },
   {
    "duration": 7,
    "start_time": "2023-01-17T08:02:24.179Z"
   },
   {
    "duration": 29,
    "start_time": "2023-01-17T08:02:24.188Z"
   },
   {
    "duration": 10,
    "start_time": "2023-01-17T08:02:24.219Z"
   },
   {
    "duration": 21,
    "start_time": "2023-01-17T08:02:24.230Z"
   },
   {
    "duration": 20,
    "start_time": "2023-01-17T08:02:24.253Z"
   },
   {
    "duration": 30,
    "start_time": "2023-01-17T08:02:24.275Z"
   },
   {
    "duration": 12,
    "start_time": "2023-01-17T08:02:24.308Z"
   },
   {
    "duration": 19,
    "start_time": "2023-01-17T08:02:24.322Z"
   },
   {
    "duration": 46,
    "start_time": "2023-01-17T08:02:24.345Z"
   },
   {
    "duration": 42,
    "start_time": "2023-01-17T08:02:24.393Z"
   },
   {
    "duration": 13,
    "start_time": "2023-01-17T08:02:24.437Z"
   },
   {
    "duration": 73,
    "start_time": "2023-01-17T08:02:24.452Z"
   },
   {
    "duration": 89,
    "start_time": "2023-01-17T08:02:24.526Z"
   },
   {
    "duration": 8,
    "start_time": "2023-01-17T08:02:24.616Z"
   },
   {
    "duration": 558,
    "start_time": "2023-01-17T08:02:24.626Z"
   },
   {
    "duration": 7,
    "start_time": "2023-01-17T08:02:25.186Z"
   },
   {
    "duration": 32,
    "start_time": "2023-01-17T08:02:25.194Z"
   },
   {
    "duration": 31,
    "start_time": "2023-01-17T08:02:25.228Z"
   },
   {
    "duration": 20,
    "start_time": "2023-01-17T08:02:25.261Z"
   },
   {
    "duration": 18,
    "start_time": "2023-01-17T08:02:25.283Z"
   },
   {
    "duration": 18,
    "start_time": "2023-01-17T08:02:25.303Z"
   },
   {
    "duration": 9,
    "start_time": "2023-01-17T08:04:35.297Z"
   },
   {
    "duration": 8,
    "start_time": "2023-01-17T08:04:55.469Z"
   },
   {
    "duration": 10,
    "start_time": "2023-01-17T08:05:50.703Z"
   },
   {
    "duration": 11,
    "start_time": "2023-01-17T08:06:06.743Z"
   },
   {
    "duration": 77,
    "start_time": "2023-01-17T08:08:15.061Z"
   },
   {
    "duration": 70,
    "start_time": "2023-01-17T08:08:20.735Z"
   },
   {
    "duration": 71,
    "start_time": "2023-01-17T08:08:45.177Z"
   },
   {
    "duration": 11,
    "start_time": "2023-01-17T08:09:06.896Z"
   },
   {
    "duration": 13,
    "start_time": "2023-01-17T08:09:19.425Z"
   },
   {
    "duration": 587,
    "start_time": "2023-01-17T08:10:46.635Z"
   },
   {
    "duration": 465,
    "start_time": "2023-01-17T08:11:10.806Z"
   },
   {
    "duration": 11,
    "start_time": "2023-01-17T08:13:41.473Z"
   },
   {
    "duration": 503,
    "start_time": "2023-01-17T08:19:42.748Z"
   },
   {
    "duration": 593,
    "start_time": "2023-01-17T08:21:12.179Z"
   },
   {
    "duration": 35,
    "start_time": "2023-01-17T08:23:33.863Z"
   },
   {
    "duration": 24,
    "start_time": "2023-01-17T08:24:48.440Z"
   },
   {
    "duration": 40,
    "start_time": "2023-01-17T08:26:45.041Z"
   },
   {
    "duration": 29,
    "start_time": "2023-01-17T08:27:02.100Z"
   },
   {
    "duration": 23,
    "start_time": "2023-01-17T08:27:52.587Z"
   },
   {
    "duration": 24,
    "start_time": "2023-01-17T08:29:42.620Z"
   },
   {
    "duration": 68,
    "start_time": "2023-01-17T08:34:14.391Z"
   },
   {
    "duration": 70,
    "start_time": "2023-01-17T08:34:29.441Z"
   },
   {
    "duration": 4,
    "start_time": "2023-01-17T08:41:55.823Z"
   },
   {
    "duration": 9,
    "start_time": "2023-01-17T08:44:48.913Z"
   },
   {
    "duration": 463,
    "start_time": "2023-01-17T08:55:51.916Z"
   },
   {
    "duration": 82,
    "start_time": "2023-01-17T09:02:07.425Z"
   },
   {
    "duration": 12,
    "start_time": "2023-01-17T09:02:21.261Z"
   },
   {
    "duration": 287,
    "start_time": "2023-01-17T09:04:39.396Z"
   },
   {
    "duration": 243,
    "start_time": "2023-01-17T09:06:15.725Z"
   },
   {
    "duration": 9,
    "start_time": "2023-01-17T09:11:44.077Z"
   },
   {
    "duration": 7,
    "start_time": "2023-01-17T09:12:45.569Z"
   },
   {
    "duration": 6,
    "start_time": "2023-01-17T09:13:46.508Z"
   },
   {
    "duration": 7,
    "start_time": "2023-01-17T09:13:58.775Z"
   },
   {
    "duration": 8,
    "start_time": "2023-01-17T09:14:05.007Z"
   },
   {
    "duration": 7,
    "start_time": "2023-01-17T09:14:22.088Z"
   },
   {
    "duration": 7,
    "start_time": "2023-01-17T09:14:28.981Z"
   },
   {
    "duration": 8,
    "start_time": "2023-01-17T09:14:33.778Z"
   },
   {
    "duration": 7,
    "start_time": "2023-01-17T09:15:22.728Z"
   },
   {
    "duration": 601,
    "start_time": "2023-01-17T09:15:36.140Z"
   },
   {
    "duration": 631,
    "start_time": "2023-01-17T09:16:01.296Z"
   },
   {
    "duration": 111,
    "start_time": "2023-01-17T09:16:01.929Z"
   },
   {
    "duration": 31,
    "start_time": "2023-01-17T09:16:02.042Z"
   },
   {
    "duration": 16,
    "start_time": "2023-01-17T09:16:02.075Z"
   },
   {
    "duration": 2098,
    "start_time": "2023-01-17T09:16:02.095Z"
   },
   {
    "duration": 7,
    "start_time": "2023-01-17T09:16:04.196Z"
   },
   {
    "duration": 14,
    "start_time": "2023-01-17T09:16:04.205Z"
   },
   {
    "duration": 6,
    "start_time": "2023-01-17T09:16:04.221Z"
   },
   {
    "duration": 16,
    "start_time": "2023-01-17T09:16:04.229Z"
   },
   {
    "duration": 7,
    "start_time": "2023-01-17T09:16:04.247Z"
   },
   {
    "duration": 14,
    "start_time": "2023-01-17T09:16:04.255Z"
   },
   {
    "duration": 12,
    "start_time": "2023-01-17T09:16:04.270Z"
   },
   {
    "duration": 7,
    "start_time": "2023-01-17T09:16:04.284Z"
   },
   {
    "duration": 13,
    "start_time": "2023-01-17T09:16:04.294Z"
   },
   {
    "duration": 16,
    "start_time": "2023-01-17T09:16:04.309Z"
   },
   {
    "duration": 9,
    "start_time": "2023-01-17T09:16:04.350Z"
   },
   {
    "duration": 58,
    "start_time": "2023-01-17T09:16:04.361Z"
   },
   {
    "duration": 94,
    "start_time": "2023-01-17T09:16:04.421Z"
   },
   {
    "duration": 43,
    "start_time": "2023-01-17T09:16:04.517Z"
   },
   {
    "duration": 9,
    "start_time": "2023-01-17T09:16:04.562Z"
   },
   {
    "duration": 464,
    "start_time": "2023-01-17T09:16:04.572Z"
   },
   {
    "duration": 14,
    "start_time": "2023-01-17T09:16:05.038Z"
   },
   {
    "duration": 271,
    "start_time": "2023-01-17T09:16:05.054Z"
   },
   {
    "duration": 7,
    "start_time": "2023-01-17T09:16:05.327Z"
   },
   {
    "duration": 18,
    "start_time": "2023-01-17T09:16:05.336Z"
   },
   {
    "duration": 341,
    "start_time": "2023-01-17T09:16:05.356Z"
   },
   {
    "duration": 12,
    "start_time": "2023-01-17T09:18:57.719Z"
   },
   {
    "duration": 288,
    "start_time": "2023-01-17T10:04:18.449Z"
   },
   {
    "duration": 238,
    "start_time": "2023-01-17T10:04:36.929Z"
   },
   {
    "duration": 161,
    "start_time": "2023-01-17T10:04:44.898Z"
   },
   {
    "duration": 204,
    "start_time": "2023-01-17T10:04:50.738Z"
   },
   {
    "duration": 9,
    "start_time": "2023-01-17T10:06:12.969Z"
   },
   {
    "duration": 9,
    "start_time": "2023-01-17T10:06:24.669Z"
   },
   {
    "duration": 9,
    "start_time": "2023-01-17T10:06:33.879Z"
   },
   {
    "duration": 177,
    "start_time": "2023-01-17T10:07:02.929Z"
   },
   {
    "duration": 41,
    "start_time": "2023-01-17T10:07:51.499Z"
   },
   {
    "duration": 40,
    "start_time": "2023-01-17T10:08:12.789Z"
   },
   {
    "duration": 48,
    "start_time": "2023-01-17T10:08:46.570Z"
   },
   {
    "duration": 33,
    "start_time": "2023-01-17T10:09:14.889Z"
   },
   {
    "duration": 35,
    "start_time": "2023-01-17T10:10:17.001Z"
   },
   {
    "duration": 5,
    "start_time": "2023-01-17T10:15:36.732Z"
   },
   {
    "duration": 666,
    "start_time": "2023-01-17T10:16:13.003Z"
   },
   {
    "duration": 99,
    "start_time": "2023-01-17T10:16:13.672Z"
   },
   {
    "duration": 32,
    "start_time": "2023-01-17T10:16:13.773Z"
   },
   {
    "duration": 17,
    "start_time": "2023-01-17T10:16:13.807Z"
   },
   {
    "duration": 2178,
    "start_time": "2023-01-17T10:16:13.826Z"
   },
   {
    "duration": 6,
    "start_time": "2023-01-17T10:16:16.006Z"
   },
   {
    "duration": 18,
    "start_time": "2023-01-17T10:16:16.013Z"
   },
   {
    "duration": 5,
    "start_time": "2023-01-17T10:16:16.034Z"
   },
   {
    "duration": 17,
    "start_time": "2023-01-17T10:16:16.041Z"
   },
   {
    "duration": 7,
    "start_time": "2023-01-17T10:16:16.061Z"
   },
   {
    "duration": 14,
    "start_time": "2023-01-17T10:16:16.069Z"
   },
   {
    "duration": 9,
    "start_time": "2023-01-17T10:16:16.085Z"
   },
   {
    "duration": 6,
    "start_time": "2023-01-17T10:16:16.095Z"
   },
   {
    "duration": 23,
    "start_time": "2023-01-17T10:16:16.103Z"
   },
   {
    "duration": 31,
    "start_time": "2023-01-17T10:16:16.128Z"
   },
   {
    "duration": 9,
    "start_time": "2023-01-17T10:16:16.161Z"
   },
   {
    "duration": 58,
    "start_time": "2023-01-17T10:16:16.173Z"
   },
   {
    "duration": 86,
    "start_time": "2023-01-17T10:16:16.232Z"
   },
   {
    "duration": 41,
    "start_time": "2023-01-17T10:16:16.320Z"
   },
   {
    "duration": 10,
    "start_time": "2023-01-17T10:16:16.363Z"
   },
   {
    "duration": 495,
    "start_time": "2023-01-17T10:16:16.374Z"
   },
   {
    "duration": 14,
    "start_time": "2023-01-17T10:16:16.871Z"
   },
   {
    "duration": 311,
    "start_time": "2023-01-17T10:16:16.887Z"
   },
   {
    "duration": 9,
    "start_time": "2023-01-17T10:16:17.199Z"
   },
   {
    "duration": 16,
    "start_time": "2023-01-17T10:16:17.209Z"
   },
   {
    "duration": 8,
    "start_time": "2023-01-17T10:16:17.227Z"
   },
   {
    "duration": 320,
    "start_time": "2023-01-17T10:16:17.237Z"
   },
   {
    "duration": 8,
    "start_time": "2023-01-17T10:18:46.171Z"
   },
   {
    "duration": 9,
    "start_time": "2023-01-17T10:19:48.751Z"
   },
   {
    "duration": 7,
    "start_time": "2023-01-17T10:20:44.401Z"
   },
   {
    "duration": 8,
    "start_time": "2023-01-17T10:21:14.851Z"
   },
   {
    "duration": 8,
    "start_time": "2023-01-17T10:21:26.982Z"
   },
   {
    "duration": 12,
    "start_time": "2023-01-17T10:26:38.722Z"
   },
   {
    "duration": 4,
    "start_time": "2023-01-17T10:30:48.974Z"
   },
   {
    "duration": 40,
    "start_time": "2023-01-17T10:31:06.143Z"
   },
   {
    "duration": 27,
    "start_time": "2023-01-17T10:31:08.783Z"
   },
   {
    "duration": 217,
    "start_time": "2023-01-17T10:31:13.004Z"
   },
   {
    "duration": 183,
    "start_time": "2023-01-17T10:33:34.034Z"
   },
   {
    "duration": 8,
    "start_time": "2023-01-17T10:36:58.735Z"
   },
   {
    "duration": 7,
    "start_time": "2023-01-17T10:37:23.875Z"
   },
   {
    "duration": 11,
    "start_time": "2023-01-17T10:38:24.756Z"
   },
   {
    "duration": 206,
    "start_time": "2023-01-17T10:41:24.796Z"
   },
   {
    "duration": 338,
    "start_time": "2023-01-17T10:41:33.836Z"
   },
   {
    "duration": 264,
    "start_time": "2023-01-17T10:42:06.875Z"
   },
   {
    "duration": 347,
    "start_time": "2023-01-17T10:42:25.181Z"
   },
   {
    "duration": 260,
    "start_time": "2023-01-17T10:42:54.336Z"
   },
   {
    "duration": 278,
    "start_time": "2023-01-17T10:43:38.977Z"
   },
   {
    "duration": 31,
    "start_time": "2023-01-17T10:45:31.157Z"
   },
   {
    "duration": 251,
    "start_time": "2023-01-17T10:45:35.317Z"
   },
   {
    "duration": 7,
    "start_time": "2023-01-17T10:46:40.949Z"
   },
   {
    "duration": 31,
    "start_time": "2023-01-17T10:47:02.383Z"
   },
   {
    "duration": 71,
    "start_time": "2023-01-17T10:49:18.008Z"
   },
   {
    "duration": 18,
    "start_time": "2023-01-17T10:49:25.878Z"
   },
   {
    "duration": 11,
    "start_time": "2023-01-17T10:49:39.227Z"
   },
   {
    "duration": 71,
    "start_time": "2023-01-17T10:49:58.138Z"
   },
   {
    "duration": 7,
    "start_time": "2023-01-17T10:50:03.119Z"
   },
   {
    "duration": 303,
    "start_time": "2023-01-17T10:50:19.988Z"
   },
   {
    "duration": 8,
    "start_time": "2023-01-17T10:50:33.880Z"
   },
   {
    "duration": 15,
    "start_time": "2023-01-17T10:51:25.770Z"
   },
   {
    "duration": 11,
    "start_time": "2023-01-17T10:51:33.639Z"
   },
   {
    "duration": 11,
    "start_time": "2023-01-17T10:52:13.138Z"
   },
   {
    "duration": 33,
    "start_time": "2023-01-17T10:54:23.320Z"
   },
   {
    "duration": 691,
    "start_time": "2023-01-17T10:54:34.047Z"
   },
   {
    "duration": 98,
    "start_time": "2023-01-17T10:54:34.740Z"
   },
   {
    "duration": 31,
    "start_time": "2023-01-17T10:54:34.840Z"
   },
   {
    "duration": 17,
    "start_time": "2023-01-17T10:54:34.873Z"
   },
   {
    "duration": 2159,
    "start_time": "2023-01-17T10:54:34.893Z"
   },
   {
    "duration": 7,
    "start_time": "2023-01-17T10:54:37.054Z"
   },
   {
    "duration": 15,
    "start_time": "2023-01-17T10:54:37.062Z"
   },
   {
    "duration": 6,
    "start_time": "2023-01-17T10:54:37.078Z"
   },
   {
    "duration": 15,
    "start_time": "2023-01-17T10:54:37.086Z"
   },
   {
    "duration": 7,
    "start_time": "2023-01-17T10:54:37.103Z"
   },
   {
    "duration": 39,
    "start_time": "2023-01-17T10:54:37.112Z"
   },
   {
    "duration": 9,
    "start_time": "2023-01-17T10:54:37.153Z"
   },
   {
    "duration": 11,
    "start_time": "2023-01-17T10:54:37.164Z"
   },
   {
    "duration": 11,
    "start_time": "2023-01-17T10:54:37.179Z"
   },
   {
    "duration": 15,
    "start_time": "2023-01-17T10:54:37.192Z"
   },
   {
    "duration": 7,
    "start_time": "2023-01-17T10:54:37.210Z"
   },
   {
    "duration": 56,
    "start_time": "2023-01-17T10:54:37.251Z"
   },
   {
    "duration": 88,
    "start_time": "2023-01-17T10:54:37.309Z"
   },
   {
    "duration": 25,
    "start_time": "2023-01-17T10:54:37.399Z"
   },
   {
    "duration": 26,
    "start_time": "2023-01-17T10:54:37.426Z"
   },
   {
    "duration": 463,
    "start_time": "2023-01-17T10:54:37.453Z"
   },
   {
    "duration": 10,
    "start_time": "2023-01-17T10:54:37.918Z"
   },
   {
    "duration": 274,
    "start_time": "2023-01-17T10:54:37.930Z"
   },
   {
    "duration": 7,
    "start_time": "2023-01-17T10:54:38.206Z"
   },
   {
    "duration": 18,
    "start_time": "2023-01-17T10:54:38.215Z"
   },
   {
    "duration": 150,
    "start_time": "2023-01-17T10:54:38.235Z"
   },
   {
    "duration": 193,
    "start_time": "2023-01-17T10:54:38.386Z"
   },
   {
    "duration": 206,
    "start_time": "2023-01-17T10:54:38.581Z"
   },
   {
    "duration": 8,
    "start_time": "2023-01-17T10:54:38.789Z"
   },
   {
    "duration": 30,
    "start_time": "2023-01-17T10:54:38.798Z"
   },
   {
    "duration": 259,
    "start_time": "2023-01-17T10:54:38.830Z"
   },
   {
    "duration": 12,
    "start_time": "2023-01-17T10:54:39.090Z"
   },
   {
    "duration": 25,
    "start_time": "2023-01-17T10:54:39.104Z"
   },
   {
    "duration": 29,
    "start_time": "2023-01-17T10:54:53.669Z"
   },
   {
    "duration": 227,
    "start_time": "2023-01-17T10:54:54.549Z"
   },
   {
    "duration": 11,
    "start_time": "2023-01-17T10:55:41.340Z"
   },
   {
    "duration": 313,
    "start_time": "2023-01-17T10:55:41.832Z"
   },
   {
    "duration": 12,
    "start_time": "2023-01-17T10:56:00.380Z"
   },
   {
    "duration": 261,
    "start_time": "2023-01-17T10:56:01.281Z"
   },
   {
    "duration": 14,
    "start_time": "2023-01-17T12:23:26.336Z"
   },
   {
    "duration": 14,
    "start_time": "2023-01-17T12:23:33.964Z"
   },
   {
    "duration": 502,
    "start_time": "2023-01-17T12:23:34.663Z"
   },
   {
    "duration": 711,
    "start_time": "2023-01-17T12:23:58.588Z"
   },
   {
    "duration": 117,
    "start_time": "2023-01-17T12:23:59.301Z"
   },
   {
    "duration": 36,
    "start_time": "2023-01-17T12:23:59.420Z"
   },
   {
    "duration": 17,
    "start_time": "2023-01-17T12:23:59.459Z"
   },
   {
    "duration": 2405,
    "start_time": "2023-01-17T12:23:59.479Z"
   },
   {
    "duration": 7,
    "start_time": "2023-01-17T12:24:01.886Z"
   },
   {
    "duration": 43,
    "start_time": "2023-01-17T12:24:01.894Z"
   },
   {
    "duration": 60,
    "start_time": "2023-01-17T12:24:01.939Z"
   },
   {
    "duration": 29,
    "start_time": "2023-01-17T12:24:02.001Z"
   },
   {
    "duration": 51,
    "start_time": "2023-01-17T12:24:02.032Z"
   },
   {
    "duration": 79,
    "start_time": "2023-01-17T12:24:02.085Z"
   },
   {
    "duration": 51,
    "start_time": "2023-01-17T12:24:02.167Z"
   },
   {
    "duration": 17,
    "start_time": "2023-01-17T12:24:02.220Z"
   },
   {
    "duration": 49,
    "start_time": "2023-01-17T12:24:02.241Z"
   },
   {
    "duration": 74,
    "start_time": "2023-01-17T12:24:02.292Z"
   },
   {
    "duration": 49,
    "start_time": "2023-01-17T12:24:02.368Z"
   },
   {
    "duration": 125,
    "start_time": "2023-01-17T12:24:02.420Z"
   },
   {
    "duration": 112,
    "start_time": "2023-01-17T12:24:02.549Z"
   },
   {
    "duration": 26,
    "start_time": "2023-01-17T12:24:02.663Z"
   },
   {
    "duration": 55,
    "start_time": "2023-01-17T12:24:02.691Z"
   },
   {
    "duration": 525,
    "start_time": "2023-01-17T12:24:02.748Z"
   },
   {
    "duration": 11,
    "start_time": "2023-01-17T12:24:03.275Z"
   },
   {
    "duration": 327,
    "start_time": "2023-01-17T12:24:03.288Z"
   },
   {
    "duration": 9,
    "start_time": "2023-01-17T12:24:03.617Z"
   },
   {
    "duration": 39,
    "start_time": "2023-01-17T12:24:03.629Z"
   },
   {
    "duration": 181,
    "start_time": "2023-01-17T12:24:03.670Z"
   },
   {
    "duration": 220,
    "start_time": "2023-01-17T12:24:03.853Z"
   },
   {
    "duration": 219,
    "start_time": "2023-01-17T12:24:04.075Z"
   },
   {
    "duration": 8,
    "start_time": "2023-01-17T12:24:04.296Z"
   },
   {
    "duration": 56,
    "start_time": "2023-01-17T12:24:04.306Z"
   },
   {
    "duration": 290,
    "start_time": "2023-01-17T12:24:04.364Z"
   },
   {
    "duration": 12,
    "start_time": "2023-01-17T12:24:04.656Z"
   },
   {
    "duration": 108,
    "start_time": "2023-01-17T12:24:04.669Z"
   },
   {
    "duration": 340,
    "start_time": "2023-01-17T12:24:04.779Z"
   },
   {
    "duration": 18,
    "start_time": "2023-01-17T12:28:34.785Z"
   },
   {
    "duration": 66,
    "start_time": "2023-01-17T12:29:05.224Z"
   },
   {
    "duration": 22,
    "start_time": "2023-01-17T12:29:19.423Z"
   },
   {
    "duration": 9,
    "start_time": "2023-01-17T12:33:31.244Z"
   },
   {
    "duration": 7,
    "start_time": "2023-01-17T12:35:44.863Z"
   },
   {
    "duration": 14,
    "start_time": "2023-01-17T12:49:52.915Z"
   },
   {
    "duration": 719,
    "start_time": "2023-01-17T12:50:13.405Z"
   },
   {
    "duration": 115,
    "start_time": "2023-01-17T12:50:14.126Z"
   },
   {
    "duration": 35,
    "start_time": "2023-01-17T12:50:14.243Z"
   },
   {
    "duration": 17,
    "start_time": "2023-01-17T12:50:14.281Z"
   },
   {
    "duration": 2267,
    "start_time": "2023-01-17T12:50:14.302Z"
   },
   {
    "duration": 7,
    "start_time": "2023-01-17T12:50:16.571Z"
   },
   {
    "duration": 17,
    "start_time": "2023-01-17T12:50:16.580Z"
   },
   {
    "duration": 8,
    "start_time": "2023-01-17T12:50:16.599Z"
   },
   {
    "duration": 20,
    "start_time": "2023-01-17T12:50:16.609Z"
   },
   {
    "duration": 19,
    "start_time": "2023-01-17T12:50:16.632Z"
   },
   {
    "duration": 13,
    "start_time": "2023-01-17T12:50:16.653Z"
   },
   {
    "duration": 13,
    "start_time": "2023-01-17T12:50:16.668Z"
   },
   {
    "duration": 13,
    "start_time": "2023-01-17T12:50:16.683Z"
   },
   {
    "duration": 14,
    "start_time": "2023-01-17T12:50:16.700Z"
   },
   {
    "duration": 42,
    "start_time": "2023-01-17T12:50:16.716Z"
   },
   {
    "duration": 9,
    "start_time": "2023-01-17T12:50:16.760Z"
   },
   {
    "duration": 112,
    "start_time": "2023-01-17T12:50:16.771Z"
   },
   {
    "duration": 84,
    "start_time": "2023-01-17T12:50:16.884Z"
   },
   {
    "duration": 26,
    "start_time": "2023-01-17T12:50:16.970Z"
   },
   {
    "duration": 11,
    "start_time": "2023-01-17T12:50:16.997Z"
   },
   {
    "duration": 505,
    "start_time": "2023-01-17T12:50:17.010Z"
   },
   {
    "duration": 12,
    "start_time": "2023-01-17T12:50:17.517Z"
   },
   {
    "duration": 299,
    "start_time": "2023-01-17T12:50:17.531Z"
   },
   {
    "duration": 9,
    "start_time": "2023-01-17T12:50:17.833Z"
   },
   {
    "duration": 37,
    "start_time": "2023-01-17T12:50:17.852Z"
   },
   {
    "duration": 147,
    "start_time": "2023-01-17T12:50:17.891Z"
   },
   {
    "duration": 237,
    "start_time": "2023-01-17T12:50:18.040Z"
   },
   {
    "duration": 209,
    "start_time": "2023-01-17T12:50:18.279Z"
   },
   {
    "duration": 8,
    "start_time": "2023-01-17T12:50:18.489Z"
   },
   {
    "duration": 12,
    "start_time": "2023-01-17T12:50:18.499Z"
   },
   {
    "duration": 308,
    "start_time": "2023-01-17T12:50:18.513Z"
   },
   {
    "duration": 29,
    "start_time": "2023-01-17T12:50:18.823Z"
   },
   {
    "duration": 12,
    "start_time": "2023-01-17T12:50:18.853Z"
   },
   {
    "duration": 297,
    "start_time": "2023-01-17T12:50:18.867Z"
   },
   {
    "duration": 9,
    "start_time": "2023-01-17T12:50:19.167Z"
   },
   {
    "duration": 164,
    "start_time": "2023-01-17T12:52:20.697Z"
   },
   {
    "duration": 262,
    "start_time": "2023-01-17T12:53:55.597Z"
   },
   {
    "duration": 728,
    "start_time": "2023-01-17T12:57:00.646Z"
   },
   {
    "duration": 113,
    "start_time": "2023-01-17T12:57:01.377Z"
   },
   {
    "duration": 35,
    "start_time": "2023-01-17T12:57:01.492Z"
   },
   {
    "duration": 34,
    "start_time": "2023-01-17T12:57:01.529Z"
   },
   {
    "duration": 2272,
    "start_time": "2023-01-17T12:57:01.565Z"
   },
   {
    "duration": 7,
    "start_time": "2023-01-17T12:57:03.839Z"
   },
   {
    "duration": 18,
    "start_time": "2023-01-17T12:57:03.848Z"
   },
   {
    "duration": 7,
    "start_time": "2023-01-17T12:57:03.868Z"
   },
   {
    "duration": 23,
    "start_time": "2023-01-17T12:57:03.877Z"
   },
   {
    "duration": 25,
    "start_time": "2023-01-17T12:57:03.902Z"
   },
   {
    "duration": 20,
    "start_time": "2023-01-17T12:57:03.928Z"
   },
   {
    "duration": 9,
    "start_time": "2023-01-17T12:57:03.949Z"
   },
   {
    "duration": 12,
    "start_time": "2023-01-17T12:57:03.960Z"
   },
   {
    "duration": 20,
    "start_time": "2023-01-17T12:57:03.974Z"
   },
   {
    "duration": 18,
    "start_time": "2023-01-17T12:57:03.996Z"
   },
   {
    "duration": 14,
    "start_time": "2023-01-17T12:57:04.016Z"
   },
   {
    "duration": 76,
    "start_time": "2023-01-17T12:57:04.033Z"
   },
   {
    "duration": 87,
    "start_time": "2023-01-17T12:57:04.110Z"
   },
   {
    "duration": 27,
    "start_time": "2023-01-17T12:57:04.199Z"
   },
   {
    "duration": 29,
    "start_time": "2023-01-17T12:57:04.228Z"
   },
   {
    "duration": 8,
    "start_time": "2023-01-17T12:57:04.259Z"
   },
   {
    "duration": 16,
    "start_time": "2023-01-17T12:57:04.269Z"
   },
   {
    "duration": 294,
    "start_time": "2023-01-17T12:57:04.287Z"
   },
   {
    "duration": 7,
    "start_time": "2023-01-17T12:57:04.583Z"
   },
   {
    "duration": 22,
    "start_time": "2023-01-17T12:57:04.592Z"
   },
   {
    "duration": 36,
    "start_time": "2023-01-17T12:57:04.616Z"
   },
   {
    "duration": 235,
    "start_time": "2023-01-17T12:57:04.654Z"
   },
   {
    "duration": 205,
    "start_time": "2023-01-17T12:57:04.893Z"
   },
   {
    "duration": 9,
    "start_time": "2023-01-17T12:57:05.099Z"
   },
   {
    "duration": 37,
    "start_time": "2023-01-17T12:57:05.110Z"
   },
   {
    "duration": 254,
    "start_time": "2023-01-17T12:57:05.149Z"
   },
   {
    "duration": 14,
    "start_time": "2023-01-17T12:57:05.405Z"
   },
   {
    "duration": 10,
    "start_time": "2023-01-17T12:57:05.421Z"
   },
   {
    "duration": 363,
    "start_time": "2023-01-17T12:57:05.450Z"
   },
   {
    "duration": 8,
    "start_time": "2023-01-17T12:57:05.815Z"
   },
   {
    "duration": 149,
    "start_time": "2023-01-17T12:59:28.497Z"
   },
   {
    "duration": 309,
    "start_time": "2023-01-17T12:59:54.456Z"
   },
   {
    "duration": 767,
    "start_time": "2023-01-17T13:00:19.072Z"
   },
   {
    "duration": 131,
    "start_time": "2023-01-17T13:00:19.842Z"
   },
   {
    "duration": 44,
    "start_time": "2023-01-17T13:00:19.975Z"
   },
   {
    "duration": 44,
    "start_time": "2023-01-17T13:00:20.022Z"
   },
   {
    "duration": 2353,
    "start_time": "2023-01-17T13:00:20.068Z"
   },
   {
    "duration": 6,
    "start_time": "2023-01-17T13:00:22.423Z"
   },
   {
    "duration": 16,
    "start_time": "2023-01-17T13:00:22.431Z"
   },
   {
    "duration": 8,
    "start_time": "2023-01-17T13:00:22.449Z"
   },
   {
    "duration": 15,
    "start_time": "2023-01-17T13:00:22.459Z"
   },
   {
    "duration": 8,
    "start_time": "2023-01-17T13:00:22.477Z"
   },
   {
    "duration": 14,
    "start_time": "2023-01-17T13:00:22.487Z"
   },
   {
    "duration": 17,
    "start_time": "2023-01-17T13:00:22.503Z"
   },
   {
    "duration": 17,
    "start_time": "2023-01-17T13:00:22.522Z"
   },
   {
    "duration": 11,
    "start_time": "2023-01-17T13:00:22.551Z"
   },
   {
    "duration": 20,
    "start_time": "2023-01-17T13:00:22.564Z"
   },
   {
    "duration": 13,
    "start_time": "2023-01-17T13:00:22.586Z"
   },
   {
    "duration": 74,
    "start_time": "2023-01-17T13:00:22.601Z"
   },
   {
    "duration": 79,
    "start_time": "2023-01-17T13:00:22.677Z"
   },
   {
    "duration": 27,
    "start_time": "2023-01-17T13:00:22.758Z"
   },
   {
    "duration": 11,
    "start_time": "2023-01-17T13:00:22.787Z"
   },
   {
    "duration": 17,
    "start_time": "2023-01-17T13:00:22.801Z"
   },
   {
    "duration": 35,
    "start_time": "2023-01-17T13:00:22.820Z"
   },
   {
    "duration": 295,
    "start_time": "2023-01-17T13:00:22.858Z"
   },
   {
    "duration": 8,
    "start_time": "2023-01-17T13:00:23.155Z"
   },
   {
    "duration": 293,
    "start_time": "2023-01-17T13:00:23.165Z"
   },
   {
    "duration": 29,
    "start_time": "2023-01-17T13:00:23.460Z"
   },
   {
    "duration": 242,
    "start_time": "2023-01-17T13:00:23.491Z"
   },
   {
    "duration": 305,
    "start_time": "2023-01-17T13:00:23.738Z"
   },
   {
    "duration": 10,
    "start_time": "2023-01-17T13:00:24.050Z"
   },
   {
    "duration": 17,
    "start_time": "2023-01-17T13:00:24.062Z"
   },
   {
    "duration": 264,
    "start_time": "2023-01-17T13:00:24.081Z"
   },
   {
    "duration": 15,
    "start_time": "2023-01-17T13:00:24.350Z"
   },
   {
    "duration": 10,
    "start_time": "2023-01-17T13:00:24.367Z"
   },
   {
    "duration": 245,
    "start_time": "2023-01-17T13:00:24.380Z"
   },
   {
    "duration": 9,
    "start_time": "2023-01-17T13:00:24.627Z"
   },
   {
    "duration": 266,
    "start_time": "2023-01-17T13:00:58.377Z"
   },
   {
    "duration": 769,
    "start_time": "2023-01-17T13:01:29.115Z"
   },
   {
    "duration": 111,
    "start_time": "2023-01-17T13:01:29.887Z"
   },
   {
    "duration": 33,
    "start_time": "2023-01-17T13:01:30.000Z"
   },
   {
    "duration": 28,
    "start_time": "2023-01-17T13:01:30.036Z"
   },
   {
    "duration": 2286,
    "start_time": "2023-01-17T13:01:30.066Z"
   },
   {
    "duration": 6,
    "start_time": "2023-01-17T13:01:32.354Z"
   },
   {
    "duration": 21,
    "start_time": "2023-01-17T13:01:32.361Z"
   },
   {
    "duration": 9,
    "start_time": "2023-01-17T13:01:32.384Z"
   },
   {
    "duration": 24,
    "start_time": "2023-01-17T13:01:32.395Z"
   },
   {
    "duration": 9,
    "start_time": "2023-01-17T13:01:32.422Z"
   },
   {
    "duration": 34,
    "start_time": "2023-01-17T13:01:32.433Z"
   },
   {
    "duration": 13,
    "start_time": "2023-01-17T13:01:32.469Z"
   },
   {
    "duration": 8,
    "start_time": "2023-01-17T13:01:32.484Z"
   },
   {
    "duration": 22,
    "start_time": "2023-01-17T13:01:32.493Z"
   },
   {
    "duration": 15,
    "start_time": "2023-01-17T13:01:32.517Z"
   },
   {
    "duration": 7,
    "start_time": "2023-01-17T13:01:32.533Z"
   },
   {
    "duration": 63,
    "start_time": "2023-01-17T13:01:32.542Z"
   },
   {
    "duration": 88,
    "start_time": "2023-01-17T13:01:32.608Z"
   },
   {
    "duration": 25,
    "start_time": "2023-01-17T13:01:32.698Z"
   },
   {
    "duration": 26,
    "start_time": "2023-01-17T13:01:32.725Z"
   },
   {
    "duration": 8,
    "start_time": "2023-01-17T13:01:32.753Z"
   },
   {
    "duration": 14,
    "start_time": "2023-01-17T13:01:32.763Z"
   },
   {
    "duration": 292,
    "start_time": "2023-01-17T13:01:32.779Z"
   },
   {
    "duration": 8,
    "start_time": "2023-01-17T13:01:33.073Z"
   },
   {
    "duration": 299,
    "start_time": "2023-01-17T13:01:33.083Z"
   },
   {
    "duration": 30,
    "start_time": "2023-01-17T13:01:33.384Z"
   },
   {
    "duration": 236,
    "start_time": "2023-01-17T13:01:33.416Z"
   },
   {
    "duration": 304,
    "start_time": "2023-01-17T13:01:33.656Z"
   },
   {
    "duration": 8,
    "start_time": "2023-01-17T13:01:33.962Z"
   },
   {
    "duration": 13,
    "start_time": "2023-01-17T13:01:33.972Z"
   },
   {
    "duration": 246,
    "start_time": "2023-01-17T13:01:33.987Z"
   },
   {
    "duration": 23,
    "start_time": "2023-01-17T13:01:34.235Z"
   },
   {
    "duration": 13,
    "start_time": "2023-01-17T13:01:34.260Z"
   },
   {
    "duration": 238,
    "start_time": "2023-01-17T13:01:34.278Z"
   },
   {
    "duration": 8,
    "start_time": "2023-01-17T13:01:34.518Z"
   },
   {
    "duration": 218,
    "start_time": "2023-01-17T13:39:59.136Z"
   },
   {
    "duration": 24,
    "start_time": "2023-01-17T13:46:31.668Z"
   },
   {
    "duration": 18,
    "start_time": "2023-01-17T13:46:49.870Z"
   },
   {
    "duration": 16,
    "start_time": "2023-01-17T13:47:11.878Z"
   },
   {
    "duration": 16,
    "start_time": "2023-01-17T13:47:21.158Z"
   },
   {
    "duration": 194,
    "start_time": "2023-01-17T13:49:42.739Z"
   },
   {
    "duration": 224,
    "start_time": "2023-01-17T13:50:56.581Z"
   },
   {
    "duration": 179,
    "start_time": "2023-01-17T13:51:14.630Z"
   },
   {
    "duration": 198,
    "start_time": "2023-01-17T13:52:41.641Z"
   },
   {
    "duration": 193,
    "start_time": "2023-01-17T13:52:47.420Z"
   },
   {
    "duration": 719,
    "start_time": "2023-01-17T13:53:10.166Z"
   },
   {
    "duration": 107,
    "start_time": "2023-01-17T13:53:10.887Z"
   },
   {
    "duration": 38,
    "start_time": "2023-01-17T13:53:10.996Z"
   },
   {
    "duration": 27,
    "start_time": "2023-01-17T13:53:11.051Z"
   },
   {
    "duration": 2511,
    "start_time": "2023-01-17T13:53:11.082Z"
   },
   {
    "duration": 7,
    "start_time": "2023-01-17T13:53:13.594Z"
   },
   {
    "duration": 33,
    "start_time": "2023-01-17T13:53:13.603Z"
   },
   {
    "duration": 26,
    "start_time": "2023-01-17T13:53:13.638Z"
   },
   {
    "duration": 26,
    "start_time": "2023-01-17T13:53:13.665Z"
   },
   {
    "duration": 19,
    "start_time": "2023-01-17T13:53:13.695Z"
   },
   {
    "duration": 26,
    "start_time": "2023-01-17T13:53:13.716Z"
   },
   {
    "duration": 13,
    "start_time": "2023-01-17T13:53:13.744Z"
   },
   {
    "duration": 16,
    "start_time": "2023-01-17T13:53:13.759Z"
   },
   {
    "duration": 41,
    "start_time": "2023-01-17T13:53:13.779Z"
   },
   {
    "duration": 25,
    "start_time": "2023-01-17T13:53:13.822Z"
   },
   {
    "duration": 14,
    "start_time": "2023-01-17T13:53:13.849Z"
   },
   {
    "duration": 67,
    "start_time": "2023-01-17T13:53:13.865Z"
   },
   {
    "duration": 78,
    "start_time": "2023-01-17T13:53:13.934Z"
   },
   {
    "duration": 39,
    "start_time": "2023-01-17T13:53:14.014Z"
   },
   {
    "duration": 27,
    "start_time": "2023-01-17T13:53:14.055Z"
   },
   {
    "duration": 27,
    "start_time": "2023-01-17T13:53:14.084Z"
   },
   {
    "duration": 36,
    "start_time": "2023-01-17T13:53:14.113Z"
   },
   {
    "duration": 361,
    "start_time": "2023-01-17T13:53:14.152Z"
   },
   {
    "duration": 8,
    "start_time": "2023-01-17T13:53:14.518Z"
   },
   {
    "duration": 308,
    "start_time": "2023-01-17T13:53:14.528Z"
   },
   {
    "duration": 32,
    "start_time": "2023-01-17T13:53:14.839Z"
   },
   {
    "duration": 224,
    "start_time": "2023-01-17T13:53:14.873Z"
   },
   {
    "duration": 315,
    "start_time": "2023-01-17T13:53:15.098Z"
   },
   {
    "duration": 9,
    "start_time": "2023-01-17T13:53:15.415Z"
   },
   {
    "duration": 28,
    "start_time": "2023-01-17T13:53:15.427Z"
   },
   {
    "duration": 237,
    "start_time": "2023-01-17T13:53:15.457Z"
   },
   {
    "duration": 19,
    "start_time": "2023-01-17T13:53:15.696Z"
   },
   {
    "duration": 14,
    "start_time": "2023-01-17T13:53:15.718Z"
   },
   {
    "duration": 227,
    "start_time": "2023-01-17T13:53:15.734Z"
   },
   {
    "duration": 209,
    "start_time": "2023-01-17T13:53:15.963Z"
   },
   {
    "duration": 20,
    "start_time": "2023-01-17T13:53:16.175Z"
   },
   {
    "duration": 47,
    "start_time": "2023-01-17T13:53:16.197Z"
   },
   {
    "duration": 215,
    "start_time": "2023-01-17T13:53:16.245Z"
   },
   {
    "duration": 202,
    "start_time": "2023-01-17T13:53:16.463Z"
   },
   {
    "duration": 182,
    "start_time": "2023-01-17T14:05:29.964Z"
   },
   {
    "duration": 219,
    "start_time": "2023-01-17T14:06:18.634Z"
   },
   {
    "duration": 8,
    "start_time": "2023-01-17T14:11:21.945Z"
   },
   {
    "duration": 8,
    "start_time": "2023-01-17T14:11:27.265Z"
   },
   {
    "duration": 9,
    "start_time": "2023-01-17T14:11:31.436Z"
   },
   {
    "duration": 10,
    "start_time": "2023-01-17T14:13:16.926Z"
   },
   {
    "duration": 51,
    "start_time": "2023-01-19T08:38:05.568Z"
   },
   {
    "duration": 890,
    "start_time": "2023-01-19T08:38:13.066Z"
   },
   {
    "duration": 353,
    "start_time": "2023-01-19T08:38:13.959Z"
   },
   {
    "duration": 36,
    "start_time": "2023-01-19T08:38:14.316Z"
   },
   {
    "duration": 21,
    "start_time": "2023-01-19T08:38:14.355Z"
   },
   {
    "duration": 2174,
    "start_time": "2023-01-19T08:38:14.378Z"
   },
   {
    "duration": 6,
    "start_time": "2023-01-19T08:38:16.553Z"
   },
   {
    "duration": 17,
    "start_time": "2023-01-19T08:38:16.561Z"
   },
   {
    "duration": 6,
    "start_time": "2023-01-19T08:38:16.580Z"
   },
   {
    "duration": 18,
    "start_time": "2023-01-19T08:38:16.588Z"
   },
   {
    "duration": 7,
    "start_time": "2023-01-19T08:38:16.608Z"
   },
   {
    "duration": 35,
    "start_time": "2023-01-19T08:38:16.617Z"
   },
   {
    "duration": 18,
    "start_time": "2023-01-19T08:38:16.654Z"
   },
   {
    "duration": 21,
    "start_time": "2023-01-19T08:38:16.677Z"
   },
   {
    "duration": 16,
    "start_time": "2023-01-19T08:38:16.700Z"
   },
   {
    "duration": 34,
    "start_time": "2023-01-19T08:38:16.718Z"
   },
   {
    "duration": 10,
    "start_time": "2023-01-19T08:38:16.754Z"
   },
   {
    "duration": 56,
    "start_time": "2023-01-19T08:38:16.765Z"
   },
   {
    "duration": 79,
    "start_time": "2023-01-19T08:38:16.823Z"
   },
   {
    "duration": 52,
    "start_time": "2023-01-19T08:38:16.904Z"
   },
   {
    "duration": 18,
    "start_time": "2023-01-19T08:38:16.958Z"
   },
   {
    "duration": 27,
    "start_time": "2023-01-19T08:38:16.979Z"
   },
   {
    "duration": 22,
    "start_time": "2023-01-19T08:38:17.009Z"
   },
   {
    "duration": 310,
    "start_time": "2023-01-19T08:38:17.034Z"
   },
   {
    "duration": 11,
    "start_time": "2023-01-19T08:38:17.345Z"
   },
   {
    "duration": 314,
    "start_time": "2023-01-19T08:38:17.357Z"
   },
   {
    "duration": 28,
    "start_time": "2023-01-19T08:38:17.673Z"
   },
   {
    "duration": 222,
    "start_time": "2023-01-19T08:38:17.703Z"
   },
   {
    "duration": 306,
    "start_time": "2023-01-19T08:38:17.927Z"
   },
   {
    "duration": 9,
    "start_time": "2023-01-19T08:38:18.238Z"
   },
   {
    "duration": 26,
    "start_time": "2023-01-19T08:38:18.254Z"
   },
   {
    "duration": 228,
    "start_time": "2023-01-19T08:38:18.282Z"
   },
   {
    "duration": 14,
    "start_time": "2023-01-19T08:38:18.511Z"
   },
   {
    "duration": 17,
    "start_time": "2023-01-19T08:38:18.537Z"
   },
   {
    "duration": 212,
    "start_time": "2023-01-19T08:38:18.556Z"
   },
   {
    "duration": 202,
    "start_time": "2023-01-19T08:38:18.769Z"
   },
   {
    "duration": 14,
    "start_time": "2023-01-19T08:38:18.972Z"
   },
   {
    "duration": 10,
    "start_time": "2023-01-19T08:38:18.988Z"
   },
   {
    "duration": 213,
    "start_time": "2023-01-19T08:38:19.000Z"
   },
   {
    "duration": 205,
    "start_time": "2023-01-19T08:38:19.215Z"
   },
   {
    "duration": 242,
    "start_time": "2023-01-19T08:38:19.425Z"
   },
   {
    "duration": 8,
    "start_time": "2023-01-19T08:38:19.669Z"
   },
   {
    "duration": 19,
    "start_time": "2023-01-19T08:38:19.679Z"
   },
   {
    "duration": 113,
    "start_time": "2023-01-19T08:38:19.700Z"
   },
   {
    "duration": 4,
    "start_time": "2023-01-19T08:43:47.484Z"
   },
   {
    "duration": 6,
    "start_time": "2023-01-19T08:53:26.815Z"
   },
   {
    "duration": 7,
    "start_time": "2023-01-19T08:59:54.284Z"
   },
   {
    "duration": 9,
    "start_time": "2023-01-19T09:01:20.772Z"
   },
   {
    "duration": 16,
    "start_time": "2023-01-19T09:13:41.601Z"
   },
   {
    "duration": 195,
    "start_time": "2023-01-19T09:27:54.921Z"
   },
   {
    "duration": 395,
    "start_time": "2023-01-19T09:28:33.492Z"
   },
   {
    "duration": 350,
    "start_time": "2023-01-19T09:28:56.899Z"
   },
   {
    "duration": 157,
    "start_time": "2023-01-19T10:10:22.131Z"
   },
   {
    "duration": 916,
    "start_time": "2023-01-19T10:42:30.456Z"
   },
   {
    "duration": 184,
    "start_time": "2023-01-19T10:42:31.375Z"
   },
   {
    "duration": 40,
    "start_time": "2023-01-19T10:42:31.560Z"
   },
   {
    "duration": 20,
    "start_time": "2023-01-19T10:42:31.603Z"
   },
   {
    "duration": 2408,
    "start_time": "2023-01-19T10:42:31.626Z"
   },
   {
    "duration": 7,
    "start_time": "2023-01-19T10:42:34.037Z"
   },
   {
    "duration": 48,
    "start_time": "2023-01-19T10:42:34.045Z"
   },
   {
    "duration": 54,
    "start_time": "2023-01-19T10:42:34.095Z"
   },
   {
    "duration": 71,
    "start_time": "2023-01-19T10:42:34.151Z"
   },
   {
    "duration": 34,
    "start_time": "2023-01-19T10:42:34.225Z"
   },
   {
    "duration": 59,
    "start_time": "2023-01-19T10:42:34.261Z"
   },
   {
    "duration": 59,
    "start_time": "2023-01-19T10:42:34.322Z"
   },
   {
    "duration": 54,
    "start_time": "2023-01-19T10:42:34.383Z"
   },
   {
    "duration": 92,
    "start_time": "2023-01-19T10:42:34.440Z"
   },
   {
    "duration": 48,
    "start_time": "2023-01-19T10:42:34.535Z"
   },
   {
    "duration": 51,
    "start_time": "2023-01-19T10:42:34.590Z"
   },
   {
    "duration": 138,
    "start_time": "2023-01-19T10:42:34.643Z"
   },
   {
    "duration": 109,
    "start_time": "2023-01-19T10:42:34.783Z"
   },
   {
    "duration": 31,
    "start_time": "2023-01-19T10:42:34.894Z"
   },
   {
    "duration": 28,
    "start_time": "2023-01-19T10:42:34.927Z"
   },
   {
    "duration": 68,
    "start_time": "2023-01-19T10:42:34.958Z"
   },
   {
    "duration": 72,
    "start_time": "2023-01-19T10:42:35.029Z"
   },
   {
    "duration": 357,
    "start_time": "2023-01-19T10:42:35.103Z"
   },
   {
    "duration": 9,
    "start_time": "2023-01-19T10:42:35.462Z"
   },
   {
    "duration": 346,
    "start_time": "2023-01-19T10:42:35.483Z"
   },
   {
    "duration": 32,
    "start_time": "2023-01-19T10:42:35.831Z"
   },
   {
    "duration": 282,
    "start_time": "2023-01-19T10:42:35.865Z"
   },
   {
    "duration": 334,
    "start_time": "2023-01-19T10:42:36.152Z"
   },
   {
    "duration": 13,
    "start_time": "2023-01-19T10:42:36.493Z"
   },
   {
    "duration": 109,
    "start_time": "2023-01-19T10:42:36.508Z"
   },
   {
    "duration": 290,
    "start_time": "2023-01-19T10:42:36.618Z"
   },
   {
    "duration": 17,
    "start_time": "2023-01-19T10:42:36.910Z"
   },
   {
    "duration": 10,
    "start_time": "2023-01-19T10:42:36.929Z"
   },
   {
    "duration": 272,
    "start_time": "2023-01-19T10:42:36.942Z"
   },
   {
    "duration": 231,
    "start_time": "2023-01-19T10:42:37.216Z"
   },
   {
    "duration": 17,
    "start_time": "2023-01-19T10:42:37.449Z"
   },
   {
    "duration": 62,
    "start_time": "2023-01-19T10:42:37.468Z"
   },
   {
    "duration": 235,
    "start_time": "2023-01-19T10:42:37.532Z"
   },
   {
    "duration": 225,
    "start_time": "2023-01-19T10:42:37.768Z"
   },
   {
    "duration": 236,
    "start_time": "2023-01-19T10:42:38.000Z"
   },
   {
    "duration": 8,
    "start_time": "2023-01-19T10:42:38.238Z"
   },
   {
    "duration": 84,
    "start_time": "2023-01-19T10:42:38.247Z"
   },
   {
    "duration": 22,
    "start_time": "2023-01-19T10:42:38.333Z"
   },
   {
    "duration": 50,
    "start_time": "2023-01-19T10:42:38.357Z"
   },
   {
    "duration": 48,
    "start_time": "2023-01-19T10:42:38.408Z"
   },
   {
    "duration": 472,
    "start_time": "2023-01-19T10:42:38.458Z"
   },
   {
    "duration": 89,
    "start_time": "2023-01-19T10:42:38.932Z"
   },
   {
    "duration": 6,
    "start_time": "2023-01-19T10:43:41.133Z"
   },
   {
    "duration": 8,
    "start_time": "2023-01-19T10:43:55.269Z"
   },
   {
    "duration": 25,
    "start_time": "2023-01-19T10:45:36.010Z"
   },
   {
    "duration": 21,
    "start_time": "2023-01-19T10:46:20.139Z"
   },
   {
    "duration": 20,
    "start_time": "2023-01-19T10:46:59.508Z"
   },
   {
    "duration": 5,
    "start_time": "2023-01-19T10:47:34.846Z"
   },
   {
    "duration": 26,
    "start_time": "2023-01-19T11:00:28.402Z"
   },
   {
    "duration": 382,
    "start_time": "2023-01-19T11:03:31.254Z"
   },
   {
    "duration": 361,
    "start_time": "2023-01-19T11:03:36.243Z"
   },
   {
    "duration": 239,
    "start_time": "2023-01-19T11:05:07.524Z"
   },
   {
    "duration": 239,
    "start_time": "2023-01-19T11:17:49.109Z"
   },
   {
    "duration": 214,
    "start_time": "2023-01-19T11:18:04.359Z"
   },
   {
    "duration": 230,
    "start_time": "2023-01-19T11:18:46.810Z"
   },
   {
    "duration": 220,
    "start_time": "2023-01-19T11:18:56.167Z"
   },
   {
    "duration": 207,
    "start_time": "2023-01-19T11:19:02.507Z"
   },
   {
    "duration": 327,
    "start_time": "2023-01-19T11:20:00.607Z"
   },
   {
    "duration": 245,
    "start_time": "2023-01-19T11:20:28.967Z"
   },
   {
    "duration": 205,
    "start_time": "2023-01-19T11:21:12.807Z"
   },
   {
    "duration": 247,
    "start_time": "2023-01-19T11:21:29.681Z"
   },
   {
    "duration": 209,
    "start_time": "2023-01-19T11:27:32.311Z"
   },
   {
    "duration": 272,
    "start_time": "2023-01-19T11:28:11.491Z"
   },
   {
    "duration": 273,
    "start_time": "2023-01-19T11:30:10.299Z"
   },
   {
    "duration": 243,
    "start_time": "2023-01-19T11:48:12.749Z"
   },
   {
    "duration": 190,
    "start_time": "2023-01-19T11:48:22.538Z"
   },
   {
    "duration": 862,
    "start_time": "2023-01-19T11:52:49.352Z"
   },
   {
    "duration": 128,
    "start_time": "2023-01-19T11:52:50.216Z"
   },
   {
    "duration": 42,
    "start_time": "2023-01-19T11:52:50.347Z"
   },
   {
    "duration": 30,
    "start_time": "2023-01-19T11:52:50.391Z"
   },
   {
    "duration": 2673,
    "start_time": "2023-01-19T11:52:50.425Z"
   },
   {
    "duration": 7,
    "start_time": "2023-01-19T11:52:53.100Z"
   },
   {
    "duration": 21,
    "start_time": "2023-01-19T11:52:53.109Z"
   },
   {
    "duration": 7,
    "start_time": "2023-01-19T11:52:53.132Z"
   },
   {
    "duration": 17,
    "start_time": "2023-01-19T11:52:53.141Z"
   },
   {
    "duration": 10,
    "start_time": "2023-01-19T11:52:53.160Z"
   },
   {
    "duration": 29,
    "start_time": "2023-01-19T11:52:53.171Z"
   },
   {
    "duration": 29,
    "start_time": "2023-01-19T11:52:53.202Z"
   },
   {
    "duration": 7,
    "start_time": "2023-01-19T11:52:53.234Z"
   },
   {
    "duration": 15,
    "start_time": "2023-01-19T11:52:53.247Z"
   },
   {
    "duration": 32,
    "start_time": "2023-01-19T11:52:53.265Z"
   },
   {
    "duration": 14,
    "start_time": "2023-01-19T11:52:53.303Z"
   },
   {
    "duration": 108,
    "start_time": "2023-01-19T11:52:53.320Z"
   },
   {
    "duration": 96,
    "start_time": "2023-01-19T11:52:53.430Z"
   },
   {
    "duration": 28,
    "start_time": "2023-01-19T11:52:53.528Z"
   },
   {
    "duration": 35,
    "start_time": "2023-01-19T11:52:53.558Z"
   },
   {
    "duration": 31,
    "start_time": "2023-01-19T11:52:53.594Z"
   },
   {
    "duration": 25,
    "start_time": "2023-01-19T11:52:53.628Z"
   },
   {
    "duration": 373,
    "start_time": "2023-01-19T11:52:53.656Z"
   },
   {
    "duration": 9,
    "start_time": "2023-01-19T11:52:54.031Z"
   },
   {
    "duration": 361,
    "start_time": "2023-01-19T11:52:54.042Z"
   },
   {
    "duration": 216,
    "start_time": "2023-01-19T11:52:54.406Z"
   },
   {
    "duration": 10,
    "start_time": "2023-01-19T11:52:54.625Z"
   },
   {
    "duration": 77,
    "start_time": "2023-01-19T11:52:54.637Z"
   },
   {
    "duration": 62,
    "start_time": "2023-01-19T11:52:54.717Z"
   },
   {
    "duration": 336,
    "start_time": "2023-01-19T11:52:54.781Z"
   },
   {
    "duration": 378,
    "start_time": "2023-01-19T11:52:55.120Z"
   },
   {
    "duration": 15,
    "start_time": "2023-01-19T11:52:55.502Z"
   },
   {
    "duration": 28,
    "start_time": "2023-01-19T11:52:55.519Z"
   },
   {
    "duration": 276,
    "start_time": "2023-01-19T11:52:55.549Z"
   },
   {
    "duration": 17,
    "start_time": "2023-01-19T11:52:55.827Z"
   },
   {
    "duration": 49,
    "start_time": "2023-01-19T11:52:55.846Z"
   },
   {
    "duration": 277,
    "start_time": "2023-01-19T11:52:55.897Z"
   },
   {
    "duration": 276,
    "start_time": "2023-01-19T11:52:56.176Z"
   },
   {
    "duration": 24,
    "start_time": "2023-01-19T11:52:56.454Z"
   },
   {
    "duration": 48,
    "start_time": "2023-01-19T11:52:56.485Z"
   },
   {
    "duration": 268,
    "start_time": "2023-01-19T11:52:56.540Z"
   },
   {
    "duration": 292,
    "start_time": "2023-01-19T11:52:56.812Z"
   },
   {
    "duration": 293,
    "start_time": "2023-01-19T11:52:57.109Z"
   },
   {
    "duration": 10,
    "start_time": "2023-01-19T11:52:57.405Z"
   },
   {
    "duration": 76,
    "start_time": "2023-01-19T11:52:57.418Z"
   },
   {
    "duration": 35,
    "start_time": "2023-01-19T11:52:57.497Z"
   },
   {
    "duration": 50,
    "start_time": "2023-01-19T11:52:57.535Z"
   },
   {
    "duration": 67,
    "start_time": "2023-01-19T11:52:57.588Z"
   },
   {
    "duration": 533,
    "start_time": "2023-01-19T11:52:57.658Z"
   },
   {
    "duration": 7,
    "start_time": "2023-01-19T11:52:58.200Z"
   },
   {
    "duration": 62,
    "start_time": "2023-01-19T11:52:58.210Z"
   },
   {
    "duration": 387,
    "start_time": "2023-01-19T11:52:58.274Z"
   },
   {
    "duration": 350,
    "start_time": "2023-01-19T11:52:58.663Z"
   },
   {
    "duration": 292,
    "start_time": "2023-01-19T11:52:59.016Z"
   },
   {
    "duration": 354,
    "start_time": "2023-01-19T11:52:59.310Z"
   },
   {
    "duration": 281,
    "start_time": "2023-01-19T11:52:59.667Z"
   },
   {
    "duration": 285,
    "start_time": "2023-01-19T11:52:59.950Z"
   },
   {
    "duration": 257,
    "start_time": "2023-01-19T11:53:00.247Z"
   },
   {
    "duration": 268,
    "start_time": "2023-01-19T11:53:00.507Z"
   },
   {
    "duration": 432,
    "start_time": "2023-01-19T11:53:00.786Z"
   },
   {
    "duration": 10,
    "start_time": "2023-01-19T11:53:45.269Z"
   },
   {
    "duration": 9,
    "start_time": "2023-01-19T11:54:03.117Z"
   },
   {
    "duration": 9,
    "start_time": "2023-01-19T11:54:07.809Z"
   },
   {
    "duration": 710,
    "start_time": "2023-01-19T11:57:48.793Z"
   },
   {
    "duration": 111,
    "start_time": "2023-01-19T11:57:49.505Z"
   },
   {
    "duration": 41,
    "start_time": "2023-01-19T11:57:49.619Z"
   },
   {
    "duration": 41,
    "start_time": "2023-01-19T11:57:49.663Z"
   },
   {
    "duration": 2441,
    "start_time": "2023-01-19T11:57:49.709Z"
   },
   {
    "duration": 6,
    "start_time": "2023-01-19T11:57:52.152Z"
   },
   {
    "duration": 22,
    "start_time": "2023-01-19T11:57:52.160Z"
   },
   {
    "duration": 26,
    "start_time": "2023-01-19T11:57:52.185Z"
   },
   {
    "duration": 23,
    "start_time": "2023-01-19T11:57:52.213Z"
   },
   {
    "duration": 6,
    "start_time": "2023-01-19T11:57:52.238Z"
   },
   {
    "duration": 16,
    "start_time": "2023-01-19T11:57:52.246Z"
   },
   {
    "duration": 24,
    "start_time": "2023-01-19T11:57:52.264Z"
   },
   {
    "duration": 24,
    "start_time": "2023-01-19T11:57:52.295Z"
   },
   {
    "duration": 18,
    "start_time": "2023-01-19T11:57:52.322Z"
   },
   {
    "duration": 19,
    "start_time": "2023-01-19T11:57:52.342Z"
   },
   {
    "duration": 8,
    "start_time": "2023-01-19T11:57:52.363Z"
   },
   {
    "duration": 90,
    "start_time": "2023-01-19T11:57:52.373Z"
   },
   {
    "duration": 79,
    "start_time": "2023-01-19T11:57:52.466Z"
   },
   {
    "duration": 51,
    "start_time": "2023-01-19T11:57:52.548Z"
   },
   {
    "duration": 15,
    "start_time": "2023-01-19T11:57:52.601Z"
   },
   {
    "duration": 12,
    "start_time": "2023-01-19T11:57:52.618Z"
   },
   {
    "duration": 22,
    "start_time": "2023-01-19T11:57:52.632Z"
   },
   {
    "duration": 298,
    "start_time": "2023-01-19T11:57:52.656Z"
   },
   {
    "duration": 9,
    "start_time": "2023-01-19T11:57:52.957Z"
   },
   {
    "duration": 351,
    "start_time": "2023-01-19T11:57:52.968Z"
   },
   {
    "duration": 199,
    "start_time": "2023-01-19T11:57:53.322Z"
   },
   {
    "duration": 8,
    "start_time": "2023-01-19T11:57:53.523Z"
   },
   {
    "duration": 32,
    "start_time": "2023-01-19T11:57:53.533Z"
   },
   {
    "duration": 47,
    "start_time": "2023-01-19T11:57:53.567Z"
   },
   {
    "duration": 230,
    "start_time": "2023-01-19T11:57:53.627Z"
   },
   {
    "duration": 315,
    "start_time": "2023-01-19T11:57:53.859Z"
   },
   {
    "duration": 21,
    "start_time": "2023-01-19T11:57:54.176Z"
   },
   {
    "duration": 20,
    "start_time": "2023-01-19T11:57:54.200Z"
   },
   {
    "duration": 233,
    "start_time": "2023-01-19T11:57:54.222Z"
   },
   {
    "duration": 15,
    "start_time": "2023-01-19T11:57:54.458Z"
   },
   {
    "duration": 15,
    "start_time": "2023-01-19T11:57:54.486Z"
   },
   {
    "duration": 235,
    "start_time": "2023-01-19T11:57:54.503Z"
   },
   {
    "duration": 211,
    "start_time": "2023-01-19T11:57:54.740Z"
   },
   {
    "duration": 15,
    "start_time": "2023-01-19T11:57:54.953Z"
   },
   {
    "duration": 32,
    "start_time": "2023-01-19T11:57:54.969Z"
   },
   {
    "duration": 205,
    "start_time": "2023-01-19T11:57:55.006Z"
   },
   {
    "duration": 205,
    "start_time": "2023-01-19T11:57:55.213Z"
   },
   {
    "duration": 247,
    "start_time": "2023-01-19T11:57:55.420Z"
   },
   {
    "duration": 20,
    "start_time": "2023-01-19T11:57:55.670Z"
   },
   {
    "duration": 17,
    "start_time": "2023-01-19T11:57:55.696Z"
   },
   {
    "duration": 7,
    "start_time": "2023-01-19T11:57:55.716Z"
   },
   {
    "duration": 28,
    "start_time": "2023-01-19T11:57:55.725Z"
   },
   {
    "duration": 13,
    "start_time": "2023-01-19T11:57:55.756Z"
   },
   {
    "duration": 501,
    "start_time": "2023-01-19T11:57:55.771Z"
   },
   {
    "duration": 5,
    "start_time": "2023-01-19T11:57:56.274Z"
   },
   {
    "duration": 56,
    "start_time": "2023-01-19T11:57:56.283Z"
   },
   {
    "duration": 253,
    "start_time": "2023-01-19T11:57:56.341Z"
   },
   {
    "duration": 277,
    "start_time": "2023-01-19T11:57:56.596Z"
   },
   {
    "duration": 225,
    "start_time": "2023-01-19T11:57:56.875Z"
   },
   {
    "duration": 275,
    "start_time": "2023-01-19T11:57:57.103Z"
   },
   {
    "duration": 199,
    "start_time": "2023-01-19T11:57:57.380Z"
   },
   {
    "duration": 233,
    "start_time": "2023-01-19T11:57:57.584Z"
   },
   {
    "duration": 230,
    "start_time": "2023-01-19T11:57:57.819Z"
   },
   {
    "duration": 213,
    "start_time": "2023-01-19T11:57:58.051Z"
   },
   {
    "duration": 332,
    "start_time": "2023-01-19T11:57:58.266Z"
   },
   {
    "duration": 203,
    "start_time": "2023-01-19T11:59:34.186Z"
   },
   {
    "duration": 183,
    "start_time": "2023-01-19T11:59:49.353Z"
   },
   {
    "duration": 170,
    "start_time": "2023-01-19T12:00:14.745Z"
   },
   {
    "duration": 84,
    "start_time": "2023-01-19T13:41:25.649Z"
   },
   {
    "duration": 850,
    "start_time": "2023-01-19T13:41:44.039Z"
   },
   {
    "duration": 330,
    "start_time": "2023-01-19T13:41:44.892Z"
   },
   {
    "duration": 42,
    "start_time": "2023-01-19T13:41:45.224Z"
   },
   {
    "duration": 30,
    "start_time": "2023-01-19T13:41:45.269Z"
   },
   {
    "duration": 2335,
    "start_time": "2023-01-19T13:41:45.302Z"
   },
   {
    "duration": 6,
    "start_time": "2023-01-19T13:41:47.638Z"
   },
   {
    "duration": 12,
    "start_time": "2023-01-19T13:41:47.645Z"
   },
   {
    "duration": 7,
    "start_time": "2023-01-19T13:41:47.659Z"
   },
   {
    "duration": 25,
    "start_time": "2023-01-19T13:41:47.669Z"
   },
   {
    "duration": 13,
    "start_time": "2023-01-19T13:41:47.699Z"
   },
   {
    "duration": 11,
    "start_time": "2023-01-19T13:41:47.714Z"
   },
   {
    "duration": 12,
    "start_time": "2023-01-19T13:41:47.727Z"
   },
   {
    "duration": 5,
    "start_time": "2023-01-19T13:41:47.740Z"
   },
   {
    "duration": 11,
    "start_time": "2023-01-19T13:41:47.750Z"
   },
   {
    "duration": 34,
    "start_time": "2023-01-19T13:41:47.763Z"
   },
   {
    "duration": 14,
    "start_time": "2023-01-19T13:41:47.799Z"
   },
   {
    "duration": 85,
    "start_time": "2023-01-19T13:41:47.815Z"
   },
   {
    "duration": 95,
    "start_time": "2023-01-19T13:41:47.902Z"
   },
   {
    "duration": 25,
    "start_time": "2023-01-19T13:41:48.000Z"
   },
   {
    "duration": 8,
    "start_time": "2023-01-19T13:41:48.027Z"
   },
   {
    "duration": 8,
    "start_time": "2023-01-19T13:41:48.036Z"
   },
   {
    "duration": 38,
    "start_time": "2023-01-19T13:41:48.045Z"
   },
   {
    "duration": 296,
    "start_time": "2023-01-19T13:41:48.085Z"
   },
   {
    "duration": 10,
    "start_time": "2023-01-19T13:41:48.383Z"
   },
   {
    "duration": 275,
    "start_time": "2023-01-19T13:41:48.394Z"
   },
   {
    "duration": 172,
    "start_time": "2023-01-19T13:41:48.670Z"
   },
   {
    "duration": 8,
    "start_time": "2023-01-19T13:41:48.844Z"
   },
   {
    "duration": 35,
    "start_time": "2023-01-19T13:41:48.854Z"
   },
   {
    "duration": 28,
    "start_time": "2023-01-19T13:41:48.896Z"
   },
   {
    "duration": 214,
    "start_time": "2023-01-19T13:41:48.926Z"
   },
   {
    "duration": 295,
    "start_time": "2023-01-19T13:41:49.142Z"
   },
   {
    "duration": 8,
    "start_time": "2023-01-19T13:41:49.438Z"
   },
   {
    "duration": 11,
    "start_time": "2023-01-19T13:41:49.447Z"
   },
   {
    "duration": 262,
    "start_time": "2023-01-19T13:41:49.460Z"
   },
   {
    "duration": 12,
    "start_time": "2023-01-19T13:41:49.724Z"
   },
   {
    "duration": 9,
    "start_time": "2023-01-19T13:41:49.738Z"
   },
   {
    "duration": 245,
    "start_time": "2023-01-19T13:41:49.749Z"
   },
   {
    "duration": 343,
    "start_time": "2023-01-19T13:41:49.996Z"
   },
   {
    "duration": 16,
    "start_time": "2023-01-19T13:41:50.342Z"
   },
   {
    "duration": 12,
    "start_time": "2023-01-19T13:41:50.382Z"
   },
   {
    "duration": 239,
    "start_time": "2023-01-19T13:41:50.400Z"
   },
   {
    "duration": 205,
    "start_time": "2023-01-19T13:41:50.642Z"
   },
   {
    "duration": 226,
    "start_time": "2023-01-19T13:41:50.850Z"
   },
   {
    "duration": 10,
    "start_time": "2023-01-19T13:41:51.080Z"
   },
   {
    "duration": 26,
    "start_time": "2023-01-19T13:41:51.092Z"
   },
   {
    "duration": 12,
    "start_time": "2023-01-19T13:41:51.119Z"
   },
   {
    "duration": 22,
    "start_time": "2023-01-19T13:41:51.133Z"
   },
   {
    "duration": 14,
    "start_time": "2023-01-19T13:41:51.156Z"
   },
   {
    "duration": 472,
    "start_time": "2023-01-19T13:41:51.171Z"
   },
   {
    "duration": 6,
    "start_time": "2023-01-19T13:41:51.645Z"
   },
   {
    "duration": 51,
    "start_time": "2023-01-19T13:41:51.653Z"
   },
   {
    "duration": 247,
    "start_time": "2023-01-19T13:41:51.707Z"
   },
   {
    "duration": 273,
    "start_time": "2023-01-19T13:41:51.956Z"
   },
   {
    "duration": 199,
    "start_time": "2023-01-19T13:41:52.231Z"
   },
   {
    "duration": 260,
    "start_time": "2023-01-19T13:41:52.432Z"
   },
   {
    "duration": 168,
    "start_time": "2023-01-19T13:41:52.694Z"
   },
   {
    "duration": 205,
    "start_time": "2023-01-19T13:41:52.864Z"
   },
   {
    "duration": 264,
    "start_time": "2023-01-19T13:43:06.377Z"
   },
   {
    "duration": 171,
    "start_time": "2023-01-19T13:43:14.772Z"
   },
   {
    "duration": 252,
    "start_time": "2023-01-19T13:44:49.336Z"
   },
   {
    "duration": 148,
    "start_time": "2023-01-19T13:44:59.113Z"
   },
   {
    "duration": 162,
    "start_time": "2023-01-19T13:45:11.710Z"
   },
   {
    "duration": 155,
    "start_time": "2023-01-19T13:46:07.052Z"
   },
   {
    "duration": 134,
    "start_time": "2023-01-19T13:46:14.543Z"
   },
   {
    "duration": 81,
    "start_time": "2023-01-19T13:47:23.105Z"
   },
   {
    "duration": 177,
    "start_time": "2023-01-19T13:48:14.203Z"
   },
   {
    "duration": 14,
    "start_time": "2023-01-19T13:48:40.772Z"
   },
   {
    "duration": 19,
    "start_time": "2023-01-19T13:48:44.173Z"
   },
   {
    "duration": 15,
    "start_time": "2023-01-19T13:50:14.309Z"
   },
   {
    "duration": 13,
    "start_time": "2023-01-19T13:53:51.474Z"
   },
   {
    "duration": 678,
    "start_time": "2023-01-19T13:55:45.593Z"
   },
   {
    "duration": 135,
    "start_time": "2023-01-19T13:55:46.274Z"
   },
   {
    "duration": 39,
    "start_time": "2023-01-19T13:55:46.412Z"
   },
   {
    "duration": 43,
    "start_time": "2023-01-19T13:55:46.453Z"
   },
   {
    "duration": 2230,
    "start_time": "2023-01-19T13:55:46.499Z"
   },
   {
    "duration": 5,
    "start_time": "2023-01-19T13:55:48.731Z"
   },
   {
    "duration": 17,
    "start_time": "2023-01-19T13:55:48.738Z"
   },
   {
    "duration": 6,
    "start_time": "2023-01-19T13:55:48.757Z"
   },
   {
    "duration": 12,
    "start_time": "2023-01-19T13:55:48.764Z"
   },
   {
    "duration": 8,
    "start_time": "2023-01-19T13:55:48.778Z"
   },
   {
    "duration": 24,
    "start_time": "2023-01-19T13:55:48.788Z"
   },
   {
    "duration": 7,
    "start_time": "2023-01-19T13:55:48.814Z"
   },
   {
    "duration": 10,
    "start_time": "2023-01-19T13:55:48.823Z"
   },
   {
    "duration": 26,
    "start_time": "2023-01-19T13:55:48.837Z"
   },
   {
    "duration": 14,
    "start_time": "2023-01-19T13:55:48.865Z"
   },
   {
    "duration": 12,
    "start_time": "2023-01-19T13:55:48.881Z"
   },
   {
    "duration": 55,
    "start_time": "2023-01-19T13:55:48.894Z"
   },
   {
    "duration": 82,
    "start_time": "2023-01-19T13:55:48.950Z"
   },
   {
    "duration": 23,
    "start_time": "2023-01-19T13:55:49.034Z"
   },
   {
    "duration": 24,
    "start_time": "2023-01-19T13:55:49.058Z"
   },
   {
    "duration": 20,
    "start_time": "2023-01-19T13:55:49.084Z"
   },
   {
    "duration": 9,
    "start_time": "2023-01-19T13:55:49.106Z"
   },
   {
    "duration": 295,
    "start_time": "2023-01-19T13:55:49.117Z"
   },
   {
    "duration": 8,
    "start_time": "2023-01-19T13:55:49.414Z"
   },
   {
    "duration": 317,
    "start_time": "2023-01-19T13:55:49.424Z"
   },
   {
    "duration": 167,
    "start_time": "2023-01-19T13:55:49.743Z"
   },
   {
    "duration": 8,
    "start_time": "2023-01-19T13:55:49.911Z"
   },
   {
    "duration": 14,
    "start_time": "2023-01-19T13:55:49.920Z"
   },
   {
    "duration": 60,
    "start_time": "2023-01-19T13:55:49.936Z"
   },
   {
    "duration": 296,
    "start_time": "2023-01-19T13:55:49.998Z"
   },
   {
    "duration": 350,
    "start_time": "2023-01-19T13:55:50.295Z"
   },
   {
    "duration": 9,
    "start_time": "2023-01-19T13:55:50.648Z"
   },
   {
    "duration": 31,
    "start_time": "2023-01-19T13:55:50.659Z"
   },
   {
    "duration": 228,
    "start_time": "2023-01-19T13:55:50.692Z"
   },
   {
    "duration": 14,
    "start_time": "2023-01-19T13:55:50.921Z"
   },
   {
    "duration": 37,
    "start_time": "2023-01-19T13:55:50.936Z"
   },
   {
    "duration": 231,
    "start_time": "2023-01-19T13:55:50.975Z"
   },
   {
    "duration": 197,
    "start_time": "2023-01-19T13:55:51.208Z"
   },
   {
    "duration": 14,
    "start_time": "2023-01-19T13:55:51.407Z"
   },
   {
    "duration": 18,
    "start_time": "2023-01-19T13:55:51.423Z"
   },
   {
    "duration": 211,
    "start_time": "2023-01-19T13:55:51.447Z"
   },
   {
    "duration": 184,
    "start_time": "2023-01-19T13:55:51.660Z"
   },
   {
    "duration": 223,
    "start_time": "2023-01-19T13:55:51.846Z"
   },
   {
    "duration": 14,
    "start_time": "2023-01-19T13:55:52.071Z"
   },
   {
    "duration": 22,
    "start_time": "2023-01-19T13:55:52.086Z"
   },
   {
    "duration": 4,
    "start_time": "2023-01-19T13:55:52.110Z"
   },
   {
    "duration": 12,
    "start_time": "2023-01-19T13:55:52.116Z"
   },
   {
    "duration": 18,
    "start_time": "2023-01-19T13:55:52.129Z"
   },
   {
    "duration": 433,
    "start_time": "2023-01-19T13:55:52.149Z"
   },
   {
    "duration": 9,
    "start_time": "2023-01-19T13:55:52.584Z"
   },
   {
    "duration": 27,
    "start_time": "2023-01-19T13:55:52.596Z"
   },
   {
    "duration": 201,
    "start_time": "2023-01-19T13:55:52.624Z"
   },
   {
    "duration": 230,
    "start_time": "2023-01-19T13:55:52.828Z"
   },
   {
    "duration": 204,
    "start_time": "2023-01-19T13:55:53.060Z"
   },
   {
    "duration": 270,
    "start_time": "2023-01-19T13:55:53.266Z"
   },
   {
    "duration": 689,
    "start_time": "2023-01-19T13:56:26.909Z"
   },
   {
    "duration": 100,
    "start_time": "2023-01-19T13:56:27.600Z"
   },
   {
    "duration": 31,
    "start_time": "2023-01-19T13:56:27.701Z"
   },
   {
    "duration": 16,
    "start_time": "2023-01-19T13:56:27.733Z"
   },
   {
    "duration": 2169,
    "start_time": "2023-01-19T13:56:27.752Z"
   },
   {
    "duration": 6,
    "start_time": "2023-01-19T13:56:29.922Z"
   },
   {
    "duration": 10,
    "start_time": "2023-01-19T13:56:29.930Z"
   },
   {
    "duration": 7,
    "start_time": "2023-01-19T13:56:29.942Z"
   },
   {
    "duration": 14,
    "start_time": "2023-01-19T13:56:29.950Z"
   },
   {
    "duration": 10,
    "start_time": "2023-01-19T13:56:29.965Z"
   },
   {
    "duration": 25,
    "start_time": "2023-01-19T13:56:29.976Z"
   },
   {
    "duration": 8,
    "start_time": "2023-01-19T13:56:30.003Z"
   },
   {
    "duration": 11,
    "start_time": "2023-01-19T13:56:30.012Z"
   },
   {
    "duration": 37,
    "start_time": "2023-01-19T13:56:30.027Z"
   },
   {
    "duration": 17,
    "start_time": "2023-01-19T13:56:30.067Z"
   },
   {
    "duration": 13,
    "start_time": "2023-01-19T13:56:30.086Z"
   },
   {
    "duration": 53,
    "start_time": "2023-01-19T13:56:30.101Z"
   },
   {
    "duration": 83,
    "start_time": "2023-01-19T13:56:30.156Z"
   },
   {
    "duration": 24,
    "start_time": "2023-01-19T13:56:30.240Z"
   },
   {
    "duration": 48,
    "start_time": "2023-01-19T13:56:30.266Z"
   },
   {
    "duration": 20,
    "start_time": "2023-01-19T13:56:30.316Z"
   },
   {
    "duration": 38,
    "start_time": "2023-01-19T13:56:30.337Z"
   },
   {
    "duration": 301,
    "start_time": "2023-01-19T13:56:30.377Z"
   },
   {
    "duration": 9,
    "start_time": "2023-01-19T13:56:30.681Z"
   },
   {
    "duration": 311,
    "start_time": "2023-01-19T13:56:30.692Z"
   },
   {
    "duration": 176,
    "start_time": "2023-01-19T13:56:31.005Z"
   },
   {
    "duration": 11,
    "start_time": "2023-01-19T13:56:31.183Z"
   },
   {
    "duration": 26,
    "start_time": "2023-01-19T13:56:31.196Z"
   },
   {
    "duration": 43,
    "start_time": "2023-01-19T13:56:31.224Z"
   },
   {
    "duration": 210,
    "start_time": "2023-01-19T13:56:31.268Z"
   },
   {
    "duration": 320,
    "start_time": "2023-01-19T13:56:31.482Z"
   },
   {
    "duration": 9,
    "start_time": "2023-01-19T13:56:31.803Z"
   },
   {
    "duration": 20,
    "start_time": "2023-01-19T13:56:31.814Z"
   },
   {
    "duration": 233,
    "start_time": "2023-01-19T13:56:31.836Z"
   },
   {
    "duration": 22,
    "start_time": "2023-01-19T13:56:32.071Z"
   },
   {
    "duration": 12,
    "start_time": "2023-01-19T13:56:32.096Z"
   },
   {
    "duration": 226,
    "start_time": "2023-01-19T13:56:32.111Z"
   },
   {
    "duration": 205,
    "start_time": "2023-01-19T13:56:32.340Z"
   },
   {
    "duration": 13,
    "start_time": "2023-01-19T13:56:32.547Z"
   },
   {
    "duration": 26,
    "start_time": "2023-01-19T13:56:32.561Z"
   },
   {
    "duration": 203,
    "start_time": "2023-01-19T13:56:32.592Z"
   },
   {
    "duration": 184,
    "start_time": "2023-01-19T13:56:32.798Z"
   },
   {
    "duration": 223,
    "start_time": "2023-01-19T13:56:32.984Z"
   },
   {
    "duration": 6,
    "start_time": "2023-01-19T13:56:33.209Z"
   },
   {
    "duration": 13,
    "start_time": "2023-01-19T13:56:33.217Z"
   },
   {
    "duration": 8,
    "start_time": "2023-01-19T13:56:33.232Z"
   },
   {
    "duration": 28,
    "start_time": "2023-01-19T13:56:33.242Z"
   },
   {
    "duration": 9,
    "start_time": "2023-01-19T13:56:33.272Z"
   },
   {
    "duration": 425,
    "start_time": "2023-01-19T13:56:33.283Z"
   },
   {
    "duration": 4,
    "start_time": "2023-01-19T13:56:33.710Z"
   },
   {
    "duration": 27,
    "start_time": "2023-01-19T13:56:33.716Z"
   },
   {
    "duration": 213,
    "start_time": "2023-01-19T13:56:33.744Z"
   },
   {
    "duration": 220,
    "start_time": "2023-01-19T13:56:33.959Z"
   },
   {
    "duration": 193,
    "start_time": "2023-01-19T13:56:34.181Z"
   },
   {
    "duration": 265,
    "start_time": "2023-01-19T13:56:34.381Z"
   },
   {
    "duration": 671,
    "start_time": "2023-01-19T13:58:46.350Z"
   },
   {
    "duration": 104,
    "start_time": "2023-01-19T13:58:47.023Z"
   },
   {
    "duration": 36,
    "start_time": "2023-01-19T13:58:47.129Z"
   },
   {
    "duration": 26,
    "start_time": "2023-01-19T13:58:47.180Z"
   },
   {
    "duration": 2228,
    "start_time": "2023-01-19T13:58:47.209Z"
   },
   {
    "duration": 6,
    "start_time": "2023-01-19T13:58:49.439Z"
   },
   {
    "duration": 42,
    "start_time": "2023-01-19T13:58:49.446Z"
   },
   {
    "duration": 7,
    "start_time": "2023-01-19T13:58:49.491Z"
   },
   {
    "duration": 22,
    "start_time": "2023-01-19T13:58:49.500Z"
   },
   {
    "duration": 17,
    "start_time": "2023-01-19T13:58:49.525Z"
   },
   {
    "duration": 16,
    "start_time": "2023-01-19T13:58:49.545Z"
   },
   {
    "duration": 18,
    "start_time": "2023-01-19T13:58:49.564Z"
   },
   {
    "duration": 6,
    "start_time": "2023-01-19T13:58:49.584Z"
   },
   {
    "duration": 14,
    "start_time": "2023-01-19T13:58:49.593Z"
   },
   {
    "duration": 15,
    "start_time": "2023-01-19T13:58:49.609Z"
   },
   {
    "duration": 7,
    "start_time": "2023-01-19T13:58:49.626Z"
   },
   {
    "duration": 85,
    "start_time": "2023-01-19T13:58:49.635Z"
   },
   {
    "duration": 76,
    "start_time": "2023-01-19T13:58:49.722Z"
   },
   {
    "duration": 24,
    "start_time": "2023-01-19T13:58:49.800Z"
   },
   {
    "duration": 10,
    "start_time": "2023-01-19T13:58:49.826Z"
   },
   {
    "duration": 8,
    "start_time": "2023-01-19T13:58:49.838Z"
   },
   {
    "duration": 36,
    "start_time": "2023-01-19T13:58:49.848Z"
   },
   {
    "duration": 286,
    "start_time": "2023-01-19T13:58:49.886Z"
   },
   {
    "duration": 12,
    "start_time": "2023-01-19T13:58:50.175Z"
   },
   {
    "duration": 346,
    "start_time": "2023-01-19T13:58:50.189Z"
   },
   {
    "duration": 211,
    "start_time": "2023-01-19T13:58:50.537Z"
   },
   {
    "duration": 8,
    "start_time": "2023-01-19T13:58:50.750Z"
   },
   {
    "duration": 26,
    "start_time": "2023-01-19T13:58:50.760Z"
   },
   {
    "duration": 30,
    "start_time": "2023-01-19T13:58:50.788Z"
   },
   {
    "duration": 229,
    "start_time": "2023-01-19T13:58:50.819Z"
   },
   {
    "duration": 321,
    "start_time": "2023-01-19T13:58:51.050Z"
   },
   {
    "duration": 12,
    "start_time": "2023-01-19T13:58:51.372Z"
   },
   {
    "duration": 12,
    "start_time": "2023-01-19T13:58:51.386Z"
   },
   {
    "duration": 237,
    "start_time": "2023-01-19T13:58:51.400Z"
   },
   {
    "duration": 14,
    "start_time": "2023-01-19T13:58:51.639Z"
   },
   {
    "duration": 14,
    "start_time": "2023-01-19T13:58:51.654Z"
   },
   {
    "duration": 216,
    "start_time": "2023-01-19T13:58:51.680Z"
   },
   {
    "duration": 191,
    "start_time": "2023-01-19T13:58:51.897Z"
   },
   {
    "duration": 19,
    "start_time": "2023-01-19T13:58:52.090Z"
   },
   {
    "duration": 14,
    "start_time": "2023-01-19T13:58:52.112Z"
   },
   {
    "duration": 223,
    "start_time": "2023-01-19T13:58:52.133Z"
   },
   {
    "duration": 182,
    "start_time": "2023-01-19T13:58:52.357Z"
   },
   {
    "duration": 223,
    "start_time": "2023-01-19T13:58:52.540Z"
   },
   {
    "duration": 15,
    "start_time": "2023-01-19T13:58:52.766Z"
   },
   {
    "duration": 17,
    "start_time": "2023-01-19T13:58:52.784Z"
   },
   {
    "duration": 6,
    "start_time": "2023-01-19T13:58:52.803Z"
   },
   {
    "duration": 10,
    "start_time": "2023-01-19T13:58:52.811Z"
   },
   {
    "duration": 8,
    "start_time": "2023-01-19T13:58:52.823Z"
   },
   {
    "duration": 443,
    "start_time": "2023-01-19T13:58:52.833Z"
   },
   {
    "duration": 5,
    "start_time": "2023-01-19T13:58:53.277Z"
   },
   {
    "duration": 25,
    "start_time": "2023-01-19T13:58:53.284Z"
   },
   {
    "duration": 248,
    "start_time": "2023-01-19T13:58:53.311Z"
   },
   {
    "duration": 215,
    "start_time": "2023-01-19T13:58:53.562Z"
   },
   {
    "duration": 196,
    "start_time": "2023-01-19T13:58:53.781Z"
   },
   {
    "duration": 256,
    "start_time": "2023-01-19T13:58:53.980Z"
   },
   {
    "duration": 161,
    "start_time": "2023-01-19T13:58:54.238Z"
   },
   {
    "duration": 160,
    "start_time": "2023-01-19T13:58:54.400Z"
   },
   {
    "duration": 139,
    "start_time": "2023-01-19T13:58:54.562Z"
   },
   {
    "duration": 86,
    "start_time": "2023-01-19T13:58:54.703Z"
   },
   {
    "duration": 23,
    "start_time": "2023-01-19T14:05:45.143Z"
   },
   {
    "duration": 16,
    "start_time": "2023-01-19T14:06:18.006Z"
   },
   {
    "duration": 137,
    "start_time": "2023-01-19T14:06:30.773Z"
   },
   {
    "duration": 250,
    "start_time": "2023-01-19T14:06:39.346Z"
   },
   {
    "duration": 228,
    "start_time": "2023-01-19T14:07:23.762Z"
   },
   {
    "duration": 229,
    "start_time": "2023-01-19T14:08:02.638Z"
   },
   {
    "duration": 223,
    "start_time": "2023-01-19T14:09:58.783Z"
   },
   {
    "duration": 665,
    "start_time": "2023-01-19T14:13:11.381Z"
   },
   {
    "duration": 96,
    "start_time": "2023-01-19T14:13:12.048Z"
   },
   {
    "duration": 37,
    "start_time": "2023-01-19T14:13:12.145Z"
   },
   {
    "duration": 14,
    "start_time": "2023-01-19T14:13:12.184Z"
   },
   {
    "duration": 2068,
    "start_time": "2023-01-19T14:13:12.201Z"
   },
   {
    "duration": 6,
    "start_time": "2023-01-19T14:13:14.270Z"
   },
   {
    "duration": 14,
    "start_time": "2023-01-19T14:13:14.278Z"
   },
   {
    "duration": 6,
    "start_time": "2023-01-19T14:13:14.294Z"
   },
   {
    "duration": 14,
    "start_time": "2023-01-19T14:13:14.301Z"
   },
   {
    "duration": 6,
    "start_time": "2023-01-19T14:13:14.317Z"
   },
   {
    "duration": 31,
    "start_time": "2023-01-19T14:13:14.325Z"
   },
   {
    "duration": 10,
    "start_time": "2023-01-19T14:13:14.358Z"
   },
   {
    "duration": 5,
    "start_time": "2023-01-19T14:13:14.380Z"
   },
   {
    "duration": 16,
    "start_time": "2023-01-19T14:13:14.388Z"
   },
   {
    "duration": 14,
    "start_time": "2023-01-19T14:13:14.406Z"
   },
   {
    "duration": 7,
    "start_time": "2023-01-19T14:13:14.423Z"
   },
   {
    "duration": 83,
    "start_time": "2023-01-19T14:13:14.433Z"
   },
   {
    "duration": 74,
    "start_time": "2023-01-19T14:13:14.518Z"
   },
   {
    "duration": 22,
    "start_time": "2023-01-19T14:13:14.594Z"
   },
   {
    "duration": 8,
    "start_time": "2023-01-19T14:13:14.618Z"
   },
   {
    "duration": 6,
    "start_time": "2023-01-19T14:13:14.628Z"
   },
   {
    "duration": 45,
    "start_time": "2023-01-19T14:13:14.636Z"
   },
   {
    "duration": 275,
    "start_time": "2023-01-19T14:13:14.683Z"
   },
   {
    "duration": 7,
    "start_time": "2023-01-19T14:13:14.960Z"
   },
   {
    "duration": 270,
    "start_time": "2023-01-19T14:13:14.969Z"
   },
   {
    "duration": 172,
    "start_time": "2023-01-19T14:13:15.242Z"
   },
   {
    "duration": 9,
    "start_time": "2023-01-19T14:13:15.416Z"
   },
   {
    "duration": 16,
    "start_time": "2023-01-19T14:13:15.427Z"
   },
   {
    "duration": 43,
    "start_time": "2023-01-19T14:13:15.444Z"
   },
   {
    "duration": 218,
    "start_time": "2023-01-19T14:13:15.489Z"
   },
   {
    "duration": 296,
    "start_time": "2023-01-19T14:13:15.709Z"
   },
   {
    "duration": 8,
    "start_time": "2023-01-19T14:13:16.007Z"
   },
   {
    "duration": 14,
    "start_time": "2023-01-19T14:13:16.017Z"
   },
   {
    "duration": 236,
    "start_time": "2023-01-19T14:13:16.033Z"
   },
   {
    "duration": 19,
    "start_time": "2023-01-19T14:13:16.271Z"
   },
   {
    "duration": 11,
    "start_time": "2023-01-19T14:13:16.292Z"
   },
   {
    "duration": 293,
    "start_time": "2023-01-19T14:13:16.305Z"
   },
   {
    "duration": 237,
    "start_time": "2023-01-19T14:13:16.601Z"
   },
   {
    "duration": 15,
    "start_time": "2023-01-19T14:13:16.840Z"
   },
   {
    "duration": 29,
    "start_time": "2023-01-19T14:13:16.857Z"
   },
   {
    "duration": 190,
    "start_time": "2023-01-19T14:13:16.891Z"
   },
   {
    "duration": 191,
    "start_time": "2023-01-19T14:13:17.083Z"
   },
   {
    "duration": 244,
    "start_time": "2023-01-19T14:13:17.276Z"
   },
   {
    "duration": 7,
    "start_time": "2023-01-19T14:13:17.522Z"
   },
   {
    "duration": 16,
    "start_time": "2023-01-19T14:13:17.531Z"
   },
   {
    "duration": 8,
    "start_time": "2023-01-19T14:13:17.549Z"
   },
   {
    "duration": 28,
    "start_time": "2023-01-19T14:13:17.559Z"
   },
   {
    "duration": 17,
    "start_time": "2023-01-19T14:13:17.589Z"
   },
   {
    "duration": 437,
    "start_time": "2023-01-19T14:13:17.608Z"
   },
   {
    "duration": 5,
    "start_time": "2023-01-19T14:13:18.047Z"
   },
   {
    "duration": 30,
    "start_time": "2023-01-19T14:13:18.054Z"
   },
   {
    "duration": 525,
    "start_time": "2023-01-19T14:13:18.086Z"
   },
   {
    "duration": 243,
    "start_time": "2023-01-19T14:13:18.612Z"
   },
   {
    "duration": 164,
    "start_time": "2023-01-19T14:13:18.857Z"
   },
   {
    "duration": 134,
    "start_time": "2023-01-19T14:13:19.023Z"
   },
   {
    "duration": 159,
    "start_time": "2023-01-19T14:13:19.159Z"
   },
   {
    "duration": 85,
    "start_time": "2023-01-19T14:15:50.237Z"
   },
   {
    "duration": 155,
    "start_time": "2023-01-19T14:16:12.651Z"
   },
   {
    "duration": 222,
    "start_time": "2023-01-19T14:18:13.589Z"
   },
   {
    "duration": 869,
    "start_time": "2023-01-19T15:16:22.644Z"
   },
   {
    "duration": 337,
    "start_time": "2023-01-19T15:16:23.515Z"
   },
   {
    "duration": 32,
    "start_time": "2023-01-19T15:16:23.855Z"
   },
   {
    "duration": 16,
    "start_time": "2023-01-19T15:16:23.889Z"
   },
   {
    "duration": 2196,
    "start_time": "2023-01-19T15:16:23.908Z"
   },
   {
    "duration": 5,
    "start_time": "2023-01-19T15:16:26.106Z"
   },
   {
    "duration": 27,
    "start_time": "2023-01-19T15:16:26.113Z"
   },
   {
    "duration": 16,
    "start_time": "2023-01-19T15:16:26.141Z"
   },
   {
    "duration": 28,
    "start_time": "2023-01-19T15:16:26.159Z"
   },
   {
    "duration": 6,
    "start_time": "2023-01-19T15:16:26.189Z"
   },
   {
    "duration": 26,
    "start_time": "2023-01-19T15:16:26.196Z"
   },
   {
    "duration": 16,
    "start_time": "2023-01-19T15:16:26.224Z"
   },
   {
    "duration": 13,
    "start_time": "2023-01-19T15:16:26.242Z"
   },
   {
    "duration": 24,
    "start_time": "2023-01-19T15:16:26.260Z"
   },
   {
    "duration": 22,
    "start_time": "2023-01-19T15:16:26.287Z"
   },
   {
    "duration": 13,
    "start_time": "2023-01-19T15:16:26.311Z"
   },
   {
    "duration": 69,
    "start_time": "2023-01-19T15:16:26.326Z"
   },
   {
    "duration": 80,
    "start_time": "2023-01-19T15:16:26.397Z"
   },
   {
    "duration": 25,
    "start_time": "2023-01-19T15:16:26.479Z"
   },
   {
    "duration": 10,
    "start_time": "2023-01-19T15:16:26.506Z"
   },
   {
    "duration": 8,
    "start_time": "2023-01-19T15:16:26.538Z"
   },
   {
    "duration": 16,
    "start_time": "2023-01-19T15:16:26.549Z"
   },
   {
    "duration": 295,
    "start_time": "2023-01-19T15:16:26.568Z"
   },
   {
    "duration": 9,
    "start_time": "2023-01-19T15:16:26.865Z"
   },
   {
    "duration": 298,
    "start_time": "2023-01-19T15:16:26.875Z"
   },
   {
    "duration": 181,
    "start_time": "2023-01-19T15:16:27.175Z"
   },
   {
    "duration": 8,
    "start_time": "2023-01-19T15:16:27.358Z"
   },
   {
    "duration": 24,
    "start_time": "2023-01-19T15:16:27.367Z"
   },
   {
    "duration": 42,
    "start_time": "2023-01-19T15:16:27.393Z"
   },
   {
    "duration": 220,
    "start_time": "2023-01-19T15:16:27.438Z"
   },
   {
    "duration": 303,
    "start_time": "2023-01-19T15:16:27.660Z"
   },
   {
    "duration": 8,
    "start_time": "2023-01-19T15:16:27.965Z"
   },
   {
    "duration": 13,
    "start_time": "2023-01-19T15:16:27.975Z"
   },
   {
    "duration": 273,
    "start_time": "2023-01-19T15:16:27.990Z"
   },
   {
    "duration": 13,
    "start_time": "2023-01-19T15:16:28.265Z"
   },
   {
    "duration": 9,
    "start_time": "2023-01-19T15:16:28.280Z"
   },
   {
    "duration": 219,
    "start_time": "2023-01-19T15:16:28.291Z"
   },
   {
    "duration": 190,
    "start_time": "2023-01-19T15:16:28.512Z"
   },
   {
    "duration": 14,
    "start_time": "2023-01-19T15:16:28.704Z"
   },
   {
    "duration": 51,
    "start_time": "2023-01-19T15:16:28.720Z"
   },
   {
    "duration": 172,
    "start_time": "2023-01-19T15:16:28.775Z"
   },
   {
    "duration": 181,
    "start_time": "2023-01-19T15:16:28.949Z"
   },
   {
    "duration": 215,
    "start_time": "2023-01-19T15:16:29.132Z"
   },
   {
    "duration": 8,
    "start_time": "2023-01-19T15:16:29.349Z"
   },
   {
    "duration": 15,
    "start_time": "2023-01-19T15:16:29.359Z"
   },
   {
    "duration": 6,
    "start_time": "2023-01-19T15:16:29.376Z"
   },
   {
    "duration": 13,
    "start_time": "2023-01-19T15:16:29.384Z"
   },
   {
    "duration": 19,
    "start_time": "2023-01-19T15:16:29.399Z"
   },
   {
    "duration": 408,
    "start_time": "2023-01-19T15:16:29.420Z"
   },
   {
    "duration": 10,
    "start_time": "2023-01-19T15:16:29.830Z"
   },
   {
    "duration": 25,
    "start_time": "2023-01-19T15:16:29.842Z"
   },
   {
    "duration": 199,
    "start_time": "2023-01-19T15:16:29.869Z"
   },
   {
    "duration": 210,
    "start_time": "2023-01-19T15:16:30.070Z"
   },
   {
    "duration": 213,
    "start_time": "2023-01-19T15:16:30.282Z"
   },
   {
    "duration": 208,
    "start_time": "2023-01-19T15:16:30.497Z"
   },
   {
    "duration": 157,
    "start_time": "2023-01-19T15:16:30.706Z"
   },
   {
    "duration": 156,
    "start_time": "2023-01-19T15:16:30.865Z"
   },
   {
    "duration": 180,
    "start_time": "2023-01-19T15:16:31.023Z"
   },
   {
    "duration": 125,
    "start_time": "2023-01-19T15:16:31.205Z"
   },
   {
    "duration": 279,
    "start_time": "2023-01-19T15:16:31.331Z"
   },
   {
    "duration": 215,
    "start_time": "2023-01-19T15:16:31.611Z"
   },
   {
    "duration": 188,
    "start_time": "2023-01-19T15:16:31.828Z"
   },
   {
    "duration": 197,
    "start_time": "2023-01-19T15:16:32.018Z"
   },
   {
    "duration": 363,
    "start_time": "2023-01-19T15:16:32.218Z"
   },
   {
    "duration": 579,
    "start_time": "2023-01-19T15:16:32.583Z"
   },
   {
    "duration": 256,
    "start_time": "2023-01-19T15:16:33.165Z"
   },
   {
    "duration": 301,
    "start_time": "2023-01-19T15:16:33.424Z"
   },
   {
    "duration": 307,
    "start_time": "2023-01-19T15:18:22.082Z"
   },
   {
    "duration": 278,
    "start_time": "2023-01-19T15:18:47.451Z"
   },
   {
    "duration": 290,
    "start_time": "2023-01-19T15:19:03.390Z"
   },
   {
    "duration": 47,
    "start_time": "2023-01-20T08:32:49.739Z"
   },
   {
    "duration": 810,
    "start_time": "2023-01-20T08:32:57.979Z"
   },
   {
    "duration": 392,
    "start_time": "2023-01-20T08:32:58.795Z"
   },
   {
    "duration": 41,
    "start_time": "2023-01-20T08:32:59.189Z"
   },
   {
    "duration": 15,
    "start_time": "2023-01-20T08:32:59.232Z"
   },
   {
    "duration": 2200,
    "start_time": "2023-01-20T08:32:59.249Z"
   },
   {
    "duration": 5,
    "start_time": "2023-01-20T08:33:01.452Z"
   },
   {
    "duration": 38,
    "start_time": "2023-01-20T08:33:01.459Z"
   },
   {
    "duration": 53,
    "start_time": "2023-01-20T08:33:01.498Z"
   },
   {
    "duration": 76,
    "start_time": "2023-01-20T08:33:01.553Z"
   },
   {
    "duration": 25,
    "start_time": "2023-01-20T08:33:01.632Z"
   },
   {
    "duration": 33,
    "start_time": "2023-01-20T08:33:01.660Z"
   },
   {
    "duration": 51,
    "start_time": "2023-01-20T08:33:01.704Z"
   },
   {
    "duration": 25,
    "start_time": "2023-01-20T08:33:01.756Z"
   },
   {
    "duration": 43,
    "start_time": "2023-01-20T08:33:01.782Z"
   },
   {
    "duration": 40,
    "start_time": "2023-01-20T08:33:01.827Z"
   },
   {
    "duration": 59,
    "start_time": "2023-01-20T08:33:01.869Z"
   },
   {
    "duration": 100,
    "start_time": "2023-01-20T08:33:01.929Z"
   },
   {
    "duration": 83,
    "start_time": "2023-01-20T08:33:02.030Z"
   },
   {
    "duration": 27,
    "start_time": "2023-01-20T08:33:02.115Z"
   },
   {
    "duration": 17,
    "start_time": "2023-01-20T08:33:02.144Z"
   },
   {
    "duration": 11,
    "start_time": "2023-01-20T08:33:02.163Z"
   },
   {
    "duration": 26,
    "start_time": "2023-01-20T08:33:02.176Z"
   },
   {
    "duration": 263,
    "start_time": "2023-01-20T08:33:02.206Z"
   },
   {
    "duration": 7,
    "start_time": "2023-01-20T08:33:02.471Z"
   },
   {
    "duration": 292,
    "start_time": "2023-01-20T08:33:02.479Z"
   },
   {
    "duration": 176,
    "start_time": "2023-01-20T08:33:02.773Z"
   },
   {
    "duration": 9,
    "start_time": "2023-01-20T08:33:02.950Z"
   },
   {
    "duration": 11,
    "start_time": "2023-01-20T08:33:02.962Z"
   },
   {
    "duration": 55,
    "start_time": "2023-01-20T08:33:02.974Z"
   },
   {
    "duration": 214,
    "start_time": "2023-01-20T08:33:03.031Z"
   },
   {
    "duration": 286,
    "start_time": "2023-01-20T08:33:03.246Z"
   },
   {
    "duration": 6,
    "start_time": "2023-01-20T08:33:03.534Z"
   },
   {
    "duration": 9,
    "start_time": "2023-01-20T08:33:03.542Z"
   },
   {
    "duration": 251,
    "start_time": "2023-01-20T08:33:03.552Z"
   },
   {
    "duration": 21,
    "start_time": "2023-01-20T08:33:03.806Z"
   },
   {
    "duration": 10,
    "start_time": "2023-01-20T08:33:03.829Z"
   },
   {
    "duration": 215,
    "start_time": "2023-01-20T08:33:03.841Z"
   },
   {
    "duration": 200,
    "start_time": "2023-01-20T08:33:04.057Z"
   },
   {
    "duration": 12,
    "start_time": "2023-01-20T08:33:04.259Z"
   },
   {
    "duration": 30,
    "start_time": "2023-01-20T08:33:04.273Z"
   },
   {
    "duration": 195,
    "start_time": "2023-01-20T08:33:04.305Z"
   },
   {
    "duration": 204,
    "start_time": "2023-01-20T08:33:04.504Z"
   },
   {
    "duration": 213,
    "start_time": "2023-01-20T08:33:04.710Z"
   },
   {
    "duration": 7,
    "start_time": "2023-01-20T08:33:04.925Z"
   },
   {
    "duration": 10,
    "start_time": "2023-01-20T08:33:04.934Z"
   },
   {
    "duration": 4,
    "start_time": "2023-01-20T08:33:04.946Z"
   },
   {
    "duration": 10,
    "start_time": "2023-01-20T08:33:04.951Z"
   },
   {
    "duration": 42,
    "start_time": "2023-01-20T08:33:04.963Z"
   },
   {
    "duration": 430,
    "start_time": "2023-01-20T08:33:05.007Z"
   },
   {
    "duration": 4,
    "start_time": "2023-01-20T08:33:05.439Z"
   },
   {
    "duration": 26,
    "start_time": "2023-01-20T08:33:05.444Z"
   },
   {
    "duration": 203,
    "start_time": "2023-01-20T08:33:05.471Z"
   },
   {
    "duration": 225,
    "start_time": "2023-01-20T08:33:05.677Z"
   },
   {
    "duration": 234,
    "start_time": "2023-01-20T08:33:05.908Z"
   },
   {
    "duration": 256,
    "start_time": "2023-01-20T08:33:06.144Z"
   },
   {
    "duration": 179,
    "start_time": "2023-01-20T08:33:06.403Z"
   },
   {
    "duration": 183,
    "start_time": "2023-01-20T08:33:06.584Z"
   },
   {
    "duration": 186,
    "start_time": "2023-01-20T08:33:06.769Z"
   },
   {
    "duration": 153,
    "start_time": "2023-01-20T08:33:06.957Z"
   },
   {
    "duration": 307,
    "start_time": "2023-01-20T08:33:07.111Z"
   },
   {
    "duration": 222,
    "start_time": "2023-01-20T08:33:07.420Z"
   },
   {
    "duration": 201,
    "start_time": "2023-01-20T08:33:07.644Z"
   },
   {
    "duration": 228,
    "start_time": "2023-01-20T08:33:07.847Z"
   },
   {
    "duration": 327,
    "start_time": "2023-01-20T08:33:08.077Z"
   },
   {
    "duration": 3511,
    "start_time": "2023-01-20T08:33:08.412Z"
   },
   {
    "duration": 2,
    "start_time": "2023-01-20T08:33:11.925Z"
   },
   {
    "duration": 6,
    "start_time": "2023-01-20T08:33:11.929Z"
   },
   {
    "duration": 5,
    "start_time": "2023-01-20T08:33:11.936Z"
   },
   {
    "duration": 208,
    "start_time": "2023-01-20T08:33:35.022Z"
   },
   {
    "duration": 50,
    "start_time": "2023-01-20T09:54:44.737Z"
   },
   {
    "duration": 783,
    "start_time": "2023-01-20T09:54:55.457Z"
   },
   {
    "duration": 331,
    "start_time": "2023-01-20T09:54:56.242Z"
   },
   {
    "duration": 31,
    "start_time": "2023-01-20T09:54:56.574Z"
   },
   {
    "duration": 16,
    "start_time": "2023-01-20T09:54:56.607Z"
   },
   {
    "duration": 2000,
    "start_time": "2023-01-20T09:54:56.624Z"
   },
   {
    "duration": 6,
    "start_time": "2023-01-20T09:54:58.626Z"
   },
   {
    "duration": 10,
    "start_time": "2023-01-20T09:54:58.633Z"
   },
   {
    "duration": 6,
    "start_time": "2023-01-20T09:54:58.645Z"
   },
   {
    "duration": 13,
    "start_time": "2023-01-20T09:54:58.652Z"
   },
   {
    "duration": 6,
    "start_time": "2023-01-20T09:54:58.667Z"
   },
   {
    "duration": 12,
    "start_time": "2023-01-20T09:54:58.674Z"
   },
   {
    "duration": 39,
    "start_time": "2023-01-20T09:54:58.687Z"
   },
   {
    "duration": 4,
    "start_time": "2023-01-20T09:54:58.728Z"
   },
   {
    "duration": 12,
    "start_time": "2023-01-20T09:54:58.733Z"
   },
   {
    "duration": 14,
    "start_time": "2023-01-20T09:54:58.747Z"
   },
   {
    "duration": 7,
    "start_time": "2023-01-20T09:54:58.763Z"
   },
   {
    "duration": 98,
    "start_time": "2023-01-20T09:54:58.772Z"
   },
   {
    "duration": 78,
    "start_time": "2023-01-20T09:54:58.872Z"
   },
   {
    "duration": 24,
    "start_time": "2023-01-20T09:54:58.952Z"
   },
   {
    "duration": 14,
    "start_time": "2023-01-20T09:54:58.977Z"
   },
   {
    "duration": 14,
    "start_time": "2023-01-20T09:54:58.992Z"
   },
   {
    "duration": 20,
    "start_time": "2023-01-20T09:54:59.007Z"
   },
   {
    "duration": 260,
    "start_time": "2023-01-20T09:54:59.028Z"
   },
   {
    "duration": 7,
    "start_time": "2023-01-20T09:54:59.290Z"
   },
   {
    "duration": 262,
    "start_time": "2023-01-20T09:54:59.299Z"
   },
   {
    "duration": 152,
    "start_time": "2023-01-20T09:54:59.563Z"
   },
   {
    "duration": 7,
    "start_time": "2023-01-20T09:54:59.721Z"
   },
   {
    "duration": 10,
    "start_time": "2023-01-20T09:54:59.732Z"
   },
   {
    "duration": 25,
    "start_time": "2023-01-20T09:54:59.744Z"
   },
   {
    "duration": 225,
    "start_time": "2023-01-20T09:54:59.771Z"
   },
   {
    "duration": 274,
    "start_time": "2023-01-20T09:54:59.998Z"
   },
   {
    "duration": 7,
    "start_time": "2023-01-20T09:55:00.274Z"
   },
   {
    "duration": 25,
    "start_time": "2023-01-20T09:55:00.282Z"
   },
   {
    "duration": 219,
    "start_time": "2023-01-20T09:55:00.309Z"
   },
   {
    "duration": 14,
    "start_time": "2023-01-20T09:55:00.530Z"
   },
   {
    "duration": 26,
    "start_time": "2023-01-20T09:55:00.546Z"
   },
   {
    "duration": 213,
    "start_time": "2023-01-20T09:55:00.574Z"
   },
   {
    "duration": 189,
    "start_time": "2023-01-20T09:55:00.789Z"
   },
   {
    "duration": 13,
    "start_time": "2023-01-20T09:55:00.979Z"
   },
   {
    "duration": 29,
    "start_time": "2023-01-20T09:55:00.994Z"
   },
   {
    "duration": 196,
    "start_time": "2023-01-20T09:55:01.025Z"
   },
   {
    "duration": 178,
    "start_time": "2023-01-20T09:55:01.222Z"
   },
   {
    "duration": 212,
    "start_time": "2023-01-20T09:55:01.402Z"
   },
   {
    "duration": 6,
    "start_time": "2023-01-20T09:55:01.621Z"
   },
   {
    "duration": 20,
    "start_time": "2023-01-20T09:55:01.629Z"
   },
   {
    "duration": 14,
    "start_time": "2023-01-20T09:55:01.651Z"
   },
   {
    "duration": 46,
    "start_time": "2023-01-20T09:55:01.667Z"
   },
   {
    "duration": 23,
    "start_time": "2023-01-20T09:55:01.715Z"
   },
   {
    "duration": 409,
    "start_time": "2023-01-20T09:55:01.740Z"
   },
   {
    "duration": 4,
    "start_time": "2023-01-20T09:55:02.151Z"
   },
   {
    "duration": 28,
    "start_time": "2023-01-20T09:55:02.157Z"
   },
   {
    "duration": 215,
    "start_time": "2023-01-20T09:55:02.186Z"
   },
   {
    "duration": 196,
    "start_time": "2023-01-20T09:55:02.403Z"
   },
   {
    "duration": 203,
    "start_time": "2023-01-20T09:55:02.600Z"
   },
   {
    "duration": 201,
    "start_time": "2023-01-20T09:55:02.805Z"
   },
   {
    "duration": 156,
    "start_time": "2023-01-20T09:55:03.008Z"
   },
   {
    "duration": 143,
    "start_time": "2023-01-20T09:55:03.165Z"
   },
   {
    "duration": 164,
    "start_time": "2023-01-20T09:55:03.310Z"
   },
   {
    "duration": 132,
    "start_time": "2023-01-20T09:55:03.475Z"
   },
   {
    "duration": 274,
    "start_time": "2023-01-20T09:55:03.608Z"
   },
   {
    "duration": 204,
    "start_time": "2023-01-20T09:55:03.884Z"
   },
   {
    "duration": 180,
    "start_time": "2023-01-20T09:55:04.090Z"
   },
   {
    "duration": 227,
    "start_time": "2023-01-20T09:55:04.272Z"
   },
   {
    "duration": 289,
    "start_time": "2023-01-20T09:55:04.501Z"
   },
   {
    "duration": 196,
    "start_time": "2023-01-20T09:55:04.792Z"
   },
   {
    "duration": 4,
    "start_time": "2023-01-20T09:55:04.992Z"
   },
   {
    "duration": 21,
    "start_time": "2023-01-20T09:55:04.998Z"
   },
   {
    "duration": 6,
    "start_time": "2023-01-20T09:55:05.021Z"
   },
   {
    "duration": 267,
    "start_time": "2023-01-20T09:55:36.847Z"
   },
   {
    "duration": 197,
    "start_time": "2023-01-20T09:55:46.997Z"
   },
   {
    "duration": 281,
    "start_time": "2023-01-20T09:56:10.014Z"
   },
   {
    "duration": 55,
    "start_time": "2023-01-20T09:58:22.598Z"
   },
   {
    "duration": 187,
    "start_time": "2023-01-20T09:58:31.495Z"
   },
   {
    "duration": 211,
    "start_time": "2023-01-20T10:07:46.979Z"
   },
   {
    "duration": 199,
    "start_time": "2023-01-20T10:07:51.429Z"
   },
   {
    "duration": 271,
    "start_time": "2023-01-20T10:08:33.739Z"
   },
   {
    "duration": 198,
    "start_time": "2023-01-20T10:08:48.930Z"
   },
   {
    "duration": 214,
    "start_time": "2023-01-20T10:09:06.289Z"
   },
   {
    "duration": 541,
    "start_time": "2023-01-20T10:14:16.829Z"
   },
   {
    "duration": 676,
    "start_time": "2023-01-20T10:17:12.346Z"
   },
   {
    "duration": 546,
    "start_time": "2023-01-20T10:17:58.433Z"
   },
   {
    "duration": 166,
    "start_time": "2023-01-20T10:18:37.886Z"
   },
   {
    "duration": 137,
    "start_time": "2023-01-20T10:27:22.844Z"
   },
   {
    "duration": 140,
    "start_time": "2023-01-20T10:31:08.834Z"
   },
   {
    "duration": 166,
    "start_time": "2023-01-20T10:31:39.594Z"
   },
   {
    "duration": 185,
    "start_time": "2023-01-20T10:35:45.574Z"
   },
   {
    "duration": 165,
    "start_time": "2023-01-20T10:39:18.754Z"
   },
   {
    "duration": 160,
    "start_time": "2023-01-20T10:41:32.084Z"
   },
   {
    "duration": 35,
    "start_time": "2023-01-20T10:52:46.144Z"
   },
   {
    "duration": 27,
    "start_time": "2023-01-20T10:52:52.373Z"
   },
   {
    "duration": 36,
    "start_time": "2023-01-20T10:53:07.163Z"
   },
   {
    "duration": 26,
    "start_time": "2023-01-20T10:54:22.729Z"
   },
   {
    "duration": 190,
    "start_time": "2023-01-20T10:54:36.809Z"
   },
   {
    "duration": 242,
    "start_time": "2023-01-20T10:55:20.090Z"
   },
   {
    "duration": 27,
    "start_time": "2023-01-20T10:56:43.640Z"
   },
   {
    "duration": 188,
    "start_time": "2023-01-20T10:56:53.613Z"
   },
   {
    "duration": 20,
    "start_time": "2023-01-20T11:09:53.879Z"
   },
   {
    "duration": 285,
    "start_time": "2023-01-20T11:10:32.063Z"
   },
   {
    "duration": 280,
    "start_time": "2023-01-20T11:10:35.464Z"
   },
   {
    "duration": 416,
    "start_time": "2023-01-20T11:12:30.008Z"
   },
   {
    "duration": 342,
    "start_time": "2023-01-20T11:12:42.704Z"
   },
   {
    "duration": 373,
    "start_time": "2023-01-20T11:12:54.285Z"
   },
   {
    "duration": 399,
    "start_time": "2023-01-20T11:13:00.248Z"
   },
   {
    "duration": 319,
    "start_time": "2023-01-20T11:14:20.560Z"
   },
   {
    "duration": 290,
    "start_time": "2023-01-20T11:15:27.700Z"
   },
   {
    "duration": 9,
    "start_time": "2023-01-20T12:05:33.067Z"
   },
   {
    "duration": 39,
    "start_time": "2023-01-20T12:07:48.688Z"
   },
   {
    "duration": 41,
    "start_time": "2023-01-20T12:08:13.827Z"
   },
   {
    "duration": 36,
    "start_time": "2023-01-20T12:08:46.714Z"
   },
   {
    "duration": 53,
    "start_time": "2023-01-20T12:13:10.319Z"
   },
   {
    "duration": 142,
    "start_time": "2023-01-20T12:14:01.047Z"
   },
   {
    "duration": 147,
    "start_time": "2023-01-20T12:14:51.248Z"
   },
   {
    "duration": 175,
    "start_time": "2023-01-20T12:15:22.179Z"
   },
   {
    "duration": 180,
    "start_time": "2023-01-20T12:16:05.835Z"
   },
   {
    "duration": 26,
    "start_time": "2023-01-20T12:16:43.097Z"
   },
   {
    "duration": 363,
    "start_time": "2023-01-20T12:17:21.259Z"
   },
   {
    "duration": 386,
    "start_time": "2023-01-20T12:17:40.969Z"
   },
   {
    "duration": 22,
    "start_time": "2023-01-20T12:17:47.059Z"
   },
   {
    "duration": 59,
    "start_time": "2023-01-20T12:21:53.353Z"
   },
   {
    "duration": 27,
    "start_time": "2023-01-20T12:22:08.537Z"
   },
   {
    "duration": 26,
    "start_time": "2023-01-20T12:22:53.197Z"
   },
   {
    "duration": 370,
    "start_time": "2023-01-20T12:23:24.157Z"
   },
   {
    "duration": 20,
    "start_time": "2023-01-20T12:25:07.822Z"
   },
   {
    "duration": 625,
    "start_time": "2023-01-20T12:25:18.838Z"
   },
   {
    "duration": 96,
    "start_time": "2023-01-20T12:25:19.465Z"
   },
   {
    "duration": 29,
    "start_time": "2023-01-20T12:25:19.563Z"
   },
   {
    "duration": 13,
    "start_time": "2023-01-20T12:25:19.593Z"
   },
   {
    "duration": 2015,
    "start_time": "2023-01-20T12:25:19.622Z"
   },
   {
    "duration": 6,
    "start_time": "2023-01-20T12:25:21.638Z"
   },
   {
    "duration": 14,
    "start_time": "2023-01-20T12:25:21.646Z"
   },
   {
    "duration": 5,
    "start_time": "2023-01-20T12:25:21.663Z"
   },
   {
    "duration": 12,
    "start_time": "2023-01-20T12:25:21.670Z"
   },
   {
    "duration": 7,
    "start_time": "2023-01-20T12:25:21.684Z"
   },
   {
    "duration": 30,
    "start_time": "2023-01-20T12:25:21.692Z"
   },
   {
    "duration": 9,
    "start_time": "2023-01-20T12:25:21.724Z"
   },
   {
    "duration": 5,
    "start_time": "2023-01-20T12:25:21.734Z"
   },
   {
    "duration": 11,
    "start_time": "2023-01-20T12:25:21.743Z"
   },
   {
    "duration": 19,
    "start_time": "2023-01-20T12:25:21.755Z"
   },
   {
    "duration": 6,
    "start_time": "2023-01-20T12:25:21.776Z"
   },
   {
    "duration": 72,
    "start_time": "2023-01-20T12:25:21.783Z"
   },
   {
    "duration": 68,
    "start_time": "2023-01-20T12:25:21.856Z"
   },
   {
    "duration": 23,
    "start_time": "2023-01-20T12:25:21.925Z"
   },
   {
    "duration": 14,
    "start_time": "2023-01-20T12:25:21.949Z"
   },
   {
    "duration": 6,
    "start_time": "2023-01-20T12:25:21.965Z"
   },
   {
    "duration": 9,
    "start_time": "2023-01-20T12:25:21.973Z"
   },
   {
    "duration": 267,
    "start_time": "2023-01-20T12:25:21.983Z"
   },
   {
    "duration": 8,
    "start_time": "2023-01-20T12:25:22.251Z"
   },
   {
    "duration": 245,
    "start_time": "2023-01-20T12:25:22.261Z"
   },
   {
    "duration": 162,
    "start_time": "2023-01-20T12:25:22.508Z"
   },
   {
    "duration": 7,
    "start_time": "2023-01-20T12:25:22.672Z"
   },
   {
    "duration": 11,
    "start_time": "2023-01-20T12:25:22.681Z"
   },
   {
    "duration": 44,
    "start_time": "2023-01-20T12:25:22.694Z"
   },
   {
    "duration": 178,
    "start_time": "2023-01-20T12:25:22.740Z"
   },
   {
    "duration": 270,
    "start_time": "2023-01-20T12:25:22.921Z"
   },
   {
    "duration": 7,
    "start_time": "2023-01-20T12:25:23.193Z"
   },
   {
    "duration": 22,
    "start_time": "2023-01-20T12:25:23.201Z"
   },
   {
    "duration": 195,
    "start_time": "2023-01-20T12:25:23.225Z"
   },
   {
    "duration": 13,
    "start_time": "2023-01-20T12:25:23.422Z"
   },
   {
    "duration": 22,
    "start_time": "2023-01-20T12:25:23.437Z"
   },
   {
    "duration": 185,
    "start_time": "2023-01-20T12:25:23.461Z"
   },
   {
    "duration": 173,
    "start_time": "2023-01-20T12:25:23.647Z"
   },
   {
    "duration": 11,
    "start_time": "2023-01-20T12:25:23.822Z"
   },
   {
    "duration": 8,
    "start_time": "2023-01-20T12:25:23.834Z"
   },
   {
    "duration": 184,
    "start_time": "2023-01-20T12:25:23.846Z"
   },
   {
    "duration": 168,
    "start_time": "2023-01-20T12:25:24.031Z"
   },
   {
    "duration": 228,
    "start_time": "2023-01-20T12:25:24.200Z"
   },
   {
    "duration": 7,
    "start_time": "2023-01-20T12:25:24.430Z"
   },
   {
    "duration": 13,
    "start_time": "2023-01-20T12:25:24.439Z"
   },
   {
    "duration": 5,
    "start_time": "2023-01-20T12:25:24.454Z"
   },
   {
    "duration": 10,
    "start_time": "2023-01-20T12:25:24.460Z"
   },
   {
    "duration": 9,
    "start_time": "2023-01-20T12:25:24.471Z"
   },
   {
    "duration": 483,
    "start_time": "2023-01-20T12:25:24.483Z"
   },
   {
    "duration": 5,
    "start_time": "2023-01-20T12:25:24.968Z"
   },
   {
    "duration": 25,
    "start_time": "2023-01-20T12:25:24.974Z"
   },
   {
    "duration": 221,
    "start_time": "2023-01-20T12:25:25.001Z"
   },
   {
    "duration": 248,
    "start_time": "2023-01-20T12:25:25.224Z"
   },
   {
    "duration": 213,
    "start_time": "2023-01-20T12:25:25.474Z"
   },
   {
    "duration": 210,
    "start_time": "2023-01-20T12:25:25.689Z"
   },
   {
    "duration": 156,
    "start_time": "2023-01-20T12:25:25.901Z"
   },
   {
    "duration": 162,
    "start_time": "2023-01-20T12:25:26.059Z"
   },
   {
    "duration": 190,
    "start_time": "2023-01-20T12:25:26.223Z"
   },
   {
    "duration": 159,
    "start_time": "2023-01-20T12:25:26.414Z"
   },
   {
    "duration": 285,
    "start_time": "2023-01-20T12:25:26.575Z"
   },
   {
    "duration": 216,
    "start_time": "2023-01-20T12:25:26.862Z"
   },
   {
    "duration": 188,
    "start_time": "2023-01-20T12:25:27.080Z"
   },
   {
    "duration": 207,
    "start_time": "2023-01-20T12:25:27.270Z"
   },
   {
    "duration": 286,
    "start_time": "2023-01-20T12:25:27.479Z"
   },
   {
    "duration": 204,
    "start_time": "2023-01-20T12:25:27.766Z"
   },
   {
    "duration": 554,
    "start_time": "2023-01-20T12:25:27.972Z"
   },
   {
    "duration": 247,
    "start_time": "2023-01-20T12:25:28.528Z"
   },
   {
    "duration": 140,
    "start_time": "2023-01-20T12:25:28.776Z"
   },
   {
    "duration": 166,
    "start_time": "2023-01-20T12:25:28.920Z"
   },
   {
    "duration": 162,
    "start_time": "2023-01-20T12:25:29.088Z"
   },
   {
    "duration": 169,
    "start_time": "2023-01-20T12:25:29.252Z"
   },
   {
    "duration": 173,
    "start_time": "2023-01-20T12:25:29.423Z"
   },
   {
    "duration": 297,
    "start_time": "2023-01-20T12:25:29.598Z"
   },
   {
    "duration": 94,
    "start_time": "2023-01-20T12:25:29.897Z"
   },
   {
    "duration": 20,
    "start_time": "2023-01-20T12:25:54.198Z"
   },
   {
    "duration": 25,
    "start_time": "2023-01-20T12:26:07.489Z"
   },
   {
    "duration": 314,
    "start_time": "2023-01-20T12:27:22.768Z"
   },
   {
    "duration": 734,
    "start_time": "2023-01-20T12:35:27.876Z"
   },
   {
    "duration": 35,
    "start_time": "2023-01-20T12:35:58.445Z"
   },
   {
    "duration": 236,
    "start_time": "2023-01-20T12:37:50.256Z"
   },
   {
    "duration": 778,
    "start_time": "2023-01-20T12:41:01.355Z"
   },
   {
    "duration": 905,
    "start_time": "2023-01-20T12:41:27.812Z"
   },
   {
    "duration": 35,
    "start_time": "2023-01-20T12:41:34.613Z"
   },
   {
    "duration": 23,
    "start_time": "2023-01-20T12:44:53.017Z"
   },
   {
    "duration": 22,
    "start_time": "2023-01-20T12:45:03.652Z"
   },
   {
    "duration": 18,
    "start_time": "2023-01-20T12:45:15.027Z"
   },
   {
    "duration": 20,
    "start_time": "2023-01-20T12:45:20.203Z"
   },
   {
    "duration": 24,
    "start_time": "2023-01-20T12:45:28.792Z"
   },
   {
    "duration": 26,
    "start_time": "2023-01-20T12:45:40.092Z"
   },
   {
    "duration": 27,
    "start_time": "2023-01-20T12:47:31.272Z"
   },
   {
    "duration": 7,
    "start_time": "2023-01-20T12:59:48.156Z"
   },
   {
    "duration": 15,
    "start_time": "2023-01-20T13:01:56.756Z"
   },
   {
    "duration": 49,
    "start_time": "2023-01-20T13:02:59.736Z"
   },
   {
    "duration": 23,
    "start_time": "2023-01-20T13:03:05.381Z"
   },
   {
    "duration": 10,
    "start_time": "2023-01-20T13:04:35.149Z"
   },
   {
    "duration": 9,
    "start_time": "2023-01-20T13:04:40.566Z"
   },
   {
    "duration": 27,
    "start_time": "2023-01-20T13:06:15.725Z"
   },
   {
    "duration": 762,
    "start_time": "2023-01-21T10:04:08.338Z"
   },
   {
    "duration": 142,
    "start_time": "2023-01-21T10:04:09.104Z"
   },
   {
    "duration": 43,
    "start_time": "2023-01-21T10:04:09.248Z"
   },
   {
    "duration": 25,
    "start_time": "2023-01-21T10:04:09.294Z"
   },
   {
    "duration": 2064,
    "start_time": "2023-01-21T10:04:09.321Z"
   },
   {
    "duration": 6,
    "start_time": "2023-01-21T10:04:11.387Z"
   },
   {
    "duration": 17,
    "start_time": "2023-01-21T10:04:11.395Z"
   },
   {
    "duration": 10,
    "start_time": "2023-01-21T10:04:11.414Z"
   },
   {
    "duration": 20,
    "start_time": "2023-01-21T10:04:11.425Z"
   },
   {
    "duration": 6,
    "start_time": "2023-01-21T10:04:11.448Z"
   },
   {
    "duration": 21,
    "start_time": "2023-01-21T10:04:11.456Z"
   },
   {
    "duration": 13,
    "start_time": "2023-01-21T10:04:11.479Z"
   },
   {
    "duration": 7,
    "start_time": "2023-01-21T10:04:11.494Z"
   },
   {
    "duration": 14,
    "start_time": "2023-01-21T10:04:11.502Z"
   },
   {
    "duration": 17,
    "start_time": "2023-01-21T10:04:11.517Z"
   },
   {
    "duration": 6,
    "start_time": "2023-01-21T10:04:11.536Z"
   },
   {
    "duration": 64,
    "start_time": "2023-01-21T10:04:11.544Z"
   },
   {
    "duration": 67,
    "start_time": "2023-01-21T10:04:11.609Z"
   },
   {
    "duration": 34,
    "start_time": "2023-01-21T10:04:11.678Z"
   },
   {
    "duration": 19,
    "start_time": "2023-01-21T10:04:11.713Z"
   },
   {
    "duration": 9,
    "start_time": "2023-01-21T10:04:11.733Z"
   },
   {
    "duration": 17,
    "start_time": "2023-01-21T10:04:11.744Z"
   },
   {
    "duration": 289,
    "start_time": "2023-01-21T10:04:11.762Z"
   },
   {
    "duration": 9,
    "start_time": "2023-01-21T10:04:12.053Z"
   },
   {
    "duration": 287,
    "start_time": "2023-01-21T10:04:12.063Z"
   },
   {
    "duration": 163,
    "start_time": "2023-01-21T10:04:12.352Z"
   },
   {
    "duration": 7,
    "start_time": "2023-01-21T10:04:12.517Z"
   },
   {
    "duration": 18,
    "start_time": "2023-01-21T10:04:12.528Z"
   },
   {
    "duration": 26,
    "start_time": "2023-01-21T10:04:12.547Z"
   },
   {
    "duration": 233,
    "start_time": "2023-01-21T10:04:12.575Z"
   },
   {
    "duration": 298,
    "start_time": "2023-01-21T10:04:12.810Z"
   },
   {
    "duration": 8,
    "start_time": "2023-01-21T10:04:13.110Z"
   },
   {
    "duration": 15,
    "start_time": "2023-01-21T10:04:13.121Z"
   },
   {
    "duration": 223,
    "start_time": "2023-01-21T10:04:13.137Z"
   },
   {
    "duration": 13,
    "start_time": "2023-01-21T10:04:13.362Z"
   },
   {
    "duration": 14,
    "start_time": "2023-01-21T10:04:13.376Z"
   },
   {
    "duration": 202,
    "start_time": "2023-01-21T10:04:13.391Z"
   },
   {
    "duration": 193,
    "start_time": "2023-01-21T10:04:13.595Z"
   },
   {
    "duration": 16,
    "start_time": "2023-01-21T10:04:13.790Z"
   },
   {
    "duration": 17,
    "start_time": "2023-01-21T10:04:13.808Z"
   },
   {
    "duration": 203,
    "start_time": "2023-01-21T10:04:13.827Z"
   },
   {
    "duration": 228,
    "start_time": "2023-01-21T10:04:14.033Z"
   },
   {
    "duration": 221,
    "start_time": "2023-01-21T10:04:14.263Z"
   },
   {
    "duration": 7,
    "start_time": "2023-01-21T10:04:14.486Z"
   },
   {
    "duration": 26,
    "start_time": "2023-01-21T10:04:14.495Z"
   },
   {
    "duration": 9,
    "start_time": "2023-01-21T10:04:14.522Z"
   },
   {
    "duration": 9,
    "start_time": "2023-01-21T10:04:14.533Z"
   },
   {
    "duration": 11,
    "start_time": "2023-01-21T10:04:14.544Z"
   },
   {
    "duration": 395,
    "start_time": "2023-01-21T10:04:14.557Z"
   },
   {
    "duration": 5,
    "start_time": "2023-01-21T10:04:14.954Z"
   },
   {
    "duration": 56,
    "start_time": "2023-01-21T10:04:14.961Z"
   },
   {
    "duration": 212,
    "start_time": "2023-01-21T10:04:15.018Z"
   },
   {
    "duration": 179,
    "start_time": "2023-01-21T10:04:15.232Z"
   },
   {
    "duration": 182,
    "start_time": "2023-01-21T10:04:15.413Z"
   },
   {
    "duration": 199,
    "start_time": "2023-01-21T10:04:15.597Z"
   },
   {
    "duration": 153,
    "start_time": "2023-01-21T10:04:15.802Z"
   },
   {
    "duration": 151,
    "start_time": "2023-01-21T10:04:15.957Z"
   },
   {
    "duration": 172,
    "start_time": "2023-01-21T10:04:16.110Z"
   },
   {
    "duration": 133,
    "start_time": "2023-01-21T10:04:16.284Z"
   },
   {
    "duration": 205,
    "start_time": "2023-01-21T10:04:16.419Z"
   },
   {
    "duration": 289,
    "start_time": "2023-01-21T10:04:16.625Z"
   },
   {
    "duration": 201,
    "start_time": "2023-01-21T10:04:16.916Z"
   },
   {
    "duration": 225,
    "start_time": "2023-01-21T10:04:17.119Z"
   },
   {
    "duration": 297,
    "start_time": "2023-01-21T10:04:17.345Z"
   },
   {
    "duration": 213,
    "start_time": "2023-01-21T10:04:17.644Z"
   },
   {
    "duration": 559,
    "start_time": "2023-01-21T10:04:17.859Z"
   },
   {
    "duration": 170,
    "start_time": "2023-01-21T10:04:18.420Z"
   },
   {
    "duration": 143,
    "start_time": "2023-01-21T10:04:18.592Z"
   },
   {
    "duration": 268,
    "start_time": "2023-01-21T10:04:18.737Z"
   },
   {
    "duration": 180,
    "start_time": "2023-01-21T10:04:19.007Z"
   },
   {
    "duration": 176,
    "start_time": "2023-01-21T10:04:19.189Z"
   },
   {
    "duration": 187,
    "start_time": "2023-01-21T10:04:19.367Z"
   },
   {
    "duration": 294,
    "start_time": "2023-01-21T10:04:19.556Z"
   },
   {
    "duration": 25,
    "start_time": "2023-01-21T10:04:19.851Z"
   },
   {
    "duration": 29,
    "start_time": "2023-01-21T10:04:19.878Z"
   },
   {
    "duration": 174,
    "start_time": "2023-01-21T10:08:54.881Z"
   },
   {
    "duration": 144,
    "start_time": "2023-01-21T10:18:24.518Z"
   },
   {
    "duration": 149,
    "start_time": "2023-01-21T10:18:32.947Z"
   },
   {
    "duration": 159,
    "start_time": "2023-01-21T10:19:47.079Z"
   },
   {
    "duration": 166,
    "start_time": "2023-01-21T10:21:49.390Z"
   },
   {
    "duration": 226,
    "start_time": "2023-01-21T10:21:55.840Z"
   },
   {
    "duration": 129,
    "start_time": "2023-01-21T10:22:33.310Z"
   },
   {
    "duration": 165,
    "start_time": "2023-01-21T10:22:57.949Z"
   },
   {
    "duration": 224,
    "start_time": "2023-01-21T10:23:04.040Z"
   },
   {
    "duration": 822,
    "start_time": "2023-01-21T16:06:48.946Z"
   },
   {
    "duration": 133,
    "start_time": "2023-01-21T16:06:49.771Z"
   },
   {
    "duration": 28,
    "start_time": "2023-01-21T16:06:49.906Z"
   },
   {
    "duration": 13,
    "start_time": "2023-01-21T16:06:49.936Z"
   },
   {
    "duration": 1865,
    "start_time": "2023-01-21T16:06:49.951Z"
   },
   {
    "duration": 5,
    "start_time": "2023-01-21T16:06:51.817Z"
   },
   {
    "duration": 22,
    "start_time": "2023-01-21T16:06:51.824Z"
   },
   {
    "duration": 14,
    "start_time": "2023-01-21T16:06:51.847Z"
   },
   {
    "duration": 32,
    "start_time": "2023-01-21T16:06:51.863Z"
   },
   {
    "duration": 15,
    "start_time": "2023-01-21T16:06:51.898Z"
   },
   {
    "duration": 38,
    "start_time": "2023-01-21T16:06:51.914Z"
   },
   {
    "duration": 20,
    "start_time": "2023-01-21T16:06:51.954Z"
   },
   {
    "duration": 6,
    "start_time": "2023-01-21T16:06:51.975Z"
   },
   {
    "duration": 26,
    "start_time": "2023-01-21T16:06:51.983Z"
   },
   {
    "duration": 26,
    "start_time": "2023-01-21T16:06:52.011Z"
   },
   {
    "duration": 14,
    "start_time": "2023-01-21T16:06:52.039Z"
   },
   {
    "duration": 43,
    "start_time": "2023-01-21T16:06:52.054Z"
   },
   {
    "duration": 66,
    "start_time": "2023-01-21T16:06:52.098Z"
   },
   {
    "duration": 22,
    "start_time": "2023-01-21T16:06:52.166Z"
   },
   {
    "duration": 24,
    "start_time": "2023-01-21T16:06:52.190Z"
   },
   {
    "duration": 18,
    "start_time": "2023-01-21T16:06:52.216Z"
   },
   {
    "duration": 12,
    "start_time": "2023-01-21T16:06:52.235Z"
   },
   {
    "duration": 283,
    "start_time": "2023-01-21T16:06:52.248Z"
   },
   {
    "duration": 13,
    "start_time": "2023-01-21T16:06:52.533Z"
   },
   {
    "duration": 254,
    "start_time": "2023-01-21T16:06:52.547Z"
   },
   {
    "duration": 146,
    "start_time": "2023-01-21T16:06:52.803Z"
   },
   {
    "duration": 8,
    "start_time": "2023-01-21T16:06:52.951Z"
   },
   {
    "duration": 9,
    "start_time": "2023-01-21T16:06:52.962Z"
   },
   {
    "duration": 23,
    "start_time": "2023-01-21T16:06:52.972Z"
   },
   {
    "duration": 202,
    "start_time": "2023-01-21T16:06:52.996Z"
   },
   {
    "duration": 254,
    "start_time": "2023-01-21T16:06:53.200Z"
   },
   {
    "duration": 7,
    "start_time": "2023-01-21T16:06:53.456Z"
   },
   {
    "duration": 11,
    "start_time": "2023-01-21T16:06:53.465Z"
   },
   {
    "duration": 205,
    "start_time": "2023-01-21T16:06:53.478Z"
   },
   {
    "duration": 12,
    "start_time": "2023-01-21T16:06:53.684Z"
   },
   {
    "duration": 16,
    "start_time": "2023-01-21T16:06:53.697Z"
   },
   {
    "duration": 190,
    "start_time": "2023-01-21T16:06:53.715Z"
   },
   {
    "duration": 168,
    "start_time": "2023-01-21T16:06:53.907Z"
   },
   {
    "duration": 11,
    "start_time": "2023-01-21T16:06:54.077Z"
   },
   {
    "duration": 28,
    "start_time": "2023-01-21T16:06:54.089Z"
   },
   {
    "duration": 156,
    "start_time": "2023-01-21T16:06:54.118Z"
   },
   {
    "duration": 162,
    "start_time": "2023-01-21T16:06:54.275Z"
   },
   {
    "duration": 198,
    "start_time": "2023-01-21T16:06:54.439Z"
   },
   {
    "duration": 6,
    "start_time": "2023-01-21T16:06:54.638Z"
   },
   {
    "duration": 22,
    "start_time": "2023-01-21T16:06:54.645Z"
   },
   {
    "duration": 4,
    "start_time": "2023-01-21T16:06:54.669Z"
   },
   {
    "duration": 28,
    "start_time": "2023-01-21T16:06:54.674Z"
   },
   {
    "duration": 16,
    "start_time": "2023-01-21T16:06:54.704Z"
   },
   {
    "duration": 359,
    "start_time": "2023-01-21T16:06:54.722Z"
   },
   {
    "duration": 4,
    "start_time": "2023-01-21T16:06:55.083Z"
   },
   {
    "duration": 41,
    "start_time": "2023-01-21T16:06:55.089Z"
   },
   {
    "duration": 168,
    "start_time": "2023-01-21T16:06:55.132Z"
   },
   {
    "duration": 149,
    "start_time": "2023-01-21T16:06:55.302Z"
   },
   {
    "duration": 163,
    "start_time": "2023-01-21T16:06:55.453Z"
   },
   {
    "duration": 202,
    "start_time": "2023-01-21T16:06:55.618Z"
   },
   {
    "duration": 140,
    "start_time": "2023-01-21T16:06:55.822Z"
   },
   {
    "duration": 150,
    "start_time": "2023-01-21T16:06:55.964Z"
   },
   {
    "duration": 156,
    "start_time": "2023-01-21T16:06:56.116Z"
   },
   {
    "duration": 118,
    "start_time": "2023-01-21T16:06:56.274Z"
   },
   {
    "duration": 184,
    "start_time": "2023-01-21T16:06:56.394Z"
   },
   {
    "duration": 265,
    "start_time": "2023-01-21T16:06:56.580Z"
   },
   {
    "duration": 158,
    "start_time": "2023-01-21T16:06:56.847Z"
   },
   {
    "duration": 183,
    "start_time": "2023-01-21T16:06:57.006Z"
   },
   {
    "duration": 248,
    "start_time": "2023-01-21T16:06:57.190Z"
   },
   {
    "duration": 180,
    "start_time": "2023-01-21T16:06:57.440Z"
   },
   {
    "duration": 502,
    "start_time": "2023-01-21T16:06:57.621Z"
   },
   {
    "duration": 162,
    "start_time": "2023-01-21T16:06:58.125Z"
   },
   {
    "duration": 125,
    "start_time": "2023-01-21T16:06:58.289Z"
   },
   {
    "duration": 235,
    "start_time": "2023-01-21T16:06:58.416Z"
   },
   {
    "duration": 136,
    "start_time": "2023-01-21T16:06:58.652Z"
   },
   {
    "duration": 135,
    "start_time": "2023-01-21T16:06:58.790Z"
   },
   {
    "duration": 162,
    "start_time": "2023-01-21T16:06:58.927Z"
   },
   {
    "duration": 269,
    "start_time": "2023-01-21T16:06:59.091Z"
   },
   {
    "duration": 24,
    "start_time": "2023-01-21T16:06:59.361Z"
   },
   {
    "duration": 14,
    "start_time": "2023-01-21T16:06:59.387Z"
   },
   {
    "duration": 99,
    "start_time": "2023-01-21T16:59:16.197Z"
   },
   {
    "duration": 1132,
    "start_time": "2023-01-21T16:59:22.565Z"
   },
   {
    "duration": 135,
    "start_time": "2023-01-21T16:59:46.310Z"
   },
   {
    "duration": 688,
    "start_time": "2023-01-21T17:32:23.467Z"
   },
   {
    "duration": 86,
    "start_time": "2023-01-21T17:32:24.157Z"
   },
   {
    "duration": 29,
    "start_time": "2023-01-21T17:32:24.245Z"
   },
   {
    "duration": 14,
    "start_time": "2023-01-21T17:32:24.275Z"
   },
   {
    "duration": 2020,
    "start_time": "2023-01-21T17:32:24.292Z"
   },
   {
    "duration": 5,
    "start_time": "2023-01-21T17:32:26.314Z"
   },
   {
    "duration": 15,
    "start_time": "2023-01-21T17:32:26.321Z"
   },
   {
    "duration": 20,
    "start_time": "2023-01-21T17:32:26.338Z"
   },
   {
    "duration": 14,
    "start_time": "2023-01-21T17:32:26.360Z"
   },
   {
    "duration": 26,
    "start_time": "2023-01-21T17:32:26.376Z"
   },
   {
    "duration": 13,
    "start_time": "2023-01-21T17:32:26.403Z"
   },
   {
    "duration": 8,
    "start_time": "2023-01-21T17:32:26.417Z"
   },
   {
    "duration": 5,
    "start_time": "2023-01-21T17:32:26.427Z"
   },
   {
    "duration": 10,
    "start_time": "2023-01-21T17:32:26.436Z"
   },
   {
    "duration": 14,
    "start_time": "2023-01-21T17:32:26.447Z"
   },
   {
    "duration": 7,
    "start_time": "2023-01-21T17:32:26.462Z"
   },
   {
    "duration": 68,
    "start_time": "2023-01-21T17:32:26.471Z"
   },
   {
    "duration": 71,
    "start_time": "2023-01-21T17:32:26.541Z"
   },
   {
    "duration": 38,
    "start_time": "2023-01-21T17:32:26.613Z"
   },
   {
    "duration": 12,
    "start_time": "2023-01-21T17:32:26.652Z"
   },
   {
    "duration": 11,
    "start_time": "2023-01-21T17:32:26.666Z"
   },
   {
    "duration": 13,
    "start_time": "2023-01-21T17:32:26.678Z"
   },
   {
    "duration": 273,
    "start_time": "2023-01-21T17:32:26.692Z"
   },
   {
    "duration": 8,
    "start_time": "2023-01-21T17:32:26.966Z"
   },
   {
    "duration": 272,
    "start_time": "2023-01-21T17:32:26.975Z"
   },
   {
    "duration": 191,
    "start_time": "2023-01-21T17:32:27.249Z"
   },
   {
    "duration": 9,
    "start_time": "2023-01-21T17:32:27.443Z"
   },
   {
    "duration": 11,
    "start_time": "2023-01-21T17:32:27.453Z"
   },
   {
    "duration": 27,
    "start_time": "2023-01-21T17:32:27.465Z"
   },
   {
    "duration": 217,
    "start_time": "2023-01-21T17:32:27.493Z"
   },
   {
    "duration": 260,
    "start_time": "2023-01-21T17:32:27.712Z"
   },
   {
    "duration": 7,
    "start_time": "2023-01-21T17:32:27.974Z"
   },
   {
    "duration": 13,
    "start_time": "2023-01-21T17:32:27.983Z"
   },
   {
    "duration": 209,
    "start_time": "2023-01-21T17:32:27.997Z"
   },
   {
    "duration": 14,
    "start_time": "2023-01-21T17:32:28.210Z"
   },
   {
    "duration": 19,
    "start_time": "2023-01-21T17:32:28.226Z"
   },
   {
    "duration": 248,
    "start_time": "2023-01-21T17:32:28.248Z"
   },
   {
    "duration": 173,
    "start_time": "2023-01-21T17:32:28.498Z"
   },
   {
    "duration": 13,
    "start_time": "2023-01-21T17:32:28.673Z"
   },
   {
    "duration": 13,
    "start_time": "2023-01-21T17:32:28.688Z"
   },
   {
    "duration": 216,
    "start_time": "2023-01-21T17:32:28.707Z"
   },
   {
    "duration": 197,
    "start_time": "2023-01-21T17:32:28.925Z"
   },
   {
    "duration": 208,
    "start_time": "2023-01-21T17:32:29.124Z"
   },
   {
    "duration": 6,
    "start_time": "2023-01-21T17:32:29.336Z"
   },
   {
    "duration": 18,
    "start_time": "2023-01-21T17:32:29.344Z"
   },
   {
    "duration": 12,
    "start_time": "2023-01-21T17:32:29.363Z"
   },
   {
    "duration": 29,
    "start_time": "2023-01-21T17:32:29.377Z"
   },
   {
    "duration": 12,
    "start_time": "2023-01-21T17:32:29.408Z"
   },
   {
    "duration": 386,
    "start_time": "2023-01-21T17:32:29.422Z"
   },
   {
    "duration": 4,
    "start_time": "2023-01-21T17:32:29.810Z"
   },
   {
    "duration": 31,
    "start_time": "2023-01-21T17:32:29.816Z"
   },
   {
    "duration": 177,
    "start_time": "2023-01-21T17:32:29.849Z"
   },
   {
    "duration": 168,
    "start_time": "2023-01-21T17:32:30.028Z"
   },
   {
    "duration": 181,
    "start_time": "2023-01-21T17:32:30.199Z"
   },
   {
    "duration": 187,
    "start_time": "2023-01-21T17:32:30.382Z"
   },
   {
    "duration": 151,
    "start_time": "2023-01-21T17:32:30.572Z"
   },
   {
    "duration": 180,
    "start_time": "2023-01-21T17:32:30.725Z"
   },
   {
    "duration": 171,
    "start_time": "2023-01-21T17:32:30.907Z"
   },
   {
    "duration": 144,
    "start_time": "2023-01-21T17:32:31.081Z"
   },
   {
    "duration": 280,
    "start_time": "2023-01-21T17:32:31.227Z"
   },
   {
    "duration": 278,
    "start_time": "2023-01-21T17:32:31.509Z"
   },
   {
    "duration": 174,
    "start_time": "2023-01-21T17:32:31.789Z"
   },
   {
    "duration": 191,
    "start_time": "2023-01-21T17:32:31.965Z"
   },
   {
    "duration": 359,
    "start_time": "2023-01-21T17:32:32.159Z"
   },
   {
    "duration": 260,
    "start_time": "2023-01-21T17:32:32.520Z"
   },
   {
    "duration": 559,
    "start_time": "2023-01-21T17:32:32.782Z"
   },
   {
    "duration": 190,
    "start_time": "2023-01-21T17:32:33.343Z"
   },
   {
    "duration": 134,
    "start_time": "2023-01-21T17:32:33.537Z"
   },
   {
    "duration": 243,
    "start_time": "2023-01-21T17:32:33.673Z"
   },
   {
    "duration": 162,
    "start_time": "2023-01-21T17:32:33.918Z"
   },
   {
    "duration": 175,
    "start_time": "2023-01-21T17:32:34.083Z"
   },
   {
    "duration": 164,
    "start_time": "2023-01-21T17:32:34.260Z"
   },
   {
    "duration": 188,
    "start_time": "2023-01-21T17:32:34.426Z"
   },
   {
    "duration": 287,
    "start_time": "2023-01-21T17:32:34.616Z"
   },
   {
    "duration": 24,
    "start_time": "2023-01-21T17:32:34.904Z"
   },
   {
    "duration": 25,
    "start_time": "2023-01-21T17:32:34.929Z"
   },
   {
    "duration": 692,
    "start_time": "2023-01-21T17:43:33.741Z"
   },
   {
    "duration": 105,
    "start_time": "2023-01-21T17:43:34.435Z"
   },
   {
    "duration": 38,
    "start_time": "2023-01-21T17:43:34.542Z"
   },
   {
    "duration": 20,
    "start_time": "2023-01-21T17:43:34.583Z"
   },
   {
    "duration": 2108,
    "start_time": "2023-01-21T17:43:34.605Z"
   },
   {
    "duration": 5,
    "start_time": "2023-01-21T17:43:36.715Z"
   },
   {
    "duration": 22,
    "start_time": "2023-01-21T17:43:36.722Z"
   },
   {
    "duration": 13,
    "start_time": "2023-01-21T17:43:36.746Z"
   },
   {
    "duration": 20,
    "start_time": "2023-01-21T17:43:36.761Z"
   },
   {
    "duration": 6,
    "start_time": "2023-01-21T17:43:36.785Z"
   },
   {
    "duration": 16,
    "start_time": "2023-01-21T17:43:36.793Z"
   },
   {
    "duration": 19,
    "start_time": "2023-01-21T17:43:36.811Z"
   },
   {
    "duration": 14,
    "start_time": "2023-01-21T17:43:36.832Z"
   },
   {
    "duration": 19,
    "start_time": "2023-01-21T17:43:36.847Z"
   },
   {
    "duration": 18,
    "start_time": "2023-01-21T17:43:36.867Z"
   },
   {
    "duration": 6,
    "start_time": "2023-01-21T17:43:36.887Z"
   },
   {
    "duration": 67,
    "start_time": "2023-01-21T17:43:36.895Z"
   },
   {
    "duration": 76,
    "start_time": "2023-01-21T17:43:36.963Z"
   },
   {
    "duration": 25,
    "start_time": "2023-01-21T17:43:37.041Z"
   },
   {
    "duration": 10,
    "start_time": "2023-01-21T17:43:37.067Z"
   },
   {
    "duration": 11,
    "start_time": "2023-01-21T17:43:37.079Z"
   },
   {
    "duration": 22,
    "start_time": "2023-01-21T17:43:37.091Z"
   },
   {
    "duration": 275,
    "start_time": "2023-01-21T17:43:37.115Z"
   },
   {
    "duration": 8,
    "start_time": "2023-01-21T17:43:37.392Z"
   },
   {
    "duration": 294,
    "start_time": "2023-01-21T17:43:37.403Z"
   },
   {
    "duration": 173,
    "start_time": "2023-01-21T17:43:37.699Z"
   },
   {
    "duration": 7,
    "start_time": "2023-01-21T17:43:37.874Z"
   },
   {
    "duration": 12,
    "start_time": "2023-01-21T17:43:37.886Z"
   },
   {
    "duration": 43,
    "start_time": "2023-01-21T17:43:37.900Z"
   },
   {
    "duration": 243,
    "start_time": "2023-01-21T17:43:37.945Z"
   },
   {
    "duration": 269,
    "start_time": "2023-01-21T17:43:38.190Z"
   },
   {
    "duration": 10,
    "start_time": "2023-01-21T17:43:38.461Z"
   },
   {
    "duration": 17,
    "start_time": "2023-01-21T17:43:38.473Z"
   },
   {
    "duration": 217,
    "start_time": "2023-01-21T17:43:38.492Z"
   },
   {
    "duration": 28,
    "start_time": "2023-01-21T17:43:38.711Z"
   },
   {
    "duration": 9,
    "start_time": "2023-01-21T17:43:38.741Z"
   },
   {
    "duration": 224,
    "start_time": "2023-01-21T17:43:38.751Z"
   },
   {
    "duration": 196,
    "start_time": "2023-01-21T17:43:38.977Z"
   },
   {
    "duration": 14,
    "start_time": "2023-01-21T17:43:39.175Z"
   },
   {
    "duration": 11,
    "start_time": "2023-01-21T17:43:39.190Z"
   },
   {
    "duration": 199,
    "start_time": "2023-01-21T17:43:39.203Z"
   },
   {
    "duration": 202,
    "start_time": "2023-01-21T17:43:39.404Z"
   },
   {
    "duration": 219,
    "start_time": "2023-01-21T17:43:39.608Z"
   },
   {
    "duration": 13,
    "start_time": "2023-01-21T17:43:39.829Z"
   },
   {
    "duration": 15,
    "start_time": "2023-01-21T17:43:39.844Z"
   },
   {
    "duration": 7,
    "start_time": "2023-01-21T17:43:39.860Z"
   },
   {
    "duration": 21,
    "start_time": "2023-01-21T17:43:39.869Z"
   },
   {
    "duration": 38,
    "start_time": "2023-01-21T17:43:39.892Z"
   },
   {
    "duration": 405,
    "start_time": "2023-01-21T17:43:39.932Z"
   },
   {
    "duration": 5,
    "start_time": "2023-01-21T17:43:40.339Z"
   },
   {
    "duration": 32,
    "start_time": "2023-01-21T17:43:40.346Z"
   },
   {
    "duration": 199,
    "start_time": "2023-01-21T17:43:40.380Z"
   },
   {
    "duration": 188,
    "start_time": "2023-01-21T17:43:40.581Z"
   },
   {
    "duration": 194,
    "start_time": "2023-01-21T17:43:40.771Z"
   },
   {
    "duration": 205,
    "start_time": "2023-01-21T17:43:40.967Z"
   },
   {
    "duration": 157,
    "start_time": "2023-01-21T17:43:41.175Z"
   },
   {
    "duration": 156,
    "start_time": "2023-01-21T17:43:41.334Z"
   },
   {
    "duration": 181,
    "start_time": "2023-01-21T17:43:41.492Z"
   },
   {
    "duration": 129,
    "start_time": "2023-01-21T17:43:41.675Z"
   },
   {
    "duration": 206,
    "start_time": "2023-01-21T17:43:41.806Z"
   },
   {
    "duration": 290,
    "start_time": "2023-01-21T17:43:42.014Z"
   },
   {
    "duration": 237,
    "start_time": "2023-01-21T17:43:42.306Z"
   },
   {
    "duration": 237,
    "start_time": "2023-01-21T17:43:42.545Z"
   },
   {
    "duration": 298,
    "start_time": "2023-01-21T17:43:42.783Z"
   },
   {
    "duration": 216,
    "start_time": "2023-01-21T17:43:43.083Z"
   },
   {
    "duration": 589,
    "start_time": "2023-01-21T17:43:43.301Z"
   },
   {
    "duration": 182,
    "start_time": "2023-01-21T17:43:43.892Z"
   },
   {
    "duration": 149,
    "start_time": "2023-01-21T17:43:44.076Z"
   },
   {
    "duration": 253,
    "start_time": "2023-01-21T17:43:44.227Z"
   },
   {
    "duration": 161,
    "start_time": "2023-01-21T17:43:44.482Z"
   },
   {
    "duration": 170,
    "start_time": "2023-01-21T17:43:44.644Z"
   },
   {
    "duration": 156,
    "start_time": "2023-01-21T17:43:44.816Z"
   },
   {
    "duration": 179,
    "start_time": "2023-01-21T17:43:44.974Z"
   },
   {
    "duration": 313,
    "start_time": "2023-01-21T17:43:45.155Z"
   },
   {
    "duration": 26,
    "start_time": "2023-01-21T17:43:45.469Z"
   },
   {
    "duration": 16,
    "start_time": "2023-01-21T17:43:45.496Z"
   },
   {
    "duration": 23,
    "start_time": "2023-01-21T17:44:55.753Z"
   },
   {
    "duration": 7,
    "start_time": "2023-01-21T17:45:29.231Z"
   },
   {
    "duration": 15,
    "start_time": "2023-01-21T17:45:50.459Z"
   },
   {
    "duration": 84,
    "start_time": "2023-01-21T17:45:53.971Z"
   },
   {
    "duration": 9,
    "start_time": "2023-01-21T17:46:22.399Z"
   },
   {
    "duration": 6,
    "start_time": "2023-01-21T17:46:25.794Z"
   },
   {
    "duration": 76,
    "start_time": "2023-01-23T09:27:08.728Z"
   },
   {
    "duration": 759,
    "start_time": "2023-01-23T09:27:22.240Z"
   },
   {
    "duration": 79,
    "start_time": "2023-01-23T09:27:23.903Z"
   },
   {
    "duration": 304,
    "start_time": "2023-01-23T09:28:03.908Z"
   },
   {
    "duration": 24,
    "start_time": "2023-01-23T09:28:07.106Z"
   },
   {
    "duration": 69,
    "start_time": "2023-01-23T09:53:11.965Z"
   },
   {
    "duration": 583,
    "start_time": "2023-01-23T09:53:24.496Z"
   },
   {
    "duration": 90,
    "start_time": "2023-01-23T09:53:25.081Z"
   },
   {
    "duration": 28,
    "start_time": "2023-01-23T09:53:25.173Z"
   },
   {
    "duration": 17,
    "start_time": "2023-01-23T09:53:25.203Z"
   },
   {
    "duration": 2005,
    "start_time": "2023-01-23T09:53:25.223Z"
   },
   {
    "duration": 5,
    "start_time": "2023-01-23T09:53:27.230Z"
   },
   {
    "duration": 13,
    "start_time": "2023-01-23T09:53:27.236Z"
   },
   {
    "duration": 5,
    "start_time": "2023-01-23T09:53:27.251Z"
   },
   {
    "duration": 17,
    "start_time": "2023-01-23T09:53:27.258Z"
   },
   {
    "duration": 6,
    "start_time": "2023-01-23T09:53:27.276Z"
   },
   {
    "duration": 10,
    "start_time": "2023-01-23T09:53:27.284Z"
   },
   {
    "duration": 13,
    "start_time": "2023-01-23T09:53:27.295Z"
   },
   {
    "duration": 7,
    "start_time": "2023-01-23T09:53:27.310Z"
   },
   {
    "duration": 4,
    "start_time": "2023-01-23T09:53:27.319Z"
   },
   {
    "duration": 104,
    "start_time": "2023-01-23T09:53:27.324Z"
   },
   {
    "duration": 0,
    "start_time": "2023-01-23T09:53:27.430Z"
   },
   {
    "duration": 0,
    "start_time": "2023-01-23T09:53:27.431Z"
   },
   {
    "duration": 0,
    "start_time": "2023-01-23T09:53:27.432Z"
   },
   {
    "duration": 0,
    "start_time": "2023-01-23T09:53:27.433Z"
   },
   {
    "duration": 0,
    "start_time": "2023-01-23T09:53:27.434Z"
   },
   {
    "duration": 0,
    "start_time": "2023-01-23T09:53:27.435Z"
   },
   {
    "duration": 0,
    "start_time": "2023-01-23T09:53:27.436Z"
   },
   {
    "duration": 0,
    "start_time": "2023-01-23T09:53:27.437Z"
   },
   {
    "duration": 0,
    "start_time": "2023-01-23T09:53:27.438Z"
   },
   {
    "duration": 0,
    "start_time": "2023-01-23T09:53:27.439Z"
   },
   {
    "duration": 0,
    "start_time": "2023-01-23T09:53:27.440Z"
   },
   {
    "duration": 0,
    "start_time": "2023-01-23T09:53:27.440Z"
   },
   {
    "duration": 0,
    "start_time": "2023-01-23T09:53:27.441Z"
   },
   {
    "duration": 0,
    "start_time": "2023-01-23T09:53:27.442Z"
   },
   {
    "duration": 0,
    "start_time": "2023-01-23T09:53:27.443Z"
   },
   {
    "duration": 0,
    "start_time": "2023-01-23T09:53:27.467Z"
   },
   {
    "duration": 0,
    "start_time": "2023-01-23T09:53:27.468Z"
   },
   {
    "duration": 0,
    "start_time": "2023-01-23T09:53:27.470Z"
   },
   {
    "duration": 0,
    "start_time": "2023-01-23T09:53:27.471Z"
   },
   {
    "duration": 0,
    "start_time": "2023-01-23T09:53:27.472Z"
   },
   {
    "duration": 0,
    "start_time": "2023-01-23T09:53:27.473Z"
   },
   {
    "duration": 0,
    "start_time": "2023-01-23T09:53:27.475Z"
   },
   {
    "duration": 0,
    "start_time": "2023-01-23T09:53:27.476Z"
   },
   {
    "duration": 0,
    "start_time": "2023-01-23T09:53:27.477Z"
   },
   {
    "duration": 0,
    "start_time": "2023-01-23T09:53:27.479Z"
   },
   {
    "duration": 0,
    "start_time": "2023-01-23T09:53:27.480Z"
   },
   {
    "duration": 0,
    "start_time": "2023-01-23T09:53:27.481Z"
   },
   {
    "duration": 0,
    "start_time": "2023-01-23T09:53:27.483Z"
   },
   {
    "duration": 0,
    "start_time": "2023-01-23T09:53:27.484Z"
   },
   {
    "duration": 0,
    "start_time": "2023-01-23T09:53:27.485Z"
   },
   {
    "duration": 0,
    "start_time": "2023-01-23T09:53:27.485Z"
   },
   {
    "duration": 0,
    "start_time": "2023-01-23T09:53:27.486Z"
   },
   {
    "duration": 0,
    "start_time": "2023-01-23T09:53:27.487Z"
   },
   {
    "duration": 0,
    "start_time": "2023-01-23T09:53:27.488Z"
   },
   {
    "duration": 0,
    "start_time": "2023-01-23T09:53:27.490Z"
   },
   {
    "duration": 0,
    "start_time": "2023-01-23T09:53:27.491Z"
   },
   {
    "duration": 0,
    "start_time": "2023-01-23T09:53:27.492Z"
   },
   {
    "duration": 0,
    "start_time": "2023-01-23T09:53:27.493Z"
   },
   {
    "duration": 0,
    "start_time": "2023-01-23T09:53:27.494Z"
   },
   {
    "duration": 0,
    "start_time": "2023-01-23T09:53:27.495Z"
   },
   {
    "duration": 0,
    "start_time": "2023-01-23T09:53:27.496Z"
   },
   {
    "duration": 0,
    "start_time": "2023-01-23T09:53:27.497Z"
   },
   {
    "duration": 0,
    "start_time": "2023-01-23T09:53:27.497Z"
   },
   {
    "duration": 0,
    "start_time": "2023-01-23T09:53:27.498Z"
   },
   {
    "duration": 0,
    "start_time": "2023-01-23T09:53:27.499Z"
   },
   {
    "duration": 0,
    "start_time": "2023-01-23T09:53:27.500Z"
   },
   {
    "duration": 0,
    "start_time": "2023-01-23T09:53:27.501Z"
   },
   {
    "duration": 0,
    "start_time": "2023-01-23T09:53:27.502Z"
   },
   {
    "duration": 0,
    "start_time": "2023-01-23T09:53:27.503Z"
   },
   {
    "duration": 0,
    "start_time": "2023-01-23T09:53:27.504Z"
   },
   {
    "duration": 0,
    "start_time": "2023-01-23T09:53:27.505Z"
   },
   {
    "duration": 0,
    "start_time": "2023-01-23T09:53:27.567Z"
   },
   {
    "duration": 0,
    "start_time": "2023-01-23T09:53:27.568Z"
   },
   {
    "duration": 0,
    "start_time": "2023-01-23T09:53:27.569Z"
   },
   {
    "duration": 0,
    "start_time": "2023-01-23T09:53:27.570Z"
   },
   {
    "duration": 0,
    "start_time": "2023-01-23T09:53:27.572Z"
   },
   {
    "duration": 1,
    "start_time": "2023-01-23T09:53:27.572Z"
   },
   {
    "duration": 0,
    "start_time": "2023-01-23T09:53:27.573Z"
   },
   {
    "duration": 0,
    "start_time": "2023-01-23T09:53:27.574Z"
   },
   {
    "duration": 0,
    "start_time": "2023-01-23T09:53:27.575Z"
   },
   {
    "duration": 0,
    "start_time": "2023-01-23T09:53:27.576Z"
   },
   {
    "duration": 0,
    "start_time": "2023-01-23T09:53:27.577Z"
   },
   {
    "duration": 17,
    "start_time": "2023-01-23T10:02:26.494Z"
   },
   {
    "duration": 16,
    "start_time": "2023-01-23T10:03:34.997Z"
   },
   {
    "duration": 14,
    "start_time": "2023-01-23T10:04:05.423Z"
   },
   {
    "duration": 20,
    "start_time": "2023-01-23T10:05:28.364Z"
   },
   {
    "duration": 3,
    "start_time": "2023-01-23T10:05:29.011Z"
   },
   {
    "duration": 6,
    "start_time": "2023-01-23T10:05:30.001Z"
   },
   {
    "duration": 21,
    "start_time": "2023-01-23T10:06:47.329Z"
   },
   {
    "duration": 38,
    "start_time": "2023-01-23T10:08:25.210Z"
   },
   {
    "duration": 25,
    "start_time": "2023-01-23T10:09:32.236Z"
   },
   {
    "duration": 26,
    "start_time": "2023-01-23T10:10:39.179Z"
   },
   {
    "duration": 12,
    "start_time": "2023-01-23T10:13:51.560Z"
   },
   {
    "duration": 6,
    "start_time": "2023-01-23T10:13:55.131Z"
   },
   {
    "duration": 45,
    "start_time": "2023-01-23T10:13:59.081Z"
   },
   {
    "duration": 78,
    "start_time": "2023-01-23T10:14:01.420Z"
   },
   {
    "duration": 6,
    "start_time": "2023-01-23T10:24:08.558Z"
   },
   {
    "duration": 30,
    "start_time": "2023-01-23T10:24:18.334Z"
   },
   {
    "duration": 16,
    "start_time": "2023-01-23T10:26:33.493Z"
   },
   {
    "duration": 15,
    "start_time": "2023-01-23T10:27:54.455Z"
   },
   {
    "duration": 92,
    "start_time": "2023-01-23T10:28:08.880Z"
   },
   {
    "duration": 7,
    "start_time": "2023-01-23T10:28:13.113Z"
   },
   {
    "duration": 7,
    "start_time": "2023-01-23T10:28:27.361Z"
   },
   {
    "duration": 13,
    "start_time": "2023-01-23T10:30:39.723Z"
   },
   {
    "duration": 13,
    "start_time": "2023-01-23T10:38:46.217Z"
   },
   {
    "duration": 18,
    "start_time": "2023-01-23T10:40:27.527Z"
   },
   {
    "duration": 17,
    "start_time": "2023-01-23T10:40:45.217Z"
   },
   {
    "duration": 676,
    "start_time": "2023-01-23T10:41:53.264Z"
   },
   {
    "duration": 97,
    "start_time": "2023-01-23T10:41:53.942Z"
   },
   {
    "duration": 29,
    "start_time": "2023-01-23T10:41:54.041Z"
   },
   {
    "duration": 14,
    "start_time": "2023-01-23T10:41:54.072Z"
   },
   {
    "duration": 1968,
    "start_time": "2023-01-23T10:41:54.088Z"
   },
   {
    "duration": 5,
    "start_time": "2023-01-23T10:41:56.058Z"
   },
   {
    "duration": 22,
    "start_time": "2023-01-23T10:41:56.065Z"
   },
   {
    "duration": 6,
    "start_time": "2023-01-23T10:41:56.089Z"
   },
   {
    "duration": 18,
    "start_time": "2023-01-23T10:41:56.097Z"
   },
   {
    "duration": 7,
    "start_time": "2023-01-23T10:41:56.118Z"
   },
   {
    "duration": 10,
    "start_time": "2023-01-23T10:41:56.127Z"
   },
   {
    "duration": 30,
    "start_time": "2023-01-23T10:41:56.139Z"
   },
   {
    "duration": 36,
    "start_time": "2023-01-23T10:41:56.170Z"
   },
   {
    "duration": 7,
    "start_time": "2023-01-23T10:41:56.207Z"
   },
   {
    "duration": 6,
    "start_time": "2023-01-23T10:41:56.216Z"
   },
   {
    "duration": 11,
    "start_time": "2023-01-23T10:41:56.223Z"
   },
   {
    "duration": 40,
    "start_time": "2023-01-23T10:41:56.236Z"
   },
   {
    "duration": 8,
    "start_time": "2023-01-23T10:41:56.277Z"
   },
   {
    "duration": 104,
    "start_time": "2023-01-23T10:41:56.286Z"
   },
   {
    "duration": 76,
    "start_time": "2023-01-23T10:41:56.391Z"
   },
   {
    "duration": 17,
    "start_time": "2023-01-23T10:41:56.470Z"
   },
   {
    "duration": 12,
    "start_time": "2023-01-23T10:41:56.489Z"
   },
   {
    "duration": 10,
    "start_time": "2023-01-23T10:41:56.503Z"
   },
   {
    "duration": 14,
    "start_time": "2023-01-23T10:41:56.514Z"
   },
   {
    "duration": 268,
    "start_time": "2023-01-23T10:41:56.529Z"
   },
   {
    "duration": 10,
    "start_time": "2023-01-23T10:41:56.800Z"
   },
   {
    "duration": 291,
    "start_time": "2023-01-23T10:41:56.812Z"
   },
   {
    "duration": 151,
    "start_time": "2023-01-23T10:41:57.107Z"
   },
   {
    "duration": 12,
    "start_time": "2023-01-23T10:41:57.260Z"
   },
   {
    "duration": 17,
    "start_time": "2023-01-23T10:41:57.273Z"
   },
   {
    "duration": 26,
    "start_time": "2023-01-23T10:41:57.292Z"
   },
   {
    "duration": 199,
    "start_time": "2023-01-23T10:41:57.320Z"
   },
   {
    "duration": 271,
    "start_time": "2023-01-23T10:41:57.521Z"
   },
   {
    "duration": 9,
    "start_time": "2023-01-23T10:41:57.794Z"
   },
   {
    "duration": 14,
    "start_time": "2023-01-23T10:41:57.805Z"
   },
   {
    "duration": 242,
    "start_time": "2023-01-23T10:41:57.821Z"
   },
   {
    "duration": 21,
    "start_time": "2023-01-23T10:41:58.068Z"
   },
   {
    "duration": 15,
    "start_time": "2023-01-23T10:41:58.091Z"
   },
   {
    "duration": 229,
    "start_time": "2023-01-23T10:41:58.108Z"
   },
   {
    "duration": 183,
    "start_time": "2023-01-23T10:41:58.339Z"
   },
   {
    "duration": 12,
    "start_time": "2023-01-23T10:41:58.524Z"
   },
   {
    "duration": 9,
    "start_time": "2023-01-23T10:41:58.537Z"
   },
   {
    "duration": 204,
    "start_time": "2023-01-23T10:41:58.548Z"
   },
   {
    "duration": 170,
    "start_time": "2023-01-23T10:41:58.754Z"
   },
   {
    "duration": 204,
    "start_time": "2023-01-23T10:41:58.925Z"
   },
   {
    "duration": 6,
    "start_time": "2023-01-23T10:41:59.131Z"
   },
   {
    "duration": 10,
    "start_time": "2023-01-23T10:41:59.139Z"
   },
   {
    "duration": 5,
    "start_time": "2023-01-23T10:41:59.166Z"
   },
   {
    "duration": 9,
    "start_time": "2023-01-23T10:41:59.172Z"
   },
   {
    "duration": 9,
    "start_time": "2023-01-23T10:41:59.182Z"
   },
   {
    "duration": 381,
    "start_time": "2023-01-23T10:41:59.192Z"
   },
   {
    "duration": 5,
    "start_time": "2023-01-23T10:41:59.574Z"
   },
   {
    "duration": 21,
    "start_time": "2023-01-23T10:41:59.580Z"
   },
   {
    "duration": 182,
    "start_time": "2023-01-23T10:41:59.602Z"
   },
   {
    "duration": 149,
    "start_time": "2023-01-23T10:41:59.786Z"
   },
   {
    "duration": 170,
    "start_time": "2023-01-23T10:41:59.936Z"
   },
   {
    "duration": 201,
    "start_time": "2023-01-23T10:42:00.108Z"
   },
   {
    "duration": 156,
    "start_time": "2023-01-23T10:42:00.311Z"
   },
   {
    "duration": 138,
    "start_time": "2023-01-23T10:42:00.469Z"
   },
   {
    "duration": 164,
    "start_time": "2023-01-23T10:42:00.609Z"
   },
   {
    "duration": 125,
    "start_time": "2023-01-23T10:42:00.775Z"
   },
   {
    "duration": 198,
    "start_time": "2023-01-23T10:42:00.902Z"
   },
   {
    "duration": 290,
    "start_time": "2023-01-23T10:42:01.102Z"
   },
   {
    "duration": 191,
    "start_time": "2023-01-23T10:42:01.396Z"
   },
   {
    "duration": 222,
    "start_time": "2023-01-23T10:42:01.589Z"
   },
   {
    "duration": 269,
    "start_time": "2023-01-23T10:42:01.812Z"
   },
   {
    "duration": 197,
    "start_time": "2023-01-23T10:42:02.082Z"
   },
   {
    "duration": 556,
    "start_time": "2023-01-23T10:42:02.281Z"
   },
   {
    "duration": 175,
    "start_time": "2023-01-23T10:42:02.838Z"
   },
   {
    "duration": 160,
    "start_time": "2023-01-23T10:42:03.015Z"
   },
   {
    "duration": 252,
    "start_time": "2023-01-23T10:42:03.177Z"
   },
   {
    "duration": 158,
    "start_time": "2023-01-23T10:42:03.430Z"
   },
   {
    "duration": 147,
    "start_time": "2023-01-23T10:42:03.589Z"
   },
   {
    "duration": 144,
    "start_time": "2023-01-23T10:42:03.738Z"
   },
   {
    "duration": 181,
    "start_time": "2023-01-23T10:42:03.884Z"
   },
   {
    "duration": 278,
    "start_time": "2023-01-23T10:42:04.066Z"
   },
   {
    "duration": 37,
    "start_time": "2023-01-23T10:42:04.345Z"
   },
   {
    "duration": 15,
    "start_time": "2023-01-23T10:42:04.383Z"
   },
   {
    "duration": 4,
    "start_time": "2023-01-23T10:48:30.580Z"
   },
   {
    "duration": 612,
    "start_time": "2023-01-23T10:48:39.598Z"
   },
   {
    "duration": 101,
    "start_time": "2023-01-23T10:48:40.211Z"
   },
   {
    "duration": 26,
    "start_time": "2023-01-23T10:48:40.313Z"
   },
   {
    "duration": 32,
    "start_time": "2023-01-23T10:48:40.341Z"
   },
   {
    "duration": 1997,
    "start_time": "2023-01-23T10:48:40.375Z"
   },
   {
    "duration": 6,
    "start_time": "2023-01-23T10:48:42.373Z"
   },
   {
    "duration": 25,
    "start_time": "2023-01-23T10:48:42.381Z"
   },
   {
    "duration": 5,
    "start_time": "2023-01-23T10:48:42.407Z"
   },
   {
    "duration": 12,
    "start_time": "2023-01-23T10:48:42.413Z"
   },
   {
    "duration": 5,
    "start_time": "2023-01-23T10:48:42.427Z"
   },
   {
    "duration": 7,
    "start_time": "2023-01-23T10:48:42.433Z"
   },
   {
    "duration": 10,
    "start_time": "2023-01-23T10:48:42.441Z"
   },
   {
    "duration": 15,
    "start_time": "2023-01-23T10:48:42.453Z"
   },
   {
    "duration": 8,
    "start_time": "2023-01-23T10:48:42.470Z"
   },
   {
    "duration": 14,
    "start_time": "2023-01-23T10:48:42.479Z"
   },
   {
    "duration": 15,
    "start_time": "2023-01-23T10:48:42.495Z"
   },
   {
    "duration": 8,
    "start_time": "2023-01-23T10:48:42.511Z"
   },
   {
    "duration": 73,
    "start_time": "2023-01-23T10:48:42.520Z"
   },
   {
    "duration": 72,
    "start_time": "2023-01-23T10:48:42.595Z"
   },
   {
    "duration": 17,
    "start_time": "2023-01-23T10:48:42.669Z"
   },
   {
    "duration": 11,
    "start_time": "2023-01-23T10:48:42.688Z"
   },
   {
    "duration": 6,
    "start_time": "2023-01-23T10:48:42.700Z"
   },
   {
    "duration": 14,
    "start_time": "2023-01-23T10:48:42.707Z"
   },
   {
    "duration": 248,
    "start_time": "2023-01-23T10:48:42.722Z"
   },
   {
    "duration": 11,
    "start_time": "2023-01-23T10:48:42.972Z"
   },
   {
    "duration": 267,
    "start_time": "2023-01-23T10:48:42.985Z"
   },
   {
    "duration": 153,
    "start_time": "2023-01-23T10:48:43.254Z"
   },
   {
    "duration": 7,
    "start_time": "2023-01-23T10:48:43.412Z"
   },
   {
    "duration": 12,
    "start_time": "2023-01-23T10:48:43.421Z"
   },
   {
    "duration": 49,
    "start_time": "2023-01-23T10:48:43.435Z"
   },
   {
    "duration": 302,
    "start_time": "2023-01-23T10:48:43.486Z"
   },
   {
    "duration": 166,
    "start_time": "2023-01-23T10:48:43.789Z"
   },
   {
    "duration": 15,
    "start_time": "2023-01-23T10:48:43.957Z"
   },
   {
    "duration": 11,
    "start_time": "2023-01-23T10:48:43.974Z"
   },
   {
    "duration": 215,
    "start_time": "2023-01-23T10:48:43.987Z"
   },
   {
    "duration": 14,
    "start_time": "2023-01-23T10:48:44.204Z"
   },
   {
    "duration": 10,
    "start_time": "2023-01-23T10:48:44.220Z"
   },
   {
    "duration": 212,
    "start_time": "2023-01-23T10:48:44.231Z"
   },
   {
    "duration": 195,
    "start_time": "2023-01-23T10:48:44.445Z"
   },
   {
    "duration": 13,
    "start_time": "2023-01-23T10:48:44.641Z"
   },
   {
    "duration": 10,
    "start_time": "2023-01-23T10:48:44.667Z"
   },
   {
    "duration": 220,
    "start_time": "2023-01-23T10:48:44.679Z"
   },
   {
    "duration": 217,
    "start_time": "2023-01-23T10:48:44.901Z"
   },
   {
    "duration": 214,
    "start_time": "2023-01-23T10:48:45.120Z"
   },
   {
    "duration": 7,
    "start_time": "2023-01-23T10:48:45.335Z"
   },
   {
    "duration": 23,
    "start_time": "2023-01-23T10:48:45.344Z"
   },
   {
    "duration": 4,
    "start_time": "2023-01-23T10:48:45.369Z"
   },
   {
    "duration": 14,
    "start_time": "2023-01-23T10:48:45.374Z"
   },
   {
    "duration": 9,
    "start_time": "2023-01-23T10:48:45.389Z"
   },
   {
    "duration": 384,
    "start_time": "2023-01-23T10:48:45.399Z"
   },
   {
    "duration": 4,
    "start_time": "2023-01-23T10:48:45.785Z"
   },
   {
    "duration": 19,
    "start_time": "2023-01-23T10:48:45.790Z"
   },
   {
    "duration": 176,
    "start_time": "2023-01-23T10:48:45.810Z"
   },
   {
    "duration": 160,
    "start_time": "2023-01-23T10:48:45.988Z"
   },
   {
    "duration": 165,
    "start_time": "2023-01-23T10:48:46.149Z"
   },
   {
    "duration": 178,
    "start_time": "2023-01-23T10:48:46.316Z"
   },
   {
    "duration": 154,
    "start_time": "2023-01-23T10:48:46.495Z"
   },
   {
    "duration": 169,
    "start_time": "2023-01-23T10:48:46.651Z"
   },
   {
    "duration": 164,
    "start_time": "2023-01-23T10:48:46.822Z"
   },
   {
    "duration": 141,
    "start_time": "2023-01-23T10:48:46.987Z"
   },
   {
    "duration": 256,
    "start_time": "2023-01-23T10:48:47.129Z"
   },
   {
    "duration": 195,
    "start_time": "2023-01-23T10:48:47.387Z"
   },
   {
    "duration": 171,
    "start_time": "2023-01-23T10:48:47.584Z"
   },
   {
    "duration": 188,
    "start_time": "2023-01-23T10:48:47.757Z"
   },
   {
    "duration": 260,
    "start_time": "2023-01-23T10:48:47.946Z"
   },
   {
    "duration": 195,
    "start_time": "2023-01-23T10:48:48.207Z"
   },
   {
    "duration": 577,
    "start_time": "2023-01-23T10:48:48.404Z"
   },
   {
    "duration": 270,
    "start_time": "2023-01-23T10:48:48.983Z"
   },
   {
    "duration": 138,
    "start_time": "2023-01-23T10:48:49.255Z"
   },
   {
    "duration": 152,
    "start_time": "2023-01-23T10:48:49.395Z"
   },
   {
    "duration": 148,
    "start_time": "2023-01-23T10:48:49.548Z"
   },
   {
    "duration": 174,
    "start_time": "2023-01-23T10:48:49.698Z"
   },
   {
    "duration": 135,
    "start_time": "2023-01-23T10:48:49.874Z"
   },
   {
    "duration": 165,
    "start_time": "2023-01-23T10:48:50.011Z"
   },
   {
    "duration": 291,
    "start_time": "2023-01-23T10:48:50.178Z"
   },
   {
    "duration": 27,
    "start_time": "2023-01-23T10:48:50.471Z"
   },
   {
    "duration": 15,
    "start_time": "2023-01-23T10:48:50.500Z"
   },
   {
    "duration": 73,
    "start_time": "2023-01-23T10:50:26.051Z"
   },
   {
    "duration": 46,
    "start_time": "2023-01-23T11:12:58.091Z"
   },
   {
    "duration": 793,
    "start_time": "2023-01-23T11:13:06.380Z"
   },
   {
    "duration": 143,
    "start_time": "2023-01-23T11:13:07.175Z"
   },
   {
    "duration": 35,
    "start_time": "2023-01-23T11:13:07.320Z"
   },
   {
    "duration": 16,
    "start_time": "2023-01-23T11:13:07.357Z"
   },
   {
    "duration": 1830,
    "start_time": "2023-01-23T11:13:07.375Z"
   },
   {
    "duration": 5,
    "start_time": "2023-01-23T11:13:09.207Z"
   },
   {
    "duration": 12,
    "start_time": "2023-01-23T11:13:09.213Z"
   },
   {
    "duration": 5,
    "start_time": "2023-01-23T11:13:09.226Z"
   },
   {
    "duration": 14,
    "start_time": "2023-01-23T11:13:09.233Z"
   },
   {
    "duration": 5,
    "start_time": "2023-01-23T11:13:09.250Z"
   },
   {
    "duration": 8,
    "start_time": "2023-01-23T11:13:09.257Z"
   },
   {
    "duration": 10,
    "start_time": "2023-01-23T11:13:09.267Z"
   },
   {
    "duration": 8,
    "start_time": "2023-01-23T11:13:09.294Z"
   },
   {
    "duration": 7,
    "start_time": "2023-01-23T11:13:09.303Z"
   },
   {
    "duration": 9,
    "start_time": "2023-01-23T11:13:09.312Z"
   },
   {
    "duration": 14,
    "start_time": "2023-01-23T11:13:09.323Z"
   },
   {
    "duration": 6,
    "start_time": "2023-01-23T11:13:09.338Z"
   },
   {
    "duration": 73,
    "start_time": "2023-01-23T11:13:09.346Z"
   },
   {
    "duration": 61,
    "start_time": "2023-01-23T11:13:09.421Z"
   },
   {
    "duration": 17,
    "start_time": "2023-01-23T11:13:09.493Z"
   },
   {
    "duration": 11,
    "start_time": "2023-01-23T11:13:09.512Z"
   },
   {
    "duration": 8,
    "start_time": "2023-01-23T11:13:09.525Z"
   },
   {
    "duration": 9,
    "start_time": "2023-01-23T11:13:09.534Z"
   },
   {
    "duration": 253,
    "start_time": "2023-01-23T11:13:09.545Z"
   },
   {
    "duration": 7,
    "start_time": "2023-01-23T11:13:09.800Z"
   },
   {
    "duration": 246,
    "start_time": "2023-01-23T11:13:09.809Z"
   },
   {
    "duration": 154,
    "start_time": "2023-01-23T11:13:10.057Z"
   },
   {
    "duration": 8,
    "start_time": "2023-01-23T11:13:10.215Z"
   },
   {
    "duration": 10,
    "start_time": "2023-01-23T11:13:10.224Z"
   },
   {
    "duration": 29,
    "start_time": "2023-01-23T11:13:10.236Z"
   },
   {
    "duration": 272,
    "start_time": "2023-01-23T11:13:10.266Z"
   },
   {
    "duration": 147,
    "start_time": "2023-01-23T11:13:10.540Z"
   },
   {
    "duration": 6,
    "start_time": "2023-01-23T11:13:10.693Z"
   },
   {
    "duration": 9,
    "start_time": "2023-01-23T11:13:10.701Z"
   },
   {
    "duration": 191,
    "start_time": "2023-01-23T11:13:10.711Z"
   },
   {
    "duration": 12,
    "start_time": "2023-01-23T11:13:10.904Z"
   },
   {
    "duration": 9,
    "start_time": "2023-01-23T11:13:10.917Z"
   },
   {
    "duration": 204,
    "start_time": "2023-01-23T11:13:10.928Z"
   },
   {
    "duration": 169,
    "start_time": "2023-01-23T11:13:11.134Z"
   },
   {
    "duration": 14,
    "start_time": "2023-01-23T11:13:11.304Z"
   },
   {
    "duration": 7,
    "start_time": "2023-01-23T11:13:11.320Z"
   },
   {
    "duration": 176,
    "start_time": "2023-01-23T11:13:11.329Z"
   },
   {
    "duration": 158,
    "start_time": "2023-01-23T11:13:11.507Z"
   },
   {
    "duration": 197,
    "start_time": "2023-01-23T11:13:11.666Z"
   },
   {
    "duration": 6,
    "start_time": "2023-01-23T11:13:11.865Z"
   },
   {
    "duration": 20,
    "start_time": "2023-01-23T11:13:11.873Z"
   },
   {
    "duration": 4,
    "start_time": "2023-01-23T11:13:11.895Z"
   },
   {
    "duration": 5,
    "start_time": "2023-01-23T11:13:11.901Z"
   },
   {
    "duration": 7,
    "start_time": "2023-01-23T11:13:11.908Z"
   },
   {
    "duration": 393,
    "start_time": "2023-01-23T11:13:11.917Z"
   },
   {
    "duration": 4,
    "start_time": "2023-01-23T11:13:12.312Z"
   },
   {
    "duration": 22,
    "start_time": "2023-01-23T11:13:12.317Z"
   },
   {
    "duration": 190,
    "start_time": "2023-01-23T11:13:12.342Z"
   },
   {
    "duration": 160,
    "start_time": "2023-01-23T11:13:12.534Z"
   },
   {
    "duration": 163,
    "start_time": "2023-01-23T11:13:12.695Z"
   },
   {
    "duration": 77,
    "start_time": "2023-01-23T11:13:12.860Z"
   },
   {
    "duration": 0,
    "start_time": "2023-01-23T11:13:12.939Z"
   },
   {
    "duration": 0,
    "start_time": "2023-01-23T11:13:12.940Z"
   },
   {
    "duration": 0,
    "start_time": "2023-01-23T11:13:12.941Z"
   },
   {
    "duration": 0,
    "start_time": "2023-01-23T11:13:12.942Z"
   },
   {
    "duration": 0,
    "start_time": "2023-01-23T11:13:12.943Z"
   },
   {
    "duration": 0,
    "start_time": "2023-01-23T11:13:12.944Z"
   },
   {
    "duration": 0,
    "start_time": "2023-01-23T11:13:12.945Z"
   },
   {
    "duration": 0,
    "start_time": "2023-01-23T11:13:12.946Z"
   },
   {
    "duration": 0,
    "start_time": "2023-01-23T11:13:12.947Z"
   },
   {
    "duration": 0,
    "start_time": "2023-01-23T11:13:12.948Z"
   },
   {
    "duration": 0,
    "start_time": "2023-01-23T11:13:12.949Z"
   },
   {
    "duration": 0,
    "start_time": "2023-01-23T11:13:12.950Z"
   },
   {
    "duration": 0,
    "start_time": "2023-01-23T11:13:12.951Z"
   },
   {
    "duration": 1,
    "start_time": "2023-01-23T11:13:12.951Z"
   },
   {
    "duration": 0,
    "start_time": "2023-01-23T11:13:12.952Z"
   },
   {
    "duration": 0,
    "start_time": "2023-01-23T11:13:12.953Z"
   },
   {
    "duration": 0,
    "start_time": "2023-01-23T11:13:12.954Z"
   },
   {
    "duration": 0,
    "start_time": "2023-01-23T11:13:12.955Z"
   },
   {
    "duration": 0,
    "start_time": "2023-01-23T11:13:12.956Z"
   },
   {
    "duration": 0,
    "start_time": "2023-01-23T11:13:12.957Z"
   },
   {
    "duration": 0,
    "start_time": "2023-01-23T11:13:12.958Z"
   },
   {
    "duration": 13,
    "start_time": "2023-01-23T11:14:28.060Z"
   },
   {
    "duration": 49,
    "start_time": "2023-01-23T11:15:13.816Z"
   },
   {
    "duration": 195,
    "start_time": "2023-01-23T11:15:43.763Z"
   },
   {
    "duration": 206,
    "start_time": "2023-01-23T11:16:01.602Z"
   },
   {
    "duration": 653,
    "start_time": "2023-01-23T11:16:18.986Z"
   },
   {
    "duration": 83,
    "start_time": "2023-01-23T11:16:19.641Z"
   },
   {
    "duration": 33,
    "start_time": "2023-01-23T11:16:19.726Z"
   },
   {
    "duration": 17,
    "start_time": "2023-01-23T11:16:19.761Z"
   },
   {
    "duration": 1912,
    "start_time": "2023-01-23T11:16:19.793Z"
   },
   {
    "duration": 5,
    "start_time": "2023-01-23T11:16:21.707Z"
   },
   {
    "duration": 13,
    "start_time": "2023-01-23T11:16:21.714Z"
   },
   {
    "duration": 6,
    "start_time": "2023-01-23T11:16:21.728Z"
   },
   {
    "duration": 23,
    "start_time": "2023-01-23T11:16:21.735Z"
   },
   {
    "duration": 6,
    "start_time": "2023-01-23T11:16:21.761Z"
   },
   {
    "duration": 12,
    "start_time": "2023-01-23T11:16:21.769Z"
   },
   {
    "duration": 13,
    "start_time": "2023-01-23T11:16:21.783Z"
   },
   {
    "duration": 10,
    "start_time": "2023-01-23T11:16:21.798Z"
   },
   {
    "duration": 6,
    "start_time": "2023-01-23T11:16:21.809Z"
   },
   {
    "duration": 10,
    "start_time": "2023-01-23T11:16:21.817Z"
   },
   {
    "duration": 14,
    "start_time": "2023-01-23T11:16:21.829Z"
   },
   {
    "duration": 6,
    "start_time": "2023-01-23T11:16:21.845Z"
   },
   {
    "duration": 83,
    "start_time": "2023-01-23T11:16:21.853Z"
   },
   {
    "duration": 74,
    "start_time": "2023-01-23T11:16:21.938Z"
   },
   {
    "duration": 18,
    "start_time": "2023-01-23T11:16:22.014Z"
   },
   {
    "duration": 19,
    "start_time": "2023-01-23T11:16:22.034Z"
   },
   {
    "duration": 7,
    "start_time": "2023-01-23T11:16:22.054Z"
   },
   {
    "duration": 13,
    "start_time": "2023-01-23T11:16:22.063Z"
   },
   {
    "duration": 292,
    "start_time": "2023-01-23T11:16:22.094Z"
   },
   {
    "duration": 9,
    "start_time": "2023-01-23T11:16:22.389Z"
   },
   {
    "duration": 268,
    "start_time": "2023-01-23T11:16:22.400Z"
   },
   {
    "duration": 153,
    "start_time": "2023-01-23T11:16:22.670Z"
   },
   {
    "duration": 7,
    "start_time": "2023-01-23T11:16:22.827Z"
   },
   {
    "duration": 12,
    "start_time": "2023-01-23T11:16:22.836Z"
   },
   {
    "duration": 25,
    "start_time": "2023-01-23T11:16:22.849Z"
   },
   {
    "duration": 272,
    "start_time": "2023-01-23T11:16:22.894Z"
   },
   {
    "duration": 160,
    "start_time": "2023-01-23T11:16:23.168Z"
   },
   {
    "duration": 7,
    "start_time": "2023-01-23T11:16:23.330Z"
   },
   {
    "duration": 12,
    "start_time": "2023-01-23T11:16:23.339Z"
   },
   {
    "duration": 198,
    "start_time": "2023-01-23T11:16:23.353Z"
   },
   {
    "duration": 12,
    "start_time": "2023-01-23T11:16:23.552Z"
   },
   {
    "duration": 9,
    "start_time": "2023-01-23T11:16:23.566Z"
   },
   {
    "duration": 193,
    "start_time": "2023-01-23T11:16:23.576Z"
   },
   {
    "duration": 176,
    "start_time": "2023-01-23T11:16:23.771Z"
   },
   {
    "duration": 17,
    "start_time": "2023-01-23T11:16:23.949Z"
   },
   {
    "duration": 28,
    "start_time": "2023-01-23T11:16:23.968Z"
   },
   {
    "duration": 215,
    "start_time": "2023-01-23T11:16:23.999Z"
   },
   {
    "duration": 229,
    "start_time": "2023-01-23T11:16:24.217Z"
   },
   {
    "duration": 198,
    "start_time": "2023-01-23T11:16:24.448Z"
   },
   {
    "duration": 7,
    "start_time": "2023-01-23T11:16:24.647Z"
   },
   {
    "duration": 12,
    "start_time": "2023-01-23T11:16:24.656Z"
   },
   {
    "duration": 4,
    "start_time": "2023-01-23T11:16:24.670Z"
   },
   {
    "duration": 23,
    "start_time": "2023-01-23T11:16:24.676Z"
   },
   {
    "duration": 15,
    "start_time": "2023-01-23T11:16:24.700Z"
   },
   {
    "duration": 369,
    "start_time": "2023-01-23T11:16:24.717Z"
   },
   {
    "duration": 7,
    "start_time": "2023-01-23T11:16:25.088Z"
   },
   {
    "duration": 18,
    "start_time": "2023-01-23T11:16:25.096Z"
   },
   {
    "duration": 172,
    "start_time": "2023-01-23T11:16:25.116Z"
   },
   {
    "duration": 157,
    "start_time": "2023-01-23T11:16:25.289Z"
   },
   {
    "duration": 163,
    "start_time": "2023-01-23T11:16:25.447Z"
   },
   {
    "duration": 188,
    "start_time": "2023-01-23T11:16:25.612Z"
   },
   {
    "duration": 135,
    "start_time": "2023-01-23T11:16:25.802Z"
   },
   {
    "duration": 131,
    "start_time": "2023-01-23T11:16:25.939Z"
   },
   {
    "duration": 160,
    "start_time": "2023-01-23T11:16:26.072Z"
   },
   {
    "duration": 124,
    "start_time": "2023-01-23T11:16:26.234Z"
   },
   {
    "duration": 256,
    "start_time": "2023-01-23T11:16:26.359Z"
   },
   {
    "duration": 203,
    "start_time": "2023-01-23T11:16:26.616Z"
   },
   {
    "duration": 166,
    "start_time": "2023-01-23T11:16:26.821Z"
   },
   {
    "duration": 189,
    "start_time": "2023-01-23T11:16:26.994Z"
   },
   {
    "duration": 271,
    "start_time": "2023-01-23T11:16:27.185Z"
   },
   {
    "duration": 175,
    "start_time": "2023-01-23T11:16:27.458Z"
   },
   {
    "duration": 539,
    "start_time": "2023-01-23T11:16:27.635Z"
   },
   {
    "duration": 240,
    "start_time": "2023-01-23T11:16:28.176Z"
   },
   {
    "duration": 125,
    "start_time": "2023-01-23T11:16:28.418Z"
   },
   {
    "duration": 153,
    "start_time": "2023-01-23T11:16:28.544Z"
   },
   {
    "duration": 149,
    "start_time": "2023-01-23T11:16:28.698Z"
   },
   {
    "duration": 138,
    "start_time": "2023-01-23T11:16:28.849Z"
   },
   {
    "duration": 127,
    "start_time": "2023-01-23T11:16:28.993Z"
   },
   {
    "duration": 160,
    "start_time": "2023-01-23T11:16:29.121Z"
   },
   {
    "duration": 290,
    "start_time": "2023-01-23T11:16:29.283Z"
   },
   {
    "duration": 29,
    "start_time": "2023-01-23T11:16:29.574Z"
   },
   {
    "duration": 17,
    "start_time": "2023-01-23T11:16:29.604Z"
   },
   {
    "duration": 189,
    "start_time": "2023-01-23T11:17:42.740Z"
   },
   {
    "duration": 614,
    "start_time": "2023-01-23T11:18:04.298Z"
   },
   {
    "duration": 83,
    "start_time": "2023-01-23T11:18:04.913Z"
   },
   {
    "duration": 24,
    "start_time": "2023-01-23T11:18:04.997Z"
   },
   {
    "duration": 36,
    "start_time": "2023-01-23T11:18:05.024Z"
   },
   {
    "duration": 1888,
    "start_time": "2023-01-23T11:18:05.061Z"
   },
   {
    "duration": 4,
    "start_time": "2023-01-23T11:18:06.951Z"
   },
   {
    "duration": 9,
    "start_time": "2023-01-23T11:18:06.957Z"
   },
   {
    "duration": 5,
    "start_time": "2023-01-23T11:18:06.968Z"
   },
   {
    "duration": 13,
    "start_time": "2023-01-23T11:18:06.974Z"
   },
   {
    "duration": 8,
    "start_time": "2023-01-23T11:18:06.990Z"
   },
   {
    "duration": 9,
    "start_time": "2023-01-23T11:18:06.999Z"
   },
   {
    "duration": 11,
    "start_time": "2023-01-23T11:18:07.009Z"
   },
   {
    "duration": 7,
    "start_time": "2023-01-23T11:18:07.022Z"
   },
   {
    "duration": 6,
    "start_time": "2023-01-23T11:18:07.030Z"
   },
   {
    "duration": 11,
    "start_time": "2023-01-23T11:18:07.037Z"
   },
   {
    "duration": 14,
    "start_time": "2023-01-23T11:18:07.049Z"
   },
   {
    "duration": 6,
    "start_time": "2023-01-23T11:18:07.065Z"
   },
   {
    "duration": 52,
    "start_time": "2023-01-23T11:18:07.092Z"
   },
   {
    "duration": 79,
    "start_time": "2023-01-23T11:18:07.146Z"
   },
   {
    "duration": 18,
    "start_time": "2023-01-23T11:18:07.227Z"
   },
   {
    "duration": 17,
    "start_time": "2023-01-23T11:18:07.246Z"
   },
   {
    "duration": 8,
    "start_time": "2023-01-23T11:18:07.264Z"
   },
   {
    "duration": 25,
    "start_time": "2023-01-23T11:18:07.274Z"
   },
   {
    "duration": 247,
    "start_time": "2023-01-23T11:18:07.301Z"
   },
   {
    "duration": 7,
    "start_time": "2023-01-23T11:18:07.550Z"
   },
   {
    "duration": 246,
    "start_time": "2023-01-23T11:18:07.558Z"
   },
   {
    "duration": 142,
    "start_time": "2023-01-23T11:18:07.805Z"
   },
   {
    "duration": 8,
    "start_time": "2023-01-23T11:18:07.950Z"
   },
   {
    "duration": 10,
    "start_time": "2023-01-23T11:18:07.959Z"
   },
   {
    "duration": 39,
    "start_time": "2023-01-23T11:18:07.970Z"
   },
   {
    "duration": 184,
    "start_time": "2023-01-23T11:18:08.011Z"
   },
   {
    "duration": 251,
    "start_time": "2023-01-23T11:18:08.197Z"
   },
   {
    "duration": 7,
    "start_time": "2023-01-23T11:18:08.449Z"
   },
   {
    "duration": 12,
    "start_time": "2023-01-23T11:18:08.458Z"
   },
   {
    "duration": 198,
    "start_time": "2023-01-23T11:18:08.471Z"
   },
   {
    "duration": 11,
    "start_time": "2023-01-23T11:18:08.671Z"
   },
   {
    "duration": 25,
    "start_time": "2023-01-23T11:18:08.683Z"
   },
   {
    "duration": 184,
    "start_time": "2023-01-23T11:18:08.710Z"
   },
   {
    "duration": 168,
    "start_time": "2023-01-23T11:18:08.896Z"
   },
   {
    "duration": 11,
    "start_time": "2023-01-23T11:18:09.066Z"
   },
   {
    "duration": 30,
    "start_time": "2023-01-23T11:18:09.079Z"
   },
   {
    "duration": 162,
    "start_time": "2023-01-23T11:18:09.110Z"
   },
   {
    "duration": 157,
    "start_time": "2023-01-23T11:18:09.273Z"
   },
   {
    "duration": 194,
    "start_time": "2023-01-23T11:18:09.432Z"
   },
   {
    "duration": 6,
    "start_time": "2023-01-23T11:18:09.627Z"
   },
   {
    "duration": 14,
    "start_time": "2023-01-23T11:18:09.635Z"
   },
   {
    "duration": 28,
    "start_time": "2023-01-23T11:18:09.650Z"
   },
   {
    "duration": 29,
    "start_time": "2023-01-23T11:18:09.679Z"
   },
   {
    "duration": 24,
    "start_time": "2023-01-23T11:18:09.710Z"
   },
   {
    "duration": 382,
    "start_time": "2023-01-23T11:18:09.736Z"
   },
   {
    "duration": 4,
    "start_time": "2023-01-23T11:18:10.119Z"
   },
   {
    "duration": 32,
    "start_time": "2023-01-23T11:18:10.125Z"
   },
   {
    "duration": 175,
    "start_time": "2023-01-23T11:18:10.158Z"
   },
   {
    "duration": 152,
    "start_time": "2023-01-23T11:18:10.335Z"
   },
   {
    "duration": 169,
    "start_time": "2023-01-23T11:18:10.493Z"
   },
   {
    "duration": 193,
    "start_time": "2023-01-23T11:18:10.664Z"
   },
   {
    "duration": 137,
    "start_time": "2023-01-23T11:18:10.859Z"
   },
   {
    "duration": 136,
    "start_time": "2023-01-23T11:18:10.997Z"
   },
   {
    "duration": 156,
    "start_time": "2023-01-23T11:18:11.135Z"
   },
   {
    "duration": 119,
    "start_time": "2023-01-23T11:18:11.294Z"
   },
   {
    "duration": 258,
    "start_time": "2023-01-23T11:18:11.414Z"
   },
   {
    "duration": 187,
    "start_time": "2023-01-23T11:18:11.674Z"
   },
   {
    "duration": 164,
    "start_time": "2023-01-23T11:18:11.863Z"
   },
   {
    "duration": 183,
    "start_time": "2023-01-23T11:18:12.029Z"
   },
   {
    "duration": 268,
    "start_time": "2023-01-23T11:18:12.213Z"
   },
   {
    "duration": 195,
    "start_time": "2023-01-23T11:18:12.483Z"
   },
   {
    "duration": 515,
    "start_time": "2023-01-23T11:18:12.680Z"
   },
   {
    "duration": 221,
    "start_time": "2023-01-23T11:18:13.196Z"
   },
   {
    "duration": 120,
    "start_time": "2023-01-23T11:18:13.419Z"
   },
   {
    "duration": 155,
    "start_time": "2023-01-23T11:18:13.541Z"
   },
   {
    "duration": 153,
    "start_time": "2023-01-23T11:18:13.698Z"
   },
   {
    "duration": 167,
    "start_time": "2023-01-23T11:18:13.853Z"
   },
   {
    "duration": 173,
    "start_time": "2023-01-23T11:18:14.023Z"
   },
   {
    "duration": 235,
    "start_time": "2023-01-23T11:18:14.198Z"
   },
   {
    "duration": 318,
    "start_time": "2023-01-23T11:18:14.435Z"
   },
   {
    "duration": 23,
    "start_time": "2023-01-23T11:18:14.755Z"
   },
   {
    "duration": 27,
    "start_time": "2023-01-23T11:18:14.779Z"
   },
   {
    "duration": 182,
    "start_time": "2023-01-23T11:18:49.558Z"
   },
   {
    "duration": 184,
    "start_time": "2023-01-23T11:18:54.412Z"
   },
   {
    "duration": 624,
    "start_time": "2023-01-23T11:19:01.898Z"
   },
   {
    "duration": 100,
    "start_time": "2023-01-23T11:19:02.523Z"
   },
   {
    "duration": 22,
    "start_time": "2023-01-23T11:19:02.625Z"
   },
   {
    "duration": 14,
    "start_time": "2023-01-23T11:19:02.649Z"
   },
   {
    "duration": 1917,
    "start_time": "2023-01-23T11:19:02.664Z"
   },
   {
    "duration": 5,
    "start_time": "2023-01-23T11:19:04.583Z"
   },
   {
    "duration": 11,
    "start_time": "2023-01-23T11:19:04.589Z"
   },
   {
    "duration": 5,
    "start_time": "2023-01-23T11:19:04.601Z"
   },
   {
    "duration": 13,
    "start_time": "2023-01-23T11:19:04.607Z"
   },
   {
    "duration": 5,
    "start_time": "2023-01-23T11:19:04.622Z"
   },
   {
    "duration": 6,
    "start_time": "2023-01-23T11:19:04.628Z"
   },
   {
    "duration": 10,
    "start_time": "2023-01-23T11:19:04.635Z"
   },
   {
    "duration": 7,
    "start_time": "2023-01-23T11:19:04.646Z"
   },
   {
    "duration": 7,
    "start_time": "2023-01-23T11:19:04.654Z"
   },
   {
    "duration": 31,
    "start_time": "2023-01-23T11:19:04.662Z"
   },
   {
    "duration": 14,
    "start_time": "2023-01-23T11:19:04.695Z"
   },
   {
    "duration": 6,
    "start_time": "2023-01-23T11:19:04.711Z"
   },
   {
    "duration": 49,
    "start_time": "2023-01-23T11:19:04.718Z"
   },
   {
    "duration": 84,
    "start_time": "2023-01-23T11:19:04.769Z"
   },
   {
    "duration": 15,
    "start_time": "2023-01-23T11:19:04.855Z"
   },
   {
    "duration": 28,
    "start_time": "2023-01-23T11:19:04.872Z"
   },
   {
    "duration": 6,
    "start_time": "2023-01-23T11:19:04.902Z"
   },
   {
    "duration": 8,
    "start_time": "2023-01-23T11:19:04.910Z"
   },
   {
    "duration": 245,
    "start_time": "2023-01-23T11:19:04.919Z"
   },
   {
    "duration": 7,
    "start_time": "2023-01-23T11:19:05.165Z"
   },
   {
    "duration": 240,
    "start_time": "2023-01-23T11:19:05.174Z"
   },
   {
    "duration": 139,
    "start_time": "2023-01-23T11:19:05.416Z"
   },
   {
    "duration": 7,
    "start_time": "2023-01-23T11:19:05.559Z"
   },
   {
    "duration": 14,
    "start_time": "2023-01-23T11:19:05.567Z"
   },
   {
    "duration": 34,
    "start_time": "2023-01-23T11:19:05.583Z"
   },
   {
    "duration": 275,
    "start_time": "2023-01-23T11:19:05.618Z"
   },
   {
    "duration": 149,
    "start_time": "2023-01-23T11:19:05.895Z"
   },
   {
    "duration": 7,
    "start_time": "2023-01-23T11:19:06.045Z"
   },
   {
    "duration": 12,
    "start_time": "2023-01-23T11:19:06.054Z"
   },
   {
    "duration": 197,
    "start_time": "2023-01-23T11:19:06.067Z"
   },
   {
    "duration": 11,
    "start_time": "2023-01-23T11:19:06.265Z"
   },
   {
    "duration": 20,
    "start_time": "2023-01-23T11:19:06.278Z"
   },
   {
    "duration": 203,
    "start_time": "2023-01-23T11:19:06.299Z"
   },
   {
    "duration": 162,
    "start_time": "2023-01-23T11:19:06.503Z"
   },
   {
    "duration": 12,
    "start_time": "2023-01-23T11:19:06.667Z"
   },
   {
    "duration": 18,
    "start_time": "2023-01-23T11:19:06.680Z"
   },
   {
    "duration": 159,
    "start_time": "2023-01-23T11:19:06.699Z"
   },
   {
    "duration": 153,
    "start_time": "2023-01-23T11:19:06.860Z"
   },
   {
    "duration": 198,
    "start_time": "2023-01-23T11:19:07.015Z"
   },
   {
    "duration": 7,
    "start_time": "2023-01-23T11:19:07.214Z"
   },
   {
    "duration": 27,
    "start_time": "2023-01-23T11:19:07.222Z"
   },
   {
    "duration": 6,
    "start_time": "2023-01-23T11:19:07.251Z"
   },
   {
    "duration": 11,
    "start_time": "2023-01-23T11:19:07.259Z"
   },
   {
    "duration": 14,
    "start_time": "2023-01-23T11:19:07.272Z"
   },
   {
    "duration": 366,
    "start_time": "2023-01-23T11:19:07.287Z"
   },
   {
    "duration": 4,
    "start_time": "2023-01-23T11:19:07.655Z"
   },
   {
    "duration": 25,
    "start_time": "2023-01-23T11:19:07.661Z"
   },
   {
    "duration": 182,
    "start_time": "2023-01-23T11:19:07.688Z"
   },
   {
    "duration": 149,
    "start_time": "2023-01-23T11:19:07.872Z"
   },
   {
    "duration": 172,
    "start_time": "2023-01-23T11:19:08.023Z"
   },
   {
    "duration": 183,
    "start_time": "2023-01-23T11:19:08.197Z"
   },
   {
    "duration": 139,
    "start_time": "2023-01-23T11:19:08.381Z"
   },
   {
    "duration": 136,
    "start_time": "2023-01-23T11:19:08.522Z"
   },
   {
    "duration": 150,
    "start_time": "2023-01-23T11:19:08.660Z"
   },
   {
    "duration": 184,
    "start_time": "2023-01-23T11:19:08.811Z"
   },
   {
    "duration": 182,
    "start_time": "2023-01-23T11:19:08.997Z"
   },
   {
    "duration": 185,
    "start_time": "2023-01-23T11:19:09.181Z"
   },
   {
    "duration": 164,
    "start_time": "2023-01-23T11:19:09.368Z"
   },
   {
    "duration": 177,
    "start_time": "2023-01-23T11:19:09.533Z"
   },
   {
    "duration": 241,
    "start_time": "2023-01-23T11:19:09.712Z"
   },
   {
    "duration": 197,
    "start_time": "2023-01-23T11:19:09.954Z"
   },
   {
    "duration": 573,
    "start_time": "2023-01-23T11:19:10.152Z"
   },
   {
    "duration": 148,
    "start_time": "2023-01-23T11:19:10.726Z"
   },
   {
    "duration": 125,
    "start_time": "2023-01-23T11:19:10.876Z"
   },
   {
    "duration": 151,
    "start_time": "2023-01-23T11:19:11.003Z"
   },
   {
    "duration": 145,
    "start_time": "2023-01-23T11:19:11.156Z"
   },
   {
    "duration": 154,
    "start_time": "2023-01-23T11:19:11.302Z"
   },
   {
    "duration": 142,
    "start_time": "2023-01-23T11:19:11.458Z"
   },
   {
    "duration": 161,
    "start_time": "2023-01-23T11:19:11.602Z"
   },
   {
    "duration": 267,
    "start_time": "2023-01-23T11:19:11.764Z"
   },
   {
    "duration": 94,
    "start_time": "2023-01-23T11:19:12.032Z"
   },
   {
    "duration": 13,
    "start_time": "2023-01-23T11:19:12.128Z"
   },
   {
    "duration": 68,
    "start_time": "2023-01-23T11:23:57.554Z"
   },
   {
    "duration": 6,
    "start_time": "2023-01-23T11:24:13.973Z"
   },
   {
    "duration": 46,
    "start_time": "2023-01-23T11:27:42.567Z"
   },
   {
    "duration": 4,
    "start_time": "2023-01-23T11:27:49.800Z"
   },
   {
    "duration": 48,
    "start_time": "2023-01-23T12:27:42.099Z"
   },
   {
    "duration": 744,
    "start_time": "2023-01-23T12:28:29.436Z"
   },
   {
    "duration": 145,
    "start_time": "2023-01-23T12:28:30.182Z"
   },
   {
    "duration": 28,
    "start_time": "2023-01-23T12:28:30.329Z"
   },
   {
    "duration": 15,
    "start_time": "2023-01-23T12:28:30.359Z"
   },
   {
    "duration": 1833,
    "start_time": "2023-01-23T12:28:30.376Z"
   },
   {
    "duration": 5,
    "start_time": "2023-01-23T12:28:32.211Z"
   },
   {
    "duration": 23,
    "start_time": "2023-01-23T12:28:32.217Z"
   },
   {
    "duration": 13,
    "start_time": "2023-01-23T12:28:32.241Z"
   },
   {
    "duration": 22,
    "start_time": "2023-01-23T12:28:32.256Z"
   },
   {
    "duration": 6,
    "start_time": "2023-01-23T12:28:32.280Z"
   },
   {
    "duration": 18,
    "start_time": "2023-01-23T12:28:32.287Z"
   },
   {
    "duration": 15,
    "start_time": "2023-01-23T12:28:32.307Z"
   },
   {
    "duration": 11,
    "start_time": "2023-01-23T12:28:32.324Z"
   },
   {
    "duration": 25,
    "start_time": "2023-01-23T12:28:32.336Z"
   },
   {
    "duration": 21,
    "start_time": "2023-01-23T12:28:32.363Z"
   },
   {
    "duration": 24,
    "start_time": "2023-01-23T12:28:32.386Z"
   },
   {
    "duration": 7,
    "start_time": "2023-01-23T12:28:32.412Z"
   },
   {
    "duration": 49,
    "start_time": "2023-01-23T12:28:32.421Z"
   },
   {
    "duration": 74,
    "start_time": "2023-01-23T12:28:32.472Z"
   },
   {
    "duration": 14,
    "start_time": "2023-01-23T12:28:32.548Z"
   },
   {
    "duration": 8,
    "start_time": "2023-01-23T12:28:32.594Z"
   },
   {
    "duration": 23,
    "start_time": "2023-01-23T12:28:32.603Z"
   },
   {
    "duration": 23,
    "start_time": "2023-01-23T12:28:32.628Z"
   },
   {
    "duration": 250,
    "start_time": "2023-01-23T12:28:32.653Z"
   },
   {
    "duration": 9,
    "start_time": "2023-01-23T12:28:32.905Z"
   },
   {
    "duration": 386,
    "start_time": "2023-01-23T12:28:32.915Z"
   },
   {
    "duration": 147,
    "start_time": "2023-01-23T12:28:33.302Z"
   },
   {
    "duration": 7,
    "start_time": "2023-01-23T12:28:33.454Z"
   },
   {
    "duration": 11,
    "start_time": "2023-01-23T12:28:33.462Z"
   },
   {
    "duration": 33,
    "start_time": "2023-01-23T12:28:33.475Z"
   },
   {
    "duration": 276,
    "start_time": "2023-01-23T12:28:33.509Z"
   },
   {
    "duration": 153,
    "start_time": "2023-01-23T12:28:33.792Z"
   },
   {
    "duration": 8,
    "start_time": "2023-01-23T12:28:33.947Z"
   },
   {
    "duration": 33,
    "start_time": "2023-01-23T12:28:33.957Z"
   },
   {
    "duration": 259,
    "start_time": "2023-01-23T12:28:33.993Z"
   },
   {
    "duration": 14,
    "start_time": "2023-01-23T12:28:34.254Z"
   },
   {
    "duration": 23,
    "start_time": "2023-01-23T12:28:34.270Z"
   },
   {
    "duration": 192,
    "start_time": "2023-01-23T12:28:34.295Z"
   },
   {
    "duration": 165,
    "start_time": "2023-01-23T12:28:34.489Z"
   },
   {
    "duration": 12,
    "start_time": "2023-01-23T12:28:34.655Z"
   },
   {
    "duration": 26,
    "start_time": "2023-01-23T12:28:34.669Z"
   },
   {
    "duration": 165,
    "start_time": "2023-01-23T12:28:34.697Z"
   },
   {
    "duration": 156,
    "start_time": "2023-01-23T12:28:34.863Z"
   },
   {
    "duration": 199,
    "start_time": "2023-01-23T12:28:35.020Z"
   },
   {
    "duration": 8,
    "start_time": "2023-01-23T12:28:35.221Z"
   },
   {
    "duration": 10,
    "start_time": "2023-01-23T12:28:35.231Z"
   },
   {
    "duration": 5,
    "start_time": "2023-01-23T12:28:35.243Z"
   },
   {
    "duration": 12,
    "start_time": "2023-01-23T12:28:35.250Z"
   },
   {
    "duration": 36,
    "start_time": "2023-01-23T12:28:35.263Z"
   },
   {
    "duration": 381,
    "start_time": "2023-01-23T12:28:35.301Z"
   },
   {
    "duration": 4,
    "start_time": "2023-01-23T12:28:35.684Z"
   },
   {
    "duration": 26,
    "start_time": "2023-01-23T12:28:35.694Z"
   },
   {
    "duration": 164,
    "start_time": "2023-01-23T12:28:35.721Z"
   },
   {
    "duration": 161,
    "start_time": "2023-01-23T12:28:35.887Z"
   },
   {
    "duration": 171,
    "start_time": "2023-01-23T12:28:36.049Z"
   },
   {
    "duration": 209,
    "start_time": "2023-01-23T12:28:36.221Z"
   },
   {
    "duration": 137,
    "start_time": "2023-01-23T12:28:36.431Z"
   },
   {
    "duration": 130,
    "start_time": "2023-01-23T12:28:36.570Z"
   },
   {
    "duration": 148,
    "start_time": "2023-01-23T12:28:36.702Z"
   },
   {
    "duration": 178,
    "start_time": "2023-01-23T12:28:36.852Z"
   },
   {
    "duration": 181,
    "start_time": "2023-01-23T12:28:37.032Z"
   },
   {
    "duration": 194,
    "start_time": "2023-01-23T12:28:37.214Z"
   },
   {
    "duration": 168,
    "start_time": "2023-01-23T12:28:37.410Z"
   },
   {
    "duration": 178,
    "start_time": "2023-01-23T12:28:37.580Z"
   },
   {
    "duration": 247,
    "start_time": "2023-01-23T12:28:37.760Z"
   },
   {
    "duration": 190,
    "start_time": "2023-01-23T12:28:38.010Z"
   },
   {
    "duration": 572,
    "start_time": "2023-01-23T12:28:38.202Z"
   },
   {
    "duration": 155,
    "start_time": "2023-01-23T12:28:38.776Z"
   },
   {
    "duration": 10,
    "start_time": "2023-01-23T12:28:38.932Z"
   },
   {
    "duration": 138,
    "start_time": "2023-01-23T12:28:38.943Z"
   },
   {
    "duration": 145,
    "start_time": "2023-01-23T12:28:39.083Z"
   },
   {
    "duration": 137,
    "start_time": "2023-01-23T12:28:39.230Z"
   },
   {
    "duration": 139,
    "start_time": "2023-01-23T12:28:39.368Z"
   },
   {
    "duration": 133,
    "start_time": "2023-01-23T12:28:39.509Z"
   },
   {
    "duration": 164,
    "start_time": "2023-01-23T12:28:39.643Z"
   },
   {
    "duration": 277,
    "start_time": "2023-01-23T12:28:39.809Z"
   },
   {
    "duration": 87,
    "start_time": "2023-01-23T12:28:40.093Z"
   },
   {
    "duration": 21,
    "start_time": "2023-01-23T12:28:40.181Z"
   },
   {
    "duration": 602,
    "start_time": "2023-01-23T13:22:00.217Z"
   },
   {
    "duration": 87,
    "start_time": "2023-01-23T13:22:00.821Z"
   },
   {
    "duration": 24,
    "start_time": "2023-01-23T13:22:00.909Z"
   },
   {
    "duration": 14,
    "start_time": "2023-01-23T13:22:00.935Z"
   },
   {
    "duration": 1842,
    "start_time": "2023-01-23T13:22:00.951Z"
   },
   {
    "duration": 5,
    "start_time": "2023-01-23T13:22:02.794Z"
   },
   {
    "duration": 18,
    "start_time": "2023-01-23T13:22:02.800Z"
   },
   {
    "duration": 8,
    "start_time": "2023-01-23T13:22:02.819Z"
   },
   {
    "duration": 20,
    "start_time": "2023-01-23T13:22:02.828Z"
   },
   {
    "duration": 5,
    "start_time": "2023-01-23T13:22:02.851Z"
   },
   {
    "duration": 9,
    "start_time": "2023-01-23T13:22:02.857Z"
   },
   {
    "duration": 11,
    "start_time": "2023-01-23T13:22:02.867Z"
   },
   {
    "duration": 9,
    "start_time": "2023-01-23T13:22:02.879Z"
   },
   {
    "duration": 12,
    "start_time": "2023-01-23T13:22:02.889Z"
   },
   {
    "duration": 14,
    "start_time": "2023-01-23T13:22:02.902Z"
   },
   {
    "duration": 22,
    "start_time": "2023-01-23T13:22:02.917Z"
   },
   {
    "duration": 13,
    "start_time": "2023-01-23T13:22:02.941Z"
   },
   {
    "duration": 52,
    "start_time": "2023-01-23T13:22:02.955Z"
   },
   {
    "duration": 65,
    "start_time": "2023-01-23T13:22:03.008Z"
   },
   {
    "duration": 21,
    "start_time": "2023-01-23T13:22:03.074Z"
   },
   {
    "duration": 10,
    "start_time": "2023-01-23T13:22:03.096Z"
   },
   {
    "duration": 7,
    "start_time": "2023-01-23T13:22:03.107Z"
   },
   {
    "duration": 13,
    "start_time": "2023-01-23T13:22:03.115Z"
   },
   {
    "duration": 240,
    "start_time": "2023-01-23T13:22:03.130Z"
   },
   {
    "duration": 6,
    "start_time": "2023-01-23T13:22:03.372Z"
   },
   {
    "duration": 241,
    "start_time": "2023-01-23T13:22:03.379Z"
   },
   {
    "duration": 144,
    "start_time": "2023-01-23T13:22:03.621Z"
   },
   {
    "duration": 6,
    "start_time": "2023-01-23T13:22:03.769Z"
   },
   {
    "duration": 23,
    "start_time": "2023-01-23T13:22:03.777Z"
   },
   {
    "duration": 29,
    "start_time": "2023-01-23T13:22:03.802Z"
   },
   {
    "duration": 337,
    "start_time": "2023-01-23T13:22:03.833Z"
   },
   {
    "duration": 205,
    "start_time": "2023-01-23T13:22:04.172Z"
   },
   {
    "duration": 17,
    "start_time": "2023-01-23T13:22:04.379Z"
   },
   {
    "duration": 11,
    "start_time": "2023-01-23T13:22:04.397Z"
   },
   {
    "duration": 198,
    "start_time": "2023-01-23T13:22:04.409Z"
   },
   {
    "duration": 13,
    "start_time": "2023-01-23T13:22:04.609Z"
   },
   {
    "duration": 28,
    "start_time": "2023-01-23T13:22:04.624Z"
   },
   {
    "duration": 185,
    "start_time": "2023-01-23T13:22:04.654Z"
   },
   {
    "duration": 158,
    "start_time": "2023-01-23T13:22:04.841Z"
   },
   {
    "duration": 12,
    "start_time": "2023-01-23T13:22:05.000Z"
   },
   {
    "duration": 33,
    "start_time": "2023-01-23T13:22:05.014Z"
   },
   {
    "duration": 176,
    "start_time": "2023-01-23T13:22:05.048Z"
   },
   {
    "duration": 155,
    "start_time": "2023-01-23T13:22:05.225Z"
   },
   {
    "duration": 196,
    "start_time": "2023-01-23T13:22:05.382Z"
   },
   {
    "duration": 7,
    "start_time": "2023-01-23T13:22:05.579Z"
   },
   {
    "duration": 9,
    "start_time": "2023-01-23T13:22:05.594Z"
   },
   {
    "duration": 4,
    "start_time": "2023-01-23T13:22:05.605Z"
   },
   {
    "duration": 9,
    "start_time": "2023-01-23T13:22:05.610Z"
   },
   {
    "duration": 9,
    "start_time": "2023-01-23T13:22:05.620Z"
   },
   {
    "duration": 384,
    "start_time": "2023-01-23T13:22:05.631Z"
   },
   {
    "duration": 4,
    "start_time": "2023-01-23T13:22:06.016Z"
   },
   {
    "duration": 23,
    "start_time": "2023-01-23T13:22:06.021Z"
   },
   {
    "duration": 205,
    "start_time": "2023-01-23T13:22:06.045Z"
   },
   {
    "duration": 163,
    "start_time": "2023-01-23T13:22:06.252Z"
   },
   {
    "duration": 169,
    "start_time": "2023-01-23T13:22:06.417Z"
   },
   {
    "duration": 187,
    "start_time": "2023-01-23T13:22:06.593Z"
   },
   {
    "duration": 150,
    "start_time": "2023-01-23T13:22:06.782Z"
   },
   {
    "duration": 137,
    "start_time": "2023-01-23T13:22:06.934Z"
   },
   {
    "duration": 164,
    "start_time": "2023-01-23T13:22:07.072Z"
   },
   {
    "duration": 132,
    "start_time": "2023-01-23T13:22:07.237Z"
   },
   {
    "duration": 264,
    "start_time": "2023-01-23T13:22:07.371Z"
   },
   {
    "duration": 182,
    "start_time": "2023-01-23T13:22:07.636Z"
   },
   {
    "duration": 168,
    "start_time": "2023-01-23T13:22:07.820Z"
   },
   {
    "duration": 212,
    "start_time": "2023-01-23T13:22:07.992Z"
   },
   {
    "duration": 277,
    "start_time": "2023-01-23T13:22:08.205Z"
   },
   {
    "duration": 201,
    "start_time": "2023-01-23T13:22:08.484Z"
   },
   {
    "duration": 541,
    "start_time": "2023-01-23T13:22:08.686Z"
   },
   {
    "duration": 240,
    "start_time": "2023-01-23T13:22:09.229Z"
   },
   {
    "duration": 9,
    "start_time": "2023-01-23T13:22:09.470Z"
   },
   {
    "duration": 163,
    "start_time": "2023-01-23T13:22:09.480Z"
   },
   {
    "duration": 154,
    "start_time": "2023-01-23T13:22:09.645Z"
   },
   {
    "duration": 142,
    "start_time": "2023-01-23T13:22:09.800Z"
   },
   {
    "duration": 145,
    "start_time": "2023-01-23T13:22:09.943Z"
   },
   {
    "duration": 138,
    "start_time": "2023-01-23T13:22:10.093Z"
   },
   {
    "duration": 183,
    "start_time": "2023-01-23T13:22:10.233Z"
   },
   {
    "duration": 279,
    "start_time": "2023-01-23T13:22:10.418Z"
   },
   {
    "duration": 23,
    "start_time": "2023-01-23T13:22:10.698Z"
   },
   {
    "duration": 15,
    "start_time": "2023-01-23T13:22:10.723Z"
   },
   {
    "duration": 660,
    "start_time": "2023-01-24T08:07:34.875Z"
   },
   {
    "duration": 135,
    "start_time": "2023-01-24T08:07:35.538Z"
   },
   {
    "duration": 26,
    "start_time": "2023-01-24T08:07:35.675Z"
   },
   {
    "duration": 29,
    "start_time": "2023-01-24T08:07:35.703Z"
   },
   {
    "duration": 2070,
    "start_time": "2023-01-24T08:07:35.734Z"
   },
   {
    "duration": 6,
    "start_time": "2023-01-24T08:07:37.806Z"
   },
   {
    "duration": 11,
    "start_time": "2023-01-24T08:07:37.821Z"
   },
   {
    "duration": 5,
    "start_time": "2023-01-24T08:07:37.834Z"
   },
   {
    "duration": 12,
    "start_time": "2023-01-24T08:07:37.841Z"
   },
   {
    "duration": 6,
    "start_time": "2023-01-24T08:07:37.856Z"
   },
   {
    "duration": 8,
    "start_time": "2023-01-24T08:07:37.864Z"
   },
   {
    "duration": 47,
    "start_time": "2023-01-24T08:07:37.875Z"
   },
   {
    "duration": 11,
    "start_time": "2023-01-24T08:07:37.925Z"
   },
   {
    "duration": 4,
    "start_time": "2023-01-24T08:07:37.939Z"
   },
   {
    "duration": 12,
    "start_time": "2023-01-24T08:07:37.945Z"
   },
   {
    "duration": 19,
    "start_time": "2023-01-24T08:07:37.960Z"
   },
   {
    "duration": 43,
    "start_time": "2023-01-24T08:07:37.981Z"
   },
   {
    "duration": 53,
    "start_time": "2023-01-24T08:07:38.025Z"
   },
   {
    "duration": 86,
    "start_time": "2023-01-24T08:07:38.080Z"
   },
   {
    "duration": 18,
    "start_time": "2023-01-24T08:07:38.168Z"
   },
   {
    "duration": 10,
    "start_time": "2023-01-24T08:07:38.189Z"
   },
   {
    "duration": 9,
    "start_time": "2023-01-24T08:07:38.222Z"
   },
   {
    "duration": 9,
    "start_time": "2023-01-24T08:07:38.233Z"
   },
   {
    "duration": 289,
    "start_time": "2023-01-24T08:07:38.244Z"
   },
   {
    "duration": 8,
    "start_time": "2023-01-24T08:07:38.535Z"
   },
   {
    "duration": 286,
    "start_time": "2023-01-24T08:07:38.545Z"
   },
   {
    "duration": 169,
    "start_time": "2023-01-24T08:07:38.833Z"
   },
   {
    "duration": 17,
    "start_time": "2023-01-24T08:07:39.007Z"
   },
   {
    "duration": 15,
    "start_time": "2023-01-24T08:07:39.025Z"
   },
   {
    "duration": 28,
    "start_time": "2023-01-24T08:07:39.042Z"
   },
   {
    "duration": 313,
    "start_time": "2023-01-24T08:07:39.072Z"
   },
   {
    "duration": 177,
    "start_time": "2023-01-24T08:07:39.387Z"
   },
   {
    "duration": 7,
    "start_time": "2023-01-24T08:07:39.566Z"
   },
   {
    "duration": 11,
    "start_time": "2023-01-24T08:07:39.574Z"
   },
   {
    "duration": 224,
    "start_time": "2023-01-24T08:07:39.587Z"
   },
   {
    "duration": 15,
    "start_time": "2023-01-24T08:07:39.813Z"
   },
   {
    "duration": 11,
    "start_time": "2023-01-24T08:07:39.829Z"
   },
   {
    "duration": 227,
    "start_time": "2023-01-24T08:07:39.842Z"
   },
   {
    "duration": 180,
    "start_time": "2023-01-24T08:07:40.071Z"
   },
   {
    "duration": 12,
    "start_time": "2023-01-24T08:07:40.252Z"
   },
   {
    "duration": 8,
    "start_time": "2023-01-24T08:07:40.266Z"
   },
   {
    "duration": 198,
    "start_time": "2023-01-24T08:07:40.276Z"
   },
   {
    "duration": 179,
    "start_time": "2023-01-24T08:07:40.476Z"
   },
   {
    "duration": 228,
    "start_time": "2023-01-24T08:07:40.657Z"
   },
   {
    "duration": 7,
    "start_time": "2023-01-24T08:07:40.887Z"
   },
   {
    "duration": 10,
    "start_time": "2023-01-24T08:07:40.896Z"
   },
   {
    "duration": 18,
    "start_time": "2023-01-24T08:07:40.907Z"
   },
   {
    "duration": 9,
    "start_time": "2023-01-24T08:07:40.927Z"
   },
   {
    "duration": 10,
    "start_time": "2023-01-24T08:07:40.937Z"
   },
   {
    "duration": 442,
    "start_time": "2023-01-24T08:07:40.949Z"
   },
   {
    "duration": 4,
    "start_time": "2023-01-24T08:07:41.393Z"
   },
   {
    "duration": 27,
    "start_time": "2023-01-24T08:07:41.399Z"
   },
   {
    "duration": 206,
    "start_time": "2023-01-24T08:07:41.428Z"
   },
   {
    "duration": 171,
    "start_time": "2023-01-24T08:07:41.637Z"
   },
   {
    "duration": 184,
    "start_time": "2023-01-24T08:07:41.810Z"
   },
   {
    "duration": 204,
    "start_time": "2023-01-24T08:07:41.995Z"
   },
   {
    "duration": 159,
    "start_time": "2023-01-24T08:07:42.201Z"
   },
   {
    "duration": 159,
    "start_time": "2023-01-24T08:07:42.362Z"
   },
   {
    "duration": 180,
    "start_time": "2023-01-24T08:07:42.523Z"
   },
   {
    "duration": 135,
    "start_time": "2023-01-24T08:07:42.705Z"
   },
   {
    "duration": 293,
    "start_time": "2023-01-24T08:07:42.843Z"
   },
   {
    "duration": 204,
    "start_time": "2023-01-24T08:07:43.137Z"
   },
   {
    "duration": 189,
    "start_time": "2023-01-24T08:07:43.343Z"
   },
   {
    "duration": 199,
    "start_time": "2023-01-24T08:07:43.534Z"
   },
   {
    "duration": 289,
    "start_time": "2023-01-24T08:07:43.736Z"
   },
   {
    "duration": 222,
    "start_time": "2023-01-24T08:07:44.028Z"
   },
   {
    "duration": 634,
    "start_time": "2023-01-24T08:07:44.252Z"
   },
   {
    "duration": 290,
    "start_time": "2023-01-24T08:07:44.888Z"
   },
   {
    "duration": 10,
    "start_time": "2023-01-24T08:07:45.180Z"
   },
   {
    "duration": 155,
    "start_time": "2023-01-24T08:07:45.192Z"
   },
   {
    "duration": 180,
    "start_time": "2023-01-24T08:07:45.349Z"
   },
   {
    "duration": 172,
    "start_time": "2023-01-24T08:07:45.531Z"
   },
   {
    "duration": 153,
    "start_time": "2023-01-24T08:07:45.704Z"
   },
   {
    "duration": 165,
    "start_time": "2023-01-24T08:07:45.859Z"
   },
   {
    "duration": 239,
    "start_time": "2023-01-24T08:07:46.027Z"
   },
   {
    "duration": 310,
    "start_time": "2023-01-24T08:07:46.269Z"
   },
   {
    "duration": 25,
    "start_time": "2023-01-24T08:07:46.581Z"
   },
   {
    "duration": 15,
    "start_time": "2023-01-24T08:07:46.621Z"
   }
  ],
  "kernelspec": {
   "display_name": "Python 3 (ipykernel)",
   "language": "python",
   "name": "python3"
  },
  "language_info": {
   "codemirror_mode": {
    "name": "ipython",
    "version": 3
   },
   "file_extension": ".py",
   "mimetype": "text/x-python",
   "name": "python",
   "nbconvert_exporter": "python",
   "pygments_lexer": "ipython3",
   "version": "3.9.5"
  },
  "toc": {
   "base_numbering": 1,
   "nav_menu": {},
   "number_sections": true,
   "sideBar": true,
   "skip_h1_title": true,
   "title_cell": "Table of Contents",
   "title_sidebar": "Contents",
   "toc_cell": false,
   "toc_position": {},
   "toc_section_display": true,
   "toc_window_display": false
  }
 },
 "nbformat": 4,
 "nbformat_minor": 2
}
