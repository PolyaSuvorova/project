{
 "cells": [
  {
   "cell_type": "markdown",
   "metadata": {},
   "source": [
    "# Исследование о продажах игр\n",
    "\n",
    "Из открытых источников доступны исторические данные до 2016 года о продажах игр, оценки пользователей и экспертов, жанры и платформы (например, Xbox или PlayStation). Нам нужно выявить определяющие успешность игры закономерности. Это позволит сделать ставку на потенциально популярный продукт и спланировать рекламные кампании на 2017 год.\n",
    "\n",
    "Цедь проекта — выполнить предобработку данных и изучить их, чтобы найти интересные особенности и зависимости, которые помогут спрогназировать продажи на 2017 год.\n",
    "\n",
    "Для выполнения цели нам нужно:\n",
    "- изучть общую информацию\n",
    "- выполнить предобработку данных\n",
    "- провести исследовательский анализ\n",
    "- составить портрет пользователя\n",
    "- проверить гипотезы"
   ]
  },
  {
   "cell_type": "markdown",
   "metadata": {},
   "source": [
    "### Откройте файл с данными и изучите общую информацию"
   ]
  },
  {
   "cell_type": "code",
   "execution_count": 1,
   "metadata": {},
   "outputs": [],
   "source": [
    "import pandas as pd \n",
    "import matplotlib.pyplot as plt\n",
    "import numpy as np\n",
    "import seaborn as sns\n",
    "from scipy import stats as st"
   ]
  },
  {
   "cell_type": "code",
   "execution_count": 2,
   "metadata": {},
   "outputs": [],
   "source": [
    "df = pd.read_csv('/datasets/games.csv')\n",
    "pd.set_option('display.max_columns', None)"
   ]
  },
  {
   "cell_type": "code",
   "execution_count": 3,
   "metadata": {},
   "outputs": [
    {
     "data": {
      "text/html": [
       "<div>\n",
       "<style scoped>\n",
       "    .dataframe tbody tr th:only-of-type {\n",
       "        vertical-align: middle;\n",
       "    }\n",
       "\n",
       "    .dataframe tbody tr th {\n",
       "        vertical-align: top;\n",
       "    }\n",
       "\n",
       "    .dataframe thead th {\n",
       "        text-align: right;\n",
       "    }\n",
       "</style>\n",
       "<table border=\"1\" class=\"dataframe\">\n",
       "  <thead>\n",
       "    <tr style=\"text-align: right;\">\n",
       "      <th></th>\n",
       "      <th>Name</th>\n",
       "      <th>Platform</th>\n",
       "      <th>Year_of_Release</th>\n",
       "      <th>Genre</th>\n",
       "      <th>NA_sales</th>\n",
       "      <th>EU_sales</th>\n",
       "      <th>JP_sales</th>\n",
       "      <th>Other_sales</th>\n",
       "      <th>Critic_Score</th>\n",
       "      <th>User_Score</th>\n",
       "      <th>Rating</th>\n",
       "    </tr>\n",
       "  </thead>\n",
       "  <tbody>\n",
       "    <tr>\n",
       "      <th>0</th>\n",
       "      <td>Wii Sports</td>\n",
       "      <td>Wii</td>\n",
       "      <td>2006.0</td>\n",
       "      <td>Sports</td>\n",
       "      <td>41.36</td>\n",
       "      <td>28.96</td>\n",
       "      <td>3.77</td>\n",
       "      <td>8.45</td>\n",
       "      <td>76.0</td>\n",
       "      <td>8</td>\n",
       "      <td>E</td>\n",
       "    </tr>\n",
       "    <tr>\n",
       "      <th>1</th>\n",
       "      <td>Super Mario Bros.</td>\n",
       "      <td>NES</td>\n",
       "      <td>1985.0</td>\n",
       "      <td>Platform</td>\n",
       "      <td>29.08</td>\n",
       "      <td>3.58</td>\n",
       "      <td>6.81</td>\n",
       "      <td>0.77</td>\n",
       "      <td>NaN</td>\n",
       "      <td>NaN</td>\n",
       "      <td>NaN</td>\n",
       "    </tr>\n",
       "    <tr>\n",
       "      <th>2</th>\n",
       "      <td>Mario Kart Wii</td>\n",
       "      <td>Wii</td>\n",
       "      <td>2008.0</td>\n",
       "      <td>Racing</td>\n",
       "      <td>15.68</td>\n",
       "      <td>12.76</td>\n",
       "      <td>3.79</td>\n",
       "      <td>3.29</td>\n",
       "      <td>82.0</td>\n",
       "      <td>8.3</td>\n",
       "      <td>E</td>\n",
       "    </tr>\n",
       "    <tr>\n",
       "      <th>3</th>\n",
       "      <td>Wii Sports Resort</td>\n",
       "      <td>Wii</td>\n",
       "      <td>2009.0</td>\n",
       "      <td>Sports</td>\n",
       "      <td>15.61</td>\n",
       "      <td>10.93</td>\n",
       "      <td>3.28</td>\n",
       "      <td>2.95</td>\n",
       "      <td>80.0</td>\n",
       "      <td>8</td>\n",
       "      <td>E</td>\n",
       "    </tr>\n",
       "    <tr>\n",
       "      <th>4</th>\n",
       "      <td>Pokemon Red/Pokemon Blue</td>\n",
       "      <td>GB</td>\n",
       "      <td>1996.0</td>\n",
       "      <td>Role-Playing</td>\n",
       "      <td>11.27</td>\n",
       "      <td>8.89</td>\n",
       "      <td>10.22</td>\n",
       "      <td>1.00</td>\n",
       "      <td>NaN</td>\n",
       "      <td>NaN</td>\n",
       "      <td>NaN</td>\n",
       "    </tr>\n",
       "  </tbody>\n",
       "</table>\n",
       "</div>"
      ],
      "text/plain": [
       "                       Name Platform  Year_of_Release         Genre  NA_sales  \\\n",
       "0                Wii Sports      Wii           2006.0        Sports     41.36   \n",
       "1         Super Mario Bros.      NES           1985.0      Platform     29.08   \n",
       "2            Mario Kart Wii      Wii           2008.0        Racing     15.68   \n",
       "3         Wii Sports Resort      Wii           2009.0        Sports     15.61   \n",
       "4  Pokemon Red/Pokemon Blue       GB           1996.0  Role-Playing     11.27   \n",
       "\n",
       "   EU_sales  JP_sales  Other_sales  Critic_Score User_Score Rating  \n",
       "0     28.96      3.77         8.45          76.0          8      E  \n",
       "1      3.58      6.81         0.77           NaN        NaN    NaN  \n",
       "2     12.76      3.79         3.29          82.0        8.3      E  \n",
       "3     10.93      3.28         2.95          80.0          8      E  \n",
       "4      8.89     10.22         1.00           NaN        NaN    NaN  "
      ]
     },
     "execution_count": 3,
     "metadata": {},
     "output_type": "execute_result"
    }
   ],
   "source": [
    "df.head()"
   ]
  },
  {
   "cell_type": "code",
   "execution_count": 4,
   "metadata": {},
   "outputs": [
    {
     "name": "stdout",
     "output_type": "stream",
     "text": [
      "<class 'pandas.core.frame.DataFrame'>\n",
      "RangeIndex: 16715 entries, 0 to 16714\n",
      "Data columns (total 11 columns):\n",
      " #   Column           Non-Null Count  Dtype  \n",
      "---  ------           --------------  -----  \n",
      " 0   Name             16713 non-null  object \n",
      " 1   Platform         16715 non-null  object \n",
      " 2   Year_of_Release  16446 non-null  float64\n",
      " 3   Genre            16713 non-null  object \n",
      " 4   NA_sales         16715 non-null  float64\n",
      " 5   EU_sales         16715 non-null  float64\n",
      " 6   JP_sales         16715 non-null  float64\n",
      " 7   Other_sales      16715 non-null  float64\n",
      " 8   Critic_Score     8137 non-null   float64\n",
      " 9   User_Score       10014 non-null  object \n",
      " 10  Rating           9949 non-null   object \n",
      "dtypes: float64(6), object(5)\n",
      "memory usage: 1.4+ MB\n"
     ]
    }
   ],
   "source": [
    "df.info()"
   ]
  },
  {
   "cell_type": "markdown",
   "metadata": {},
   "source": [
    "Изучив общую информацию видно, что в данных есть пропуски, которые нужно будет обработать; по правилам хорошего стиля привести названия столбцов к нижнему регистру; в столбце **Year_of_Release** очевидно поменять тип данных на **int**; разобраться почему в столбце **User_Score** тип данных **object** и поменять на **float**."
   ]
  },
  {
   "cell_type": "markdown",
   "metadata": {},
   "source": [
    "### Подготовка данных"
   ]
  },
  {
   "cell_type": "markdown",
   "metadata": {},
   "source": [
    "#### Приведем названия столбцов к нижнему регистру."
   ]
  },
  {
   "cell_type": "code",
   "execution_count": 5,
   "metadata": {},
   "outputs": [],
   "source": [
    "df.columns = df.columns.str.lower()"
   ]
  },
  {
   "cell_type": "code",
   "execution_count": 6,
   "metadata": {},
   "outputs": [
    {
     "data": {
      "text/html": [
       "<div>\n",
       "<style scoped>\n",
       "    .dataframe tbody tr th:only-of-type {\n",
       "        vertical-align: middle;\n",
       "    }\n",
       "\n",
       "    .dataframe tbody tr th {\n",
       "        vertical-align: top;\n",
       "    }\n",
       "\n",
       "    .dataframe thead th {\n",
       "        text-align: right;\n",
       "    }\n",
       "</style>\n",
       "<table border=\"1\" class=\"dataframe\">\n",
       "  <thead>\n",
       "    <tr style=\"text-align: right;\">\n",
       "      <th></th>\n",
       "      <th>name</th>\n",
       "      <th>platform</th>\n",
       "      <th>year_of_release</th>\n",
       "      <th>genre</th>\n",
       "      <th>na_sales</th>\n",
       "      <th>eu_sales</th>\n",
       "      <th>jp_sales</th>\n",
       "      <th>other_sales</th>\n",
       "      <th>critic_score</th>\n",
       "      <th>user_score</th>\n",
       "      <th>rating</th>\n",
       "    </tr>\n",
       "  </thead>\n",
       "  <tbody>\n",
       "    <tr>\n",
       "      <th>0</th>\n",
       "      <td>Wii Sports</td>\n",
       "      <td>Wii</td>\n",
       "      <td>2006.0</td>\n",
       "      <td>Sports</td>\n",
       "      <td>41.36</td>\n",
       "      <td>28.96</td>\n",
       "      <td>3.77</td>\n",
       "      <td>8.45</td>\n",
       "      <td>76.0</td>\n",
       "      <td>8</td>\n",
       "      <td>E</td>\n",
       "    </tr>\n",
       "    <tr>\n",
       "      <th>1</th>\n",
       "      <td>Super Mario Bros.</td>\n",
       "      <td>NES</td>\n",
       "      <td>1985.0</td>\n",
       "      <td>Platform</td>\n",
       "      <td>29.08</td>\n",
       "      <td>3.58</td>\n",
       "      <td>6.81</td>\n",
       "      <td>0.77</td>\n",
       "      <td>NaN</td>\n",
       "      <td>NaN</td>\n",
       "      <td>NaN</td>\n",
       "    </tr>\n",
       "    <tr>\n",
       "      <th>2</th>\n",
       "      <td>Mario Kart Wii</td>\n",
       "      <td>Wii</td>\n",
       "      <td>2008.0</td>\n",
       "      <td>Racing</td>\n",
       "      <td>15.68</td>\n",
       "      <td>12.76</td>\n",
       "      <td>3.79</td>\n",
       "      <td>3.29</td>\n",
       "      <td>82.0</td>\n",
       "      <td>8.3</td>\n",
       "      <td>E</td>\n",
       "    </tr>\n",
       "    <tr>\n",
       "      <th>3</th>\n",
       "      <td>Wii Sports Resort</td>\n",
       "      <td>Wii</td>\n",
       "      <td>2009.0</td>\n",
       "      <td>Sports</td>\n",
       "      <td>15.61</td>\n",
       "      <td>10.93</td>\n",
       "      <td>3.28</td>\n",
       "      <td>2.95</td>\n",
       "      <td>80.0</td>\n",
       "      <td>8</td>\n",
       "      <td>E</td>\n",
       "    </tr>\n",
       "    <tr>\n",
       "      <th>4</th>\n",
       "      <td>Pokemon Red/Pokemon Blue</td>\n",
       "      <td>GB</td>\n",
       "      <td>1996.0</td>\n",
       "      <td>Role-Playing</td>\n",
       "      <td>11.27</td>\n",
       "      <td>8.89</td>\n",
       "      <td>10.22</td>\n",
       "      <td>1.00</td>\n",
       "      <td>NaN</td>\n",
       "      <td>NaN</td>\n",
       "      <td>NaN</td>\n",
       "    </tr>\n",
       "  </tbody>\n",
       "</table>\n",
       "</div>"
      ],
      "text/plain": [
       "                       name platform  year_of_release         genre  na_sales  \\\n",
       "0                Wii Sports      Wii           2006.0        Sports     41.36   \n",
       "1         Super Mario Bros.      NES           1985.0      Platform     29.08   \n",
       "2            Mario Kart Wii      Wii           2008.0        Racing     15.68   \n",
       "3         Wii Sports Resort      Wii           2009.0        Sports     15.61   \n",
       "4  Pokemon Red/Pokemon Blue       GB           1996.0  Role-Playing     11.27   \n",
       "\n",
       "   eu_sales  jp_sales  other_sales  critic_score user_score rating  \n",
       "0     28.96      3.77         8.45          76.0          8      E  \n",
       "1      3.58      6.81         0.77           NaN        NaN    NaN  \n",
       "2     12.76      3.79         3.29          82.0        8.3      E  \n",
       "3     10.93      3.28         2.95          80.0          8      E  \n",
       "4      8.89     10.22         1.00           NaN        NaN    NaN  "
      ]
     },
     "execution_count": 6,
     "metadata": {},
     "output_type": "execute_result"
    }
   ],
   "source": [
    "df.head()"
   ]
  },
  {
   "cell_type": "markdown",
   "metadata": {},
   "source": [
    "#### Обработаем пропуски"
   ]
  },
  {
   "cell_type": "code",
   "execution_count": 7,
   "metadata": {},
   "outputs": [
    {
     "data": {
      "text/plain": [
       "name                  2\n",
       "platform              0\n",
       "year_of_release     269\n",
       "genre                 2\n",
       "na_sales              0\n",
       "eu_sales              0\n",
       "jp_sales              0\n",
       "other_sales           0\n",
       "critic_score       8578\n",
       "user_score         6701\n",
       "rating             6766\n",
       "dtype: int64"
      ]
     },
     "execution_count": 7,
     "metadata": {},
     "output_type": "execute_result"
    }
   ],
   "source": [
    "df.isna().sum()"
   ]
  },
  {
   "cell_type": "code",
   "execution_count": 8,
   "metadata": {},
   "outputs": [
    {
     "data": {
      "text/html": [
       "<style  type=\"text/css\" >\n",
       "#T_45b83_row0_col0,#T_45b83_row1_col0,#T_45b83_row3_col0,#T_45b83_row4_col0,#T_45b83_row5_col0,#T_45b83_row6_col0,#T_45b83_row7_col0{\n",
       "            background-color:  #3b4cc0;\n",
       "            color:  #f1f1f1;\n",
       "        }#T_45b83_row2_col0{\n",
       "            background-color:  #4358cb;\n",
       "            color:  #f1f1f1;\n",
       "        }#T_45b83_row8_col0{\n",
       "            background-color:  #b40426;\n",
       "            color:  #f1f1f1;\n",
       "        }#T_45b83_row9_col0{\n",
       "            background-color:  #f08b6e;\n",
       "            color:  #000000;\n",
       "        }#T_45b83_row10_col0{\n",
       "            background-color:  #ef886b;\n",
       "            color:  #000000;\n",
       "        }</style><table id=\"T_45b83_\" ><thead>    <tr>        <th class=\"blank level0\" ></th>        <th class=\"col_heading level0 col0\" >0</th>    </tr></thead><tbody>\n",
       "                <tr>\n",
       "                        <th id=\"T_45b83_level0_row0\" class=\"row_heading level0 row0\" >name</th>\n",
       "                        <td id=\"T_45b83_row0_col0\" class=\"data row0 col0\" >0.000000</td>\n",
       "            </tr>\n",
       "            <tr>\n",
       "                        <th id=\"T_45b83_level0_row1\" class=\"row_heading level0 row1\" >platform</th>\n",
       "                        <td id=\"T_45b83_row1_col0\" class=\"data row1 col0\" >0.000000</td>\n",
       "            </tr>\n",
       "            <tr>\n",
       "                        <th id=\"T_45b83_level0_row2\" class=\"row_heading level0 row2\" >year_of_release</th>\n",
       "                        <td id=\"T_45b83_row2_col0\" class=\"data row2 col0\" >1.600000</td>\n",
       "            </tr>\n",
       "            <tr>\n",
       "                        <th id=\"T_45b83_level0_row3\" class=\"row_heading level0 row3\" >genre</th>\n",
       "                        <td id=\"T_45b83_row3_col0\" class=\"data row3 col0\" >0.000000</td>\n",
       "            </tr>\n",
       "            <tr>\n",
       "                        <th id=\"T_45b83_level0_row4\" class=\"row_heading level0 row4\" >na_sales</th>\n",
       "                        <td id=\"T_45b83_row4_col0\" class=\"data row4 col0\" >0.000000</td>\n",
       "            </tr>\n",
       "            <tr>\n",
       "                        <th id=\"T_45b83_level0_row5\" class=\"row_heading level0 row5\" >eu_sales</th>\n",
       "                        <td id=\"T_45b83_row5_col0\" class=\"data row5 col0\" >0.000000</td>\n",
       "            </tr>\n",
       "            <tr>\n",
       "                        <th id=\"T_45b83_level0_row6\" class=\"row_heading level0 row6\" >jp_sales</th>\n",
       "                        <td id=\"T_45b83_row6_col0\" class=\"data row6 col0\" >0.000000</td>\n",
       "            </tr>\n",
       "            <tr>\n",
       "                        <th id=\"T_45b83_level0_row7\" class=\"row_heading level0 row7\" >other_sales</th>\n",
       "                        <td id=\"T_45b83_row7_col0\" class=\"data row7 col0\" >0.000000</td>\n",
       "            </tr>\n",
       "            <tr>\n",
       "                        <th id=\"T_45b83_level0_row8\" class=\"row_heading level0 row8\" >critic_score</th>\n",
       "                        <td id=\"T_45b83_row8_col0\" class=\"data row8 col0\" >51.300000</td>\n",
       "            </tr>\n",
       "            <tr>\n",
       "                        <th id=\"T_45b83_level0_row9\" class=\"row_heading level0 row9\" >user_score</th>\n",
       "                        <td id=\"T_45b83_row9_col0\" class=\"data row9 col0\" >40.100000</td>\n",
       "            </tr>\n",
       "            <tr>\n",
       "                        <th id=\"T_45b83_level0_row10\" class=\"row_heading level0 row10\" >rating</th>\n",
       "                        <td id=\"T_45b83_row10_col0\" class=\"data row10 col0\" >40.500000</td>\n",
       "            </tr>\n",
       "    </tbody></table>"
      ],
      "text/plain": [
       "<pandas.io.formats.style.Styler at 0x7fbe55dec6d0>"
      ]
     },
     "execution_count": 8,
     "metadata": {},
     "output_type": "execute_result"
    }
   ],
   "source": [
    "pd.DataFrame(round(df.isna().mean()*100,1)).style.background_gradient('coolwarm')"
   ]
  },
  {
   "cell_type": "markdown",
   "metadata": {},
   "source": [
    "Удалим пропущенные значения в столбцах **name, year_of_release, genre**, т.к. их доля мала и они не на что не повлияют."
   ]
  },
  {
   "cell_type": "code",
   "execution_count": 9,
   "metadata": {},
   "outputs": [],
   "source": [
    "df = df.dropna(subset=['name', 'year_of_release', 'genre']).reset_index(drop=True)"
   ]
  },
  {
   "cell_type": "markdown",
   "metadata": {},
   "source": [
    "Можно заменить пропуски в столбцес рейтингом на **no_rating**."
   ]
  },
  {
   "cell_type": "code",
   "execution_count": 10,
   "metadata": {},
   "outputs": [
    {
     "data": {
      "text/plain": [
       "no_rating    6676\n",
       "E            3921\n",
       "T            2905\n",
       "M            1536\n",
       "E10+         1393\n",
       "EC              8\n",
       "K-A             3\n",
       "AO              1\n",
       "RP              1\n",
       "Name: rating, dtype: int64"
      ]
     },
     "execution_count": 10,
     "metadata": {},
     "output_type": "execute_result"
    }
   ],
   "source": [
    "df['rating'] = df['rating'].fillna('no_rating')\n",
    "df['rating'].value_counts()"
   ]
  },
  {
   "cell_type": "markdown",
   "metadata": {},
   "source": [
    "Пропуски могли появится из-за невнимательности человека, вносившего данные, так же просто из-за отсутствия этих данных, как например в оценке критиков и пользлвателей."
   ]
  },
  {
   "cell_type": "code",
   "execution_count": 11,
   "metadata": {},
   "outputs": [
    {
     "data": {
      "text/plain": [
       "tbd    2376\n",
       "7.8     322\n",
       "8       285\n",
       "8.2     276\n",
       "8.3     252\n",
       "       ... \n",
       "0.9       2\n",
       "0.5       2\n",
       "0.2       2\n",
       "9.7       1\n",
       "0         1\n",
       "Name: user_score, Length: 96, dtype: int64"
      ]
     },
     "execution_count": 11,
     "metadata": {},
     "output_type": "execute_result"
    }
   ],
   "source": [
    "df['user_score'].value_counts()"
   ]
  },
  {
   "cell_type": "code",
   "execution_count": 12,
   "metadata": {},
   "outputs": [],
   "source": [
    "df.loc[df['user_score'] == 'tbd', 'user_score'] = np.nan"
   ]
  },
  {
   "cell_type": "markdown",
   "metadata": {},
   "source": [
    "В столбце с оценкой пользователей наблюдаются значения **tbd** - оценка не определена, необходимо заменить его на **nan**, чтобы провести корректный анализ."
   ]
  },
  {
   "cell_type": "markdown",
   "metadata": {},
   "source": [
    "Проверим датафрейм на наличие дубликатов."
   ]
  },
  {
   "cell_type": "code",
   "execution_count": 13,
   "metadata": {},
   "outputs": [
    {
     "name": "stdout",
     "output_type": "stream",
     "text": [
      "Количестов явных дубликатов: 0\n"
     ]
    }
   ],
   "source": [
    "print('Количестов явных дубликатов:', df.duplicated().sum())"
   ]
  },
  {
   "cell_type": "markdown",
   "metadata": {},
   "source": [
    "#### Преобразуем данные в нужный тип\n",
    "\n",
    "После обработки пропусков изменим тип данных в столбце **year_of_release** на **int** и в столбце **user_score** на **float**."
   ]
  },
  {
   "cell_type": "code",
   "execution_count": 14,
   "metadata": {},
   "outputs": [],
   "source": [
    "df['year_of_release'] = df['year_of_release'].astype('int')\n",
    "df['user_score'] = df['user_score'].astype('float')"
   ]
  },
  {
   "cell_type": "markdown",
   "metadata": {},
   "source": [
    "#### Посчитаем суммарные продажи во всех регионах\n",
    "\n",
    "Добавим новый столбец **all_sales** с суммарными продажами."
   ]
  },
  {
   "cell_type": "code",
   "execution_count": 15,
   "metadata": {},
   "outputs": [],
   "source": [
    "df['all_sales'] = df['na_sales'] + df['eu_sales'] + df['jp_sales'] + df['other_sales']"
   ]
  },
  {
   "cell_type": "code",
   "execution_count": 16,
   "metadata": {},
   "outputs": [
    {
     "data": {
      "text/html": [
       "<div>\n",
       "<style scoped>\n",
       "    .dataframe tbody tr th:only-of-type {\n",
       "        vertical-align: middle;\n",
       "    }\n",
       "\n",
       "    .dataframe tbody tr th {\n",
       "        vertical-align: top;\n",
       "    }\n",
       "\n",
       "    .dataframe thead th {\n",
       "        text-align: right;\n",
       "    }\n",
       "</style>\n",
       "<table border=\"1\" class=\"dataframe\">\n",
       "  <thead>\n",
       "    <tr style=\"text-align: right;\">\n",
       "      <th></th>\n",
       "      <th>name</th>\n",
       "      <th>platform</th>\n",
       "      <th>year_of_release</th>\n",
       "      <th>genre</th>\n",
       "      <th>na_sales</th>\n",
       "      <th>eu_sales</th>\n",
       "      <th>jp_sales</th>\n",
       "      <th>other_sales</th>\n",
       "      <th>critic_score</th>\n",
       "      <th>user_score</th>\n",
       "      <th>rating</th>\n",
       "      <th>all_sales</th>\n",
       "    </tr>\n",
       "  </thead>\n",
       "  <tbody>\n",
       "    <tr>\n",
       "      <th>0</th>\n",
       "      <td>Wii Sports</td>\n",
       "      <td>Wii</td>\n",
       "      <td>2006</td>\n",
       "      <td>Sports</td>\n",
       "      <td>41.36</td>\n",
       "      <td>28.96</td>\n",
       "      <td>3.77</td>\n",
       "      <td>8.45</td>\n",
       "      <td>76.0</td>\n",
       "      <td>8.0</td>\n",
       "      <td>E</td>\n",
       "      <td>82.54</td>\n",
       "    </tr>\n",
       "    <tr>\n",
       "      <th>1</th>\n",
       "      <td>Super Mario Bros.</td>\n",
       "      <td>NES</td>\n",
       "      <td>1985</td>\n",
       "      <td>Platform</td>\n",
       "      <td>29.08</td>\n",
       "      <td>3.58</td>\n",
       "      <td>6.81</td>\n",
       "      <td>0.77</td>\n",
       "      <td>NaN</td>\n",
       "      <td>NaN</td>\n",
       "      <td>no_rating</td>\n",
       "      <td>40.24</td>\n",
       "    </tr>\n",
       "    <tr>\n",
       "      <th>2</th>\n",
       "      <td>Mario Kart Wii</td>\n",
       "      <td>Wii</td>\n",
       "      <td>2008</td>\n",
       "      <td>Racing</td>\n",
       "      <td>15.68</td>\n",
       "      <td>12.76</td>\n",
       "      <td>3.79</td>\n",
       "      <td>3.29</td>\n",
       "      <td>82.0</td>\n",
       "      <td>8.3</td>\n",
       "      <td>E</td>\n",
       "      <td>35.52</td>\n",
       "    </tr>\n",
       "    <tr>\n",
       "      <th>3</th>\n",
       "      <td>Wii Sports Resort</td>\n",
       "      <td>Wii</td>\n",
       "      <td>2009</td>\n",
       "      <td>Sports</td>\n",
       "      <td>15.61</td>\n",
       "      <td>10.93</td>\n",
       "      <td>3.28</td>\n",
       "      <td>2.95</td>\n",
       "      <td>80.0</td>\n",
       "      <td>8.0</td>\n",
       "      <td>E</td>\n",
       "      <td>32.77</td>\n",
       "    </tr>\n",
       "    <tr>\n",
       "      <th>4</th>\n",
       "      <td>Pokemon Red/Pokemon Blue</td>\n",
       "      <td>GB</td>\n",
       "      <td>1996</td>\n",
       "      <td>Role-Playing</td>\n",
       "      <td>11.27</td>\n",
       "      <td>8.89</td>\n",
       "      <td>10.22</td>\n",
       "      <td>1.00</td>\n",
       "      <td>NaN</td>\n",
       "      <td>NaN</td>\n",
       "      <td>no_rating</td>\n",
       "      <td>31.38</td>\n",
       "    </tr>\n",
       "  </tbody>\n",
       "</table>\n",
       "</div>"
      ],
      "text/plain": [
       "                       name platform  year_of_release         genre  na_sales  \\\n",
       "0                Wii Sports      Wii             2006        Sports     41.36   \n",
       "1         Super Mario Bros.      NES             1985      Platform     29.08   \n",
       "2            Mario Kart Wii      Wii             2008        Racing     15.68   \n",
       "3         Wii Sports Resort      Wii             2009        Sports     15.61   \n",
       "4  Pokemon Red/Pokemon Blue       GB             1996  Role-Playing     11.27   \n",
       "\n",
       "   eu_sales  jp_sales  other_sales  critic_score  user_score     rating  \\\n",
       "0     28.96      3.77         8.45          76.0         8.0          E   \n",
       "1      3.58      6.81         0.77           NaN         NaN  no_rating   \n",
       "2     12.76      3.79         3.29          82.0         8.3          E   \n",
       "3     10.93      3.28         2.95          80.0         8.0          E   \n",
       "4      8.89     10.22         1.00           NaN         NaN  no_rating   \n",
       "\n",
       "   all_sales  \n",
       "0      82.54  \n",
       "1      40.24  \n",
       "2      35.52  \n",
       "3      32.77  \n",
       "4      31.38  "
      ]
     },
     "execution_count": 16,
     "metadata": {},
     "output_type": "execute_result"
    }
   ],
   "source": [
    "df.head()"
   ]
  },
  {
   "cell_type": "markdown",
   "metadata": {},
   "source": [
    "При предобработке данных были переведены названия столбцов к нижнему регистру, обработаны пропуски: удалили строки, где количество пропусков было не значительным; заменили пропуски в столбце с рейтингом для корректной работы в дальнейшем. В столбце с оценкой пользователей избавились от значения **tbd**, для того чтобы изменить тип столбца на **float**. Так же изменили тип данных у столбца с годом релиза, потому что логично что номер года это целое число. Проверили датафрейм на явные дубликаты, которые не обнаружились."
   ]
  },
  {
   "cell_type": "markdown",
   "metadata": {},
   "source": [
    "### Исследовательский анализ данных"
   ]
  },
  {
   "cell_type": "markdown",
   "metadata": {},
   "source": [
    "#### Посмотрим сколько игр выпускалось в разные годы"
   ]
  },
  {
   "cell_type": "code",
   "execution_count": 17,
   "metadata": {},
   "outputs": [
    {
     "data": {
      "text/plain": [
       "array([1980, 1981, 1982, 1983, 1984, 1985, 1986, 1987, 1988, 1989, 1990,\n",
       "       1991, 1992, 1993, 1994, 1995, 1996, 1997, 1998, 1999, 2000, 2001,\n",
       "       2002, 2003, 2004, 2005, 2006, 2007, 2008, 2009, 2010, 2011, 2012,\n",
       "       2013, 2014, 2015, 2016])"
      ]
     },
     "execution_count": 17,
     "metadata": {},
     "output_type": "execute_result"
    }
   ],
   "source": [
    "np.sort(df['year_of_release'].unique())"
   ]
  },
  {
   "cell_type": "code",
   "execution_count": 18,
   "metadata": {},
   "outputs": [
    {
     "data": {
      "text/plain": [
       "count    16444.000000\n",
       "mean      2006.486256\n",
       "std          5.875525\n",
       "min       1980.000000\n",
       "25%       2003.000000\n",
       "50%       2007.000000\n",
       "75%       2010.000000\n",
       "max       2016.000000\n",
       "Name: year_of_release, dtype: float64"
      ]
     },
     "execution_count": 18,
     "metadata": {},
     "output_type": "execute_result"
    },
    {
     "data": {
      "image/png": "[encoded data removed]",
      "text/plain": [
       "<Figure size 432x288 with 1 Axes>"
      ]
     },
     "metadata": {
      "needs_background": "light"
     },
     "output_type": "display_data"
    }
   ],
   "source": [
    "bins = [1980, 1981, 1982, 1983, 1984, 1985, 1986, 1987, 1988, 1989, 1990,\n",
    "       1991, 1992, 1993, 1994, 1995, 1996, 1997, 1998, 1999, 2000, 2001,\n",
    "       2002, 2003, 2004, 2005, 2006, 2007, 2008, 2009, 2010, 2011, 2012,\n",
    "       2013, 2014, 2015, 2016]\n",
    "df.hist('year_of_release', bins=bins, edgecolor=\"black\");\n",
    "df['year_of_release'].describe()"
   ]
  },
  {
   "cell_type": "markdown",
   "metadata": {},
   "source": [
    "По гистограмме мы видим, что количество выпущенных игр активно росло с 1995 года, из этого можно сказать что данные до 94-ого не так важны. Рост создания игр можно связать с выпуском игровых консолей и развитием игровой индустрии."
   ]
  },
  {
   "cell_type": "markdown",
   "metadata": {},
   "source": [
    "#### Посмотрите, как менялись продажи по платформам"
   ]
  },
  {
   "cell_type": "code",
   "execution_count": 19,
   "metadata": {},
   "outputs": [
    {
     "data": {
      "image/png": "[encoded data removed]",
      "text/plain": [
       "<Figure size 1080x360 with 1 Axes>"
      ]
     },
     "metadata": {
      "needs_background": "light"
     },
     "output_type": "display_data"
    }
   ],
   "source": [
    "platform_distribution = df.pivot_table(\n",
    "    index='platform', \n",
    "    values='all_sales', \n",
    "    aggfunc='sum').sort_values(by = 'all_sales', ascending=False)\n",
    "platform_distribution.plot(\n",
    "    kind='bar', \n",
    "    title='Распределение продаж по платформам', \n",
    "    figsize=(15, 5));\n",
    "plt.xlabel('Платформы');\n",
    "plt.ylabel('Суммарные продажи');"
   ]
  },
  {
   "cell_type": "markdown",
   "metadata": {},
   "source": [
    "Наибольшие суммарные продажи у первых 6 платформ (**PS2, X360, PS3, Wii, DS, PS**), по ним и будем смотреть распределение по годам."
   ]
  },
  {
   "cell_type": "code",
   "execution_count": 20,
   "metadata": {},
   "outputs": [
    {
     "data": {
      "text/html": [
       "<div>\n",
       "<style scoped>\n",
       "    .dataframe tbody tr th:only-of-type {\n",
       "        vertical-align: middle;\n",
       "    }\n",
       "\n",
       "    .dataframe tbody tr th {\n",
       "        vertical-align: top;\n",
       "    }\n",
       "\n",
       "    .dataframe thead th {\n",
       "        text-align: right;\n",
       "    }\n",
       "</style>\n",
       "<table border=\"1\" class=\"dataframe\">\n",
       "  <thead>\n",
       "    <tr style=\"text-align: right;\">\n",
       "      <th></th>\n",
       "      <th>platform</th>\n",
       "      <th>all_sales</th>\n",
       "    </tr>\n",
       "  </thead>\n",
       "  <tbody>\n",
       "    <tr>\n",
       "      <th>0</th>\n",
       "      <td>PS2</td>\n",
       "      <td>1233.56</td>\n",
       "    </tr>\n",
       "    <tr>\n",
       "      <th>1</th>\n",
       "      <td>X360</td>\n",
       "      <td>961.24</td>\n",
       "    </tr>\n",
       "    <tr>\n",
       "      <th>2</th>\n",
       "      <td>PS3</td>\n",
       "      <td>931.34</td>\n",
       "    </tr>\n",
       "    <tr>\n",
       "      <th>3</th>\n",
       "      <td>Wii</td>\n",
       "      <td>891.18</td>\n",
       "    </tr>\n",
       "    <tr>\n",
       "      <th>4</th>\n",
       "      <td>DS</td>\n",
       "      <td>802.78</td>\n",
       "    </tr>\n",
       "    <tr>\n",
       "      <th>5</th>\n",
       "      <td>PS</td>\n",
       "      <td>727.58</td>\n",
       "    </tr>\n",
       "  </tbody>\n",
       "</table>\n",
       "</div>"
      ],
      "text/plain": [
       "  platform  all_sales\n",
       "0      PS2    1233.56\n",
       "1     X360     961.24\n",
       "2      PS3     931.34\n",
       "3      Wii     891.18\n",
       "4       DS     802.78\n",
       "5       PS     727.58"
      ]
     },
     "execution_count": 20,
     "metadata": {},
     "output_type": "execute_result"
    }
   ],
   "source": [
    "top_6 = platform_distribution.iloc[:6].reset_index()\n",
    "top_6"
   ]
  },
  {
   "cell_type": "code",
   "execution_count": 21,
   "metadata": {},
   "outputs": [
    {
     "data": {
      "image/png": "[encoded data removed]",
      "text/plain": [
       "<Figure size 1080x504 with 1 Axes>"
      ]
     },
     "metadata": {
      "needs_background": "light"
     },
     "output_type": "display_data"
    }
   ],
   "source": [
    "platform_totalsales = df.pivot_table(index='platform', values='all_sales', aggfunc='sum').nlargest(6, 'all_sales').index\n",
    "df.query('platform in @platform_totalsales').pivot_table(\n",
    "    index = 'year_of_release', \n",
    "    columns = 'platform', \n",
    "    values= 'all_sales', \n",
    "    aggfunc = 'sum').plot(figsize = (15,7))\n",
    "plt.grid()\n",
    "plt.show()"
   ]
  },
  {
   "cell_type": "code",
   "execution_count": 22,
   "metadata": {},
   "outputs": [
    {
     "name": "stdout",
     "output_type": "stream",
     "text": [
      "Платформа  PS2\n",
      "                          all_sales\n",
      "platform year_of_release           \n",
      "PS2      2000                 39.17\n",
      "         2001                166.43\n",
      "         2002                205.38\n",
      "         2003                184.31\n",
      "         2004                211.81\n",
      "         2005                160.66\n",
      "         2006                103.42\n",
      "         2007                 75.99\n",
      "         2008                 53.90\n",
      "         2009                 26.40\n",
      "         2010                  5.64\n",
      "         2011                  0.45\n",
      "\n",
      "Платформа  X360\n",
      "                          all_sales\n",
      "platform year_of_release           \n",
      "X360     2005                  8.25\n",
      "         2006                 51.62\n",
      "         2007                 95.41\n",
      "         2008                135.26\n",
      "         2009                120.29\n",
      "         2010                170.03\n",
      "         2011                143.84\n",
      "         2012                 99.74\n",
      "         2013                 88.58\n",
      "         2014                 34.74\n",
      "         2015                 11.96\n",
      "         2016                  1.52\n",
      "\n",
      "Платформа  PS3\n",
      "                          all_sales\n",
      "platform year_of_release           \n",
      "PS3      2006                 20.96\n",
      "         2007                 73.19\n",
      "         2008                118.52\n",
      "         2009                130.93\n",
      "         2010                142.17\n",
      "         2011                156.78\n",
      "         2012                107.36\n",
      "         2013                113.25\n",
      "         2014                 47.76\n",
      "         2015                 16.82\n",
      "         2016                  3.60\n",
      "\n",
      "Платформа  Wii\n",
      "                          all_sales\n",
      "platform year_of_release           \n",
      "Wii      2006                137.15\n",
      "         2007                152.77\n",
      "         2008                171.32\n",
      "         2009                206.97\n",
      "         2010                127.95\n",
      "         2011                 59.65\n",
      "         2012                 21.71\n",
      "         2013                  8.59\n",
      "         2014                  3.75\n",
      "         2015                  1.14\n",
      "         2016                  0.18\n",
      "\n",
      "Платформа  DS\n",
      "                          all_sales\n",
      "platform year_of_release           \n",
      "DS       1985                  0.02\n",
      "         2004                 17.27\n",
      "         2005                130.14\n",
      "         2006                119.81\n",
      "         2007                146.94\n",
      "         2008                145.31\n",
      "         2009                119.54\n",
      "         2010                 85.02\n",
      "         2011                 26.18\n",
      "         2012                 11.01\n",
      "         2013                  1.54\n",
      "\n",
      "Платформа  PS\n",
      "                          all_sales\n",
      "platform year_of_release           \n",
      "PS       1994                  6.03\n",
      "         1995                 35.96\n",
      "         1996                 94.70\n",
      "         1997                136.17\n",
      "         1998                169.49\n",
      "         1999                144.53\n",
      "         2000                 96.37\n",
      "         2001                 35.59\n",
      "         2002                  6.67\n",
      "         2003                  2.07\n",
      "\n"
     ]
    },
    {
     "data": {
      "image/png": "[encoded data removed]",
      "text/plain": [
       "<Figure size 1080x360 with 1 Axes>"
      ]
     },
     "metadata": {
      "needs_background": "light"
     },
     "output_type": "display_data"
    },
    {
     "data": {
      "image/png": "[encoded data removed]",
      "text/plain": [
       "<Figure size 1080x360 with 1 Axes>"
      ]
     },
     "metadata": {
      "needs_background": "light"
     },
     "output_type": "display_data"
    },
    {
     "data": {
      "image/png": "[encoded data removed]",
      "text/plain": [
       "<Figure size 1080x360 with 1 Axes>"
      ]
     },
     "metadata": {
      "needs_background": "light"
     },
     "output_type": "display_data"
    },
    {
     "data": {
      "image/png": "[encoded data removed]",
      "text/plain": [
       "<Figure size 1080x360 with 1 Axes>"
      ]
     },
     "metadata": {
      "needs_background": "light"
     },
     "output_type": "display_data"
    },
    {
     "data": {
      "image/png": "[encoded data removed]",
      "text/plain": [
       "<Figure size 1080x360 with 1 Axes>"
      ]
     },
     "metadata": {
      "needs_background": "light"
     },
     "output_type": "display_data"
    },
    {
     "data": {
      "image/png": "[encoded data removed]",
      "text/plain": [
       "<Figure size 1080x360 with 1 Axes>"
      ]
     },
     "metadata": {
      "needs_background": "light"
     },
     "output_type": "display_data"
    }
   ],
   "source": [
    "for platform in platform_totalsales:\n",
    "    print('Платформа ',platform)\n",
    "    platform_sales = pd.pivot_table(df.query('platform == @platform'), \n",
    "                                    index=['platform','year_of_release'], values='all_sales', aggfunc='sum')\n",
    "    platform_sales.plot(kind='bar', title=platform, figsize=(15, 5));\n",
    "    plt.xlabel('Года');\n",
    "    plt.ylabel('Суммарные продажи');\n",
    "    print(platform_sales)\n",
    "    print()"
   ]
  },
  {
   "cell_type": "markdown",
   "metadata": {},
   "source": [
    "Судя по распределению платформы работают 9-11 лет, с появлением новых игровых приставок и улучшением технологий появляются и новые более усовершенствованные платформы."
   ]
  },
  {
   "cell_type": "markdown",
   "metadata": {},
   "source": [
    "#### Определим актуальный период"
   ]
  },
  {
   "cell_type": "markdown",
   "metadata": {},
   "source": [
    "Отдельно посмотрим на **PS4**."
   ]
  },
  {
   "cell_type": "code",
   "execution_count": 23,
   "metadata": {},
   "outputs": [
    {
     "data": {
      "image/png": "[encoded data removed]",
      "text/plain": [
       "<Figure size 720x360 with 1 Axes>"
      ]
     },
     "metadata": {
      "needs_background": "light"
     },
     "output_type": "display_data"
    }
   ],
   "source": [
    "df[df['platform'] == 'PS4'].pivot_table(index=['platform','year_of_release'], \n",
    "                                        values='all_sales', aggfunc='sum').plot(kind='bar', title=\"PS4\", figsize=(10, 5));\n",
    "plt.xlabel('Года');\n",
    "plt.ylabel('Суммарные продажи');"
   ]
  },
  {
   "cell_type": "markdown",
   "metadata": {},
   "source": [
    "Так как сама консоль вышла только в 2013 году, суммарные продажи на 2016 пока маленькие, но она проработает еще лет 6 и нужно учитывать её в дальнейшем анализе."
   ]
  },
  {
   "cell_type": "markdown",
   "metadata": {},
   "source": [
    "Возьмём актуальный период с 2014 по 2016 год."
   ]
  },
  {
   "cell_type": "code",
   "execution_count": 24,
   "metadata": {},
   "outputs": [
    {
     "data": {
      "image/png": "[encoded data removed]",
      "text/plain": [
       "<Figure size 432x288 with 2 Axes>"
      ]
     },
     "metadata": {
      "needs_background": "light"
     },
     "output_type": "display_data"
    }
   ],
   "source": [
    "topical_period = df.query('year_of_release > 2013')\n",
    "topical_period_pivot = topical_period.pivot_table(index='platform', \n",
    "                                                  columns='year_of_release', values='all_sales', aggfunc='sum')\n",
    "sns.heatmap(topical_period_pivot, annot=True, cmap=\"PiYG\", fmt='.2f');\n",
    "plt.title('Актуальный период');\n",
    "plt.xlabel('Года');\n",
    "plt.ylabel('Платформы');"
   ]
  },
  {
   "cell_type": "markdown",
   "metadata": {},
   "source": [
    "#### Даннные до 2014 года больше не учитываем"
   ]
  },
  {
   "cell_type": "code",
   "execution_count": 25,
   "metadata": {},
   "outputs": [
    {
     "data": {
      "text/html": [
       "<div>\n",
       "<style scoped>\n",
       "    .dataframe tbody tr th:only-of-type {\n",
       "        vertical-align: middle;\n",
       "    }\n",
       "\n",
       "    .dataframe tbody tr th {\n",
       "        vertical-align: top;\n",
       "    }\n",
       "\n",
       "    .dataframe thead th {\n",
       "        text-align: right;\n",
       "    }\n",
       "</style>\n",
       "<table border=\"1\" class=\"dataframe\">\n",
       "  <thead>\n",
       "    <tr style=\"text-align: right;\">\n",
       "      <th></th>\n",
       "      <th>name</th>\n",
       "      <th>platform</th>\n",
       "      <th>year_of_release</th>\n",
       "      <th>genre</th>\n",
       "      <th>na_sales</th>\n",
       "      <th>eu_sales</th>\n",
       "      <th>jp_sales</th>\n",
       "      <th>other_sales</th>\n",
       "      <th>critic_score</th>\n",
       "      <th>user_score</th>\n",
       "      <th>rating</th>\n",
       "      <th>all_sales</th>\n",
       "    </tr>\n",
       "  </thead>\n",
       "  <tbody>\n",
       "    <tr>\n",
       "      <th>31</th>\n",
       "      <td>Call of Duty: Black Ops 3</td>\n",
       "      <td>PS4</td>\n",
       "      <td>2015</td>\n",
       "      <td>Shooter</td>\n",
       "      <td>6.03</td>\n",
       "      <td>5.86</td>\n",
       "      <td>0.36</td>\n",
       "      <td>2.38</td>\n",
       "      <td>NaN</td>\n",
       "      <td>NaN</td>\n",
       "      <td>no_rating</td>\n",
       "      <td>14.63</td>\n",
       "    </tr>\n",
       "    <tr>\n",
       "      <th>42</th>\n",
       "      <td>Grand Theft Auto V</td>\n",
       "      <td>PS4</td>\n",
       "      <td>2014</td>\n",
       "      <td>Action</td>\n",
       "      <td>3.96</td>\n",
       "      <td>6.31</td>\n",
       "      <td>0.38</td>\n",
       "      <td>1.97</td>\n",
       "      <td>97.0</td>\n",
       "      <td>8.3</td>\n",
       "      <td>M</td>\n",
       "      <td>12.62</td>\n",
       "    </tr>\n",
       "    <tr>\n",
       "      <th>47</th>\n",
       "      <td>Pokemon Omega Ruby/Pokemon Alpha Sapphire</td>\n",
       "      <td>3DS</td>\n",
       "      <td>2014</td>\n",
       "      <td>Role-Playing</td>\n",
       "      <td>4.35</td>\n",
       "      <td>3.49</td>\n",
       "      <td>3.10</td>\n",
       "      <td>0.74</td>\n",
       "      <td>NaN</td>\n",
       "      <td>NaN</td>\n",
       "      <td>no_rating</td>\n",
       "      <td>11.68</td>\n",
       "    </tr>\n",
       "    <tr>\n",
       "      <th>77</th>\n",
       "      <td>FIFA 16</td>\n",
       "      <td>PS4</td>\n",
       "      <td>2015</td>\n",
       "      <td>Sports</td>\n",
       "      <td>1.12</td>\n",
       "      <td>6.12</td>\n",
       "      <td>0.06</td>\n",
       "      <td>1.28</td>\n",
       "      <td>82.0</td>\n",
       "      <td>4.3</td>\n",
       "      <td>E</td>\n",
       "      <td>8.58</td>\n",
       "    </tr>\n",
       "    <tr>\n",
       "      <th>87</th>\n",
       "      <td>Star Wars Battlefront (2015)</td>\n",
       "      <td>PS4</td>\n",
       "      <td>2015</td>\n",
       "      <td>Shooter</td>\n",
       "      <td>2.99</td>\n",
       "      <td>3.49</td>\n",
       "      <td>0.22</td>\n",
       "      <td>1.28</td>\n",
       "      <td>NaN</td>\n",
       "      <td>NaN</td>\n",
       "      <td>no_rating</td>\n",
       "      <td>7.98</td>\n",
       "    </tr>\n",
       "  </tbody>\n",
       "</table>\n",
       "</div>"
      ],
      "text/plain": [
       "                                         name platform  year_of_release  \\\n",
       "31                  Call of Duty: Black Ops 3      PS4             2015   \n",
       "42                         Grand Theft Auto V      PS4             2014   \n",
       "47  Pokemon Omega Ruby/Pokemon Alpha Sapphire      3DS             2014   \n",
       "77                                    FIFA 16      PS4             2015   \n",
       "87               Star Wars Battlefront (2015)      PS4             2015   \n",
       "\n",
       "           genre  na_sales  eu_sales  jp_sales  other_sales  critic_score  \\\n",
       "31       Shooter      6.03      5.86      0.36         2.38           NaN   \n",
       "42        Action      3.96      6.31      0.38         1.97          97.0   \n",
       "47  Role-Playing      4.35      3.49      3.10         0.74           NaN   \n",
       "77        Sports      1.12      6.12      0.06         1.28          82.0   \n",
       "87       Shooter      2.99      3.49      0.22         1.28           NaN   \n",
       "\n",
       "    user_score     rating  all_sales  \n",
       "31         NaN  no_rating      14.63  \n",
       "42         8.3          M      12.62  \n",
       "47         NaN  no_rating      11.68  \n",
       "77         4.3          E       8.58  \n",
       "87         NaN  no_rating       7.98  "
      ]
     },
     "execution_count": 25,
     "metadata": {},
     "output_type": "execute_result"
    }
   ],
   "source": [
    "topical_period.head()"
   ]
  },
  {
   "cell_type": "markdown",
   "metadata": {},
   "source": [
    "#### Выберем несколько потенциально прибыльных платформ"
   ]
  },
  {
   "cell_type": "code",
   "execution_count": 26,
   "metadata": {},
   "outputs": [
    {
     "data": {
      "text/html": [
       "<div>\n",
       "<style scoped>\n",
       "    .dataframe tbody tr th:only-of-type {\n",
       "        vertical-align: middle;\n",
       "    }\n",
       "\n",
       "    .dataframe tbody tr th {\n",
       "        vertical-align: top;\n",
       "    }\n",
       "\n",
       "    .dataframe thead th {\n",
       "        text-align: right;\n",
       "    }\n",
       "</style>\n",
       "<table border=\"1\" class=\"dataframe\">\n",
       "  <thead>\n",
       "    <tr style=\"text-align: right;\">\n",
       "      <th></th>\n",
       "      <th>all_sales</th>\n",
       "    </tr>\n",
       "    <tr>\n",
       "      <th>platform</th>\n",
       "      <th></th>\n",
       "    </tr>\n",
       "  </thead>\n",
       "  <tbody>\n",
       "    <tr>\n",
       "      <th>PS4</th>\n",
       "      <td>288.15</td>\n",
       "    </tr>\n",
       "    <tr>\n",
       "      <th>XOne</th>\n",
       "      <td>140.36</td>\n",
       "    </tr>\n",
       "    <tr>\n",
       "      <th>3DS</th>\n",
       "      <td>86.68</td>\n",
       "    </tr>\n",
       "    <tr>\n",
       "      <th>PS3</th>\n",
       "      <td>68.18</td>\n",
       "    </tr>\n",
       "    <tr>\n",
       "      <th>X360</th>\n",
       "      <td>48.22</td>\n",
       "    </tr>\n",
       "    <tr>\n",
       "      <th>WiiU</th>\n",
       "      <td>42.98</td>\n",
       "    </tr>\n",
       "    <tr>\n",
       "      <th>PC</th>\n",
       "      <td>27.05</td>\n",
       "    </tr>\n",
       "    <tr>\n",
       "      <th>PSV</th>\n",
       "      <td>22.40</td>\n",
       "    </tr>\n",
       "    <tr>\n",
       "      <th>Wii</th>\n",
       "      <td>5.07</td>\n",
       "    </tr>\n",
       "    <tr>\n",
       "      <th>PSP</th>\n",
       "      <td>0.36</td>\n",
       "    </tr>\n",
       "  </tbody>\n",
       "</table>\n",
       "</div>"
      ],
      "text/plain": [
       "          all_sales\n",
       "platform           \n",
       "PS4          288.15\n",
       "XOne         140.36\n",
       "3DS           86.68\n",
       "PS3           68.18\n",
       "X360          48.22\n",
       "WiiU          42.98\n",
       "PC            27.05\n",
       "PSV           22.40\n",
       "Wii            5.07\n",
       "PSP            0.36"
      ]
     },
     "execution_count": 26,
     "metadata": {},
     "output_type": "execute_result"
    }
   ],
   "source": [
    "topical_period.pivot_table(\n",
    "    index='platform', \n",
    "    values='all_sales', \n",
    "    aggfunc='sum').sort_values(by = 'all_sales', ascending=False)"
   ]
  },
  {
   "cell_type": "markdown",
   "metadata": {},
   "source": [
    "За актуальный период мы видим, что лидируют по продажам 5 платформ (**PS4, XOne, 3DS, PS3, X360**). С выходом **PS4** и **XOne** продажи на **PS3** и **X360** начали падать, так как первые заменяют предыдущее поколение приставок и соответсвенно продажи у них растут. "
   ]
  },
  {
   "cell_type": "markdown",
   "metadata": {},
   "source": [
    "#### Постройте график «ящик с усами» по глобальным продажам игр в разбивке по платформам"
   ]
  },
  {
   "cell_type": "code",
   "execution_count": 27,
   "metadata": {},
   "outputs": [
    {
     "data": {
      "image/png": "[encoded data removed]",
      "text/plain": [
       "<Figure size 1080x720 with 1 Axes>"
      ]
     },
     "metadata": {
      "needs_background": "light"
     },
     "output_type": "display_data"
    }
   ],
   "source": [
    "plt.subplots(figsize=(15, 10))\n",
    "sns.set(style='darkgrid')\n",
    "top_topical_period = topical_period.query('platform == [\"PS4\", \"XOne\", \"3DS\", \"PS3\", \"X360\"]')\n",
    "sns.boxplot(x=top_topical_period['platform'], y=top_topical_period['all_sales'], width=0.3)\n",
    "plt.ylim(0, 3);\n",
    "plt.title('Разбивка по платформам');\n",
    "plt.ylabel('Суммарные продажи');\n",
    "plt.xlabel('Платформы');"
   ]
  },
  {
   "cell_type": "code",
   "execution_count": 28,
   "metadata": {},
   "outputs": [
    {
     "data": {
      "text/html": [
       "<div>\n",
       "<style scoped>\n",
       "    .dataframe tbody tr th:only-of-type {\n",
       "        vertical-align: middle;\n",
       "    }\n",
       "\n",
       "    .dataframe tbody tr th {\n",
       "        vertical-align: top;\n",
       "    }\n",
       "\n",
       "    .dataframe thead th {\n",
       "        text-align: right;\n",
       "    }\n",
       "</style>\n",
       "<table border=\"1\" class=\"dataframe\">\n",
       "  <thead>\n",
       "    <tr style=\"text-align: right;\">\n",
       "      <th></th>\n",
       "      <th>count</th>\n",
       "      <th>mean</th>\n",
       "      <th>std</th>\n",
       "      <th>min</th>\n",
       "      <th>25%</th>\n",
       "      <th>50%</th>\n",
       "      <th>75%</th>\n",
       "      <th>max</th>\n",
       "    </tr>\n",
       "    <tr>\n",
       "      <th>platform</th>\n",
       "      <th></th>\n",
       "      <th></th>\n",
       "      <th></th>\n",
       "      <th></th>\n",
       "      <th></th>\n",
       "      <th></th>\n",
       "      <th></th>\n",
       "      <th></th>\n",
       "    </tr>\n",
       "  </thead>\n",
       "  <tbody>\n",
       "    <tr>\n",
       "      <th>3DS</th>\n",
       "      <td>212.0</td>\n",
       "      <td>0.408868</td>\n",
       "      <td>1.188368</td>\n",
       "      <td>0.01</td>\n",
       "      <td>0.0300</td>\n",
       "      <td>0.090</td>\n",
       "      <td>0.2500</td>\n",
       "      <td>11.68</td>\n",
       "    </tr>\n",
       "    <tr>\n",
       "      <th>PS3</th>\n",
       "      <td>219.0</td>\n",
       "      <td>0.311324</td>\n",
       "      <td>0.633059</td>\n",
       "      <td>0.01</td>\n",
       "      <td>0.0400</td>\n",
       "      <td>0.110</td>\n",
       "      <td>0.3250</td>\n",
       "      <td>5.27</td>\n",
       "    </tr>\n",
       "    <tr>\n",
       "      <th>PS4</th>\n",
       "      <td>376.0</td>\n",
       "      <td>0.766356</td>\n",
       "      <td>1.614969</td>\n",
       "      <td>0.01</td>\n",
       "      <td>0.0575</td>\n",
       "      <td>0.185</td>\n",
       "      <td>0.6900</td>\n",
       "      <td>14.63</td>\n",
       "    </tr>\n",
       "    <tr>\n",
       "      <th>X360</th>\n",
       "      <td>111.0</td>\n",
       "      <td>0.434414</td>\n",
       "      <td>0.628967</td>\n",
       "      <td>0.01</td>\n",
       "      <td>0.0700</td>\n",
       "      <td>0.180</td>\n",
       "      <td>0.5050</td>\n",
       "      <td>4.28</td>\n",
       "    </tr>\n",
       "    <tr>\n",
       "      <th>XOne</th>\n",
       "      <td>228.0</td>\n",
       "      <td>0.615614</td>\n",
       "      <td>1.046513</td>\n",
       "      <td>0.01</td>\n",
       "      <td>0.0500</td>\n",
       "      <td>0.205</td>\n",
       "      <td>0.6325</td>\n",
       "      <td>7.39</td>\n",
       "    </tr>\n",
       "  </tbody>\n",
       "</table>\n",
       "</div>"
      ],
      "text/plain": [
       "          count      mean       std   min     25%    50%     75%    max\n",
       "platform                                                               \n",
       "3DS       212.0  0.408868  1.188368  0.01  0.0300  0.090  0.2500  11.68\n",
       "PS3       219.0  0.311324  0.633059  0.01  0.0400  0.110  0.3250   5.27\n",
       "PS4       376.0  0.766356  1.614969  0.01  0.0575  0.185  0.6900  14.63\n",
       "X360      111.0  0.434414  0.628967  0.01  0.0700  0.180  0.5050   4.28\n",
       "XOne      228.0  0.615614  1.046513  0.01  0.0500  0.205  0.6325   7.39"
      ]
     },
     "execution_count": 28,
     "metadata": {},
     "output_type": "execute_result"
    }
   ],
   "source": [
    "topical_period.query('platform == [\"PS4\", \"PS3\", \"XOne\", \"3DS\", \"X360\"]').groupby('platform')['all_sales'].describe()"
   ]
  },
  {
   "cell_type": "markdown",
   "metadata": {},
   "source": [
    "На графиках мы видим выбросы, это более популярные игры которые хорошо продаются. Так же видно что большинство значений больше медианного и треть игр по каждой платфоре продаются меньше чем за 800 тыс. Можно предположить что создатели акцентируют больше внимания на меньшем колличестве игр, делая их более качественными и в последствии именно они приносят больший доход. "
   ]
  },
  {
   "cell_type": "markdown",
   "metadata": {},
   "source": [
    "#### Как влияют на продажи внутри одной популярной платформы отзывы пользователей и критиков"
   ]
  },
  {
   "cell_type": "code",
   "execution_count": 29,
   "metadata": {},
   "outputs": [
    {
     "data": {
      "text/html": [
       "<div>\n",
       "<style scoped>\n",
       "    .dataframe tbody tr th:only-of-type {\n",
       "        vertical-align: middle;\n",
       "    }\n",
       "\n",
       "    .dataframe tbody tr th {\n",
       "        vertical-align: top;\n",
       "    }\n",
       "\n",
       "    .dataframe thead th {\n",
       "        text-align: right;\n",
       "    }\n",
       "</style>\n",
       "<table border=\"1\" class=\"dataframe\">\n",
       "  <thead>\n",
       "    <tr style=\"text-align: right;\">\n",
       "      <th></th>\n",
       "      <th>name</th>\n",
       "      <th>platform</th>\n",
       "      <th>year_of_release</th>\n",
       "      <th>genre</th>\n",
       "      <th>na_sales</th>\n",
       "      <th>eu_sales</th>\n",
       "      <th>jp_sales</th>\n",
       "      <th>other_sales</th>\n",
       "      <th>critic_score</th>\n",
       "      <th>user_score</th>\n",
       "      <th>rating</th>\n",
       "      <th>all_sales</th>\n",
       "    </tr>\n",
       "  </thead>\n",
       "  <tbody>\n",
       "    <tr>\n",
       "      <th>31</th>\n",
       "      <td>Call of Duty: Black Ops 3</td>\n",
       "      <td>PS4</td>\n",
       "      <td>2015</td>\n",
       "      <td>Shooter</td>\n",
       "      <td>6.03</td>\n",
       "      <td>5.86</td>\n",
       "      <td>0.36</td>\n",
       "      <td>2.38</td>\n",
       "      <td>NaN</td>\n",
       "      <td>NaN</td>\n",
       "      <td>no_rating</td>\n",
       "      <td>14.63</td>\n",
       "    </tr>\n",
       "    <tr>\n",
       "      <th>42</th>\n",
       "      <td>Grand Theft Auto V</td>\n",
       "      <td>PS4</td>\n",
       "      <td>2014</td>\n",
       "      <td>Action</td>\n",
       "      <td>3.96</td>\n",
       "      <td>6.31</td>\n",
       "      <td>0.38</td>\n",
       "      <td>1.97</td>\n",
       "      <td>97.0</td>\n",
       "      <td>8.3</td>\n",
       "      <td>M</td>\n",
       "      <td>12.62</td>\n",
       "    </tr>\n",
       "    <tr>\n",
       "      <th>77</th>\n",
       "      <td>FIFA 16</td>\n",
       "      <td>PS4</td>\n",
       "      <td>2015</td>\n",
       "      <td>Sports</td>\n",
       "      <td>1.12</td>\n",
       "      <td>6.12</td>\n",
       "      <td>0.06</td>\n",
       "      <td>1.28</td>\n",
       "      <td>82.0</td>\n",
       "      <td>4.3</td>\n",
       "      <td>E</td>\n",
       "      <td>8.58</td>\n",
       "    </tr>\n",
       "    <tr>\n",
       "      <th>87</th>\n",
       "      <td>Star Wars Battlefront (2015)</td>\n",
       "      <td>PS4</td>\n",
       "      <td>2015</td>\n",
       "      <td>Shooter</td>\n",
       "      <td>2.99</td>\n",
       "      <td>3.49</td>\n",
       "      <td>0.22</td>\n",
       "      <td>1.28</td>\n",
       "      <td>NaN</td>\n",
       "      <td>NaN</td>\n",
       "      <td>no_rating</td>\n",
       "      <td>7.98</td>\n",
       "    </tr>\n",
       "    <tr>\n",
       "      <th>92</th>\n",
       "      <td>Call of Duty: Advanced Warfare</td>\n",
       "      <td>PS4</td>\n",
       "      <td>2014</td>\n",
       "      <td>Shooter</td>\n",
       "      <td>2.81</td>\n",
       "      <td>3.48</td>\n",
       "      <td>0.14</td>\n",
       "      <td>1.23</td>\n",
       "      <td>83.0</td>\n",
       "      <td>5.7</td>\n",
       "      <td>M</td>\n",
       "      <td>7.66</td>\n",
       "    </tr>\n",
       "  </tbody>\n",
       "</table>\n",
       "</div>"
      ],
      "text/plain": [
       "                              name platform  year_of_release    genre  \\\n",
       "31       Call of Duty: Black Ops 3      PS4             2015  Shooter   \n",
       "42              Grand Theft Auto V      PS4             2014   Action   \n",
       "77                         FIFA 16      PS4             2015   Sports   \n",
       "87    Star Wars Battlefront (2015)      PS4             2015  Shooter   \n",
       "92  Call of Duty: Advanced Warfare      PS4             2014  Shooter   \n",
       "\n",
       "    na_sales  eu_sales  jp_sales  other_sales  critic_score  user_score  \\\n",
       "31      6.03      5.86      0.36         2.38           NaN         NaN   \n",
       "42      3.96      6.31      0.38         1.97          97.0         8.3   \n",
       "77      1.12      6.12      0.06         1.28          82.0         4.3   \n",
       "87      2.99      3.49      0.22         1.28           NaN         NaN   \n",
       "92      2.81      3.48      0.14         1.23          83.0         5.7   \n",
       "\n",
       "       rating  all_sales  \n",
       "31  no_rating      14.63  \n",
       "42          M      12.62  \n",
       "77          E       8.58  \n",
       "87  no_rating       7.98  \n",
       "92          M       7.66  "
      ]
     },
     "execution_count": 29,
     "metadata": {},
     "output_type": "execute_result"
    }
   ],
   "source": [
    "PS4 = topical_period.query('platform == \"PS4\"')\n",
    "PS4.head()"
   ]
  },
  {
   "cell_type": "code",
   "execution_count": 30,
   "metadata": {},
   "outputs": [
    {
     "data": {
      "text/html": [
       "<div>\n",
       "<style scoped>\n",
       "    .dataframe tbody tr th:only-of-type {\n",
       "        vertical-align: middle;\n",
       "    }\n",
       "\n",
       "    .dataframe tbody tr th {\n",
       "        vertical-align: top;\n",
       "    }\n",
       "\n",
       "    .dataframe thead th {\n",
       "        text-align: right;\n",
       "    }\n",
       "</style>\n",
       "<table border=\"1\" class=\"dataframe\">\n",
       "  <thead>\n",
       "    <tr style=\"text-align: right;\">\n",
       "      <th></th>\n",
       "      <th>critic_score</th>\n",
       "      <th>user_score</th>\n",
       "      <th>all_sales</th>\n",
       "    </tr>\n",
       "  </thead>\n",
       "  <tbody>\n",
       "    <tr>\n",
       "      <th>critic_score</th>\n",
       "      <td>1.000000</td>\n",
       "      <td>0.546434</td>\n",
       "      <td>0.402661</td>\n",
       "    </tr>\n",
       "    <tr>\n",
       "      <th>user_score</th>\n",
       "      <td>0.546434</td>\n",
       "      <td>1.000000</td>\n",
       "      <td>-0.040132</td>\n",
       "    </tr>\n",
       "    <tr>\n",
       "      <th>all_sales</th>\n",
       "      <td>0.402661</td>\n",
       "      <td>-0.040132</td>\n",
       "      <td>1.000000</td>\n",
       "    </tr>\n",
       "  </tbody>\n",
       "</table>\n",
       "</div>"
      ],
      "text/plain": [
       "              critic_score  user_score  all_sales\n",
       "critic_score      1.000000    0.546434   0.402661\n",
       "user_score        0.546434    1.000000  -0.040132\n",
       "all_sales         0.402661   -0.040132   1.000000"
      ]
     },
     "execution_count": 30,
     "metadata": {},
     "output_type": "execute_result"
    },
    {
     "data": {
      "image/png": "[encoded data removed]",
      "text/plain": [
       "<Figure size 720x432 with 2 Axes>"
      ]
     },
     "metadata": {},
     "output_type": "display_data"
    }
   ],
   "source": [
    "plt.subplots(figsize=(10, 6))\n",
    "plt.subplot(121)\n",
    "sns.scatterplot(data=PS4, x='all_sales', y='critic_score');\n",
    "plt.title('Зависимость продаж от оценок критиков');\n",
    "plt.xlabel('Суммарные продажи');\n",
    "plt.ylabel('Оценки критиков');\n",
    "plt.subplot(122)\n",
    "sns.scatterplot(data=PS4, x='all_sales', y='user_score');\n",
    "plt.title('Зависимость продаж от оценок пользователей');\n",
    "plt.xlabel('Суммарные продажи');\n",
    "plt.ylabel('Оценки пользователей');\n",
    "PS4_cor = PS4[['critic_score', 'user_score', 'all_sales']]\n",
    "PS4_cor.corr()"
   ]
  },
  {
   "cell_type": "markdown",
   "metadata": {},
   "source": [
    "Посчитав корреляцию между отзывами и продажами для платформы **PS4**, мы видим что продажи игр зависят от оценки критиков, а вот зависимости от оценки игров нет.  \n",
    "\n",
    "Так же следует заметить зависимость оценок игроков от оценок критиков."
   ]
  },
  {
   "cell_type": "markdown",
   "metadata": {},
   "source": [
    "#### Продажи игр на других платформах"
   ]
  },
  {
   "cell_type": "code",
   "execution_count": 31,
   "metadata": {},
   "outputs": [],
   "source": [
    "#PS3_XOne_3DS_X360 = topical_period.query('platform == [\"PS3\", \"XOne\", \"3DS\", \"X360\"]')\n",
    "#PS3_XOne_3DS_X360.head()"
   ]
  },
  {
   "cell_type": "code",
   "execution_count": 32,
   "metadata": {},
   "outputs": [
    {
     "name": "stdout",
     "output_type": "stream",
     "text": [
      "Платформа PS3\n"
     ]
    },
    {
     "data": {
      "text/html": [
       "<div>\n",
       "<style scoped>\n",
       "    .dataframe tbody tr th:only-of-type {\n",
       "        vertical-align: middle;\n",
       "    }\n",
       "\n",
       "    .dataframe tbody tr th {\n",
       "        vertical-align: top;\n",
       "    }\n",
       "\n",
       "    .dataframe thead th {\n",
       "        text-align: right;\n",
       "    }\n",
       "</style>\n",
       "<table border=\"1\" class=\"dataframe\">\n",
       "  <thead>\n",
       "    <tr style=\"text-align: right;\">\n",
       "      <th></th>\n",
       "      <th>critic_score</th>\n",
       "      <th>user_score</th>\n",
       "      <th>all_sales</th>\n",
       "    </tr>\n",
       "  </thead>\n",
       "  <tbody>\n",
       "    <tr>\n",
       "      <th>critic_score</th>\n",
       "      <td>1.000000</td>\n",
       "      <td>0.693445</td>\n",
       "      <td>0.446575</td>\n",
       "    </tr>\n",
       "    <tr>\n",
       "      <th>user_score</th>\n",
       "      <td>0.693445</td>\n",
       "      <td>1.000000</td>\n",
       "      <td>-0.166761</td>\n",
       "    </tr>\n",
       "    <tr>\n",
       "      <th>all_sales</th>\n",
       "      <td>0.446575</td>\n",
       "      <td>-0.166761</td>\n",
       "      <td>1.000000</td>\n",
       "    </tr>\n",
       "  </tbody>\n",
       "</table>\n",
       "</div>"
      ],
      "text/plain": [
       "              critic_score  user_score  all_sales\n",
       "critic_score      1.000000    0.693445   0.446575\n",
       "user_score        0.693445    1.000000  -0.166761\n",
       "all_sales         0.446575   -0.166761   1.000000"
      ]
     },
     "execution_count": 32,
     "metadata": {},
     "output_type": "execute_result"
    },
    {
     "data": {
      "image/png": "[encoded data removed]",
      "text/plain": [
       "<Figure size 720x432 with 2 Axes>"
      ]
     },
     "metadata": {},
     "output_type": "display_data"
    }
   ],
   "source": [
    "PS3 = topical_period.query('platform == \"PS3\"')\n",
    "print('Платформа PS3')\n",
    "plt.subplots(figsize=(10, 6))\n",
    "plt.subplot(121)\n",
    "sns.scatterplot(data=PS3, x='all_sales', y='critic_score');\n",
    "plt.title('Зависимость продаж от оценок критиков');\n",
    "plt.xlabel('Суммарные продажи');\n",
    "plt.ylabel('Оценки критиков');\n",
    "plt.subplot(122)\n",
    "sns.scatterplot(data=PS3, x='all_sales', y='user_score');\n",
    "plt.title('Зависимость продаж от оценок пользователей');\n",
    "plt.xlabel('Суммарные продажи');\n",
    "plt.ylabel('Оценки пользователей');\n",
    "PS3_cor = PS3[['critic_score', 'user_score', 'all_sales']]\n",
    "PS3_cor.corr()"
   ]
  },
  {
   "cell_type": "code",
   "execution_count": 33,
   "metadata": {},
   "outputs": [
    {
     "name": "stdout",
     "output_type": "stream",
     "text": [
      "Платформа XOne\n"
     ]
    },
    {
     "data": {
      "text/html": [
       "<div>\n",
       "<style scoped>\n",
       "    .dataframe tbody tr th:only-of-type {\n",
       "        vertical-align: middle;\n",
       "    }\n",
       "\n",
       "    .dataframe tbody tr th {\n",
       "        vertical-align: top;\n",
       "    }\n",
       "\n",
       "    .dataframe thead th {\n",
       "        text-align: right;\n",
       "    }\n",
       "</style>\n",
       "<table border=\"1\" class=\"dataframe\">\n",
       "  <thead>\n",
       "    <tr style=\"text-align: right;\">\n",
       "      <th></th>\n",
       "      <th>critic_score</th>\n",
       "      <th>user_score</th>\n",
       "      <th>all_sales</th>\n",
       "    </tr>\n",
       "  </thead>\n",
       "  <tbody>\n",
       "    <tr>\n",
       "      <th>critic_score</th>\n",
       "      <td>1.000000</td>\n",
       "      <td>0.440977</td>\n",
       "      <td>0.428677</td>\n",
       "    </tr>\n",
       "    <tr>\n",
       "      <th>user_score</th>\n",
       "      <td>0.440977</td>\n",
       "      <td>1.000000</td>\n",
       "      <td>-0.070384</td>\n",
       "    </tr>\n",
       "    <tr>\n",
       "      <th>all_sales</th>\n",
       "      <td>0.428677</td>\n",
       "      <td>-0.070384</td>\n",
       "      <td>1.000000</td>\n",
       "    </tr>\n",
       "  </tbody>\n",
       "</table>\n",
       "</div>"
      ],
      "text/plain": [
       "              critic_score  user_score  all_sales\n",
       "critic_score      1.000000    0.440977   0.428677\n",
       "user_score        0.440977    1.000000  -0.070384\n",
       "all_sales         0.428677   -0.070384   1.000000"
      ]
     },
     "execution_count": 33,
     "metadata": {},
     "output_type": "execute_result"
    },
    {
     "data": {
      "image/png": "[encoded data removed]",
      "text/plain": [
       "<Figure size 720x432 with 2 Axes>"
      ]
     },
     "metadata": {},
     "output_type": "display_data"
    }
   ],
   "source": [
    "XOne = topical_period.query('platform == \"XOne\"')\n",
    "print('Платформа XOne')\n",
    "plt.subplots(figsize=(10, 6))\n",
    "plt.subplot(121)\n",
    "sns.scatterplot(data=XOne, x='all_sales', y='critic_score');\n",
    "plt.title('Зависимость продаж от оценок критиков');\n",
    "plt.xlabel('Суммарные продажи');\n",
    "plt.ylabel('Оценки критиков');\n",
    "plt.subplot(122)\n",
    "sns.scatterplot(data=XOne, x='all_sales', y='user_score');\n",
    "plt.title('Зависимость продаж от оценок пользователей');\n",
    "plt.xlabel('Суммарные продажи');\n",
    "plt.ylabel('Оценки пользователей');\n",
    "XOne_cor = XOne[['critic_score', 'user_score', 'all_sales']]\n",
    "XOne_cor.corr()"
   ]
  },
  {
   "cell_type": "code",
   "execution_count": 34,
   "metadata": {},
   "outputs": [
    {
     "name": "stdout",
     "output_type": "stream",
     "text": [
      "Платформа 3DS\n"
     ]
    },
    {
     "data": {
      "text/html": [
       "<div>\n",
       "<style scoped>\n",
       "    .dataframe tbody tr th:only-of-type {\n",
       "        vertical-align: middle;\n",
       "    }\n",
       "\n",
       "    .dataframe tbody tr th {\n",
       "        vertical-align: top;\n",
       "    }\n",
       "\n",
       "    .dataframe thead th {\n",
       "        text-align: right;\n",
       "    }\n",
       "</style>\n",
       "<table border=\"1\" class=\"dataframe\">\n",
       "  <thead>\n",
       "    <tr style=\"text-align: right;\">\n",
       "      <th></th>\n",
       "      <th>critic_score</th>\n",
       "      <th>user_score</th>\n",
       "      <th>all_sales</th>\n",
       "    </tr>\n",
       "  </thead>\n",
       "  <tbody>\n",
       "    <tr>\n",
       "      <th>critic_score</th>\n",
       "      <td>1.000000</td>\n",
       "      <td>0.862485</td>\n",
       "      <td>0.314117</td>\n",
       "    </tr>\n",
       "    <tr>\n",
       "      <th>user_score</th>\n",
       "      <td>0.862485</td>\n",
       "      <td>1.000000</td>\n",
       "      <td>0.215193</td>\n",
       "    </tr>\n",
       "    <tr>\n",
       "      <th>all_sales</th>\n",
       "      <td>0.314117</td>\n",
       "      <td>0.215193</td>\n",
       "      <td>1.000000</td>\n",
       "    </tr>\n",
       "  </tbody>\n",
       "</table>\n",
       "</div>"
      ],
      "text/plain": [
       "              critic_score  user_score  all_sales\n",
       "critic_score      1.000000    0.862485   0.314117\n",
       "user_score        0.862485    1.000000   0.215193\n",
       "all_sales         0.314117    0.215193   1.000000"
      ]
     },
     "execution_count": 34,
     "metadata": {},
     "output_type": "execute_result"
    },
    {
     "data": {
      "image/png": "[encoded data removed]",
      "text/plain": [
       "<Figure size 720x432 with 2 Axes>"
      ]
     },
     "metadata": {},
     "output_type": "display_data"
    }
   ],
   "source": [
    "_3DS = topical_period.query('platform == \"3DS\"')\n",
    "print('Платформа 3DS')\n",
    "plt.subplots(figsize=(10, 6))\n",
    "plt.subplot(121)\n",
    "sns.scatterplot(data=_3DS, x='all_sales', y='critic_score');\n",
    "plt.title('Зависимость продаж от оценок критиков');\n",
    "plt.xlabel('Суммарные продажи');\n",
    "plt.ylabel('Оценки критиков');\n",
    "plt.subplot(122)\n",
    "sns.scatterplot(data=_3DS, x='all_sales', y='user_score');\n",
    "plt.title('Зависимость продаж от оценок пользователей');\n",
    "plt.xlabel('Суммарные продажи');\n",
    "plt.ylabel('Оценки пользователей');\n",
    "_3DS_cor = _3DS[['critic_score', 'user_score', 'all_sales']]\n",
    "_3DS_cor.corr()"
   ]
  },
  {
   "cell_type": "code",
   "execution_count": 35,
   "metadata": {},
   "outputs": [
    {
     "name": "stdout",
     "output_type": "stream",
     "text": [
      "Платформа X360\n"
     ]
    },
    {
     "data": {
      "text/html": [
       "<div>\n",
       "<style scoped>\n",
       "    .dataframe tbody tr th:only-of-type {\n",
       "        vertical-align: middle;\n",
       "    }\n",
       "\n",
       "    .dataframe tbody tr th {\n",
       "        vertical-align: top;\n",
       "    }\n",
       "\n",
       "    .dataframe thead th {\n",
       "        text-align: right;\n",
       "    }\n",
       "</style>\n",
       "<table border=\"1\" class=\"dataframe\">\n",
       "  <thead>\n",
       "    <tr style=\"text-align: right;\">\n",
       "      <th></th>\n",
       "      <th>critic_score</th>\n",
       "      <th>user_score</th>\n",
       "      <th>all_sales</th>\n",
       "    </tr>\n",
       "  </thead>\n",
       "  <tbody>\n",
       "    <tr>\n",
       "      <th>critic_score</th>\n",
       "      <td>1.000000</td>\n",
       "      <td>0.625309</td>\n",
       "      <td>0.525723</td>\n",
       "    </tr>\n",
       "    <tr>\n",
       "      <th>user_score</th>\n",
       "      <td>0.625309</td>\n",
       "      <td>1.000000</td>\n",
       "      <td>-0.138445</td>\n",
       "    </tr>\n",
       "    <tr>\n",
       "      <th>all_sales</th>\n",
       "      <td>0.525723</td>\n",
       "      <td>-0.138445</td>\n",
       "      <td>1.000000</td>\n",
       "    </tr>\n",
       "  </tbody>\n",
       "</table>\n",
       "</div>"
      ],
      "text/plain": [
       "              critic_score  user_score  all_sales\n",
       "critic_score      1.000000    0.625309   0.525723\n",
       "user_score        0.625309    1.000000  -0.138445\n",
       "all_sales         0.525723   -0.138445   1.000000"
      ]
     },
     "execution_count": 35,
     "metadata": {},
     "output_type": "execute_result"
    },
    {
     "data": {
      "image/png": "[encoded data removed]",
      "text/plain": [
       "<Figure size 720x432 with 2 Axes>"
      ]
     },
     "metadata": {},
     "output_type": "display_data"
    }
   ],
   "source": [
    "X360 = topical_period.query('platform == \"X360\"')\n",
    "print('Платформа X360')\n",
    "plt.subplots(figsize=(10, 6))\n",
    "plt.subplot(121)\n",
    "sns.scatterplot(data=X360, x='all_sales', y='critic_score');\n",
    "plt.title('Зависимость продаж от оценок критиков');\n",
    "plt.xlabel('Суммарные продажи');\n",
    "plt.ylabel('Оценки критиков');\n",
    "plt.subplot(122)\n",
    "sns.scatterplot(data=X360, x='all_sales', y='user_score');\n",
    "plt.title('Зависимость продаж от оценок пользователей');\n",
    "plt.xlabel('Суммарные продажи');\n",
    "plt.ylabel('Оценки пользователей');\n",
    "X360_cor = X360[['critic_score', 'user_score', 'all_sales']]\n",
    "X360_cor.corr()"
   ]
  },
  {
   "cell_type": "markdown",
   "metadata": {},
   "source": [
    "На платформах **PS3, XOne, X360** ситуация такая же как и на **PS4**, прослеживается прямая зависимость продаж от оценок критиков. На платформе **3DS** прямая зависимость как от оценок критиков, так и от оценок игроков, хоть она и не велика. \n",
    "\n",
    "На всех 4 платформах так же есть прямая зависимость оценок игроков от оценок критиков."
   ]
  },
  {
   "cell_type": "markdown",
   "metadata": {},
   "source": [
    "#### Распределение игр по жанру"
   ]
  },
  {
   "cell_type": "code",
   "execution_count": 36,
   "metadata": {},
   "outputs": [
    {
     "data": {
      "text/html": [
       "<div>\n",
       "<style scoped>\n",
       "    .dataframe tbody tr th:only-of-type {\n",
       "        vertical-align: middle;\n",
       "    }\n",
       "\n",
       "    .dataframe tbody tr th {\n",
       "        vertical-align: top;\n",
       "    }\n",
       "\n",
       "    .dataframe thead th {\n",
       "        text-align: right;\n",
       "    }\n",
       "</style>\n",
       "<table border=\"1\" class=\"dataframe\">\n",
       "  <thead>\n",
       "    <tr style=\"text-align: right;\">\n",
       "      <th></th>\n",
       "      <th>all_sales</th>\n",
       "    </tr>\n",
       "    <tr>\n",
       "      <th>genre</th>\n",
       "      <th></th>\n",
       "    </tr>\n",
       "  </thead>\n",
       "  <tbody>\n",
       "    <tr>\n",
       "      <th>Action</th>\n",
       "      <td>199.36</td>\n",
       "    </tr>\n",
       "    <tr>\n",
       "      <th>Shooter</th>\n",
       "      <td>170.94</td>\n",
       "    </tr>\n",
       "    <tr>\n",
       "      <th>Sports</th>\n",
       "      <td>109.48</td>\n",
       "    </tr>\n",
       "    <tr>\n",
       "      <th>Role-Playing</th>\n",
       "      <td>101.44</td>\n",
       "    </tr>\n",
       "    <tr>\n",
       "      <th>Misc</th>\n",
       "      <td>37.55</td>\n",
       "    </tr>\n",
       "    <tr>\n",
       "      <th>Fighting</th>\n",
       "      <td>28.22</td>\n",
       "    </tr>\n",
       "    <tr>\n",
       "      <th>Racing</th>\n",
       "      <td>27.52</td>\n",
       "    </tr>\n",
       "    <tr>\n",
       "      <th>Platform</th>\n",
       "      <td>18.09</td>\n",
       "    </tr>\n",
       "    <tr>\n",
       "      <th>Adventure</th>\n",
       "      <td>17.55</td>\n",
       "    </tr>\n",
       "    <tr>\n",
       "      <th>Simulation</th>\n",
       "      <td>13.13</td>\n",
       "    </tr>\n",
       "    <tr>\n",
       "      <th>Strategy</th>\n",
       "      <td>3.96</td>\n",
       "    </tr>\n",
       "    <tr>\n",
       "      <th>Puzzle</th>\n",
       "      <td>2.21</td>\n",
       "    </tr>\n",
       "  </tbody>\n",
       "</table>\n",
       "</div>"
      ],
      "text/plain": [
       "              all_sales\n",
       "genre                  \n",
       "Action           199.36\n",
       "Shooter          170.94\n",
       "Sports           109.48\n",
       "Role-Playing     101.44\n",
       "Misc              37.55\n",
       "Fighting          28.22\n",
       "Racing            27.52\n",
       "Platform          18.09\n",
       "Adventure         17.55\n",
       "Simulation        13.13\n",
       "Strategy           3.96\n",
       "Puzzle             2.21"
      ]
     },
     "execution_count": 36,
     "metadata": {},
     "output_type": "execute_result"
    },
    {
     "data": {
      "image/png": "[encoded data removed]",
      "text/plain": [
       "<Figure size 1080x504 with 1 Axes>"
      ]
     },
     "metadata": {},
     "output_type": "display_data"
    }
   ],
   "source": [
    "plt.subplots(figsize=(15, 7))\n",
    "genre_table = topical_period.pivot_table(\n",
    "    index='genre', values='all_sales', aggfunc='sum').sort_values(\n",
    "    by='all_sales', ascending=False)\n",
    "sns.barplot(x=genre_table.index, y=genre_table['all_sales']);\n",
    "plt.title('Распределение игр по суммарным продажам');\n",
    "plt.ylabel('Суммарные продажи');\n",
    "plt.xlabel('Жанры');\n",
    "genre_table"
   ]
  },
  {
   "cell_type": "code",
   "execution_count": 37,
   "metadata": {},
   "outputs": [
    {
     "data": {
      "text/html": [
       "<div>\n",
       "<style scoped>\n",
       "    .dataframe tbody tr th:only-of-type {\n",
       "        vertical-align: middle;\n",
       "    }\n",
       "\n",
       "    .dataframe tbody tr th {\n",
       "        vertical-align: top;\n",
       "    }\n",
       "\n",
       "    .dataframe thead th {\n",
       "        text-align: right;\n",
       "    }\n",
       "</style>\n",
       "<table border=\"1\" class=\"dataframe\">\n",
       "  <thead>\n",
       "    <tr style=\"text-align: right;\">\n",
       "      <th></th>\n",
       "      <th>all_sales</th>\n",
       "    </tr>\n",
       "    <tr>\n",
       "      <th>genre</th>\n",
       "      <th></th>\n",
       "    </tr>\n",
       "  </thead>\n",
       "  <tbody>\n",
       "    <tr>\n",
       "      <th>Shooter</th>\n",
       "      <td>1.335469</td>\n",
       "    </tr>\n",
       "    <tr>\n",
       "      <th>Sports</th>\n",
       "      <td>0.680000</td>\n",
       "    </tr>\n",
       "    <tr>\n",
       "      <th>Platform</th>\n",
       "      <td>0.476053</td>\n",
       "    </tr>\n",
       "    <tr>\n",
       "      <th>Fighting</th>\n",
       "      <td>0.470333</td>\n",
       "    </tr>\n",
       "    <tr>\n",
       "      <th>Role-Playing</th>\n",
       "      <td>0.459005</td>\n",
       "    </tr>\n",
       "    <tr>\n",
       "      <th>Racing</th>\n",
       "      <td>0.398841</td>\n",
       "    </tr>\n",
       "    <tr>\n",
       "      <th>Misc</th>\n",
       "      <td>0.332301</td>\n",
       "    </tr>\n",
       "    <tr>\n",
       "      <th>Action</th>\n",
       "      <td>0.322068</td>\n",
       "    </tr>\n",
       "    <tr>\n",
       "      <th>Simulation</th>\n",
       "      <td>0.298409</td>\n",
       "    </tr>\n",
       "    <tr>\n",
       "      <th>Puzzle</th>\n",
       "      <td>0.157857</td>\n",
       "    </tr>\n",
       "    <tr>\n",
       "      <th>Strategy</th>\n",
       "      <td>0.107027</td>\n",
       "    </tr>\n",
       "    <tr>\n",
       "      <th>Adventure</th>\n",
       "      <td>0.094865</td>\n",
       "    </tr>\n",
       "  </tbody>\n",
       "</table>\n",
       "</div>"
      ],
      "text/plain": [
       "              all_sales\n",
       "genre                  \n",
       "Shooter        1.335469\n",
       "Sports         0.680000\n",
       "Platform       0.476053\n",
       "Fighting       0.470333\n",
       "Role-Playing   0.459005\n",
       "Racing         0.398841\n",
       "Misc           0.332301\n",
       "Action         0.322068\n",
       "Simulation     0.298409\n",
       "Puzzle         0.157857\n",
       "Strategy       0.107027\n",
       "Adventure      0.094865"
      ]
     },
     "execution_count": 37,
     "metadata": {},
     "output_type": "execute_result"
    },
    {
     "data": {
      "image/png": "[encoded data removed]",
      "text/plain": [
       "<Figure size 1080x504 with 1 Axes>"
      ]
     },
     "metadata": {},
     "output_type": "display_data"
    }
   ],
   "source": [
    "plt.subplots(figsize=(15, 7))\n",
    "genre_table = topical_period.pivot_table(\n",
    "    index='genre', values='all_sales', aggfunc='mean').sort_values(\n",
    "    by='all_sales', ascending=False)\n",
    "sns.barplot(x=genre_table.index, y=genre_table['all_sales']);\n",
    "plt.title('Распределение игр по среднему');\n",
    "plt.ylabel('Суммарные продажи');\n",
    "plt.xlabel('Жанры');\n",
    "genre_table"
   ]
  },
  {
   "cell_type": "markdown",
   "metadata": {},
   "source": [
    "Если смотреть распределение по суммарным продажам то самыми прибыльными жанрами будут экшен, шутеры, спортивные и ролевые игры. Если же смотреть по среднему значению продаж, в таком случае лидеры остаются теже за исключением экшена, скорее всего по суммарным продажам этот жанр опережает из-за популярности нескольких конкретных игр, которые и принесли большой доход. Можно сделать такой вывод, что самыми продоваемыми играми остаются шутеры, спортивные и ролевые. Самые низкие продажи у игр жанров пазлы, стратегия, приключения и симуляторы.  "
   ]
  },
  {
   "cell_type": "markdown",
   "metadata": {},
   "source": [
    "**Общий вывод по разделу**"
   ]
  },
  {
   "cell_type": "markdown",
   "metadata": {},
   "source": [
    "Проведя анализ мы установили актуальный период с 2013 по 2016 год, благодаря чему мы узнали какие платформы остаются самыми прибыльными и дальше будут продолжать работать, а именно это **PS4, XOne, 3DS**. Так же мы выяснили что оценка критиков влияет на рейтинги и от них на прямую зависит продоваемость игр. Были определены какого жанра игры являются самыми прибыльными."
   ]
  },
  {
   "cell_type": "markdown",
   "metadata": {},
   "source": [
    "### Портрет пользователя каждого региона"
   ]
  },
  {
   "cell_type": "markdown",
   "metadata": {},
   "source": [
    "#### Самые популярные платформы "
   ]
  },
  {
   "cell_type": "code",
   "execution_count": 38,
   "metadata": {},
   "outputs": [
    {
     "data": {
      "image/png": "[encoded data removed]",
      "text/plain": [
       "<Figure size 432x288 with 1 Axes>"
      ]
     },
     "metadata": {},
     "output_type": "display_data"
    }
   ],
   "source": [
    "topical_period.pivot_table(\n",
    "    index='platform', values='na_sales', aggfunc='sum').sort_values(\n",
    "    by='na_sales',ascending=False).plot(kind='bar');\n",
    "plt.title('Популярные платформы в Северной Америке');\n",
    "plt.xlabel('Платформы');"
   ]
  },
  {
   "cell_type": "code",
   "execution_count": 39,
   "metadata": {},
   "outputs": [
    {
     "data": {
      "image/png": "[encoded data removed]",
      "text/plain": [
       "<Figure size 432x288 with 1 Axes>"
      ]
     },
     "metadata": {},
     "output_type": "display_data"
    }
   ],
   "source": [
    "topical_period.pivot_table(\n",
    "    index='platform', values='eu_sales', aggfunc='sum').sort_values(\n",
    "    by='eu_sales',ascending=False).plot(kind='bar');\n",
    "plt.title('Популярные платформы в Европе');\n",
    "plt.xlabel('Платформы');"
   ]
  },
  {
   "cell_type": "code",
   "execution_count": 40,
   "metadata": {},
   "outputs": [
    {
     "data": {
      "image/png": "[encoded data removed]",
      "text/plain": [
       "<Figure size 432x288 with 1 Axes>"
      ]
     },
     "metadata": {},
     "output_type": "display_data"
    }
   ],
   "source": [
    "topical_period.pivot_table(\n",
    "    index='platform', values='jp_sales', aggfunc='sum').sort_values(\n",
    "    by='jp_sales',ascending=False).plot(kind='bar');\n",
    "plt.title('Популярные платформы в Японии');\n",
    "plt.xlabel('Платформы');"
   ]
  },
  {
   "cell_type": "markdown",
   "metadata": {},
   "source": [
    "**Топ 5 для Северной Америки:** PS4, XOne, X360, PS3, 3DS\n",
    "\n",
    "**Топ 5 для Европы:** PS4, PS3, XOne, X360, 3DS\n",
    "\n",
    "**Топ 5 для Японии:** 3DS, PS3, PSV, PS4, WiiU\n",
    "\n",
    "В Америке и Европе топ платформ почти сходится, различие лишь в том что в европе больше предпочитают платформы компании SONY, в Америки же видна конкуренция компаний SONY и Microsoft. \n",
    "\n",
    "В Японии предпочитают отечественные платформы, при чём Nintendo в 3 раза популярнее SONY."
   ]
  },
  {
   "cell_type": "markdown",
   "metadata": {},
   "source": [
    "#### Самые популярные жанры"
   ]
  },
  {
   "cell_type": "code",
   "execution_count": 41,
   "metadata": {},
   "outputs": [
    {
     "data": {
      "image/png": "[encoded data removed]",
      "text/plain": [
       "<Figure size 432x288 with 1 Axes>"
      ]
     },
     "metadata": {},
     "output_type": "display_data"
    }
   ],
   "source": [
    "topical_period.pivot_table(\n",
    "    index='genre', values='na_sales', aggfunc='sum').sort_values(\n",
    "    by='na_sales',ascending=False).plot(kind='bar');\n",
    "plt.title('Популярные жанры в Северной Америке');\n",
    "plt.xlabel('Жанры');"
   ]
  },
  {
   "cell_type": "code",
   "execution_count": 42,
   "metadata": {},
   "outputs": [
    {
     "data": {
      "image/png": "[encoded data removed]",
      "text/plain": [
       "<Figure size 432x288 with 1 Axes>"
      ]
     },
     "metadata": {},
     "output_type": "display_data"
    }
   ],
   "source": [
    "topical_period.pivot_table(\n",
    "    index='genre', values='eu_sales', aggfunc='sum').sort_values(\n",
    "    by='eu_sales',ascending=False).plot(kind='bar');\n",
    "plt.title('Популярные жанры в Европе');\n",
    "plt.xlabel('Жанры');"
   ]
  },
  {
   "cell_type": "code",
   "execution_count": 43,
   "metadata": {},
   "outputs": [
    {
     "data": {
      "image/png": "[encoded data removed]",
      "text/plain": [
       "<Figure size 432x288 with 1 Axes>"
      ]
     },
     "metadata": {},
     "output_type": "display_data"
    }
   ],
   "source": [
    "topical_period.pivot_table(\n",
    "    index='genre', values='jp_sales', aggfunc='sum').sort_values(\n",
    "    by='jp_sales',ascending=False).plot(kind='bar');\n",
    "plt.title('Популярные жанры в Японии');\n",
    "plt.xlabel('Жанры');"
   ]
  },
  {
   "cell_type": "markdown",
   "metadata": {},
   "source": [
    "**Топ 5 для Северной Америки:** Action, Shooter, Sports, Role-Playing, Misc\n",
    "\n",
    "**Топ 5 для Европы:** Action, Shooter, Sports, Role-Playing, Racing\n",
    "\n",
    "**Топ 5 для Японии:** Role-Playing, Action, Misc, Fighting, Shooter\n",
    "\n",
    "В Америке и Европе предпочитают игры жанров экшен и шутер, можно соотнести это с платформами, ведь для SONY и Xbox большенство игр этих жанров. В Японии больше внимания уделяют ролевым играм и экшену. \n",
    "\n",
    "Если в Америке и Европе предпочтения практически совпадают, то Япония более самобытна в этом плане."
   ]
  },
  {
   "cell_type": "markdown",
   "metadata": {},
   "source": [
    "#### Влиягие рейтинга ESRB на продажи"
   ]
  },
  {
   "cell_type": "code",
   "execution_count": 44,
   "metadata": {},
   "outputs": [
    {
     "data": {
      "image/png": "[encoded data removed]",
      "text/plain": [
       "<Figure size 432x288 with 1 Axes>"
      ]
     },
     "metadata": {},
     "output_type": "display_data"
    }
   ],
   "source": [
    "topical_period.pivot_table(\n",
    "    index='rating', values='na_sales', aggfunc='sum').sort_values(\n",
    "    by='na_sales',ascending=False).plot(kind='bar');\n",
    "plt.title('Распределение по рейтингу в Северной Америке');\n",
    "plt.xlabel('Рейтинг ESRB');"
   ]
  },
  {
   "cell_type": "code",
   "execution_count": 45,
   "metadata": {},
   "outputs": [
    {
     "data": {
      "image/png": "[encoded data removed]",
      "text/plain": [
       "<Figure size 432x288 with 1 Axes>"
      ]
     },
     "metadata": {},
     "output_type": "display_data"
    }
   ],
   "source": [
    "topical_period.pivot_table(\n",
    "    index='rating', values='eu_sales', aggfunc='sum').sort_values(\n",
    "    by='eu_sales',ascending=False).plot(kind='bar');\n",
    "plt.title('Распределение по рейтингу в Европе');\n",
    "plt.xlabel('Рейтинг ESRB');"
   ]
  },
  {
   "cell_type": "code",
   "execution_count": 46,
   "metadata": {},
   "outputs": [
    {
     "data": {
      "image/png": "[encoded data removed]",
      "text/plain": [
       "<Figure size 432x288 with 1 Axes>"
      ]
     },
     "metadata": {},
     "output_type": "display_data"
    }
   ],
   "source": [
    "topical_period.pivot_table(\n",
    "    index='rating', values='jp_sales', aggfunc='sum').sort_values(\n",
    "    by='jp_sales',ascending=False).plot(kind='bar');\n",
    "plt.title('Распределение по рейтингу в Японии');\n",
    "plt.xlabel('Рейтинг ESRB');"
   ]
  },
  {
   "cell_type": "markdown",
   "metadata": {},
   "source": [
    "ESRB - это организация, которая определяет рейтинги в США и Канаде. Исходя из этого рейтинг ESRB не влияет на продажи в Японии. В Америки и Европе опять же видим схожие графики, говорящие о том что больше продаются игры с рейтингом М - для врослых. "
   ]
  },
  {
   "cell_type": "markdown",
   "metadata": {},
   "source": [
    "В ходе составления портрета пользователя для каждого региона, мы убидились как же всё таки западная культура отличается от восточной даже в выборе игр и консолей."
   ]
  },
  {
   "cell_type": "markdown",
   "metadata": {},
   "source": [
    "### Проверка гипотез"
   ]
  },
  {
   "cell_type": "markdown",
   "metadata": {},
   "source": [
    "**H0:** Средние пользовательские рейтинги платформ Xbox One и PC одинаковые\n",
    "\n",
    "**H1:** Средние пользовательские рейтинги платформ Xbox One и PC разные"
   ]
  },
  {
   "cell_type": "code",
   "execution_count": 47,
   "metadata": {},
   "outputs": [
    {
     "name": "stdout",
     "output_type": "stream",
     "text": [
      "Средний пользовательский рейтинг платформы Xbox One: 6.594545454545456\n",
      "Средний пользовательский рейтинг платформы PC 6.298360655737705\n"
     ]
    }
   ],
   "source": [
    "XOne = topical_period[(topical_period['platform'] == 'XOne') &  (topical_period['user_score'] > 0)]['user_score']\n",
    "PC = topical_period[(topical_period['platform'] == 'PC') &  (topical_period['user_score'] > 0)]['user_score']\n",
    "print('Средний пользовательский рейтинг платформы Xbox One:', XOne.mean())\n",
    "print('Средний пользовательский рейтинг платформы PC', PC.mean())"
   ]
  },
  {
   "cell_type": "code",
   "execution_count": 48,
   "metadata": {},
   "outputs": [
    {
     "name": "stdout",
     "output_type": "stream",
     "text": [
      "p-значение: 0.11601398086668832\n",
      "Не получилось отвергнуть нулевую гипотезу\n"
     ]
    }
   ],
   "source": [
    "alpha = .05\n",
    "\n",
    "results = st.ttest_ind(XOne, PC, equal_var=False)\n",
    "\n",
    "print('p-значение:', results.pvalue)\n",
    "\n",
    "\n",
    "if (results.pvalue < alpha):\n",
    "    print(\"Отвергаем нулевую гипотезу\")\n",
    "else:\n",
    "    print(\"Не получилось отвергнуть нулевую гипотезу\")"
   ]
  },
  {
   "cell_type": "markdown",
   "metadata": {},
   "source": [
    "**H0:** Средние пользовательские рейтинги жанров Action и Sports одинаковые\n",
    "\n",
    "**H1:** Средние пользовательские рейтинги жанров Action и Sports разные"
   ]
  },
  {
   "cell_type": "code",
   "execution_count": 49,
   "metadata": {},
   "outputs": [
    {
     "name": "stdout",
     "output_type": "stream",
     "text": [
      "Средний пользовательский рейтинг жанра Action: 6.760606060606061\n",
      "Средний пользовательский рейтинг жанра Sports 5.2251968503937\n"
     ]
    }
   ],
   "source": [
    "Action = topical_period[(topical_period['genre'] == 'Action') &  (topical_period['user_score'] > 0)]['user_score']\n",
    "Sports  = topical_period[(topical_period['genre'] == 'Sports') &  (topical_period['user_score'] > 0)]['user_score']\n",
    "print('Средний пользовательский рейтинг жанра Action:', Action.mean())\n",
    "print('Средний пользовательский рейтинг жанра Sports', Sports.mean())"
   ]
  },
  {
   "cell_type": "code",
   "execution_count": 50,
   "metadata": {},
   "outputs": [
    {
     "name": "stdout",
     "output_type": "stream",
     "text": [
      "p-значение: 1.1825550382644557e-14\n",
      "Отвергаем нулевую гипотезу\n"
     ]
    }
   ],
   "source": [
    "alpha = .05\n",
    "\n",
    "results = st.ttest_ind(Action, Sports, equal_var=False)\n",
    "\n",
    "print('p-значение:', results.pvalue)\n",
    "\n",
    "\n",
    "if (results.pvalue < alpha):\n",
    "    print(\"Отвергаем нулевую гипотезу\")\n",
    "else:\n",
    "    print(\"Не получилось отвергнуть нулевую гипотезу\")"
   ]
  },
  {
   "cell_type": "markdown",
   "metadata": {},
   "source": [
    "Нулевая гипотеза формулируется так, чтобы все данные лежали в районе изначально предполагаемого значения, а альтернативная гипотеза говорит от том, что данные лежат за пределами предполагаемого значение."
   ]
  },
  {
   "cell_type": "markdown",
   "metadata": {},
   "source": [
    "Проверив гипотезы мы подтверждаем, что:\n",
    "- Средние пользовательские рейтинги платформ Xbox One и PC одинаковые;\n",
    "- Средние пользовательские рейтинги жанров Action (англ. «действие», экшен-игры) и Sports (англ. «спортивные соревнования») разные."
   ]
  },
  {
   "cell_type": "markdown",
   "metadata": {},
   "source": [
    "### Общий вывод"
   ]
  },
  {
   "cell_type": "markdown",
   "metadata": {},
   "source": [
    "Нам были предоставлены данные о продажах игр, оценки пользователей и экспертов, жанры и платформы. Нужно выявить определяющие успешность игры закономерности, для того чтобы сделать ставку на потенциально популярный продукт и спланировать рекламные кампании на 2017 год.\n",
    "\n",
    "Для начала была произведена предобработка данных:\n",
    "- привели названия столбцов к нижнему регистру;\n",
    "- преобразовали данные в нужный тип;\n",
    "- обработали пропуски;\n",
    "- добавили столбец с суммарными продажами во всех регионах.\n",
    "\n",
    "Затем, после всех совершенных действий, которые позволяют более точно и коректно оценивать данные, произвели анализ по которому можно сделать следущие выводы:\n",
    "- За актуальный период (2013-2016гг) лидируют по продажам 5 платформ (PS4, PS3, XOne, 3DS, X360). PS4 и XOne пришли на замену PS3 и X360 и поэтому игр для этих платформ будут производить больше, соотвественно и продаж на них тоже будет больше. Можно считать эти платформы более перспективными для вдожений.\n",
    "- Есть не большая зависимость между оценками критиков и продажами игр, но оценки критиков скорее влияют на выбор пользователей, которые в свою очередь покупают или не покупают игру.\n",
    "- Западная и восточная культуры очень отличаются между собой, к каждой нужен свой подход. На западе чаще выбирают платформы от SONY и Xbox и игры жанра Action и Shooter, на востоке предпочитают Nintendo и Role-Playing. Так же стоит учитывать что рейтинг ESRB создан для США и Канады."
   ]
  },
  {
   "cell_type": "code",
   "execution_count": null,
   "metadata": {},
   "outputs": [],
   "source": []
  }
 ],
 "metadata": {
  "ExecuteTimeLog": [
   {
    "duration": 904,
    "start_time": "2023-02-02T10:07:03.156Z"
   },
   {
    "duration": 206,
    "start_time": "2023-02-02T10:08:25.964Z"
   },
   {
    "duration": 12,
    "start_time": "2023-02-02T10:08:42.633Z"
   },
   {
    "duration": 55,
    "start_time": "2023-02-02T10:09:08.672Z"
   },
   {
    "duration": 8,
    "start_time": "2023-02-02T10:09:09.750Z"
   },
   {
    "duration": 45,
    "start_time": "2023-02-02T10:09:19.801Z"
   },
   {
    "duration": 6,
    "start_time": "2023-02-02T10:09:20.911Z"
   },
   {
    "duration": 58,
    "start_time": "2023-02-02T10:10:42.706Z"
   },
   {
    "duration": 15,
    "start_time": "2023-02-02T10:10:43.242Z"
   },
   {
    "duration": 15,
    "start_time": "2023-02-02T10:13:24.409Z"
   },
   {
    "duration": 864,
    "start_time": "2023-02-02T10:15:28.193Z"
   },
   {
    "duration": 560,
    "start_time": "2023-02-02T10:15:50.894Z"
   },
   {
    "duration": 921,
    "start_time": "2023-02-02T10:16:13.146Z"
   },
   {
    "duration": 681,
    "start_time": "2023-02-02T10:16:22.221Z"
   },
   {
    "duration": 75,
    "start_time": "2023-02-02T10:22:14.509Z"
   },
   {
    "duration": 5,
    "start_time": "2023-02-02T10:24:09.200Z"
   },
   {
    "duration": 15,
    "start_time": "2023-02-02T10:24:39.188Z"
   },
   {
    "duration": 14,
    "start_time": "2023-02-02T10:30:34.117Z"
   },
   {
    "duration": 5,
    "start_time": "2023-02-02T10:33:29.784Z"
   },
   {
    "duration": 10,
    "start_time": "2023-02-02T10:40:19.250Z"
   },
   {
    "duration": 10,
    "start_time": "2023-02-02T10:46:33.888Z"
   },
   {
    "duration": 8,
    "start_time": "2023-02-02T10:54:22.697Z"
   },
   {
    "duration": 5,
    "start_time": "2023-02-02T10:57:21.623Z"
   },
   {
    "duration": 7,
    "start_time": "2023-02-02T11:04:39.282Z"
   },
   {
    "duration": 13,
    "start_time": "2023-02-02T11:05:37.257Z"
   },
   {
    "duration": 6,
    "start_time": "2023-02-02T11:06:41.259Z"
   },
   {
    "duration": 9,
    "start_time": "2023-02-02T11:07:26.726Z"
   },
   {
    "duration": 661,
    "start_time": "2023-02-02T11:08:59.810Z"
   },
   {
    "duration": 72,
    "start_time": "2023-02-02T11:09:00.473Z"
   },
   {
    "duration": 0,
    "start_time": "2023-02-02T11:09:00.547Z"
   },
   {
    "duration": 0,
    "start_time": "2023-02-02T11:09:00.548Z"
   },
   {
    "duration": 0,
    "start_time": "2023-02-02T11:09:00.550Z"
   },
   {
    "duration": 0,
    "start_time": "2023-02-02T11:09:00.551Z"
   },
   {
    "duration": 0,
    "start_time": "2023-02-02T11:09:00.552Z"
   },
   {
    "duration": 0,
    "start_time": "2023-02-02T11:09:00.553Z"
   },
   {
    "duration": 0,
    "start_time": "2023-02-02T11:09:00.554Z"
   },
   {
    "duration": 0,
    "start_time": "2023-02-02T11:09:00.555Z"
   },
   {
    "duration": 0,
    "start_time": "2023-02-02T11:09:00.556Z"
   },
   {
    "duration": 3,
    "start_time": "2023-02-02T11:09:57.077Z"
   },
   {
    "duration": 57,
    "start_time": "2023-02-02T11:09:58.301Z"
   },
   {
    "duration": 18,
    "start_time": "2023-02-02T11:10:01.111Z"
   },
   {
    "duration": 660,
    "start_time": "2023-02-02T11:10:06.972Z"
   },
   {
    "duration": 56,
    "start_time": "2023-02-02T11:10:07.634Z"
   },
   {
    "duration": 25,
    "start_time": "2023-02-02T11:10:07.691Z"
   },
   {
    "duration": 19,
    "start_time": "2023-02-02T11:10:07.718Z"
   },
   {
    "duration": 756,
    "start_time": "2023-02-02T11:10:07.739Z"
   },
   {
    "duration": 3,
    "start_time": "2023-02-02T11:10:08.497Z"
   },
   {
    "duration": 25,
    "start_time": "2023-02-02T11:10:08.501Z"
   },
   {
    "duration": 22,
    "start_time": "2023-02-02T11:10:08.527Z"
   },
   {
    "duration": 12,
    "start_time": "2023-02-02T11:10:08.550Z"
   },
   {
    "duration": 87,
    "start_time": "2023-02-02T11:10:08.564Z"
   },
   {
    "duration": 0,
    "start_time": "2023-02-02T11:10:08.653Z"
   },
   {
    "duration": 6,
    "start_time": "2023-02-02T11:10:52.973Z"
   },
   {
    "duration": 8,
    "start_time": "2023-02-02T11:11:20.685Z"
   },
   {
    "duration": 14,
    "start_time": "2023-02-02T11:32:09.300Z"
   },
   {
    "duration": 11,
    "start_time": "2023-02-02T11:33:08.360Z"
   },
   {
    "duration": 11,
    "start_time": "2023-02-02T11:34:01.651Z"
   },
   {
    "duration": 7,
    "start_time": "2023-02-02T11:42:39.463Z"
   },
   {
    "duration": 4,
    "start_time": "2023-02-02T11:43:52.544Z"
   },
   {
    "duration": 4,
    "start_time": "2023-02-02T11:44:02.876Z"
   },
   {
    "duration": 1244,
    "start_time": "2023-02-02T11:51:36.549Z"
   },
   {
    "duration": 5,
    "start_time": "2023-02-02T11:54:01.046Z"
   },
   {
    "duration": 15,
    "start_time": "2023-02-02T11:54:28.619Z"
   },
   {
    "duration": 60,
    "start_time": "2023-02-04T09:48:42.391Z"
   },
   {
    "duration": 844,
    "start_time": "2023-02-04T09:48:55.788Z"
   },
   {
    "duration": 105,
    "start_time": "2023-02-04T09:48:56.634Z"
   },
   {
    "duration": 17,
    "start_time": "2023-02-04T09:48:56.742Z"
   },
   {
    "duration": 16,
    "start_time": "2023-02-04T09:48:56.761Z"
   },
   {
    "duration": 790,
    "start_time": "2023-02-04T09:48:56.780Z"
   },
   {
    "duration": 4,
    "start_time": "2023-02-04T09:48:57.573Z"
   },
   {
    "duration": 34,
    "start_time": "2023-02-04T09:48:57.579Z"
   },
   {
    "duration": 16,
    "start_time": "2023-02-04T09:48:57.615Z"
   },
   {
    "duration": 54,
    "start_time": "2023-02-04T09:48:57.633Z"
   },
   {
    "duration": 19,
    "start_time": "2023-02-04T09:48:57.688Z"
   },
   {
    "duration": 21,
    "start_time": "2023-02-04T09:48:57.709Z"
   },
   {
    "duration": 9,
    "start_time": "2023-02-04T09:48:57.732Z"
   },
   {
    "duration": 6,
    "start_time": "2023-02-04T09:48:57.743Z"
   },
   {
    "duration": 5,
    "start_time": "2023-02-04T09:48:57.751Z"
   },
   {
    "duration": 26,
    "start_time": "2023-02-04T09:48:57.758Z"
   },
   {
    "duration": 101,
    "start_time": "2023-02-04T09:51:55.279Z"
   },
   {
    "duration": 18,
    "start_time": "2023-02-04T09:52:09.329Z"
   },
   {
    "duration": 23,
    "start_time": "2023-02-04T09:52:41.124Z"
   },
   {
    "duration": 14,
    "start_time": "2023-02-04T10:00:04.684Z"
   },
   {
    "duration": 19,
    "start_time": "2023-02-04T10:01:14.697Z"
   },
   {
    "duration": 15,
    "start_time": "2023-02-04T10:01:24.280Z"
   },
   {
    "duration": 23,
    "start_time": "2023-02-04T10:02:01.655Z"
   },
   {
    "duration": 614,
    "start_time": "2023-02-04T10:02:20.764Z"
   },
   {
    "duration": 63,
    "start_time": "2023-02-04T10:02:21.380Z"
   },
   {
    "duration": 18,
    "start_time": "2023-02-04T10:02:21.445Z"
   },
   {
    "duration": 16,
    "start_time": "2023-02-04T10:02:21.465Z"
   },
   {
    "duration": 764,
    "start_time": "2023-02-04T10:02:21.484Z"
   },
   {
    "duration": 3,
    "start_time": "2023-02-04T10:02:22.250Z"
   },
   {
    "duration": 27,
    "start_time": "2023-02-04T10:02:22.254Z"
   },
   {
    "duration": 20,
    "start_time": "2023-02-04T10:02:22.282Z"
   },
   {
    "duration": 62,
    "start_time": "2023-02-04T10:02:22.305Z"
   },
   {
    "duration": 20,
    "start_time": "2023-02-04T10:02:22.369Z"
   },
   {
    "duration": 34,
    "start_time": "2023-02-04T10:02:22.392Z"
   },
   {
    "duration": 11,
    "start_time": "2023-02-04T10:02:22.427Z"
   },
   {
    "duration": 25,
    "start_time": "2023-02-04T10:02:22.439Z"
   },
   {
    "duration": 5,
    "start_time": "2023-02-04T10:02:22.467Z"
   },
   {
    "duration": 18,
    "start_time": "2023-02-04T10:02:22.473Z"
   },
   {
    "duration": 35,
    "start_time": "2023-02-04T10:02:22.493Z"
   },
   {
    "duration": 653,
    "start_time": "2023-02-04T10:13:23.430Z"
   },
   {
    "duration": 71,
    "start_time": "2023-02-04T10:13:24.085Z"
   },
   {
    "duration": 23,
    "start_time": "2023-02-04T10:13:24.157Z"
   },
   {
    "duration": 25,
    "start_time": "2023-02-04T10:13:24.182Z"
   },
   {
    "duration": 786,
    "start_time": "2023-02-04T10:13:24.211Z"
   },
   {
    "duration": 7,
    "start_time": "2023-02-04T10:13:25.000Z"
   },
   {
    "duration": 39,
    "start_time": "2023-02-04T10:13:25.013Z"
   },
   {
    "duration": 30,
    "start_time": "2023-02-04T10:13:25.054Z"
   },
   {
    "duration": 87,
    "start_time": "2023-02-04T10:13:25.086Z"
   },
   {
    "duration": 10,
    "start_time": "2023-02-04T10:13:25.174Z"
   },
   {
    "duration": 84,
    "start_time": "2023-02-04T10:13:25.186Z"
   },
   {
    "duration": 0,
    "start_time": "2023-02-04T10:13:25.273Z"
   },
   {
    "duration": 0,
    "start_time": "2023-02-04T10:13:25.275Z"
   },
   {
    "duration": 0,
    "start_time": "2023-02-04T10:13:25.276Z"
   },
   {
    "duration": 0,
    "start_time": "2023-02-04T10:13:25.278Z"
   },
   {
    "duration": 0,
    "start_time": "2023-02-04T10:13:25.279Z"
   },
   {
    "duration": 0,
    "start_time": "2023-02-04T10:13:25.300Z"
   },
   {
    "duration": 10,
    "start_time": "2023-02-04T10:13:41.257Z"
   },
   {
    "duration": 9,
    "start_time": "2023-02-04T10:14:11.223Z"
   },
   {
    "duration": 8,
    "start_time": "2023-02-04T10:14:13.422Z"
   },
   {
    "duration": 6,
    "start_time": "2023-02-04T10:14:14.332Z"
   },
   {
    "duration": 18,
    "start_time": "2023-02-04T10:14:17.473Z"
   },
   {
    "duration": 6,
    "start_time": "2023-02-04T10:14:19.332Z"
   },
   {
    "duration": 6,
    "start_time": "2023-02-04T10:14:21.956Z"
   },
   {
    "duration": 16,
    "start_time": "2023-02-04T10:14:24.166Z"
   },
   {
    "duration": 7,
    "start_time": "2023-02-04T10:18:26.734Z"
   },
   {
    "duration": 689,
    "start_time": "2023-02-04T10:18:41.073Z"
   },
   {
    "duration": 56,
    "start_time": "2023-02-04T10:18:41.765Z"
   },
   {
    "duration": 21,
    "start_time": "2023-02-04T10:18:41.823Z"
   },
   {
    "duration": 17,
    "start_time": "2023-02-04T10:18:41.846Z"
   },
   {
    "duration": 870,
    "start_time": "2023-02-04T10:18:41.866Z"
   },
   {
    "duration": 6,
    "start_time": "2023-02-04T10:18:42.738Z"
   },
   {
    "duration": 28,
    "start_time": "2023-02-04T10:18:42.746Z"
   },
   {
    "duration": 26,
    "start_time": "2023-02-04T10:18:42.777Z"
   },
   {
    "duration": 63,
    "start_time": "2023-02-04T10:18:42.804Z"
   },
   {
    "duration": 10,
    "start_time": "2023-02-04T10:18:42.868Z"
   },
   {
    "duration": 24,
    "start_time": "2023-02-04T10:18:42.879Z"
   },
   {
    "duration": 11,
    "start_time": "2023-02-04T10:18:42.905Z"
   },
   {
    "duration": 6,
    "start_time": "2023-02-04T10:18:42.919Z"
   },
   {
    "duration": 17,
    "start_time": "2023-02-04T10:18:42.928Z"
   },
   {
    "duration": 7,
    "start_time": "2023-02-04T10:18:42.947Z"
   },
   {
    "duration": 15,
    "start_time": "2023-02-04T10:18:42.956Z"
   },
   {
    "duration": 43,
    "start_time": "2023-02-04T10:18:42.973Z"
   },
   {
    "duration": 537,
    "start_time": "2023-02-04T11:50:17.262Z"
   },
   {
    "duration": 1093,
    "start_time": "2023-02-04T11:50:36.838Z"
   },
   {
    "duration": 46,
    "start_time": "2023-02-04T11:50:37.933Z"
   },
   {
    "duration": 17,
    "start_time": "2023-02-04T11:50:37.981Z"
   },
   {
    "duration": 16,
    "start_time": "2023-02-04T11:50:37.999Z"
   },
   {
    "duration": 3,
    "start_time": "2023-02-04T11:50:38.017Z"
   },
   {
    "duration": 22,
    "start_time": "2023-02-04T11:50:38.022Z"
   },
   {
    "duration": 18,
    "start_time": "2023-02-04T11:50:38.046Z"
   },
   {
    "duration": 64,
    "start_time": "2023-02-04T11:50:38.066Z"
   },
   {
    "duration": 10,
    "start_time": "2023-02-04T11:50:38.131Z"
   },
   {
    "duration": 9,
    "start_time": "2023-02-04T11:50:38.143Z"
   },
   {
    "duration": 11,
    "start_time": "2023-02-04T11:50:38.153Z"
   },
   {
    "duration": 34,
    "start_time": "2023-02-04T11:50:38.167Z"
   },
   {
    "duration": 23,
    "start_time": "2023-02-04T11:50:38.203Z"
   },
   {
    "duration": 6,
    "start_time": "2023-02-04T11:50:38.228Z"
   },
   {
    "duration": 8,
    "start_time": "2023-02-04T11:50:38.236Z"
   },
   {
    "duration": 19,
    "start_time": "2023-02-04T11:50:38.246Z"
   },
   {
    "duration": 6,
    "start_time": "2023-02-04T11:56:00.673Z"
   },
   {
    "duration": 280,
    "start_time": "2023-02-04T11:58:06.563Z"
   },
   {
    "duration": 398,
    "start_time": "2023-02-04T11:58:50.618Z"
   },
   {
    "duration": 9,
    "start_time": "2023-02-04T12:00:06.215Z"
   },
   {
    "duration": 9,
    "start_time": "2023-02-04T12:00:40.163Z"
   },
   {
    "duration": 5,
    "start_time": "2023-02-04T12:04:13.744Z"
   },
   {
    "duration": 182,
    "start_time": "2023-02-04T12:04:29.262Z"
   },
   {
    "duration": 180,
    "start_time": "2023-02-04T12:04:44.345Z"
   },
   {
    "duration": 202,
    "start_time": "2023-02-04T12:07:06.285Z"
   },
   {
    "duration": 10,
    "start_time": "2023-02-04T12:09:52.835Z"
   },
   {
    "duration": 6,
    "start_time": "2023-02-04T12:10:15.087Z"
   },
   {
    "duration": 15,
    "start_time": "2023-02-04T12:30:41.159Z"
   },
   {
    "duration": 15,
    "start_time": "2023-02-04T12:41:27.936Z"
   },
   {
    "duration": 16,
    "start_time": "2023-02-04T12:42:53.111Z"
   },
   {
    "duration": 9,
    "start_time": "2023-02-04T12:55:46.499Z"
   },
   {
    "duration": 334,
    "start_time": "2023-02-04T13:00:17.454Z"
   },
   {
    "duration": 381,
    "start_time": "2023-02-04T13:08:09.146Z"
   },
   {
    "duration": 40,
    "start_time": "2023-02-04T13:09:37.566Z"
   },
   {
    "duration": 44,
    "start_time": "2023-02-04T13:09:51.916Z"
   },
   {
    "duration": 46,
    "start_time": "2023-02-04T13:10:28.116Z"
   },
   {
    "duration": 51,
    "start_time": "2023-02-04T13:10:57.566Z"
   },
   {
    "duration": 280,
    "start_time": "2023-02-04T13:15:47.531Z"
   },
   {
    "duration": 307,
    "start_time": "2023-02-04T13:16:31.368Z"
   },
   {
    "duration": 306,
    "start_time": "2023-02-04T13:16:49.218Z"
   },
   {
    "duration": 3,
    "start_time": "2023-02-04T13:22:04.558Z"
   },
   {
    "duration": 8,
    "start_time": "2023-02-04T13:22:20.948Z"
   },
   {
    "duration": 9,
    "start_time": "2023-02-04T13:34:47.152Z"
   },
   {
    "duration": 487,
    "start_time": "2023-02-04T13:52:02.315Z"
   },
   {
    "duration": 361,
    "start_time": "2023-02-04T13:53:19.176Z"
   },
   {
    "duration": 63,
    "start_time": "2023-02-04T13:54:40.815Z"
   },
   {
    "duration": 304,
    "start_time": "2023-02-04T13:55:01.625Z"
   },
   {
    "duration": 1393,
    "start_time": "2023-02-04T16:33:09.775Z"
   },
   {
    "duration": 48,
    "start_time": "2023-02-04T16:34:51.661Z"
   },
   {
    "duration": 1231,
    "start_time": "2023-02-04T16:35:28.667Z"
   },
   {
    "duration": 505,
    "start_time": "2023-02-04T16:40:16.183Z"
   },
   {
    "duration": 8,
    "start_time": "2023-02-04T16:46:51.373Z"
   },
   {
    "duration": 293,
    "start_time": "2023-02-04T16:47:00.681Z"
   },
   {
    "duration": 82,
    "start_time": "2023-02-04T16:53:47.883Z"
   },
   {
    "duration": 107,
    "start_time": "2023-02-04T16:57:37.580Z"
   },
   {
    "duration": 96,
    "start_time": "2023-02-04T16:57:47.352Z"
   },
   {
    "duration": 1546,
    "start_time": "2023-02-04T16:59:28.834Z"
   },
   {
    "duration": 1718,
    "start_time": "2023-02-04T17:03:59.379Z"
   },
   {
    "duration": 106,
    "start_time": "2023-02-04T17:06:35.135Z"
   },
   {
    "duration": 149,
    "start_time": "2023-02-04T17:06:55.892Z"
   },
   {
    "duration": 1748,
    "start_time": "2023-02-04T17:07:22.872Z"
   },
   {
    "duration": 1720,
    "start_time": "2023-02-04T17:10:01.622Z"
   },
   {
    "duration": 1665,
    "start_time": "2023-02-04T17:10:38.253Z"
   },
   {
    "duration": 1873,
    "start_time": "2023-02-04T17:10:54.104Z"
   },
   {
    "duration": 1811,
    "start_time": "2023-02-04T17:12:15.177Z"
   },
   {
    "duration": 94,
    "start_time": "2023-02-04T17:34:17.762Z"
   },
   {
    "duration": 48,
    "start_time": "2023-02-04T17:34:38.062Z"
   },
   {
    "duration": 35,
    "start_time": "2023-02-04T17:35:20.434Z"
   },
   {
    "duration": 45,
    "start_time": "2023-02-04T17:35:55.881Z"
   },
   {
    "duration": 11,
    "start_time": "2023-02-04T17:37:05.858Z"
   },
   {
    "duration": 24,
    "start_time": "2023-02-04T17:37:54.429Z"
   },
   {
    "duration": 4601,
    "start_time": "2023-02-04T17:38:15.961Z"
   },
   {
    "duration": 31,
    "start_time": "2023-02-04T17:39:00.761Z"
   },
   {
    "duration": 30,
    "start_time": "2023-02-04T17:44:55.366Z"
   },
   {
    "duration": 200,
    "start_time": "2023-02-04T17:47:50.157Z"
   },
   {
    "duration": 182,
    "start_time": "2023-02-04T17:48:09.042Z"
   },
   {
    "duration": 10,
    "start_time": "2023-02-04T18:12:10.770Z"
   },
   {
    "duration": 9,
    "start_time": "2023-02-04T18:12:38.058Z"
   },
   {
    "duration": 81,
    "start_time": "2023-02-04T18:13:45.494Z"
   },
   {
    "duration": 47,
    "start_time": "2023-02-04T18:13:57.694Z"
   },
   {
    "duration": 20,
    "start_time": "2023-02-04T18:14:08.584Z"
   },
   {
    "duration": 496,
    "start_time": "2023-02-04T18:20:14.689Z"
   },
   {
    "duration": 516,
    "start_time": "2023-02-04T18:20:30.966Z"
   },
   {
    "duration": 497,
    "start_time": "2023-02-04T18:21:41.595Z"
   },
   {
    "duration": 485,
    "start_time": "2023-02-04T18:21:54.159Z"
   },
   {
    "duration": 392,
    "start_time": "2023-02-04T18:22:50.246Z"
   },
   {
    "duration": 622,
    "start_time": "2023-02-04T18:23:15.948Z"
   },
   {
    "duration": 475,
    "start_time": "2023-02-04T18:24:14.176Z"
   },
   {
    "duration": 493,
    "start_time": "2023-02-04T18:25:11.275Z"
   },
   {
    "duration": 1403,
    "start_time": "2023-02-04T18:27:13.485Z"
   },
   {
    "duration": 157,
    "start_time": "2023-02-04T18:27:14.890Z"
   },
   {
    "duration": 19,
    "start_time": "2023-02-04T18:27:15.052Z"
   },
   {
    "duration": 19,
    "start_time": "2023-02-04T18:27:15.074Z"
   },
   {
    "duration": 19,
    "start_time": "2023-02-04T18:27:15.096Z"
   },
   {
    "duration": 47,
    "start_time": "2023-02-04T18:27:15.127Z"
   },
   {
    "duration": 15,
    "start_time": "2023-02-04T18:27:15.177Z"
   },
   {
    "duration": 69,
    "start_time": "2023-02-04T18:27:15.194Z"
   },
   {
    "duration": 10,
    "start_time": "2023-02-04T18:27:15.264Z"
   },
   {
    "duration": 11,
    "start_time": "2023-02-04T18:27:15.277Z"
   },
   {
    "duration": 28,
    "start_time": "2023-02-04T18:27:15.289Z"
   },
   {
    "duration": 39,
    "start_time": "2023-02-04T18:27:15.319Z"
   },
   {
    "duration": 20,
    "start_time": "2023-02-04T18:27:15.360Z"
   },
   {
    "duration": 10,
    "start_time": "2023-02-04T18:27:15.383Z"
   },
   {
    "duration": 19,
    "start_time": "2023-02-04T18:27:15.395Z"
   },
   {
    "duration": 61,
    "start_time": "2023-02-04T18:27:15.422Z"
   },
   {
    "duration": 8,
    "start_time": "2023-02-04T18:27:15.485Z"
   },
   {
    "duration": 318,
    "start_time": "2023-02-04T18:27:15.495Z"
   },
   {
    "duration": 424,
    "start_time": "2023-02-04T18:27:15.815Z"
   },
   {
    "duration": 14,
    "start_time": "2023-02-04T18:27:16.247Z"
   },
   {
    "duration": 405,
    "start_time": "2023-02-04T18:27:16.265Z"
   },
   {
    "duration": 1979,
    "start_time": "2023-02-04T18:27:16.674Z"
   },
   {
    "duration": 221,
    "start_time": "2023-02-04T18:27:18.656Z"
   },
   {
    "duration": 475,
    "start_time": "2023-02-04T18:27:18.879Z"
   },
   {
    "duration": 421,
    "start_time": "2023-02-04T18:33:05.176Z"
   },
   {
    "duration": 565,
    "start_time": "2023-02-04T18:33:25.658Z"
   },
   {
    "duration": 17,
    "start_time": "2023-02-04T18:36:33.467Z"
   },
   {
    "duration": 19,
    "start_time": "2023-02-04T18:43:19.985Z"
   },
   {
    "duration": 140,
    "start_time": "2023-02-04T19:10:11.971Z"
   },
   {
    "duration": 183,
    "start_time": "2023-02-04T19:15:20.038Z"
   },
   {
    "duration": 280,
    "start_time": "2023-02-04T19:17:43.096Z"
   },
   {
    "duration": 172,
    "start_time": "2023-02-04T19:18:00.467Z"
   },
   {
    "duration": 184,
    "start_time": "2023-02-04T19:21:52.135Z"
   },
   {
    "duration": 303,
    "start_time": "2023-02-04T19:22:00.882Z"
   },
   {
    "duration": 185,
    "start_time": "2023-02-04T19:22:10.328Z"
   },
   {
    "duration": 175,
    "start_time": "2023-02-04T19:22:29.046Z"
   },
   {
    "duration": 290,
    "start_time": "2023-02-04T19:24:32.040Z"
   },
   {
    "duration": 159,
    "start_time": "2023-02-04T19:24:53.535Z"
   },
   {
    "duration": 178,
    "start_time": "2023-02-04T19:27:03.100Z"
   },
   {
    "duration": 148,
    "start_time": "2023-02-04T19:27:32.259Z"
   },
   {
    "duration": 196,
    "start_time": "2023-02-04T19:28:42.660Z"
   },
   {
    "duration": 55,
    "start_time": "2023-02-04T19:30:44.335Z"
   },
   {
    "duration": 166,
    "start_time": "2023-02-04T19:31:09.770Z"
   },
   {
    "duration": 142,
    "start_time": "2023-02-04T19:31:21.242Z"
   },
   {
    "duration": 182,
    "start_time": "2023-02-04T19:32:16.240Z"
   },
   {
    "duration": 8,
    "start_time": "2023-02-04T19:37:09.148Z"
   },
   {
    "duration": 1626,
    "start_time": "2023-02-04T19:40:18.593Z"
   },
   {
    "duration": 1086,
    "start_time": "2023-02-04T19:40:32.783Z"
   },
   {
    "duration": 1374,
    "start_time": "2023-02-04T19:41:30.663Z"
   },
   {
    "duration": 18,
    "start_time": "2023-02-04T19:41:47.756Z"
   },
   {
    "duration": 625,
    "start_time": "2023-02-04T19:42:17.969Z"
   },
   {
    "duration": 610,
    "start_time": "2023-02-04T19:43:22.584Z"
   },
   {
    "duration": 15,
    "start_time": "2023-02-04T19:43:32.556Z"
   },
   {
    "duration": 13,
    "start_time": "2023-02-04T19:44:04.274Z"
   },
   {
    "duration": 46,
    "start_time": "2023-02-04T19:44:26.039Z"
   },
   {
    "duration": 20,
    "start_time": "2023-02-04T19:52:18.466Z"
   },
   {
    "duration": 1273,
    "start_time": "2023-02-04T19:54:21.160Z"
   },
   {
    "duration": 63,
    "start_time": "2023-02-04T19:54:22.437Z"
   },
   {
    "duration": 29,
    "start_time": "2023-02-04T19:54:22.502Z"
   },
   {
    "duration": 48,
    "start_time": "2023-02-04T19:54:22.536Z"
   },
   {
    "duration": 3,
    "start_time": "2023-02-04T19:54:22.586Z"
   },
   {
    "duration": 38,
    "start_time": "2023-02-04T19:54:22.591Z"
   },
   {
    "duration": 42,
    "start_time": "2023-02-04T19:54:22.636Z"
   },
   {
    "duration": 66,
    "start_time": "2023-02-04T19:54:22.680Z"
   },
   {
    "duration": 15,
    "start_time": "2023-02-04T19:54:22.749Z"
   },
   {
    "duration": 13,
    "start_time": "2023-02-04T19:54:22.766Z"
   },
   {
    "duration": 12,
    "start_time": "2023-02-04T19:54:22.781Z"
   },
   {
    "duration": 79,
    "start_time": "2023-02-04T19:54:22.795Z"
   },
   {
    "duration": 82,
    "start_time": "2023-02-04T19:54:22.876Z"
   },
   {
    "duration": 24,
    "start_time": "2023-02-04T19:54:22.961Z"
   },
   {
    "duration": 7,
    "start_time": "2023-02-04T19:54:22.987Z"
   },
   {
    "duration": 78,
    "start_time": "2023-02-04T19:54:22.996Z"
   },
   {
    "duration": 9,
    "start_time": "2023-02-04T19:54:23.076Z"
   },
   {
    "duration": 270,
    "start_time": "2023-02-04T19:54:23.087Z"
   },
   {
    "duration": 350,
    "start_time": "2023-02-04T19:54:23.359Z"
   },
   {
    "duration": 11,
    "start_time": "2023-02-04T19:54:23.710Z"
   },
   {
    "duration": 405,
    "start_time": "2023-02-04T19:54:23.723Z"
   },
   {
    "duration": 1749,
    "start_time": "2023-02-04T19:54:24.129Z"
   },
   {
    "duration": 197,
    "start_time": "2023-02-04T19:54:25.880Z"
   },
   {
    "duration": 591,
    "start_time": "2023-02-04T19:54:26.079Z"
   },
   {
    "duration": 16,
    "start_time": "2023-02-04T19:54:26.672Z"
   },
   {
    "duration": 34,
    "start_time": "2023-02-04T19:54:26.690Z"
   },
   {
    "duration": 140,
    "start_time": "2023-02-04T19:54:26.726Z"
   },
   {
    "duration": 122,
    "start_time": "2023-02-04T19:54:26.868Z"
   },
   {
    "duration": 166,
    "start_time": "2023-02-04T19:54:26.992Z"
   },
   {
    "duration": 189,
    "start_time": "2023-02-04T19:54:27.162Z"
   },
   {
    "duration": 184,
    "start_time": "2023-02-04T19:54:27.365Z"
   },
   {
    "duration": 34,
    "start_time": "2023-02-04T19:54:27.550Z"
   },
   {
    "duration": 118,
    "start_time": "2023-02-04T19:56:38.948Z"
   },
   {
    "duration": 146,
    "start_time": "2023-02-04T19:57:07.289Z"
   },
   {
    "duration": 156,
    "start_time": "2023-02-04T19:57:16.479Z"
   },
   {
    "duration": 147,
    "start_time": "2023-02-04T19:57:42.644Z"
   },
   {
    "duration": 268,
    "start_time": "2023-02-04T19:57:50.569Z"
   },
   {
    "duration": 178,
    "start_time": "2023-02-04T19:58:19.869Z"
   },
   {
    "duration": 153,
    "start_time": "2023-02-04T19:58:34.150Z"
   },
   {
    "duration": 125,
    "start_time": "2023-02-04T19:58:55.080Z"
   },
   {
    "duration": 1384,
    "start_time": "2023-02-04T20:02:30.586Z"
   },
   {
    "duration": 72,
    "start_time": "2023-02-04T20:02:31.973Z"
   },
   {
    "duration": 20,
    "start_time": "2023-02-04T20:02:32.050Z"
   },
   {
    "duration": 14,
    "start_time": "2023-02-04T20:02:32.072Z"
   },
   {
    "duration": 4,
    "start_time": "2023-02-04T20:02:32.088Z"
   },
   {
    "duration": 48,
    "start_time": "2023-02-04T20:02:32.101Z"
   },
   {
    "duration": 12,
    "start_time": "2023-02-04T20:02:32.151Z"
   },
   {
    "duration": 73,
    "start_time": "2023-02-04T20:02:32.164Z"
   },
   {
    "duration": 15,
    "start_time": "2023-02-04T20:02:32.238Z"
   },
   {
    "duration": 22,
    "start_time": "2023-02-04T20:02:32.255Z"
   },
   {
    "duration": 16,
    "start_time": "2023-02-04T20:02:32.279Z"
   },
   {
    "duration": 47,
    "start_time": "2023-02-04T20:02:32.297Z"
   },
   {
    "duration": 32,
    "start_time": "2023-02-04T20:02:32.349Z"
   },
   {
    "duration": 8,
    "start_time": "2023-02-04T20:02:32.385Z"
   },
   {
    "duration": 57,
    "start_time": "2023-02-04T20:02:32.394Z"
   },
   {
    "duration": 24,
    "start_time": "2023-02-04T20:02:32.454Z"
   },
   {
    "duration": 9,
    "start_time": "2023-02-04T20:02:32.480Z"
   },
   {
    "duration": 253,
    "start_time": "2023-02-04T20:02:32.491Z"
   },
   {
    "duration": 349,
    "start_time": "2023-02-04T20:02:32.746Z"
   },
   {
    "duration": 10,
    "start_time": "2023-02-04T20:02:33.098Z"
   },
   {
    "duration": 339,
    "start_time": "2023-02-04T20:02:33.118Z"
   },
   {
    "duration": 1600,
    "start_time": "2023-02-04T20:02:33.459Z"
   },
   {
    "duration": 191,
    "start_time": "2023-02-04T20:02:35.061Z"
   },
   {
    "duration": 578,
    "start_time": "2023-02-04T20:02:35.254Z"
   },
   {
    "duration": 21,
    "start_time": "2023-02-04T20:02:35.839Z"
   },
   {
    "duration": 19,
    "start_time": "2023-02-04T20:02:35.862Z"
   },
   {
    "duration": 151,
    "start_time": "2023-02-04T20:02:35.883Z"
   },
   {
    "duration": 160,
    "start_time": "2023-02-04T20:02:36.036Z"
   },
   {
    "duration": 168,
    "start_time": "2023-02-04T20:02:36.198Z"
   },
   {
    "duration": 153,
    "start_time": "2023-02-04T20:02:36.368Z"
   },
   {
    "duration": 124,
    "start_time": "2023-02-04T20:02:36.523Z"
   },
   {
    "duration": 27,
    "start_time": "2023-02-04T20:02:36.649Z"
   },
   {
    "duration": 65,
    "start_time": "2023-02-05T08:47:04.282Z"
   },
   {
    "duration": 9,
    "start_time": "2023-02-05T08:47:16.729Z"
   },
   {
    "duration": 1328,
    "start_time": "2023-02-05T08:47:22.090Z"
   },
   {
    "duration": 97,
    "start_time": "2023-02-05T08:47:23.420Z"
   },
   {
    "duration": 24,
    "start_time": "2023-02-05T08:47:23.520Z"
   },
   {
    "duration": 17,
    "start_time": "2023-02-05T08:47:23.547Z"
   },
   {
    "duration": 3,
    "start_time": "2023-02-05T08:47:23.566Z"
   },
   {
    "duration": 39,
    "start_time": "2023-02-05T08:47:23.571Z"
   },
   {
    "duration": 16,
    "start_time": "2023-02-05T08:47:23.612Z"
   },
   {
    "duration": 86,
    "start_time": "2023-02-05T08:47:23.630Z"
   },
   {
    "duration": 8,
    "start_time": "2023-02-05T08:47:23.718Z"
   },
   {
    "duration": 16,
    "start_time": "2023-02-05T08:47:23.729Z"
   },
   {
    "duration": 18,
    "start_time": "2023-02-05T08:47:23.747Z"
   },
   {
    "duration": 15,
    "start_time": "2023-02-05T08:47:23.767Z"
   },
   {
    "duration": 37,
    "start_time": "2023-02-05T08:47:23.784Z"
   },
   {
    "duration": 8,
    "start_time": "2023-02-05T08:47:23.823Z"
   },
   {
    "duration": 33,
    "start_time": "2023-02-05T08:47:23.833Z"
   },
   {
    "duration": 20,
    "start_time": "2023-02-05T08:47:23.868Z"
   },
   {
    "duration": 8,
    "start_time": "2023-02-05T08:47:23.889Z"
   },
   {
    "duration": 197,
    "start_time": "2023-02-05T08:47:23.900Z"
   },
   {
    "duration": 295,
    "start_time": "2023-02-05T08:47:24.099Z"
   },
   {
    "duration": 20,
    "start_time": "2023-02-05T08:47:24.395Z"
   },
   {
    "duration": 279,
    "start_time": "2023-02-05T08:47:24.417Z"
   },
   {
    "duration": 1286,
    "start_time": "2023-02-05T08:47:24.698Z"
   },
   {
    "duration": 156,
    "start_time": "2023-02-05T08:47:25.986Z"
   },
   {
    "duration": 553,
    "start_time": "2023-02-05T08:47:26.144Z"
   },
   {
    "duration": 16,
    "start_time": "2023-02-05T08:47:26.698Z"
   },
   {
    "duration": 15,
    "start_time": "2023-02-05T08:47:26.716Z"
   },
   {
    "duration": 143,
    "start_time": "2023-02-05T08:47:26.733Z"
   },
   {
    "duration": 171,
    "start_time": "2023-02-05T08:47:26.879Z"
   },
   {
    "duration": 140,
    "start_time": "2023-02-05T08:47:27.052Z"
   },
   {
    "duration": 132,
    "start_time": "2023-02-05T08:47:27.194Z"
   },
   {
    "duration": 127,
    "start_time": "2023-02-05T08:47:27.329Z"
   },
   {
    "duration": 26,
    "start_time": "2023-02-05T08:47:27.458Z"
   },
   {
    "duration": 23,
    "start_time": "2023-02-05T09:06:57.429Z"
   },
   {
    "duration": 17,
    "start_time": "2023-02-05T09:07:10.526Z"
   },
   {
    "duration": 274,
    "start_time": "2023-02-05T09:09:16.830Z"
   },
   {
    "duration": 121,
    "start_time": "2023-02-05T09:10:01.143Z"
   },
   {
    "duration": 183,
    "start_time": "2023-02-05T09:11:53.392Z"
   },
   {
    "duration": 170,
    "start_time": "2023-02-05T09:12:17.623Z"
   },
   {
    "duration": 166,
    "start_time": "2023-02-05T09:20:24.875Z"
   },
   {
    "duration": 229,
    "start_time": "2023-02-05T09:23:22.958Z"
   },
   {
    "duration": 246,
    "start_time": "2023-02-05T09:24:11.829Z"
   },
   {
    "duration": 333,
    "start_time": "2023-02-05T09:24:41.329Z"
   },
   {
    "duration": 254,
    "start_time": "2023-02-05T09:26:08.036Z"
   },
   {
    "duration": 283,
    "start_time": "2023-02-05T09:26:25.640Z"
   },
   {
    "duration": 265,
    "start_time": "2023-02-05T09:28:58.972Z"
   },
   {
    "duration": 249,
    "start_time": "2023-02-05T09:29:11.941Z"
   },
   {
    "duration": 411,
    "start_time": "2023-02-05T09:32:14.169Z"
   },
   {
    "duration": 339,
    "start_time": "2023-02-05T09:32:31.673Z"
   },
   {
    "duration": 358,
    "start_time": "2023-02-05T09:32:46.074Z"
   },
   {
    "duration": 1151,
    "start_time": "2023-02-05T09:34:17.295Z"
   },
   {
    "duration": 48,
    "start_time": "2023-02-05T09:34:18.448Z"
   },
   {
    "duration": 30,
    "start_time": "2023-02-05T09:34:18.498Z"
   },
   {
    "duration": 15,
    "start_time": "2023-02-05T09:34:18.530Z"
   },
   {
    "duration": 3,
    "start_time": "2023-02-05T09:34:18.546Z"
   },
   {
    "duration": 15,
    "start_time": "2023-02-05T09:34:18.551Z"
   },
   {
    "duration": 13,
    "start_time": "2023-02-05T09:34:18.567Z"
   },
   {
    "duration": 67,
    "start_time": "2023-02-05T09:34:18.582Z"
   },
   {
    "duration": 9,
    "start_time": "2023-02-05T09:34:18.650Z"
   },
   {
    "duration": 8,
    "start_time": "2023-02-05T09:34:18.662Z"
   },
   {
    "duration": 9,
    "start_time": "2023-02-05T09:34:18.671Z"
   },
   {
    "duration": 33,
    "start_time": "2023-02-05T09:34:18.682Z"
   },
   {
    "duration": 35,
    "start_time": "2023-02-05T09:34:18.716Z"
   },
   {
    "duration": 7,
    "start_time": "2023-02-05T09:34:18.752Z"
   },
   {
    "duration": 4,
    "start_time": "2023-02-05T09:34:18.761Z"
   },
   {
    "duration": 17,
    "start_time": "2023-02-05T09:34:18.767Z"
   },
   {
    "duration": 5,
    "start_time": "2023-02-05T09:34:18.786Z"
   },
   {
    "duration": 230,
    "start_time": "2023-02-05T09:34:18.793Z"
   },
   {
    "duration": 309,
    "start_time": "2023-02-05T09:34:19.025Z"
   },
   {
    "duration": 9,
    "start_time": "2023-02-05T09:34:19.335Z"
   },
   {
    "duration": 262,
    "start_time": "2023-02-05T09:34:19.346Z"
   },
   {
    "duration": 1353,
    "start_time": "2023-02-05T09:34:19.610Z"
   },
   {
    "duration": 164,
    "start_time": "2023-02-05T09:34:20.965Z"
   },
   {
    "duration": 469,
    "start_time": "2023-02-05T09:34:21.132Z"
   },
   {
    "duration": 27,
    "start_time": "2023-02-05T09:34:21.602Z"
   },
   {
    "duration": 14,
    "start_time": "2023-02-05T09:34:21.630Z"
   },
   {
    "duration": 124,
    "start_time": "2023-02-05T09:34:21.645Z"
   },
   {
    "duration": 123,
    "start_time": "2023-02-05T09:34:21.773Z"
   },
   {
    "duration": 132,
    "start_time": "2023-02-05T09:34:21.897Z"
   },
   {
    "duration": 121,
    "start_time": "2023-02-05T09:34:22.031Z"
   },
   {
    "duration": 123,
    "start_time": "2023-02-05T09:34:22.153Z"
   },
   {
    "duration": 23,
    "start_time": "2023-02-05T09:34:22.278Z"
   },
   {
    "duration": 17,
    "start_time": "2023-02-05T09:34:22.316Z"
   },
   {
    "duration": 363,
    "start_time": "2023-02-05T09:34:22.334Z"
   },
   {
    "duration": 182,
    "start_time": "2023-02-05T09:37:22.226Z"
   },
   {
    "duration": 319,
    "start_time": "2023-02-05T09:38:17.027Z"
   },
   {
    "duration": 422,
    "start_time": "2023-02-05T09:42:58.077Z"
   },
   {
    "duration": 337,
    "start_time": "2023-02-05T09:43:30.737Z"
   },
   {
    "duration": 296,
    "start_time": "2023-02-05T09:43:42.599Z"
   },
   {
    "duration": 320,
    "start_time": "2023-02-05T09:43:53.938Z"
   },
   {
    "duration": 406,
    "start_time": "2023-02-05T09:44:06.721Z"
   },
   {
    "duration": 455,
    "start_time": "2023-02-05T09:48:12.749Z"
   },
   {
    "duration": 22,
    "start_time": "2023-02-05T10:12:10.165Z"
   },
   {
    "duration": 16,
    "start_time": "2023-02-05T10:12:27.966Z"
   },
   {
    "duration": 3728,
    "start_time": "2023-02-05T10:17:33.963Z"
   },
   {
    "duration": 3858,
    "start_time": "2023-02-05T10:20:26.168Z"
   },
   {
    "duration": 114,
    "start_time": "2023-02-05T10:21:34.638Z"
   },
   {
    "duration": 30,
    "start_time": "2023-02-05T10:37:38.041Z"
   },
   {
    "duration": 9,
    "start_time": "2023-02-05T10:38:13.724Z"
   },
   {
    "duration": 17,
    "start_time": "2023-02-05T10:38:25.992Z"
   },
   {
    "duration": 3883,
    "start_time": "2023-02-05T10:45:43.897Z"
   },
   {
    "duration": 683,
    "start_time": "2023-02-05T10:46:02.191Z"
   },
   {
    "duration": 348,
    "start_time": "2023-02-05T10:49:19.811Z"
   },
   {
    "duration": 353,
    "start_time": "2023-02-05T10:50:59.280Z"
   },
   {
    "duration": 331,
    "start_time": "2023-02-05T10:53:19.691Z"
   },
   {
    "duration": 347,
    "start_time": "2023-02-05T10:54:22.140Z"
   },
   {
    "duration": 355,
    "start_time": "2023-02-05T10:54:37.100Z"
   },
   {
    "duration": 15,
    "start_time": "2023-02-05T11:10:01.532Z"
   },
   {
    "duration": 13,
    "start_time": "2023-02-05T11:10:10.792Z"
   },
   {
    "duration": 12,
    "start_time": "2023-02-05T11:10:45.733Z"
   },
   {
    "duration": 41,
    "start_time": "2023-02-05T11:11:27.963Z"
   },
   {
    "duration": 52,
    "start_time": "2023-02-05T11:11:35.793Z"
   },
   {
    "duration": 15,
    "start_time": "2023-02-05T11:11:48.432Z"
   },
   {
    "duration": 17,
    "start_time": "2023-02-05T11:12:05.173Z"
   },
   {
    "duration": 45,
    "start_time": "2023-02-05T11:24:14.823Z"
   },
   {
    "duration": 56,
    "start_time": "2023-02-05T11:26:22.275Z"
   },
   {
    "duration": 17,
    "start_time": "2023-02-05T11:27:34.827Z"
   },
   {
    "duration": 465,
    "start_time": "2023-02-05T11:28:10.065Z"
   },
   {
    "duration": 372,
    "start_time": "2023-02-05T11:28:36.075Z"
   },
   {
    "duration": 379,
    "start_time": "2023-02-05T11:29:05.765Z"
   },
   {
    "duration": 368,
    "start_time": "2023-02-05T11:30:23.385Z"
   },
   {
    "duration": 378,
    "start_time": "2023-02-05T11:30:35.005Z"
   },
   {
    "duration": 353,
    "start_time": "2023-02-05T11:30:43.955Z"
   },
   {
    "duration": 398,
    "start_time": "2023-02-05T11:31:24.725Z"
   },
   {
    "duration": 378,
    "start_time": "2023-02-05T11:32:41.296Z"
   },
   {
    "duration": 390,
    "start_time": "2023-02-05T11:35:54.846Z"
   },
   {
    "duration": 545,
    "start_time": "2023-02-05T11:38:06.639Z"
   },
   {
    "duration": 403,
    "start_time": "2023-02-05T11:38:28.329Z"
   },
   {
    "duration": 179,
    "start_time": "2023-02-05T13:20:25.147Z"
   },
   {
    "duration": 170,
    "start_time": "2023-02-05T13:20:43.898Z"
   },
   {
    "duration": 179,
    "start_time": "2023-02-05T13:24:12.068Z"
   },
   {
    "duration": 187,
    "start_time": "2023-02-05T13:25:31.948Z"
   },
   {
    "duration": 181,
    "start_time": "2023-02-05T13:25:58.318Z"
   },
   {
    "duration": 180,
    "start_time": "2023-02-05T13:26:35.329Z"
   },
   {
    "duration": 189,
    "start_time": "2023-02-05T13:26:55.685Z"
   },
   {
    "duration": 194,
    "start_time": "2023-02-05T13:58:19.225Z"
   },
   {
    "duration": 194,
    "start_time": "2023-02-05T13:59:08.734Z"
   },
   {
    "duration": 196,
    "start_time": "2023-02-05T13:59:53.095Z"
   },
   {
    "duration": 154,
    "start_time": "2023-02-05T14:19:24.788Z"
   },
   {
    "duration": 152,
    "start_time": "2023-02-05T14:20:15.263Z"
   },
   {
    "duration": 153,
    "start_time": "2023-02-05T14:21:02.428Z"
   },
   {
    "duration": 11,
    "start_time": "2023-02-05T14:37:35.822Z"
   },
   {
    "duration": 8,
    "start_time": "2023-02-05T14:37:45.792Z"
   },
   {
    "duration": 1076,
    "start_time": "2023-02-05T14:40:25.019Z"
   },
   {
    "duration": 51,
    "start_time": "2023-02-05T14:40:26.097Z"
   },
   {
    "duration": 16,
    "start_time": "2023-02-05T14:40:26.150Z"
   },
   {
    "duration": 13,
    "start_time": "2023-02-05T14:40:26.168Z"
   },
   {
    "duration": 3,
    "start_time": "2023-02-05T14:40:26.182Z"
   },
   {
    "duration": 15,
    "start_time": "2023-02-05T14:40:26.186Z"
   },
   {
    "duration": 9,
    "start_time": "2023-02-05T14:40:26.210Z"
   },
   {
    "duration": 50,
    "start_time": "2023-02-05T14:40:26.220Z"
   },
   {
    "duration": 9,
    "start_time": "2023-02-05T14:40:26.271Z"
   },
   {
    "duration": 8,
    "start_time": "2023-02-05T14:40:26.282Z"
   },
   {
    "duration": 23,
    "start_time": "2023-02-05T14:40:26.291Z"
   },
   {
    "duration": 4,
    "start_time": "2023-02-05T14:40:26.316Z"
   },
   {
    "duration": 15,
    "start_time": "2023-02-05T14:40:26.322Z"
   },
   {
    "duration": 6,
    "start_time": "2023-02-05T14:40:26.339Z"
   },
   {
    "duration": 4,
    "start_time": "2023-02-05T14:40:26.347Z"
   },
   {
    "duration": 16,
    "start_time": "2023-02-05T14:40:26.353Z"
   },
   {
    "duration": 40,
    "start_time": "2023-02-05T14:40:26.370Z"
   },
   {
    "duration": 189,
    "start_time": "2023-02-05T14:40:26.412Z"
   },
   {
    "duration": 340,
    "start_time": "2023-02-05T14:40:26.603Z"
   },
   {
    "duration": 11,
    "start_time": "2023-02-05T14:40:26.945Z"
   },
   {
    "duration": 242,
    "start_time": "2023-02-05T14:40:26.958Z"
   },
   {
    "duration": 1310,
    "start_time": "2023-02-05T14:40:27.202Z"
   },
   {
    "duration": 152,
    "start_time": "2023-02-05T14:40:28.513Z"
   },
   {
    "duration": 505,
    "start_time": "2023-02-05T14:40:28.667Z"
   },
   {
    "duration": 13,
    "start_time": "2023-02-05T14:40:29.174Z"
   },
   {
    "duration": 25,
    "start_time": "2023-02-05T14:40:29.188Z"
   },
   {
    "duration": 123,
    "start_time": "2023-02-05T14:40:29.214Z"
   },
   {
    "duration": 122,
    "start_time": "2023-02-05T14:40:29.341Z"
   },
   {
    "duration": 116,
    "start_time": "2023-02-05T14:40:29.465Z"
   },
   {
    "duration": 121,
    "start_time": "2023-02-05T14:40:29.583Z"
   },
   {
    "duration": 111,
    "start_time": "2023-02-05T14:40:29.710Z"
   },
   {
    "duration": 25,
    "start_time": "2023-02-05T14:40:29.824Z"
   },
   {
    "duration": 14,
    "start_time": "2023-02-05T14:40:29.850Z"
   },
   {
    "duration": 361,
    "start_time": "2023-02-05T14:40:29.866Z"
   },
   {
    "duration": 2,
    "start_time": "2023-02-05T14:40:30.229Z"
   },
   {
    "duration": 325,
    "start_time": "2023-02-05T14:40:30.232Z"
   },
   {
    "duration": 428,
    "start_time": "2023-02-05T14:40:30.559Z"
   },
   {
    "duration": 333,
    "start_time": "2023-02-05T14:40:30.988Z"
   },
   {
    "duration": 327,
    "start_time": "2023-02-05T14:40:31.322Z"
   },
   {
    "duration": 354,
    "start_time": "2023-02-05T14:40:31.651Z"
   },
   {
    "duration": 363,
    "start_time": "2023-02-05T14:40:32.007Z"
   },
   {
    "duration": 186,
    "start_time": "2023-02-05T14:40:32.373Z"
   },
   {
    "duration": 196,
    "start_time": "2023-02-05T14:40:32.561Z"
   },
   {
    "duration": 189,
    "start_time": "2023-02-05T14:40:32.759Z"
   },
   {
    "duration": 288,
    "start_time": "2023-02-05T14:40:32.949Z"
   },
   {
    "duration": 210,
    "start_time": "2023-02-05T14:40:33.239Z"
   },
   {
    "duration": 191,
    "start_time": "2023-02-05T14:40:33.451Z"
   },
   {
    "duration": 154,
    "start_time": "2023-02-05T14:40:33.644Z"
   },
   {
    "duration": 151,
    "start_time": "2023-02-05T14:40:33.800Z"
   },
   {
    "duration": 157,
    "start_time": "2023-02-05T14:40:33.953Z"
   },
   {
    "duration": 7,
    "start_time": "2023-02-05T14:40:34.112Z"
   },
   {
    "duration": 7,
    "start_time": "2023-02-05T14:40:34.121Z"
   },
   {
    "duration": 9,
    "start_time": "2023-02-05T14:44:50.564Z"
   },
   {
    "duration": 6,
    "start_time": "2023-02-05T14:45:15.234Z"
   },
   {
    "duration": 5,
    "start_time": "2023-02-05T14:48:26.035Z"
   },
   {
    "duration": 5,
    "start_time": "2023-02-05T14:58:13.936Z"
   },
   {
    "duration": 1090,
    "start_time": "2023-02-05T15:23:14.813Z"
   },
   {
    "duration": 46,
    "start_time": "2023-02-05T15:23:15.905Z"
   },
   {
    "duration": 16,
    "start_time": "2023-02-05T15:23:15.953Z"
   },
   {
    "duration": 12,
    "start_time": "2023-02-05T15:23:15.970Z"
   },
   {
    "duration": 3,
    "start_time": "2023-02-05T15:23:15.983Z"
   },
   {
    "duration": 14,
    "start_time": "2023-02-05T15:23:15.987Z"
   },
   {
    "duration": 11,
    "start_time": "2023-02-05T15:23:16.003Z"
   },
   {
    "duration": 64,
    "start_time": "2023-02-05T15:23:16.015Z"
   },
   {
    "duration": 8,
    "start_time": "2023-02-05T15:23:16.080Z"
   },
   {
    "duration": 7,
    "start_time": "2023-02-05T15:23:16.091Z"
   },
   {
    "duration": 6,
    "start_time": "2023-02-05T15:23:16.110Z"
   },
   {
    "duration": 7,
    "start_time": "2023-02-05T15:23:16.117Z"
   },
   {
    "duration": 16,
    "start_time": "2023-02-05T15:23:16.125Z"
   },
   {
    "duration": 4,
    "start_time": "2023-02-05T15:23:16.143Z"
   },
   {
    "duration": 5,
    "start_time": "2023-02-05T15:23:16.149Z"
   },
   {
    "duration": 12,
    "start_time": "2023-02-05T15:23:16.156Z"
   },
   {
    "duration": 4,
    "start_time": "2023-02-05T15:23:16.170Z"
   },
   {
    "duration": 217,
    "start_time": "2023-02-05T15:23:16.176Z"
   },
   {
    "duration": 288,
    "start_time": "2023-02-05T15:23:16.394Z"
   },
   {
    "duration": 11,
    "start_time": "2023-02-05T15:23:16.684Z"
   },
   {
    "duration": 295,
    "start_time": "2023-02-05T15:23:16.697Z"
   },
   {
    "duration": 1330,
    "start_time": "2023-02-05T15:23:16.994Z"
   },
   {
    "duration": 178,
    "start_time": "2023-02-05T15:23:18.325Z"
   },
   {
    "duration": 478,
    "start_time": "2023-02-05T15:23:18.504Z"
   },
   {
    "duration": 13,
    "start_time": "2023-02-05T15:23:18.984Z"
   },
   {
    "duration": 20,
    "start_time": "2023-02-05T15:23:18.998Z"
   },
   {
    "duration": 130,
    "start_time": "2023-02-05T15:23:19.020Z"
   },
   {
    "duration": 126,
    "start_time": "2023-02-05T15:23:19.153Z"
   },
   {
    "duration": 120,
    "start_time": "2023-02-05T15:23:19.280Z"
   },
   {
    "duration": 121,
    "start_time": "2023-02-05T15:23:19.402Z"
   },
   {
    "duration": 116,
    "start_time": "2023-02-05T15:23:19.524Z"
   },
   {
    "duration": 25,
    "start_time": "2023-02-05T15:23:19.641Z"
   },
   {
    "duration": 14,
    "start_time": "2023-02-05T15:23:19.668Z"
   },
   {
    "duration": 358,
    "start_time": "2023-02-05T15:23:19.684Z"
   },
   {
    "duration": 3,
    "start_time": "2023-02-05T15:23:20.044Z"
   },
   {
    "duration": 321,
    "start_time": "2023-02-05T15:23:20.048Z"
   },
   {
    "duration": 431,
    "start_time": "2023-02-05T15:23:20.371Z"
   },
   {
    "duration": 316,
    "start_time": "2023-02-05T15:23:20.809Z"
   },
   {
    "duration": 349,
    "start_time": "2023-02-05T15:23:21.127Z"
   },
   {
    "duration": 370,
    "start_time": "2023-02-05T15:23:21.478Z"
   },
   {
    "duration": 364,
    "start_time": "2023-02-05T15:23:21.849Z"
   },
   {
    "duration": 192,
    "start_time": "2023-02-05T15:23:22.215Z"
   },
   {
    "duration": 190,
    "start_time": "2023-02-05T15:23:22.410Z"
   },
   {
    "duration": 190,
    "start_time": "2023-02-05T15:23:22.601Z"
   },
   {
    "duration": 295,
    "start_time": "2023-02-05T15:23:22.793Z"
   },
   {
    "duration": 193,
    "start_time": "2023-02-05T15:23:23.089Z"
   },
   {
    "duration": 206,
    "start_time": "2023-02-05T15:23:23.283Z"
   },
   {
    "duration": 158,
    "start_time": "2023-02-05T15:23:23.491Z"
   },
   {
    "duration": 159,
    "start_time": "2023-02-05T15:23:23.651Z"
   },
   {
    "duration": 157,
    "start_time": "2023-02-05T15:23:23.811Z"
   },
   {
    "duration": 7,
    "start_time": "2023-02-05T15:23:23.969Z"
   },
   {
    "duration": 8,
    "start_time": "2023-02-05T15:23:23.978Z"
   },
   {
    "duration": 11,
    "start_time": "2023-02-05T15:23:23.987Z"
   },
   {
    "duration": 6,
    "start_time": "2023-02-05T15:23:24.010Z"
   },
   {
    "duration": 1100,
    "start_time": "2023-02-05T15:56:46.998Z"
   },
   {
    "duration": 49,
    "start_time": "2023-02-05T15:56:48.100Z"
   },
   {
    "duration": 16,
    "start_time": "2023-02-05T15:56:48.151Z"
   },
   {
    "duration": 13,
    "start_time": "2023-02-05T15:56:48.170Z"
   },
   {
    "duration": 2,
    "start_time": "2023-02-05T15:56:48.185Z"
   },
   {
    "duration": 22,
    "start_time": "2023-02-05T15:56:48.189Z"
   },
   {
    "duration": 10,
    "start_time": "2023-02-05T15:56:48.213Z"
   },
   {
    "duration": 55,
    "start_time": "2023-02-05T15:56:48.224Z"
   },
   {
    "duration": 8,
    "start_time": "2023-02-05T15:56:48.281Z"
   },
   {
    "duration": 23,
    "start_time": "2023-02-05T15:56:48.291Z"
   },
   {
    "duration": 7,
    "start_time": "2023-02-05T15:56:48.316Z"
   },
   {
    "duration": 6,
    "start_time": "2023-02-05T15:56:48.326Z"
   },
   {
    "duration": 21,
    "start_time": "2023-02-05T15:56:48.333Z"
   },
   {
    "duration": 10,
    "start_time": "2023-02-05T15:56:48.355Z"
   },
   {
    "duration": 5,
    "start_time": "2023-02-05T15:56:48.366Z"
   },
   {
    "duration": 40,
    "start_time": "2023-02-05T15:56:48.373Z"
   },
   {
    "duration": 4,
    "start_time": "2023-02-05T15:56:48.415Z"
   },
   {
    "duration": 203,
    "start_time": "2023-02-05T15:56:48.421Z"
   },
   {
    "duration": 312,
    "start_time": "2023-02-05T15:56:48.625Z"
   },
   {
    "duration": 8,
    "start_time": "2023-02-05T15:56:48.938Z"
   },
   {
    "duration": 256,
    "start_time": "2023-02-05T15:56:48.947Z"
   },
   {
    "duration": 1277,
    "start_time": "2023-02-05T15:56:49.210Z"
   },
   {
    "duration": 152,
    "start_time": "2023-02-05T15:56:50.488Z"
   },
   {
    "duration": 481,
    "start_time": "2023-02-05T15:56:50.642Z"
   },
   {
    "duration": 14,
    "start_time": "2023-02-05T15:56:51.125Z"
   },
   {
    "duration": 15,
    "start_time": "2023-02-05T15:56:51.141Z"
   },
   {
    "duration": 138,
    "start_time": "2023-02-05T15:56:51.158Z"
   },
   {
    "duration": 123,
    "start_time": "2023-02-05T15:56:51.300Z"
   },
   {
    "duration": 125,
    "start_time": "2023-02-05T15:56:51.425Z"
   },
   {
    "duration": 123,
    "start_time": "2023-02-05T15:56:51.551Z"
   },
   {
    "duration": 117,
    "start_time": "2023-02-05T15:56:51.675Z"
   },
   {
    "duration": 31,
    "start_time": "2023-02-05T15:56:51.794Z"
   },
   {
    "duration": 15,
    "start_time": "2023-02-05T15:56:51.826Z"
   },
   {
    "duration": 363,
    "start_time": "2023-02-05T15:56:51.843Z"
   },
   {
    "duration": 1,
    "start_time": "2023-02-05T15:56:52.210Z"
   },
   {
    "duration": 320,
    "start_time": "2023-02-05T15:56:52.213Z"
   },
   {
    "duration": 423,
    "start_time": "2023-02-05T15:56:52.534Z"
   },
   {
    "duration": 350,
    "start_time": "2023-02-05T15:56:52.959Z"
   },
   {
    "duration": 331,
    "start_time": "2023-02-05T15:56:53.311Z"
   },
   {
    "duration": 347,
    "start_time": "2023-02-05T15:56:53.643Z"
   },
   {
    "duration": 363,
    "start_time": "2023-02-05T15:56:53.991Z"
   },
   {
    "duration": 185,
    "start_time": "2023-02-05T15:56:54.356Z"
   },
   {
    "duration": 190,
    "start_time": "2023-02-05T15:56:54.543Z"
   },
   {
    "duration": 206,
    "start_time": "2023-02-05T15:56:54.735Z"
   },
   {
    "duration": 276,
    "start_time": "2023-02-05T15:56:54.942Z"
   },
   {
    "duration": 208,
    "start_time": "2023-02-05T15:56:55.220Z"
   },
   {
    "duration": 202,
    "start_time": "2023-02-05T15:56:55.430Z"
   },
   {
    "duration": 157,
    "start_time": "2023-02-05T15:56:55.633Z"
   },
   {
    "duration": 150,
    "start_time": "2023-02-05T15:56:55.791Z"
   },
   {
    "duration": 152,
    "start_time": "2023-02-05T15:56:55.942Z"
   },
   {
    "duration": 8,
    "start_time": "2023-02-05T15:56:56.095Z"
   },
   {
    "duration": 5,
    "start_time": "2023-02-05T15:56:56.110Z"
   },
   {
    "duration": 7,
    "start_time": "2023-02-05T15:56:56.116Z"
   },
   {
    "duration": 5,
    "start_time": "2023-02-05T15:56:56.124Z"
   },
   {
    "duration": 67,
    "start_time": "2023-02-08T13:33:26.474Z"
   },
   {
    "duration": 1777,
    "start_time": "2023-02-08T13:33:43.603Z"
   },
   {
    "duration": 214,
    "start_time": "2023-02-08T13:33:45.383Z"
   },
   {
    "duration": 27,
    "start_time": "2023-02-08T13:33:45.600Z"
   },
   {
    "duration": 22,
    "start_time": "2023-02-08T13:33:45.630Z"
   },
   {
    "duration": 4,
    "start_time": "2023-02-08T13:33:45.655Z"
   },
   {
    "duration": 32,
    "start_time": "2023-02-08T13:33:45.661Z"
   },
   {
    "duration": 33,
    "start_time": "2023-02-08T13:33:45.695Z"
   },
   {
    "duration": 60,
    "start_time": "2023-02-08T13:33:45.730Z"
   },
   {
    "duration": 52,
    "start_time": "2023-02-08T13:33:45.792Z"
   },
   {
    "duration": 14,
    "start_time": "2023-02-08T13:33:45.847Z"
   },
   {
    "duration": 10,
    "start_time": "2023-02-08T13:33:45.863Z"
   },
   {
    "duration": 11,
    "start_time": "2023-02-08T13:33:45.876Z"
   },
   {
    "duration": 48,
    "start_time": "2023-02-08T13:33:45.890Z"
   },
   {
    "duration": 7,
    "start_time": "2023-02-08T13:33:45.940Z"
   },
   {
    "duration": 9,
    "start_time": "2023-02-08T13:33:45.949Z"
   },
   {
    "duration": 26,
    "start_time": "2023-02-08T13:33:45.960Z"
   },
   {
    "duration": 9,
    "start_time": "2023-02-08T13:33:45.987Z"
   },
   {
    "duration": 287,
    "start_time": "2023-02-08T13:33:45.998Z"
   },
   {
    "duration": 436,
    "start_time": "2023-02-08T13:33:46.288Z"
   },
   {
    "duration": 11,
    "start_time": "2023-02-08T13:33:46.726Z"
   },
   {
    "duration": 297,
    "start_time": "2023-02-08T13:33:46.740Z"
   },
   {
    "duration": 1682,
    "start_time": "2023-02-08T13:33:47.039Z"
   },
   {
    "duration": 204,
    "start_time": "2023-02-08T13:33:48.724Z"
   },
   {
    "duration": 623,
    "start_time": "2023-02-08T13:33:48.931Z"
   },
   {
    "duration": 13,
    "start_time": "2023-02-08T13:33:49.556Z"
   },
   {
    "duration": 22,
    "start_time": "2023-02-08T13:33:49.572Z"
   },
   {
    "duration": 138,
    "start_time": "2023-02-08T13:33:49.596Z"
   },
   {
    "duration": 133,
    "start_time": "2023-02-08T13:33:49.738Z"
   },
   {
    "duration": 164,
    "start_time": "2023-02-08T13:33:49.874Z"
   },
   {
    "duration": 194,
    "start_time": "2023-02-08T13:33:50.041Z"
   },
   {
    "duration": 173,
    "start_time": "2023-02-08T13:33:50.238Z"
   },
   {
    "duration": 45,
    "start_time": "2023-02-08T13:33:50.413Z"
   },
   {
    "duration": 24,
    "start_time": "2023-02-08T13:33:50.460Z"
   },
   {
    "duration": 552,
    "start_time": "2023-02-08T13:33:50.486Z"
   },
   {
    "duration": 3,
    "start_time": "2023-02-08T13:33:51.040Z"
   },
   {
    "duration": 530,
    "start_time": "2023-02-08T13:33:51.045Z"
   },
   {
    "duration": 628,
    "start_time": "2023-02-08T13:33:51.577Z"
   },
   {
    "duration": 530,
    "start_time": "2023-02-08T13:33:52.207Z"
   },
   {
    "duration": 463,
    "start_time": "2023-02-08T13:33:52.740Z"
   },
   {
    "duration": 440,
    "start_time": "2023-02-08T13:33:53.208Z"
   },
   {
    "duration": 497,
    "start_time": "2023-02-08T13:33:53.650Z"
   },
   {
    "duration": 256,
    "start_time": "2023-02-08T13:33:54.149Z"
   },
   {
    "duration": 295,
    "start_time": "2023-02-08T13:33:54.407Z"
   },
   {
    "duration": 293,
    "start_time": "2023-02-08T13:33:54.704Z"
   },
   {
    "duration": 347,
    "start_time": "2023-02-08T13:33:55.000Z"
   },
   {
    "duration": 317,
    "start_time": "2023-02-08T13:33:55.348Z"
   },
   {
    "duration": 204,
    "start_time": "2023-02-08T13:33:55.666Z"
   },
   {
    "duration": 166,
    "start_time": "2023-02-08T13:33:55.872Z"
   },
   {
    "duration": 165,
    "start_time": "2023-02-08T13:33:56.040Z"
   },
   {
    "duration": 167,
    "start_time": "2023-02-08T13:33:56.207Z"
   },
   {
    "duration": 7,
    "start_time": "2023-02-08T13:33:56.376Z"
   },
   {
    "duration": 9,
    "start_time": "2023-02-08T13:33:56.385Z"
   },
   {
    "duration": 22,
    "start_time": "2023-02-08T13:33:56.395Z"
   },
   {
    "duration": 17,
    "start_time": "2023-02-08T13:33:56.418Z"
   },
   {
    "duration": 37,
    "start_time": "2023-02-08T13:34:47.718Z"
   },
   {
    "duration": 43,
    "start_time": "2023-02-08T13:35:08.666Z"
   },
   {
    "duration": 42,
    "start_time": "2023-02-08T13:35:12.736Z"
   },
   {
    "duration": 1303,
    "start_time": "2023-02-08T13:36:15.283Z"
   },
   {
    "duration": 51,
    "start_time": "2023-02-08T13:36:16.589Z"
   },
   {
    "duration": 24,
    "start_time": "2023-02-08T13:36:16.642Z"
   },
   {
    "duration": 24,
    "start_time": "2023-02-08T13:36:16.668Z"
   },
   {
    "duration": 4,
    "start_time": "2023-02-08T13:36:16.695Z"
   },
   {
    "duration": 39,
    "start_time": "2023-02-08T13:36:16.701Z"
   },
   {
    "duration": 15,
    "start_time": "2023-02-08T13:36:16.742Z"
   },
   {
    "duration": 49,
    "start_time": "2023-02-08T13:36:16.759Z"
   },
   {
    "duration": 149,
    "start_time": "2023-02-08T13:36:16.810Z"
   },
   {
    "duration": 0,
    "start_time": "2023-02-08T13:36:16.963Z"
   },
   {
    "duration": 0,
    "start_time": "2023-02-08T13:36:16.965Z"
   },
   {
    "duration": 0,
    "start_time": "2023-02-08T13:36:16.966Z"
   },
   {
    "duration": 0,
    "start_time": "2023-02-08T13:36:16.967Z"
   },
   {
    "duration": 0,
    "start_time": "2023-02-08T13:36:16.968Z"
   },
   {
    "duration": 0,
    "start_time": "2023-02-08T13:36:16.970Z"
   },
   {
    "duration": 0,
    "start_time": "2023-02-08T13:36:16.971Z"
   },
   {
    "duration": 0,
    "start_time": "2023-02-08T13:36:16.972Z"
   },
   {
    "duration": 0,
    "start_time": "2023-02-08T13:36:16.973Z"
   },
   {
    "duration": 0,
    "start_time": "2023-02-08T13:36:16.974Z"
   },
   {
    "duration": 0,
    "start_time": "2023-02-08T13:36:16.975Z"
   },
   {
    "duration": 0,
    "start_time": "2023-02-08T13:36:16.976Z"
   },
   {
    "duration": 0,
    "start_time": "2023-02-08T13:36:16.977Z"
   },
   {
    "duration": 0,
    "start_time": "2023-02-08T13:36:16.979Z"
   },
   {
    "duration": 0,
    "start_time": "2023-02-08T13:36:16.980Z"
   },
   {
    "duration": 0,
    "start_time": "2023-02-08T13:36:16.981Z"
   },
   {
    "duration": 0,
    "start_time": "2023-02-08T13:36:16.982Z"
   },
   {
    "duration": 0,
    "start_time": "2023-02-08T13:36:16.983Z"
   },
   {
    "duration": 0,
    "start_time": "2023-02-08T13:36:16.984Z"
   },
   {
    "duration": 0,
    "start_time": "2023-02-08T13:36:16.988Z"
   },
   {
    "duration": 0,
    "start_time": "2023-02-08T13:36:16.989Z"
   },
   {
    "duration": 0,
    "start_time": "2023-02-08T13:36:16.991Z"
   },
   {
    "duration": 0,
    "start_time": "2023-02-08T13:36:17.028Z"
   },
   {
    "duration": 0,
    "start_time": "2023-02-08T13:36:17.031Z"
   },
   {
    "duration": 0,
    "start_time": "2023-02-08T13:36:17.033Z"
   },
   {
    "duration": 0,
    "start_time": "2023-02-08T13:36:17.034Z"
   },
   {
    "duration": 0,
    "start_time": "2023-02-08T13:36:17.036Z"
   },
   {
    "duration": 0,
    "start_time": "2023-02-08T13:36:17.037Z"
   },
   {
    "duration": 0,
    "start_time": "2023-02-08T13:36:17.038Z"
   },
   {
    "duration": 0,
    "start_time": "2023-02-08T13:36:17.040Z"
   },
   {
    "duration": 0,
    "start_time": "2023-02-08T13:36:17.042Z"
   },
   {
    "duration": 0,
    "start_time": "2023-02-08T13:36:17.044Z"
   },
   {
    "duration": 0,
    "start_time": "2023-02-08T13:36:17.046Z"
   },
   {
    "duration": 0,
    "start_time": "2023-02-08T13:36:17.048Z"
   },
   {
    "duration": 0,
    "start_time": "2023-02-08T13:36:17.049Z"
   },
   {
    "duration": 0,
    "start_time": "2023-02-08T13:36:17.058Z"
   },
   {
    "duration": 0,
    "start_time": "2023-02-08T13:36:17.060Z"
   },
   {
    "duration": 0,
    "start_time": "2023-02-08T13:36:17.061Z"
   },
   {
    "duration": 0,
    "start_time": "2023-02-08T13:36:17.063Z"
   },
   {
    "duration": 0,
    "start_time": "2023-02-08T13:36:17.065Z"
   },
   {
    "duration": 0,
    "start_time": "2023-02-08T13:36:17.068Z"
   },
   {
    "duration": 0,
    "start_time": "2023-02-08T13:36:17.070Z"
   },
   {
    "duration": 0,
    "start_time": "2023-02-08T13:36:17.071Z"
   },
   {
    "duration": 0,
    "start_time": "2023-02-08T13:36:17.073Z"
   },
   {
    "duration": 0,
    "start_time": "2023-02-08T13:36:17.077Z"
   },
   {
    "duration": 36,
    "start_time": "2023-02-08T13:37:02.006Z"
   },
   {
    "duration": 1583,
    "start_time": "2023-02-08T13:37:27.026Z"
   },
   {
    "duration": 68,
    "start_time": "2023-02-08T13:37:28.611Z"
   },
   {
    "duration": 26,
    "start_time": "2023-02-08T13:37:28.681Z"
   },
   {
    "duration": 18,
    "start_time": "2023-02-08T13:37:28.710Z"
   },
   {
    "duration": 5,
    "start_time": "2023-02-08T13:37:28.730Z"
   },
   {
    "duration": 27,
    "start_time": "2023-02-08T13:37:28.737Z"
   },
   {
    "duration": 19,
    "start_time": "2023-02-08T13:37:28.766Z"
   },
   {
    "duration": 81,
    "start_time": "2023-02-08T13:37:28.788Z"
   },
   {
    "duration": 15,
    "start_time": "2023-02-08T13:37:28.871Z"
   },
   {
    "duration": 17,
    "start_time": "2023-02-08T13:37:28.889Z"
   },
   {
    "duration": 27,
    "start_time": "2023-02-08T13:37:28.908Z"
   },
   {
    "duration": 24,
    "start_time": "2023-02-08T13:37:28.936Z"
   },
   {
    "duration": 32,
    "start_time": "2023-02-08T13:37:28.962Z"
   },
   {
    "duration": 10,
    "start_time": "2023-02-08T13:37:28.996Z"
   },
   {
    "duration": 19,
    "start_time": "2023-02-08T13:37:29.009Z"
   },
   {
    "duration": 38,
    "start_time": "2023-02-08T13:37:29.030Z"
   },
   {
    "duration": 12,
    "start_time": "2023-02-08T13:37:29.071Z"
   },
   {
    "duration": 311,
    "start_time": "2023-02-08T13:37:29.086Z"
   },
   {
    "duration": 329,
    "start_time": "2023-02-08T13:37:29.399Z"
   },
   {
    "duration": 16,
    "start_time": "2023-02-08T13:37:29.731Z"
   },
   {
    "duration": 360,
    "start_time": "2023-02-08T13:37:29.749Z"
   },
   {
    "duration": 1710,
    "start_time": "2023-02-08T13:37:30.111Z"
   },
   {
    "duration": 184,
    "start_time": "2023-02-08T13:37:31.828Z"
   },
   {
    "duration": 668,
    "start_time": "2023-02-08T13:37:32.015Z"
   },
   {
    "duration": 14,
    "start_time": "2023-02-08T13:37:32.685Z"
   },
   {
    "duration": 30,
    "start_time": "2023-02-08T13:37:32.700Z"
   },
   {
    "duration": 165,
    "start_time": "2023-02-08T13:37:32.732Z"
   },
   {
    "duration": 192,
    "start_time": "2023-02-08T13:37:32.904Z"
   },
   {
    "duration": 184,
    "start_time": "2023-02-08T13:37:33.098Z"
   },
   {
    "duration": 148,
    "start_time": "2023-02-08T13:37:33.286Z"
   },
   {
    "duration": 124,
    "start_time": "2023-02-08T13:37:33.436Z"
   },
   {
    "duration": 28,
    "start_time": "2023-02-08T13:37:33.562Z"
   },
   {
    "duration": 16,
    "start_time": "2023-02-08T13:37:33.592Z"
   },
   {
    "duration": 442,
    "start_time": "2023-02-08T13:37:33.610Z"
   },
   {
    "duration": 3,
    "start_time": "2023-02-08T13:37:34.053Z"
   },
   {
    "duration": 367,
    "start_time": "2023-02-08T13:37:34.057Z"
   },
   {
    "duration": 470,
    "start_time": "2023-02-08T13:37:34.428Z"
   },
   {
    "duration": 397,
    "start_time": "2023-02-08T13:37:34.900Z"
   },
   {
    "duration": 456,
    "start_time": "2023-02-08T13:37:35.299Z"
   },
   {
    "duration": 484,
    "start_time": "2023-02-08T13:37:35.757Z"
   },
   {
    "duration": 590,
    "start_time": "2023-02-08T13:37:36.243Z"
   },
   {
    "duration": 270,
    "start_time": "2023-02-08T13:37:36.835Z"
   },
   {
    "duration": 304,
    "start_time": "2023-02-08T13:37:37.107Z"
   },
   {
    "duration": 314,
    "start_time": "2023-02-08T13:37:37.414Z"
   },
   {
    "duration": 415,
    "start_time": "2023-02-08T13:37:37.730Z"
   },
   {
    "duration": 222,
    "start_time": "2023-02-08T13:37:38.147Z"
   },
   {
    "duration": 208,
    "start_time": "2023-02-08T13:37:38.370Z"
   },
   {
    "duration": 175,
    "start_time": "2023-02-08T13:37:38.579Z"
   },
   {
    "duration": 165,
    "start_time": "2023-02-08T13:37:38.756Z"
   },
   {
    "duration": 217,
    "start_time": "2023-02-08T13:37:38.928Z"
   },
   {
    "duration": 11,
    "start_time": "2023-02-08T13:37:39.146Z"
   },
   {
    "duration": 19,
    "start_time": "2023-02-08T13:37:39.158Z"
   },
   {
    "duration": 11,
    "start_time": "2023-02-08T13:37:39.180Z"
   },
   {
    "duration": 9,
    "start_time": "2023-02-08T13:37:39.194Z"
   },
   {
    "duration": 473,
    "start_time": "2023-02-08T13:40:06.748Z"
   },
   {
    "duration": 19,
    "start_time": "2023-02-08T13:40:40.257Z"
   },
   {
    "duration": 1448,
    "start_time": "2023-02-08T13:41:10.684Z"
   },
   {
    "duration": 77,
    "start_time": "2023-02-08T13:41:12.135Z"
   },
   {
    "duration": 24,
    "start_time": "2023-02-08T13:41:12.214Z"
   },
   {
    "duration": 23,
    "start_time": "2023-02-08T13:41:12.241Z"
   },
   {
    "duration": 4,
    "start_time": "2023-02-08T13:41:12.266Z"
   },
   {
    "duration": 24,
    "start_time": "2023-02-08T13:41:12.272Z"
   },
   {
    "duration": 31,
    "start_time": "2023-02-08T13:41:12.298Z"
   },
   {
    "duration": 77,
    "start_time": "2023-02-08T13:41:12.330Z"
   },
   {
    "duration": 25,
    "start_time": "2023-02-08T13:41:12.409Z"
   },
   {
    "duration": 10,
    "start_time": "2023-02-08T13:41:12.436Z"
   },
   {
    "duration": 16,
    "start_time": "2023-02-08T13:41:12.449Z"
   },
   {
    "duration": 27,
    "start_time": "2023-02-08T13:41:12.467Z"
   },
   {
    "duration": 22,
    "start_time": "2023-02-08T13:41:12.496Z"
   },
   {
    "duration": 6,
    "start_time": "2023-02-08T13:41:12.527Z"
   },
   {
    "duration": 10,
    "start_time": "2023-02-08T13:41:12.534Z"
   },
   {
    "duration": 19,
    "start_time": "2023-02-08T13:41:12.546Z"
   },
   {
    "duration": 8,
    "start_time": "2023-02-08T13:41:12.567Z"
   },
   {
    "duration": 227,
    "start_time": "2023-02-08T13:41:12.577Z"
   },
   {
    "duration": 302,
    "start_time": "2023-02-08T13:41:12.806Z"
   },
   {
    "duration": 18,
    "start_time": "2023-02-08T13:41:13.110Z"
   },
   {
    "duration": 339,
    "start_time": "2023-02-08T13:41:13.130Z"
   },
   {
    "duration": 1988,
    "start_time": "2023-02-08T13:41:13.471Z"
   },
   {
    "duration": 234,
    "start_time": "2023-02-08T13:41:15.461Z"
   },
   {
    "duration": 478,
    "start_time": "2023-02-08T13:41:15.697Z"
   },
   {
    "duration": 18,
    "start_time": "2023-02-08T13:41:16.177Z"
   },
   {
    "duration": 37,
    "start_time": "2023-02-08T13:41:16.198Z"
   },
   {
    "duration": 168,
    "start_time": "2023-02-08T13:41:16.238Z"
   },
   {
    "duration": 194,
    "start_time": "2023-02-08T13:41:16.411Z"
   },
   {
    "duration": 139,
    "start_time": "2023-02-08T13:41:16.608Z"
   },
   {
    "duration": 132,
    "start_time": "2023-02-08T13:41:16.749Z"
   },
   {
    "duration": 129,
    "start_time": "2023-02-08T13:41:16.883Z"
   },
   {
    "duration": 38,
    "start_time": "2023-02-08T13:41:17.015Z"
   },
   {
    "duration": 18,
    "start_time": "2023-02-08T13:41:17.055Z"
   },
   {
    "duration": 566,
    "start_time": "2023-02-08T13:41:17.075Z"
   },
   {
    "duration": 4,
    "start_time": "2023-02-08T13:41:17.643Z"
   },
   {
    "duration": 489,
    "start_time": "2023-02-08T13:41:17.648Z"
   },
   {
    "duration": 672,
    "start_time": "2023-02-08T13:41:18.140Z"
   },
   {
    "duration": 509,
    "start_time": "2023-02-08T13:41:18.814Z"
   },
   {
    "duration": 586,
    "start_time": "2023-02-08T13:41:19.329Z"
   },
   {
    "duration": 564,
    "start_time": "2023-02-08T13:41:19.917Z"
   },
   {
    "duration": 475,
    "start_time": "2023-02-08T13:41:20.484Z"
   },
   {
    "duration": 190,
    "start_time": "2023-02-08T13:41:20.961Z"
   },
   {
    "duration": 216,
    "start_time": "2023-02-08T13:41:21.153Z"
   },
   {
    "duration": 196,
    "start_time": "2023-02-08T13:41:21.371Z"
   },
   {
    "duration": 437,
    "start_time": "2023-02-08T13:41:21.569Z"
   },
   {
    "duration": 323,
    "start_time": "2023-02-08T13:41:22.009Z"
   },
   {
    "duration": 286,
    "start_time": "2023-02-08T13:41:22.336Z"
   },
   {
    "duration": 156,
    "start_time": "2023-02-08T13:41:22.627Z"
   },
   {
    "duration": 183,
    "start_time": "2023-02-08T13:41:22.784Z"
   },
   {
    "duration": 247,
    "start_time": "2023-02-08T13:41:22.969Z"
   },
   {
    "duration": 14,
    "start_time": "2023-02-08T13:41:23.220Z"
   },
   {
    "duration": 22,
    "start_time": "2023-02-08T13:41:23.236Z"
   },
   {
    "duration": 15,
    "start_time": "2023-02-08T13:41:23.261Z"
   },
   {
    "duration": 6,
    "start_time": "2023-02-08T13:41:23.279Z"
   },
   {
    "duration": 252,
    "start_time": "2023-02-08T13:48:18.049Z"
   },
   {
    "duration": 280,
    "start_time": "2023-02-08T13:50:07.389Z"
   },
   {
    "duration": 311,
    "start_time": "2023-02-08T13:50:15.776Z"
   },
   {
    "duration": 305,
    "start_time": "2023-02-08T13:51:31.440Z"
   },
   {
    "duration": 198,
    "start_time": "2023-02-08T13:51:41.881Z"
   },
   {
    "duration": 303,
    "start_time": "2023-02-08T13:52:28.761Z"
   },
   {
    "duration": 249,
    "start_time": "2023-02-08T13:52:42.149Z"
   },
   {
    "duration": 199,
    "start_time": "2023-02-08T13:56:12.971Z"
   },
   {
    "duration": 430,
    "start_time": "2023-02-08T13:56:34.481Z"
   },
   {
    "duration": 23,
    "start_time": "2023-02-08T13:59:57.832Z"
   },
   {
    "duration": 28,
    "start_time": "2023-02-08T14:00:44.647Z"
   },
   {
    "duration": 23,
    "start_time": "2023-02-08T14:03:08.520Z"
   },
   {
    "duration": 208,
    "start_time": "2023-02-08T14:03:24.335Z"
   },
   {
    "duration": 216,
    "start_time": "2023-02-08T14:03:38.414Z"
   },
   {
    "duration": 327,
    "start_time": "2023-02-08T14:05:49.232Z"
   },
   {
    "duration": 381,
    "start_time": "2023-02-08T14:06:18.064Z"
   },
   {
    "duration": 332,
    "start_time": "2023-02-08T14:06:37.662Z"
   },
   {
    "duration": 375,
    "start_time": "2023-02-08T14:06:45.862Z"
   },
   {
    "duration": 405,
    "start_time": "2023-02-08T14:06:59.043Z"
   },
   {
    "duration": 452,
    "start_time": "2023-02-08T14:07:08.428Z"
   },
   {
    "duration": 259,
    "start_time": "2023-02-08T14:08:34.783Z"
   },
   {
    "duration": 354,
    "start_time": "2023-02-08T14:08:44.263Z"
   },
   {
    "duration": 326,
    "start_time": "2023-02-08T14:11:13.634Z"
   },
   {
    "duration": 349,
    "start_time": "2023-02-08T14:11:17.533Z"
   },
   {
    "duration": 1323,
    "start_time": "2023-02-08T14:12:50.581Z"
   },
   {
    "duration": 63,
    "start_time": "2023-02-08T14:12:51.906Z"
   },
   {
    "duration": 25,
    "start_time": "2023-02-08T14:12:51.975Z"
   },
   {
    "duration": 19,
    "start_time": "2023-02-08T14:12:52.005Z"
   },
   {
    "duration": 23,
    "start_time": "2023-02-08T14:12:52.027Z"
   },
   {
    "duration": 37,
    "start_time": "2023-02-08T14:12:52.064Z"
   },
   {
    "duration": 82,
    "start_time": "2023-02-08T14:12:52.102Z"
   },
   {
    "duration": 105,
    "start_time": "2023-02-08T14:12:52.187Z"
   },
   {
    "duration": 11,
    "start_time": "2023-02-08T14:12:52.294Z"
   },
   {
    "duration": 21,
    "start_time": "2023-02-08T14:12:52.307Z"
   },
   {
    "duration": 67,
    "start_time": "2023-02-08T14:12:52.330Z"
   },
   {
    "duration": 18,
    "start_time": "2023-02-08T14:12:52.401Z"
   },
   {
    "duration": 66,
    "start_time": "2023-02-08T14:12:52.421Z"
   },
   {
    "duration": 14,
    "start_time": "2023-02-08T14:12:52.489Z"
   },
   {
    "duration": 19,
    "start_time": "2023-02-08T14:12:52.507Z"
   },
   {
    "duration": 82,
    "start_time": "2023-02-08T14:12:52.528Z"
   },
   {
    "duration": 71,
    "start_time": "2023-02-08T14:12:52.617Z"
   },
   {
    "duration": 329,
    "start_time": "2023-02-08T14:12:52.690Z"
   },
   {
    "duration": 484,
    "start_time": "2023-02-08T14:12:53.024Z"
   },
   {
    "duration": 14,
    "start_time": "2023-02-08T14:12:53.510Z"
   },
   {
    "duration": 360,
    "start_time": "2023-02-08T14:12:53.526Z"
   },
   {
    "duration": 1870,
    "start_time": "2023-02-08T14:12:53.892Z"
   },
   {
    "duration": 201,
    "start_time": "2023-02-08T14:12:55.768Z"
   },
   {
    "duration": 488,
    "start_time": "2023-02-08T14:12:55.975Z"
   },
   {
    "duration": 22,
    "start_time": "2023-02-08T14:12:56.479Z"
   },
   {
    "duration": 21,
    "start_time": "2023-02-08T14:12:56.503Z"
   },
   {
    "duration": 340,
    "start_time": "2023-02-08T14:12:56.526Z"
   },
   {
    "duration": 39,
    "start_time": "2023-02-08T14:12:56.870Z"
   },
   {
    "duration": 32,
    "start_time": "2023-02-08T14:12:56.912Z"
   },
   {
    "duration": 604,
    "start_time": "2023-02-08T14:12:56.949Z"
   },
   {
    "duration": 3,
    "start_time": "2023-02-08T14:12:57.556Z"
   },
   {
    "duration": 550,
    "start_time": "2023-02-08T14:12:57.561Z"
   },
   {
    "duration": 508,
    "start_time": "2023-02-08T14:12:58.116Z"
   },
   {
    "duration": 472,
    "start_time": "2023-02-08T14:12:58.628Z"
   },
   {
    "duration": 660,
    "start_time": "2023-02-08T14:12:59.103Z"
   },
   {
    "duration": 371,
    "start_time": "2023-02-08T14:12:59.769Z"
   },
   {
    "duration": 350,
    "start_time": "2023-02-08T14:13:00.149Z"
   },
   {
    "duration": 285,
    "start_time": "2023-02-08T14:13:00.501Z"
   },
   {
    "duration": 285,
    "start_time": "2023-02-08T14:13:00.791Z"
   },
   {
    "duration": 284,
    "start_time": "2023-02-08T14:13:01.078Z"
   },
   {
    "duration": 301,
    "start_time": "2023-02-08T14:13:01.364Z"
   },
   {
    "duration": 310,
    "start_time": "2023-02-08T14:13:01.667Z"
   },
   {
    "duration": 313,
    "start_time": "2023-02-08T14:13:01.979Z"
   },
   {
    "duration": 223,
    "start_time": "2023-02-08T14:13:02.294Z"
   },
   {
    "duration": 319,
    "start_time": "2023-02-08T14:13:02.520Z"
   },
   {
    "duration": 216,
    "start_time": "2023-02-08T14:13:02.844Z"
   },
   {
    "duration": 21,
    "start_time": "2023-02-08T14:13:03.066Z"
   },
   {
    "duration": 10,
    "start_time": "2023-02-08T14:13:03.089Z"
   },
   {
    "duration": 18,
    "start_time": "2023-02-08T14:13:03.101Z"
   },
   {
    "duration": 18,
    "start_time": "2023-02-08T14:13:03.121Z"
   },
   {
    "duration": 131,
    "start_time": "2023-02-08T14:16:58.055Z"
   }
  ],
  "kernelspec": {
   "display_name": "Python 3 (ipykernel)",
   "language": "python",
   "name": "python3"
  },
  "language_info": {
   "codemirror_mode": {
    "name": "ipython",
    "version": 3
   },
   "file_extension": ".py",
   "mimetype": "text/x-python",
   "name": "python",
   "nbconvert_exporter": "python",
   "pygments_lexer": "ipython3",
   "version": "3.9.13"
  },
  "toc": {
   "base_numbering": 1,
   "nav_menu": {},
   "number_sections": true,
   "sideBar": true,
   "skip_h1_title": true,
   "title_cell": "Table of Contents",
   "title_sidebar": "Contents",
   "toc_cell": false,
   "toc_position": {},
   "toc_section_display": true,
   "toc_window_display": false
  }
 },
 "nbformat": 4,
 "nbformat_minor": 2
}
